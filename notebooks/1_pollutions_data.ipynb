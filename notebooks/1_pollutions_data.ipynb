{
 "cells": [
  {
   "cell_type": "markdown",
   "metadata": {
    "toc": true
   },
   "source": [
    "<h1>Table of Contents<span class=\"tocSkip\"></span></h1>\n",
    "<div class=\"toc\"><ul class=\"toc-item\"><li><span><a href=\"#Data-Source\" data-toc-modified-id=\"Data-Source-1\"><span class=\"toc-item-num\">1&nbsp;&nbsp;</span>Data Source</a></span></li><li><span><a href=\"#Imports-and-Update-The-Latest-Data\" data-toc-modified-id=\"Imports-and-Update-The-Latest-Data-2\"><span class=\"toc-item-num\">2&nbsp;&nbsp;</span>Imports and Update The Latest Data</a></span></li><li><span><a href=\"#Historical-air-4-Thai-Data\" data-toc-modified-id=\"Historical-air-4-Thai-Data-3\"><span class=\"toc-item-num\">3&nbsp;&nbsp;</span>Historical air 4 Thai Data</a></span></li><li><span><a href=\"#Power-Plants\" data-toc-modified-id=\"Power-Plants-4\"><span class=\"toc-item-num\">4&nbsp;&nbsp;</span>Power Plants</a></span></li><li><span><a href=\"#Weather-Files\" data-toc-modified-id=\"Weather-Files-5\"><span class=\"toc-item-num\">5&nbsp;&nbsp;</span>Weather Files</a></span><ul class=\"toc-item\"><li><span><a href=\"#Assemble-from-raw-data\" data-toc-modified-id=\"Assemble-from-raw-data-5.1\"><span class=\"toc-item-num\">5.1&nbsp;&nbsp;</span>Assemble from raw data</a></span></li><li><span><a href=\"#Update-weather-all-cities\" data-toc-modified-id=\"Update-weather-all-cities-5.2\"><span class=\"toc-item-num\">5.2&nbsp;&nbsp;</span>Update weather all cities</a></span></li><li><span><a href=\"#Add-New-Weather-Stations-from-URL\" data-toc-modified-id=\"Add-New-Weather-Stations-from-URL-5.3\"><span class=\"toc-item-num\">5.3&nbsp;&nbsp;</span>Add New Weather Stations from URL</a></span></li><li><span><a href=\"#Weather-Debug\" data-toc-modified-id=\"Weather-Debug-5.4\"><span class=\"toc-item-num\">5.4&nbsp;&nbsp;</span>Weather Debug</a></span></li></ul></li><li><span><a href=\"#Merge-Weather-Data-from-OpenWeatherMap\" data-toc-modified-id=\"Merge-Weather-Data-from-OpenWeatherMap-6\"><span class=\"toc-item-num\">6&nbsp;&nbsp;</span>Merge Weather Data from OpenWeatherMap</a></span><ul class=\"toc-item\"><li><span><a href=\"#Fix-Weather-Units\" data-toc-modified-id=\"Fix-Weather-Units-6.1\"><span class=\"toc-item-num\">6.1&nbsp;&nbsp;</span>Fix Weather Units</a></span></li></ul></li><li><span><a href=\"#Holiday-In-Thailand\" data-toc-modified-id=\"Holiday-In-Thailand-7\"><span class=\"toc-item-num\">7&nbsp;&nbsp;</span>Holiday In Thailand</a></span></li><li><span><a href=\"#Hotspots-Data\" data-toc-modified-id=\"Hotspots-Data-8\"><span class=\"toc-item-num\">8&nbsp;&nbsp;</span>Hotspots Data</a></span><ul class=\"toc-item\"><li><span><a href=\"#Fire-For-Chiang-Mai\" data-toc-modified-id=\"Fire-For-Chiang-Mai-8.1\"><span class=\"toc-item-num\">8.1&nbsp;&nbsp;</span>Fire For Chiang Mai</a></span></li><li><span><a href=\"#Impove-Speed-of-Files-reading\" data-toc-modified-id=\"Impove-Speed-of-Files-reading-8.2\"><span class=\"toc-item-num\">8.2&nbsp;&nbsp;</span>Impove Speed of Files reading</a></span></li></ul></li><li><span><a href=\"#Data-From-Hanoi-US-Embassy\" data-toc-modified-id=\"Data-From-Hanoi-US-Embassy-9\"><span class=\"toc-item-num\">9&nbsp;&nbsp;</span>Data From Hanoi US Embassy</a></span></li><li><span><a href=\"#Vietnam-EPA\" data-toc-modified-id=\"Vietnam-EPA-10\"><span class=\"toc-item-num\">10&nbsp;&nbsp;</span>Vietnam EPA</a></span></li><li><span><a href=\"#BKP-Data\" data-toc-modified-id=\"BKP-Data-11\"><span class=\"toc-item-num\">11&nbsp;&nbsp;</span>BKP Data</a></span></li></ul></div>"
   ]
  },
  {
   "cell_type": "markdown",
   "metadata": {},
   "source": [
    "# Data Source \n",
    "1. Berekely Earth 'http://berkeleyearth.lbl.gov/air-quality/maps/cities/Thailand/'\n",
    "2. Screaped Air4Thai Data 'http://air4thai.pcd.go.th/webV2/history/'\n",
    "3. CDC Data 'https://www.cmuccdc.org/download_json/'\n",
    "4. Old Air4Thai data from Thailand EPA"
   ]
  },
  {
   "cell_type": "markdown",
   "metadata": {},
   "source": [
    "# Imports and Update The Latest Data"
   ]
  },
  {
   "cell_type": "markdown",
   "metadata": {},
   "source": [
    "Update pollution data from 3 sources and update weather data "
   ]
  },
  {
   "cell_type": "code",
   "execution_count": 3,
   "metadata": {},
   "outputs": [
    {
     "name": "stdout",
     "output_type": "stream",
     "text": [
      "The autoreload extension is already loaded. To reload it, use:\n",
      "  %reload_ext autoreload\n"
     ]
    }
   ],
   "source": [
    "#  Load the \"autoreload\" extension so that code can change\n",
    "%load_ext autoreload\n",
    "%reload_ext autoreload\n",
    "\n",
    "#  always reload modules so that as you change code in src, it gets loaded\n",
    "%autoreload 2\n",
    "%matplotlib inline\n",
    "\n",
    "import sys\n",
    "sys.path.append('../')\n",
    "from src.imports import *\n",
    "from src.data.download_data import *\n",
    "from src.data.read_data import *\n",
    "from src.data.fire_data import *\n",
    "from src.data.vn_data import *\n",
    "from src.data.weather_data import *\n",
    "from src.gen_functions import *\n",
    "from src.data.bkp_data import *\n",
    "from src.features.dataset import Dataset"
   ]
  },
  {
   "cell_type": "code",
   "execution_count": 4,
   "metadata": {},
   "outputs": [],
   "source": [
    "b_folder='../data/pm25/'\n",
    "a4th_folder='../data/air4thai_hourly/'\n",
    "cm_folder ='../data/cm_proc/'\n",
    "cdc_folder = '../data/cdc_data/'\n",
    "aqm_folder = '../data/aqm_hourly2/'\n",
    "aqm_folder2 = '../data/aqm_hourly3/'\n",
    "w_folder = '../data/weather_cities/'\n",
    "bkp_folder = '../data/bkp_hourly/'"
   ]
  },
  {
   "cell_type": "code",
   "execution_count": 18,
   "metadata": {
    "scrolled": false
   },
   "outputs": [
    {
     "name": "stdout",
     "output_type": "stream",
     "text": [
      "download Berkeley PM2.5 data for all files in http://berkeleyearth.lbl.gov/air-quality/maps/cities/Thailand/\n",
      "download Berkeley PM2.5 data for all files in http://berkeleyearth.lbl.gov/air-quality/maps/cities/Viet_Nam/\n",
      "download Berkeley PM2.5 data for all files in http://berkeleyearth.lbl.gov/air-quality/maps/cities/Indonesia/\n",
      "download Berkeley PM2.5 data for all files in http://berkeleyearth.lbl.gov/air-quality/maps/cities/Myanmar/\n",
      "download Berkeley PM2.5 data for all files in http://berkeleyearth.lbl.gov/air-quality/maps/cities/Singapore/\n",
      "download Berkeley PM2.5 data for all files in http://berkeleyearth.lbl.gov/air-quality/maps/cities/Laos/\n",
      "download Berkeley PM2.5 data for all files in http://berkeleyearth.lbl.gov/air-quality/maps/cities/Cambodia/\n",
      "100% [............................................................................] 449726 / 449726download Berkeley PM2.5 data for all files in http://berkeleyearth.lbl.gov/air-quality/maps/cities/Malaysia/\n",
      "100% [............................................................................] 715875 / 715875\n",
      " Download us embassy data in ASEAN for 2020\n",
      "100% [..............................................................................] 11101 / 11101download more pollution data from Thailand PCD\n",
      "['02t', '03t', '05t', '08t', '10t', '11t', '12t', '13t', '14t', '16t', '17t', '18t', '19t', '20t', '21t', '22t', '24t', '25t', '26t', '27t', '28t', '29t', '30t', '31t', '32t', '33t', '34t', '35t', '36t', '37t', '38t', '39t', '40t', '41t', '42t', '43t', '44t', '46t', '47t', '50t', '52t', '53t', '54t', '57t', '58t', '59t', '60t', '61t', '62t', '63t', '67t', '68t', '69t', '70t', '71t', '72t', '73t', '74t', '75t', '76t', '77t', '79t', '80t', '81t', '82t', '83t', '84t', 'm1', 'm3', 'm4', 'm8', 'm9', 'o10', 'o20', 'o22', 'o23', 'o24', 'o25', 'o26', 'o27', 'o28', 'o29']\n"
     ]
    },
    {
     "data": {
      "application/vnd.jupyter.widget-view+json": {
       "model_id": "60f6c1d4eb724450baf96e49fd9314ae",
       "version_major": 2,
       "version_minor": 0
      },
      "text/plain": [
       "HBox(children=(FloatProgress(value=1.0, bar_style='info', max=1.0), HTML(value='')))"
      ]
     },
     "metadata": {},
     "output_type": "display_data"
    },
    {
     "name": "stdout",
     "output_type": "stream",
     "text": [
      "\n",
      "-1 / unknowndownload data from Chiang Mai University Project (CDC)\n",
      "number of stations 496\n"
     ]
    },
    {
     "data": {
      "application/vnd.jupyter.widget-view+json": {
       "model_id": "fcfa936e95b94476b4f1c3f66a654836",
       "version_major": 2,
       "version_minor": 0
      },
      "text/plain": [
       "HBox(children=(FloatProgress(value=0.0, max=404.0), HTML(value='')))"
      ]
     },
     "metadata": {},
     "output_type": "display_data"
    },
    {
     "name": "stdout",
     "output_type": "stream",
     "text": [
      "\n",
      "Update weather data for all cities\n"
     ]
    },
    {
     "data": {
      "application/vnd.jupyter.widget-view+json": {
       "model_id": "bb8b33549e9742ed95c34a20c2f6c166",
       "version_major": 2,
       "version_minor": 0
      },
      "text/plain": [
       "HBox(children=(FloatProgress(value=0.0, max=15.0), HTML(value='')))"
      ]
     },
     "metadata": {},
     "output_type": "display_data"
    },
    {
     "name": "stdout",
     "output_type": "stream",
     "text": [
      "update weather data for  Mueang Chiang Mai\n",
      "updateing file: ../data/weather_cities/Mueang_Chiang_Mai.csv\n",
      "missing date 0\n",
      "update weather data for  Soc Son\n",
      "updateing file: ../data/weather_cities/Soc_Son.csv\n",
      "missing date 3\n"
     ]
    },
    {
     "data": {
      "application/vnd.jupyter.widget-view+json": {
       "model_id": "b569e6926c3b4b79b37bcb452b2e4902",
       "version_major": 2,
       "version_minor": 0
      },
      "text/plain": [
       "HBox(children=(FloatProgress(value=1.0, bar_style='info', max=1.0), HTML(value='')))"
      ]
     },
     "metadata": {},
     "output_type": "display_data"
    },
    {
     "name": "stdout",
     "output_type": "stream",
     "text": [
      "\n",
      "update weather data for  Soc Son\n",
      "updateing file: ../data/weather_cities/Soc_Son.csv\n",
      "missing date 0\n",
      "update weather data for  Bangkok\n",
      "updateing file: ../data/weather_cities/Bangkok.csv\n",
      "missing date 3\n"
     ]
    },
    {
     "data": {
      "application/vnd.jupyter.widget-view+json": {
       "model_id": "ee4a866db0b04bfc89bb140cfa2a2f32",
       "version_major": 2,
       "version_minor": 0
      },
      "text/plain": [
       "HBox(children=(FloatProgress(value=1.0, bar_style='info', max=1.0), HTML(value='')))"
      ]
     },
     "metadata": {},
     "output_type": "display_data"
    },
    {
     "name": "stdout",
     "output_type": "stream",
     "text": [
      "\n",
      "update weather data for  Mueang Chiang Rai\n",
      "updateing file: ../data/weather_cities/Mueang_Chiang_Rai.csv\n",
      "missing date 0\n",
      "update weather data for  Mueang Tak\n",
      "updateing file: ../data/weather_cities/Mueang_Tak.csv\n",
      "missing date 3\n"
     ]
    },
    {
     "data": {
      "application/vnd.jupyter.widget-view+json": {
       "model_id": "0fd52c339452451d979f34901265ee27",
       "version_major": 2,
       "version_minor": 0
      },
      "text/plain": [
       "HBox(children=(FloatProgress(value=1.0, bar_style='info', max=1.0), HTML(value='')))"
      ]
     },
     "metadata": {},
     "output_type": "display_data"
    },
    {
     "name": "stdout",
     "output_type": "stream",
     "text": [
      "\n",
      "update weather data for  Yangon\n",
      "updateing file: ../data/weather_cities/Yangon.csv\n",
      "missing date 3\n"
     ]
    },
    {
     "data": {
      "application/vnd.jupyter.widget-view+json": {
       "model_id": "5e1742f9187f44c8b4148c56558920e8",
       "version_major": 2,
       "version_minor": 0
      },
      "text/plain": [
       "HBox(children=(FloatProgress(value=1.0, bar_style='info', max=1.0), HTML(value='')))"
      ]
     },
     "metadata": {},
     "output_type": "display_data"
    },
    {
     "name": "stdout",
     "output_type": "stream",
     "text": [
      "\n",
      "update weather data for  Tada-U\n",
      "updateing file: ../data/weather_cities/Tada-U.csv\n",
      "missing date 3\n"
     ]
    },
    {
     "data": {
      "application/vnd.jupyter.widget-view+json": {
       "model_id": "63a30667db6d44ff95a0887b6e182bee",
       "version_major": 2,
       "version_minor": 0
      },
      "text/plain": [
       "HBox(children=(FloatProgress(value=1.0, bar_style='info', max=1.0), HTML(value='')))"
      ]
     },
     "metadata": {},
     "output_type": "display_data"
    },
    {
     "name": "stdout",
     "output_type": "stream",
     "text": [
      "\n",
      "update weather data for  Sikhottabong\n",
      "updateing file: ../data/weather_cities/Sikhottabong.csv\n",
      "missing date 3\n"
     ]
    },
    {
     "data": {
      "application/vnd.jupyter.widget-view+json": {
       "model_id": "446285a190314f62ae28d8c145b0ba79",
       "version_major": 2,
       "version_minor": 0
      },
      "text/plain": [
       "HBox(children=(FloatProgress(value=1.0, bar_style='info', max=1.0), HTML(value='')))"
      ]
     },
     "metadata": {},
     "output_type": "display_data"
    },
    {
     "name": "stdout",
     "output_type": "stream",
     "text": [
      "\n",
      "update weather data for  Luang Prabang District\n",
      "updateing file: ../data/weather_cities/Luang_Prabang_District.csv\n",
      "missing date 3\n"
     ]
    },
    {
     "data": {
      "application/vnd.jupyter.widget-view+json": {
       "model_id": "ca4c9b15da12472a95e8c36617217649",
       "version_major": 2,
       "version_minor": 0
      },
      "text/plain": [
       "HBox(children=(FloatProgress(value=1.0, bar_style='info', max=1.0), HTML(value='')))"
      ]
     },
     "metadata": {},
     "output_type": "display_data"
    },
    {
     "name": "stdout",
     "output_type": "stream",
     "text": [
      "\n",
      "update weather data for  Kunming\n",
      "updateing file: ../data/weather_cities/Kunming.csv\n",
      "missing date 3\n"
     ]
    },
    {
     "data": {
      "application/vnd.jupyter.widget-view+json": {
       "model_id": "b6b3e186119f4545b8acb5b01e0ceb2e",
       "version_major": 2,
       "version_minor": 0
      },
      "text/plain": [
       "HBox(children=(FloatProgress(value=1.0, bar_style='info', max=1.0), HTML(value='')))"
      ]
     },
     "metadata": {},
     "output_type": "display_data"
    },
    {
     "name": "stdout",
     "output_type": "stream",
     "text": [
      "\n",
      "update weather data for  East Jakarta\n",
      "updateing file: ../data/weather_cities/East_Jakarta.csv\n",
      "missing date 3\n"
     ]
    },
    {
     "data": {
      "application/vnd.jupyter.widget-view+json": {
       "model_id": "df406425569b44b481453831e3792ddd",
       "version_major": 2,
       "version_minor": 0
      },
      "text/plain": [
       "HBox(children=(FloatProgress(value=1.0, bar_style='info', max=1.0), HTML(value='')))"
      ]
     },
     "metadata": {},
     "output_type": "display_data"
    },
    {
     "name": "stdout",
     "output_type": "stream",
     "text": [
      "\n",
      "update weather data for  Mueang Nakhon Si Thammarat\n",
      "updateing file: ../data/weather_cities/Mueang_Nakhon_Si_Thammarat.csv\n",
      "missing date 3\n"
     ]
    },
    {
     "data": {
      "application/vnd.jupyter.widget-view+json": {
       "model_id": "710a4937cbab4b789e204b122b1833ed",
       "version_major": 2,
       "version_minor": 0
      },
      "text/plain": [
       "HBox(children=(FloatProgress(value=1.0, bar_style='info', max=1.0), HTML(value='')))"
      ]
     },
     "metadata": {},
     "output_type": "display_data"
    },
    {
     "name": "stdout",
     "output_type": "stream",
     "text": [
      "\n",
      "update weather data for  Hai Chau\n",
      "updateing file: ../data/weather_cities/Hai_Chau.csv\n",
      "missing date 3\n"
     ]
    },
    {
     "data": {
      "application/vnd.jupyter.widget-view+json": {
       "model_id": "be696503606e4117b9a43c42cc5da9cd",
       "version_major": 2,
       "version_minor": 0
      },
      "text/plain": [
       "HBox(children=(FloatProgress(value=1.0, bar_style='info', max=1.0), HTML(value='')))"
      ]
     },
     "metadata": {},
     "output_type": "display_data"
    },
    {
     "name": "stdout",
     "output_type": "stream",
     "text": [
      "\n",
      "update weather data for  Chaloem Phra Kiat\n",
      "updateing file: ../data/weather_cities/Chaloem_Phra_Kiat.csv\n",
      "missing date 3\n"
     ]
    },
    {
     "data": {
      "application/vnd.jupyter.widget-view+json": {
       "model_id": "b13a0f2a3e5c49a3a4be37cc0e603c74",
       "version_major": 2,
       "version_minor": 0
      },
      "text/plain": [
       "HBox(children=(FloatProgress(value=1.0, bar_style='info', max=1.0), HTML(value='')))"
      ]
     },
     "metadata": {},
     "output_type": "display_data"
    },
    {
     "name": "stdout",
     "output_type": "stream",
     "text": [
      "\n",
      "\n"
     ]
    }
   ],
   "source": [
    "main(cdc_data=True, build_json=True)"
   ]
  },
  {
   "cell_type": "code",
   "execution_count": 19,
   "metadata": {},
   "outputs": [
    {
     "name": "stdout",
     "output_type": "stream",
     "text": [
      "download Berkeley PM2.5 data for all files in http://berkeleyearth.lbl.gov/air-quality/maps/cities/Thailand/\n",
      "100% [............................................................................] 882554 / 882554download Berkeley PM2.5 data for all files in http://berkeleyearth.lbl.gov/air-quality/maps/cities/Viet_Nam/\n",
      "100% [............................................................................] 845829 / 845829download Berkeley PM2.5 data for all files in http://berkeleyearth.lbl.gov/air-quality/maps/cities/Indonesia/\n",
      "100% [................................................................................] 6073 / 6073download Berkeley PM2.5 data for all files in http://berkeleyearth.lbl.gov/air-quality/maps/cities/Myanmar/\n",
      "100% [............................................................................] 174233 / 174233download Berkeley PM2.5 data for all files in http://berkeleyearth.lbl.gov/air-quality/maps/cities/Singapore/\n",
      "download Berkeley PM2.5 data for all files in http://berkeleyearth.lbl.gov/air-quality/maps/cities/Laos/\n",
      "100% [............................................................................] 652057 / 652057download Berkeley PM2.5 data for all files in http://berkeleyearth.lbl.gov/air-quality/maps/cities/Cambodia/\n",
      "100% [............................................................................] 449895 / 449895download Berkeley PM2.5 data for all files in http://berkeleyearth.lbl.gov/air-quality/maps/cities/Malaysia/\n",
      "100% [............................................................................] 716037 / 716037\n",
      " Download us embassy data in ASEAN for 2020\n",
      "100% [..............................................................................] 11101 / 11101download more pollution data from Thailand PCD\n",
      "['02t', '03t', '05t', '08t', '10t', '11t', '12t', '13t', '14t', '16t', '17t', '18t', '19t', '20t', '21t', '22t', '24t', '25t', '26t', '27t', '28t', '29t', '30t', '31t', '32t', '33t', '34t', '35t', '36t', '37t', '38t', '39t', '40t', '41t', '42t', '43t', '44t', '46t', '47t', '50t', '52t', '53t', '54t', '57t', '58t', '59t', '60t', '61t', '62t', '63t', '67t', '68t', '69t', '70t', '71t', '72t', '73t', '74t', '75t', '76t', '77t', '79t', '80t', '81t', '82t', '83t', '84t', 'm1', 'm3', 'm4', 'm8', 'm9', 'o10', 'o20', 'o22', 'o23', 'o24', 'o25', 'o26', 'o27', 'o28', 'o29']\n"
     ]
    },
    {
     "data": {
      "application/vnd.jupyter.widget-view+json": {
       "model_id": "2da38928dfff46c8a7c1780b3aafb947",
       "version_major": 2,
       "version_minor": 0
      },
      "text/plain": [
       "HBox(children=(FloatProgress(value=1.0, bar_style='info', max=1.0), HTML(value='')))"
      ]
     },
     "metadata": {},
     "output_type": "display_data"
    },
    {
     "name": "stdout",
     "output_type": "stream",
     "text": [
      "\n",
      "-1 / unknownUpdate weather data for all cities\n"
     ]
    },
    {
     "data": {
      "application/vnd.jupyter.widget-view+json": {
       "model_id": "accfa736f73140bf839d41adc79fe7b1",
       "version_major": 2,
       "version_minor": 0
      },
      "text/plain": [
       "HBox(children=(FloatProgress(value=0.0, max=15.0), HTML(value='')))"
      ]
     },
     "metadata": {},
     "output_type": "display_data"
    },
    {
     "name": "stdout",
     "output_type": "stream",
     "text": [
      "update weather data for  Mueang Chiang Mai\n",
      "updateing file: ../data/weather_cities/Mueang_Chiang_Mai.csv\n",
      "missing date 0\n",
      "update weather data for  Soc Son\n",
      "updateing file: ../data/weather_cities/Soc_Son.csv\n",
      "missing date 1\n"
     ]
    },
    {
     "data": {
      "application/vnd.jupyter.widget-view+json": {
       "model_id": "d2fbe21e39fb43588c519a13c7b5c6e4",
       "version_major": 2,
       "version_minor": 0
      },
      "text/plain": [
       "HBox(children=(FloatProgress(value=1.0, bar_style='info', max=1.0), HTML(value='')))"
      ]
     },
     "metadata": {},
     "output_type": "display_data"
    },
    {
     "name": "stdout",
     "output_type": "stream",
     "text": [
      "\n",
      "update weather data for  Soc Son\n",
      "updateing file: ../data/weather_cities/Soc_Son.csv\n",
      "missing date 0\n",
      "update weather data for  Bangkok\n",
      "updateing file: ../data/weather_cities/Bangkok.csv\n",
      "missing date 1\n"
     ]
    },
    {
     "data": {
      "application/vnd.jupyter.widget-view+json": {
       "model_id": "8a6ad75c85ca4b63aa9a43a50c12c6b5",
       "version_major": 2,
       "version_minor": 0
      },
      "text/plain": [
       "HBox(children=(FloatProgress(value=1.0, bar_style='info', max=1.0), HTML(value='')))"
      ]
     },
     "metadata": {},
     "output_type": "display_data"
    },
    {
     "name": "stdout",
     "output_type": "stream",
     "text": [
      "\n",
      "update weather data for  Mueang Chiang Rai\n",
      "updateing file: ../data/weather_cities/Mueang_Chiang_Rai.csv\n",
      "missing date 0\n",
      "update weather data for  Mueang Tak\n",
      "updateing file: ../data/weather_cities/Mueang_Tak.csv\n",
      "missing date 1\n"
     ]
    },
    {
     "data": {
      "application/vnd.jupyter.widget-view+json": {
       "model_id": "2bdaf2d028fa42d1bd43b41cbf013158",
       "version_major": 2,
       "version_minor": 0
      },
      "text/plain": [
       "HBox(children=(FloatProgress(value=1.0, bar_style='info', max=1.0), HTML(value='')))"
      ]
     },
     "metadata": {},
     "output_type": "display_data"
    },
    {
     "name": "stdout",
     "output_type": "stream",
     "text": [
      "\n",
      "update weather data for  Yangon\n",
      "updateing file: ../data/weather_cities/Yangon.csv\n",
      "missing date 1\n"
     ]
    },
    {
     "data": {
      "application/vnd.jupyter.widget-view+json": {
       "model_id": "4ea3a46cc3194080897356d0ccc36b0c",
       "version_major": 2,
       "version_minor": 0
      },
      "text/plain": [
       "HBox(children=(FloatProgress(value=1.0, bar_style='info', max=1.0), HTML(value='')))"
      ]
     },
     "metadata": {},
     "output_type": "display_data"
    },
    {
     "name": "stdout",
     "output_type": "stream",
     "text": [
      "\n",
      "update weather data for  Tada-U\n",
      "updateing file: ../data/weather_cities/Tada-U.csv\n",
      "missing date 1\n"
     ]
    },
    {
     "data": {
      "application/vnd.jupyter.widget-view+json": {
       "model_id": "d0aac824e9ed49a7b14dc3c6cce1c3f0",
       "version_major": 2,
       "version_minor": 0
      },
      "text/plain": [
       "HBox(children=(FloatProgress(value=1.0, bar_style='info', max=1.0), HTML(value='')))"
      ]
     },
     "metadata": {},
     "output_type": "display_data"
    },
    {
     "name": "stdout",
     "output_type": "stream",
     "text": [
      "\n",
      "update weather data for  Sikhottabong\n",
      "updateing file: ../data/weather_cities/Sikhottabong.csv\n",
      "missing date 1\n"
     ]
    },
    {
     "data": {
      "application/vnd.jupyter.widget-view+json": {
       "model_id": "c7893fc5cae249619c34848bf45d4afc",
       "version_major": 2,
       "version_minor": 0
      },
      "text/plain": [
       "HBox(children=(FloatProgress(value=1.0, bar_style='info', max=1.0), HTML(value='')))"
      ]
     },
     "metadata": {},
     "output_type": "display_data"
    },
    {
     "name": "stdout",
     "output_type": "stream",
     "text": [
      "\n",
      "update weather data for  Luang Prabang District\n",
      "updateing file: ../data/weather_cities/Luang_Prabang_District.csv\n",
      "missing date 1\n"
     ]
    },
    {
     "data": {
      "application/vnd.jupyter.widget-view+json": {
       "model_id": "cec64ba49ae6430c9b0933b43ead98c1",
       "version_major": 2,
       "version_minor": 0
      },
      "text/plain": [
       "HBox(children=(FloatProgress(value=1.0, bar_style='info', max=1.0), HTML(value='')))"
      ]
     },
     "metadata": {},
     "output_type": "display_data"
    },
    {
     "name": "stdout",
     "output_type": "stream",
     "text": [
      "\n",
      "update weather data for  Kunming\n",
      "updateing file: ../data/weather_cities/Kunming.csv\n",
      "missing date 1\n"
     ]
    },
    {
     "data": {
      "application/vnd.jupyter.widget-view+json": {
       "model_id": "efb99c6a650c434fb068c7d2116f48ee",
       "version_major": 2,
       "version_minor": 0
      },
      "text/plain": [
       "HBox(children=(FloatProgress(value=1.0, bar_style='info', max=1.0), HTML(value='')))"
      ]
     },
     "metadata": {},
     "output_type": "display_data"
    },
    {
     "name": "stdout",
     "output_type": "stream",
     "text": [
      "\n",
      "update weather data for  East Jakarta\n",
      "updateing file: ../data/weather_cities/East_Jakarta.csv\n",
      "missing date 1\n"
     ]
    },
    {
     "data": {
      "application/vnd.jupyter.widget-view+json": {
       "model_id": "af14a8b2f59440359f1d8bb388c2e5a9",
       "version_major": 2,
       "version_minor": 0
      },
      "text/plain": [
       "HBox(children=(FloatProgress(value=1.0, bar_style='info', max=1.0), HTML(value='')))"
      ]
     },
     "metadata": {},
     "output_type": "display_data"
    },
    {
     "name": "stdout",
     "output_type": "stream",
     "text": [
      "\n",
      "update weather data for  Mueang Nakhon Si Thammarat\n",
      "updateing file: ../data/weather_cities/Mueang_Nakhon_Si_Thammarat.csv\n",
      "missing date 1\n"
     ]
    },
    {
     "data": {
      "application/vnd.jupyter.widget-view+json": {
       "model_id": "c7cf20795dcd43b7b4e0e4e8e368f74e",
       "version_major": 2,
       "version_minor": 0
      },
      "text/plain": [
       "HBox(children=(FloatProgress(value=1.0, bar_style='info', max=1.0), HTML(value='')))"
      ]
     },
     "metadata": {},
     "output_type": "display_data"
    },
    {
     "name": "stdout",
     "output_type": "stream",
     "text": [
      "\n",
      "update weather data for  Hai Chau\n",
      "updateing file: ../data/weather_cities/Hai_Chau.csv\n",
      "missing date 1\n"
     ]
    },
    {
     "data": {
      "application/vnd.jupyter.widget-view+json": {
       "model_id": "6429482166184fce85a6d13ef7386846",
       "version_major": 2,
       "version_minor": 0
      },
      "text/plain": [
       "HBox(children=(FloatProgress(value=1.0, bar_style='info', max=1.0), HTML(value='')))"
      ]
     },
     "metadata": {},
     "output_type": "display_data"
    },
    {
     "name": "stdout",
     "output_type": "stream",
     "text": [
      "\n",
      "update weather data for  Chaloem Phra Kiat\n",
      "updateing file: ../data/weather_cities/Chaloem_Phra_Kiat.csv\n",
      "missing date 1\n"
     ]
    },
    {
     "data": {
      "application/vnd.jupyter.widget-view+json": {
       "model_id": "8dbb7e98db634a72b6e1d3a5b2f98b3d",
       "version_major": 2,
       "version_minor": 0
      },
      "text/plain": [
       "HBox(children=(FloatProgress(value=1.0, bar_style='info', max=1.0), HTML(value='')))"
      ]
     },
     "metadata": {},
     "output_type": "display_data"
    },
    {
     "name": "stdout",
     "output_type": "stream",
     "text": [
      "\n",
      "\n"
     ]
    }
   ],
   "source": [
    "main(cdc_data=False, build_json=False)"
   ]
  },
  {
   "cell_type": "code",
   "execution_count": 7,
   "metadata": {
    "scrolled": true
   },
   "outputs": [
    {
     "name": "stdout",
     "output_type": "stream",
     "text": [
      "download data from Chiang Mai University Project (CDC)\n"
     ]
    },
    {
     "name": "stderr",
     "output_type": "stream",
     "text": [
      "\r",
      "  0%|                                                                                                                               | 0/404 [00:00<?, ?it/s]"
     ]
    },
    {
     "name": "stdout",
     "output_type": "stream",
     "text": [
      "number of stations 507\n"
     ]
    },
    {
     "name": "stderr",
     "output_type": "stream",
     "text": [
      "100%|█████████████████████████████████████████████████████████████████████████████████████████████████████████████████████| 404/404 [22:50<00:00,  3.39s/it]\n"
     ]
    }
   ],
   "source": [
    "download_cdc_data(station_url='https://www.cmuccdc.org/api/ccdc/stations', \n",
    "                  dl_url= 'https://www.cmuccdc.org/download_json/', \n",
    "                  data_folder='../data/cdc_data/')"
   ]
  },
  {
   "cell_type": "code",
   "execution_count": null,
   "metadata": {},
   "outputs": [],
   "source": [
    "update_last_air4Thai(url='http://air4thai.pcd.go.th/webV2/history/',data_folder='../data/air4thai_hourly/')"
   ]
  },
  {
   "cell_type": "code",
   "execution_count": 5,
   "metadata": {},
   "outputs": [
    {
     "data": {
      "application/vnd.jupyter.widget-view+json": {
       "model_id": "8f0047f571a84f3ba35c67c5dd695c0b",
       "version_major": 2,
       "version_minor": 0
      },
      "text/plain": [
       "HBox(children=(FloatProgress(value=0.0, max=1.0), HTML(value='')))"
      ]
     },
     "metadata": {},
     "output_type": "display_data"
    },
    {
     "name": "stdout",
     "output_type": "stream",
     "text": [
      "update weather data for  Khlong Hoi Khong\n",
      "updateing file: ../data/weather_cities/Khlong_Hoi_Khong.csv\n",
      "missing date 184\n"
     ]
    },
    {
     "name": "stderr",
     "output_type": "stream",
     "text": [
      "184it [29:07,  9.50s/it]\n"
     ]
    },
    {
     "name": "stdout",
     "output_type": "stream",
     "text": [
      "new_weather shape (8809, 11)\n",
      "\n"
     ]
    },
    {
     "data": {
      "application/vnd.jupyter.widget-view+json": {
       "model_id": "0295e83fb7e948648d6c1d5e56f9ce1b",
       "version_major": 2,
       "version_minor": 0
      },
      "text/plain": [
       "HBox(children=(FloatProgress(value=0.0, max=1.0), HTML(value='')))"
      ]
     },
     "metadata": {},
     "output_type": "display_data"
    },
    {
     "name": "stdout",
     "output_type": "stream",
     "text": [
      "update weather data for  Khlong Hoi Khong\n",
      "updateing file: ../data/weather_cities/Khlong_Hoi_Khong.csv\n",
      "missing date 365\n"
     ]
    },
    {
     "name": "stderr",
     "output_type": "stream",
     "text": [
      "365it [1:39:29, 16.35s/it] \n"
     ]
    },
    {
     "name": "stdout",
     "output_type": "stream",
     "text": [
      "new_weather shape (15116, 11)\n",
      "\n"
     ]
    },
    {
     "data": {
      "application/vnd.jupyter.widget-view+json": {
       "model_id": "bb03d8b0521b4d8a967f4004eb809c5a",
       "version_major": 2,
       "version_minor": 0
      },
      "text/plain": [
       "HBox(children=(FloatProgress(value=0.0, max=1.0), HTML(value='')))"
      ]
     },
     "metadata": {},
     "output_type": "display_data"
    },
    {
     "name": "stdout",
     "output_type": "stream",
     "text": [
      "update weather data for  Khlong Hoi Khong\n",
      "updateing file: ../data/weather_cities/Khlong_Hoi_Khong.csv\n",
      "missing date 370\n"
     ]
    },
    {
     "name": "stderr",
     "output_type": "stream",
     "text": [
      "370it [56:37,  9.18s/it]\n"
     ]
    },
    {
     "name": "stdout",
     "output_type": "stream",
     "text": [
      "new_weather shape (17646, 11)\n",
      "\n"
     ]
    },
    {
     "data": {
      "application/vnd.jupyter.widget-view+json": {
       "model_id": "2b8414cab035423f8c5b37fc82044556",
       "version_major": 2,
       "version_minor": 0
      },
      "text/plain": [
       "HBox(children=(FloatProgress(value=0.0, max=1.0), HTML(value='')))"
      ]
     },
     "metadata": {},
     "output_type": "display_data"
    },
    {
     "name": "stdout",
     "output_type": "stream",
     "text": [
      "update weather data for  Khlong Hoi Khong\n",
      "updateing file: ../data/weather_cities/Khlong_Hoi_Khong.csv\n",
      "missing date 366\n"
     ]
    },
    {
     "name": "stderr",
     "output_type": "stream",
     "text": [
      "366it [1:02:42, 10.28s/it]\n"
     ]
    },
    {
     "name": "stdout",
     "output_type": "stream",
     "text": [
      "new_weather shape (17340, 11)\n",
      "\n"
     ]
    }
   ],
   "source": [
    "# update weather data \n",
    "city_names = ['Bangkok',\n",
    "        'Mueang Chiang Mai',\n",
    "        'Soc Son',\n",
    "        'Mueang Chiang Rai',\n",
    "        'Mueang Tak',\n",
    "        'Yangon',\n",
    "        'Tada-U',\n",
    "        'Sikhottabong',\n",
    "        'Luang Prabang District',\n",
    "        'Kunming', 'East Jakarta', \n",
    "        'Mueang Nakhon Si Thammarat', \n",
    "        'Hai Chau', 'Chaloem Phra Kiat' ]\n",
    "    \n",
    "city_names = ['Khlong Hoi Khong']\n",
    "weather_station_info = find_weather_stations(city_names, weather_json_file=w_folder + 'weather_station_info.json')\n",
    "len(weather_station_info)\n",
    "\n",
    "for city_json in tqdm_notebook(weather_station_info):\n",
    "    print('update weather data for ', city_json['city_name'])\n",
    "    start_date = datetime(2017, 7, 1)\n",
    "    end_date = datetime(2017, 12, 31)\n",
    "    update_weather(\n",
    "            city_json,\n",
    "            data_folder=w_folder,\n",
    "            start_date=start_date,\n",
    "            end_date=end_date)\n",
    "    \n",
    "for city_json in tqdm_notebook(weather_station_info):\n",
    "    print('update weather data for ', city_json['city_name'])\n",
    "    start_date = datetime(2017, 7, 1)\n",
    "    end_date = datetime(2018, 12, 31)\n",
    "    update_weather(\n",
    "            city_json,\n",
    "            data_folder=w_folder,\n",
    "            start_date=start_date,\n",
    "            end_date=end_date)\n",
    "    \n",
    "for city_json in tqdm_notebook(weather_station_info):\n",
    "    print('update weather data for ', city_json['city_name'])\n",
    "    start_date = datetime(2017, 7, 1)\n",
    "    end_date = datetime(2019, 12, 31)\n",
    "    update_weather(\n",
    "            city_json,\n",
    "            data_folder=w_folder,\n",
    "            start_date=start_date,\n",
    "            end_date=end_date)\n",
    "\n",
    "for city_json in tqdm_notebook(weather_station_info):\n",
    "    print('update weather data for ', city_json['city_name'])\n",
    "    start_date = datetime(2017, 7, 1)\n",
    "    end_date = datetime(2020, 12, 31)\n",
    "    update_weather(\n",
    "            city_json,\n",
    "            data_folder=w_folder,\n",
    "            start_date=start_date,\n",
    "            end_date=end_date)\n",
    "    "
   ]
  },
  {
   "cell_type": "code",
   "execution_count": 8,
   "metadata": {},
   "outputs": [
    {
     "name": "stderr",
     "output_type": "stream",
     "text": [
      "\r",
      "  0%|                                                                                                                                | 0/15 [00:00<?, ?it/s]"
     ]
    },
    {
     "name": "stdout",
     "output_type": "stream",
     "text": [
      "update weather data for  Khlong Hoi Khong\n",
      "updateing file: ../data/weather_cities/Khlong_Hoi_Khong.csv\n",
      "missing date 553\n"
     ]
    },
    {
     "name": "stderr",
     "output_type": "stream",
     "text": [
      "\n",
      "0it [00:00, ?it/s]\u001b[A\n",
      "1it [00:10, 10.79s/it]\u001b[A\n",
      "2it [00:20, 10.36s/it]\u001b[A\n",
      "3it [00:31, 10.62s/it]\u001b[A\n",
      "4it [00:41, 10.39s/it]\u001b[A\n",
      "5it [00:49,  9.86s/it]\u001b[A\n",
      "6it [00:58,  9.56s/it]\u001b[A\n",
      "7it [01:07,  9.24s/it]\u001b[A\n",
      "8it [01:17,  9.69s/it]\u001b[A\n",
      "9it [01:26,  9.47s/it]\u001b[A\n",
      "10it [01:35,  9.28s/it]\u001b[A\n",
      "11it [01:44,  9.11s/it]\u001b[A\n",
      "12it [01:53,  9.05s/it]\u001b[A\n",
      "13it [02:02,  8.96s/it]\u001b[A\n",
      "14it [02:10,  8.89s/it]\u001b[A\n",
      "15it [02:19,  8.73s/it]\u001b[A\n",
      "16it [02:27,  8.64s/it]\u001b[A\n",
      "17it [02:36,  8.79s/it]\u001b[A\n",
      "18it [02:45,  8.77s/it]\u001b[A\n",
      "19it [02:54,  8.69s/it]\u001b[A\n",
      "20it [03:02,  8.67s/it]\u001b[A\n",
      "21it [03:12,  8.98s/it]\u001b[A\n",
      "22it [03:20,  8.87s/it]\u001b[A\n",
      "23it [03:30,  9.02s/it]\u001b[A\n",
      "24it [03:40,  9.42s/it]\u001b[A\n",
      "25it [03:49,  9.28s/it]\u001b[A\n",
      "26it [03:58,  9.16s/it]\u001b[A\n",
      "27it [04:07,  9.12s/it]\u001b[A\n",
      "28it [04:16,  8.94s/it]\u001b[A\n",
      "29it [04:25,  9.07s/it]\u001b[A\n",
      "30it [04:34,  9.12s/it]\u001b[A\n",
      "31it [04:43,  9.19s/it]\u001b[A\n",
      "32it [04:53,  9.14s/it]\u001b[A\n",
      "33it [05:01,  8.90s/it]\u001b[A\n",
      "34it [05:10,  8.84s/it]\u001b[A\n",
      "35it [05:19,  8.88s/it]\u001b[A\n",
      "36it [05:28,  9.15s/it]\u001b[A\n",
      "37it [05:37,  8.96s/it]\u001b[A\n",
      "38it [05:46,  8.97s/it]\u001b[A\n",
      "39it [05:55,  9.00s/it]\u001b[A\n",
      "40it [06:04,  9.03s/it]\u001b[A\n",
      "41it [06:13,  8.97s/it]\u001b[A\n",
      "42it [06:22,  8.95s/it]\u001b[A\n",
      "43it [06:30,  8.83s/it]\u001b[A\n",
      "44it [06:39,  8.84s/it]\u001b[A\n",
      "45it [06:48,  8.71s/it]\u001b[A\n",
      "46it [06:57,  8.81s/it]\u001b[A\n",
      "47it [07:05,  8.74s/it]\u001b[A\n",
      "48it [07:14,  8.73s/it]\u001b[A\n",
      "49it [07:22,  8.56s/it]\u001b[A\n",
      "50it [07:30,  8.49s/it]\u001b[A\n",
      "51it [07:39,  8.57s/it]\u001b[A\n",
      "52it [07:47,  8.41s/it]\u001b[A\n",
      "53it [07:56,  8.66s/it]\u001b[A\n",
      "54it [08:05,  8.65s/it]\u001b[A\n",
      "55it [08:14,  8.65s/it]\u001b[A\n",
      "56it [08:22,  8.66s/it]\u001b[A\n",
      "57it [08:31,  8.55s/it]\u001b[A\n",
      "58it [08:40,  8.71s/it]\u001b[A\n",
      "59it [08:49,  8.81s/it]\u001b[A\n",
      "60it [08:58,  8.89s/it]\u001b[A\n",
      "61it [09:08,  9.35s/it]\u001b[A\n",
      "62it [09:18,  9.38s/it]\u001b[A\n",
      "63it [09:27,  9.47s/it]\u001b[A\n",
      "64it [09:36,  9.19s/it]\u001b[A\n",
      "65it [09:45,  9.13s/it]\u001b[A\n",
      "66it [09:54,  8.99s/it]\u001b[A\n",
      "67it [10:02,  8.94s/it]\u001b[A\n",
      "68it [10:11,  8.92s/it]\u001b[A\n",
      "69it [10:21,  9.07s/it]\u001b[A\n",
      "70it [10:32,  9.60s/it]\u001b[A\n",
      "71it [10:41,  9.54s/it]\u001b[A\n",
      "72it [10:50,  9.28s/it]\u001b[A\n",
      "73it [10:59,  9.32s/it]\u001b[A\n",
      "74it [11:08,  9.30s/it]\u001b[A\n",
      "75it [11:17,  9.22s/it]\u001b[A\n",
      "76it [11:27,  9.26s/it]\u001b[A\n",
      "77it [11:37,  9.51s/it]\u001b[A\n",
      "78it [11:46,  9.49s/it]\u001b[A\n",
      "79it [11:55,  9.33s/it]\u001b[A\n",
      "80it [12:04,  9.26s/it]\u001b[A\n",
      "81it [12:13,  9.08s/it]\u001b[A\n",
      "82it [12:22,  9.09s/it]\u001b[A\n",
      "83it [12:31,  8.94s/it]\u001b[A\n",
      "84it [12:40,  8.92s/it]\u001b[A\n",
      "85it [12:48,  8.91s/it]\u001b[A\n",
      "86it [12:57,  8.74s/it]\u001b[A\n",
      "87it [13:06,  8.85s/it]\u001b[A\n",
      "88it [13:15,  8.82s/it]\u001b[A\n",
      "89it [13:24,  8.95s/it]\u001b[A\n",
      "90it [13:33,  9.10s/it]\u001b[A\n",
      "91it [13:42,  9.03s/it]\u001b[A\n",
      "92it [13:51,  9.01s/it]\u001b[A\n",
      "93it [14:00,  9.00s/it]\u001b[A\n",
      "94it [14:09,  9.03s/it]\u001b[A\n",
      "95it [14:19,  9.15s/it]\u001b[A\n",
      "96it [14:27,  9.04s/it]\u001b[A\n",
      "97it [14:36,  8.99s/it]\u001b[A\n",
      "98it [14:45,  8.97s/it]\u001b[A\n",
      "99it [14:55,  9.12s/it]\u001b[A\n",
      "100it [15:04,  9.08s/it]\u001b[A\n",
      "101it [15:13,  9.22s/it]\u001b[A\n",
      "102it [15:22,  9.09s/it]\u001b[A\n",
      "103it [15:31,  8.99s/it]\u001b[A\n",
      "104it [15:42,  9.53s/it]\u001b[A\n",
      "105it [15:50,  9.32s/it]\u001b[A\n",
      "106it [15:59,  9.13s/it]\u001b[A\n",
      "107it [16:08,  8.96s/it]\u001b[A\n",
      "108it [16:17,  9.18s/it]\u001b[A\n",
      "109it [16:26,  9.08s/it]\u001b[A\n",
      "110it [16:35,  8.90s/it]\u001b[A\n",
      "111it [16:44,  8.90s/it]\u001b[A\n",
      "112it [16:53,  8.98s/it]\u001b[A\n",
      "113it [17:01,  8.87s/it]\u001b[A\n",
      "114it [17:10,  8.90s/it]\u001b[A\n",
      "115it [17:19,  8.81s/it]\u001b[A\n",
      "116it [17:28,  8.76s/it]\u001b[A\n",
      "117it [17:37,  8.85s/it]\u001b[A\n",
      "118it [17:46,  8.94s/it]\u001b[A\n",
      "119it [17:54,  8.86s/it]\u001b[A\n",
      "120it [18:03,  8.73s/it]\u001b[A\n",
      "121it [18:12,  8.98s/it]\u001b[A\n",
      "122it [18:21,  8.98s/it]\u001b[A\n",
      "123it [18:30,  8.95s/it]\u001b[A\n",
      "124it [18:39,  9.03s/it]\u001b[A\n",
      "125it [18:48,  8.90s/it]\u001b[A\n",
      "126it [18:57,  8.79s/it]\u001b[A\n",
      "127it [19:07,  9.14s/it]\u001b[A\n",
      "128it [19:16,  9.11s/it]\u001b[A\n",
      "129it [19:25,  9.20s/it]\u001b[A\n",
      "130it [19:34,  9.25s/it]\u001b[A\n",
      "131it [19:43,  9.15s/it]\u001b[A\n",
      "132it [19:52,  8.89s/it]\u001b[A\n",
      "133it [20:00,  8.80s/it]\u001b[A\n",
      "134it [20:09,  8.83s/it]\u001b[A\n",
      "135it [20:18,  8.71s/it]\u001b[A\n",
      "136it [20:26,  8.75s/it]\u001b[A\n",
      "137it [20:36,  8.90s/it]\u001b[A\n",
      "138it [20:44,  8.82s/it]\u001b[A\n",
      "139it [20:53,  8.90s/it]\u001b[A\n",
      "140it [21:02,  8.86s/it]\u001b[A\n",
      "141it [21:11,  8.85s/it]\u001b[A\n",
      "142it [21:20,  8.77s/it]\u001b[A\n",
      "143it [21:29,  9.01s/it]\u001b[A\n",
      "144it [21:39,  9.36s/it]\u001b[A\n",
      "145it [21:48,  9.23s/it]\u001b[A\n",
      "146it [21:57,  9.03s/it]\u001b[A\n",
      "147it [22:06,  9.21s/it]\u001b[A\n",
      "148it [22:16,  9.27s/it]\u001b[A\n",
      "149it [22:25,  9.10s/it]\u001b[A\n",
      "150it [22:33,  8.98s/it]\u001b[A\n",
      "151it [22:42,  9.00s/it]\u001b[A\n",
      "152it [22:51,  8.82s/it]\u001b[A\n",
      "153it [22:59,  8.80s/it]\u001b[A\n",
      "154it [23:08,  8.86s/it]\u001b[A\n",
      "155it [23:18,  9.02s/it]\u001b[A\n",
      "156it [23:28,  9.33s/it]\u001b[A\n",
      "157it [23:36,  9.11s/it]\u001b[A\n",
      "158it [23:45,  9.05s/it]\u001b[A\n",
      "159it [23:54,  9.07s/it]\u001b[A\n",
      "160it [24:03,  8.92s/it]\u001b[A\n",
      "161it [24:12,  9.09s/it]\u001b[A\n",
      "162it [24:21,  8.94s/it]\u001b[A\n",
      "163it [24:30,  8.86s/it]\u001b[A\n",
      "164it [24:39,  9.00s/it]\u001b[A\n",
      "165it [24:48,  8.99s/it]\u001b[A\n",
      "166it [24:58,  9.20s/it]\u001b[A\n",
      "167it [25:07,  9.28s/it]\u001b[A\n",
      "168it [25:16,  8.99s/it]\u001b[A\n",
      "169it [25:24,  8.90s/it]\u001b[A\n",
      "170it [25:33,  8.87s/it]\u001b[A\n",
      "171it [25:42,  8.83s/it]\u001b[A\n",
      "172it [25:50,  8.76s/it]\u001b[A\n",
      "173it [25:59,  8.71s/it]\u001b[A\n",
      "174it [26:08,  8.77s/it]\u001b[A\n",
      "175it [26:16,  8.71s/it]\u001b[A\n",
      "176it [26:26,  8.97s/it]\u001b[A\n",
      "177it [26:35,  9.01s/it]\u001b[A\n",
      "178it [26:44,  8.93s/it]\u001b[A\n",
      "179it [26:54,  9.36s/it]\u001b[A\n",
      "180it [27:04,  9.54s/it]\u001b[A\n",
      "181it [27:14,  9.52s/it]\u001b[A\n",
      "182it [27:23,  9.48s/it]\u001b[A\n",
      "183it [27:32,  9.34s/it]\u001b[A\n",
      "184it [27:42,  9.58s/it]\u001b[A\n",
      "185it [27:52,  9.52s/it]\u001b[A\n",
      "186it [28:01,  9.45s/it]\u001b[A\n",
      "187it [28:10,  9.37s/it]\u001b[A\n",
      "188it [28:18,  9.05s/it]\u001b[A\n",
      "189it [28:28,  9.28s/it]\u001b[A\n",
      "190it [28:37,  9.22s/it]\u001b[A\n",
      "191it [28:47,  9.32s/it]\u001b[A\n",
      "192it [28:55,  9.13s/it]\u001b[A\n",
      "193it [29:04,  8.99s/it]\u001b[A\n",
      "194it [29:13,  9.07s/it]\u001b[A\n",
      "195it [29:23,  9.30s/it]\u001b[A\n",
      "196it [29:32,  9.26s/it]\u001b[A\n",
      "197it [29:42,  9.29s/it]\u001b[A\n",
      "198it [29:51,  9.36s/it]\u001b[A\n",
      "199it [30:00,  9.31s/it]\u001b[A\n",
      "200it [30:09,  9.18s/it]\u001b[A\n",
      "201it [30:18,  9.09s/it]\u001b[A\n",
      "202it [30:30,  9.83s/it]\u001b[A\n",
      "203it [30:39,  9.73s/it]\u001b[A\n",
      "204it [30:48,  9.38s/it]\u001b[A\n",
      "205it [30:56,  9.07s/it]\u001b[A\n",
      "206it [31:05,  9.08s/it]\u001b[A\n",
      "207it [31:14,  9.03s/it]\u001b[A\n",
      "208it [31:23,  9.02s/it]\u001b[A\n",
      "209it [31:32,  8.91s/it]\u001b[A\n",
      "210it [31:41,  8.83s/it]\u001b[A\n",
      "211it [31:50,  9.15s/it]\u001b[A\n",
      "212it [32:00,  9.36s/it]\u001b[A\n",
      "213it [32:09,  9.25s/it]\u001b[A\n",
      "214it [32:18,  9.14s/it]\u001b[A\n",
      "215it [32:28,  9.36s/it]\u001b[A\n",
      "216it [32:37,  9.15s/it]\u001b[A\n",
      "217it [32:46,  9.06s/it]\u001b[A\n",
      "218it [32:55,  9.32s/it]\u001b[A\n",
      "219it [33:05,  9.27s/it]\u001b[A\n",
      "220it [33:14,  9.17s/it]\u001b[A\n",
      "221it [33:22,  9.06s/it]\u001b[A\n",
      "222it [33:31,  8.97s/it]\u001b[A\n",
      "223it [33:40,  8.99s/it]\u001b[A\n",
      "224it [33:49,  8.88s/it]\u001b[A\n",
      "225it [33:58,  8.86s/it]\u001b[A\n",
      "226it [34:07,  8.96s/it]\u001b[A\n",
      "227it [34:16,  9.10s/it]\u001b[A\n",
      "228it [34:25,  8.91s/it]\u001b[A\n",
      "229it [34:33,  8.82s/it]\u001b[A\n",
      "230it [34:42,  8.85s/it]\u001b[A\n",
      "231it [34:51,  8.80s/it]\u001b[A\n",
      "232it [35:00,  8.85s/it]\u001b[A\n",
      "233it [35:09,  8.82s/it]\u001b[A\n",
      "234it [35:17,  8.83s/it]\u001b[A\n",
      "235it [35:27,  8.94s/it]\u001b[A\n",
      "236it [35:35,  8.90s/it]\u001b[A\n",
      "237it [35:46,  9.27s/it]\u001b[A\n",
      "238it [35:54,  9.05s/it]\u001b[A\n",
      "239it [36:03,  9.04s/it]\u001b[A\n",
      "240it [36:13,  9.24s/it]\u001b[A\n",
      "241it [36:22,  9.10s/it]\u001b[A\n",
      "242it [36:30,  9.02s/it]\u001b[A\n",
      "243it [36:40,  9.26s/it]\u001b[A\n",
      "244it [36:49,  9.00s/it]\u001b[A\n",
      "245it [36:58,  9.14s/it]\u001b[A\n",
      "246it [37:07,  9.19s/it]\u001b[A\n",
      "247it [37:17,  9.36s/it]\u001b[A\n",
      "248it [37:25,  9.01s/it]\u001b[A\n",
      "249it [37:35,  9.13s/it]\u001b[A\n",
      "250it [37:43,  8.92s/it]\u001b[A\n",
      "251it [37:52,  8.83s/it]\u001b[A\n",
      "252it [38:02,  9.07s/it]\u001b[A\n",
      "253it [38:11,  9.08s/it]\u001b[A\n",
      "254it [38:19,  8.97s/it]\u001b[A\n",
      "255it [38:28,  8.98s/it]\u001b[A\n",
      "256it [38:37,  9.00s/it]\u001b[A\n",
      "257it [38:46,  8.91s/it]\u001b[A\n",
      "258it [38:55,  8.90s/it]\u001b[A\n",
      "259it [39:04,  8.98s/it]\u001b[A\n",
      "260it [39:13,  9.09s/it]\u001b[A\n",
      "261it [39:23,  9.13s/it]\u001b[A\n",
      "262it [39:32,  9.10s/it]\u001b[A\n",
      "263it [39:41,  9.29s/it]\u001b[A\n",
      "264it [39:50,  9.21s/it]\u001b[A\n",
      "265it [40:00,  9.17s/it]\u001b[A\n",
      "266it [40:08,  9.04s/it]\u001b[A\n",
      "267it [40:21, 10.14s/it]\u001b[A\n",
      "268it [40:30,  9.77s/it]\u001b[A\n",
      "269it [40:40,  9.73s/it]\u001b[A\n",
      "270it [40:49,  9.80s/it]\u001b[A\n",
      "271it [40:59,  9.69s/it]\u001b[A\n",
      "272it [41:08,  9.57s/it]\u001b[A\n",
      "273it [41:17,  9.24s/it]\u001b[A\n",
      "274it [41:28,  9.74s/it]\u001b[A\n",
      "275it [41:37,  9.52s/it]\u001b[A\n",
      "276it [41:47,  9.65s/it]\u001b[A\n",
      "277it [41:56,  9.51s/it]\u001b[A\n",
      "278it [42:06,  9.62s/it]\u001b[A\n",
      "279it [42:14,  9.38s/it]\u001b[A\n",
      "280it [42:23,  9.24s/it]\u001b[A\n",
      "281it [42:32,  9.10s/it]\u001b[A\n",
      "282it [42:41,  9.02s/it]\u001b[A\n",
      "283it [42:49,  8.88s/it]\u001b[A\n",
      "284it [42:59,  8.97s/it]\u001b[A\n",
      "285it [43:09,  9.35s/it]\u001b[A\n",
      "286it [43:18,  9.35s/it]\u001b[A\n",
      "287it [43:27,  9.25s/it]\u001b[A\n",
      "288it [43:37,  9.31s/it]\u001b[A\n",
      "289it [43:46,  9.44s/it]\u001b[A\n",
      "290it [43:56,  9.59s/it]\u001b[A\n",
      "291it [44:05,  9.36s/it]\u001b[A\n",
      "292it [44:15,  9.42s/it]\u001b[A\n",
      "293it [44:24,  9.21s/it]\u001b[A\n",
      "294it [44:33,  9.34s/it]\u001b[A\n",
      "295it [44:43,  9.45s/it]\u001b[A\n",
      "296it [44:52,  9.41s/it]\u001b[A\n",
      "297it [45:02,  9.59s/it]\u001b[A\n",
      "298it [45:12,  9.60s/it]\u001b[A\n",
      "299it [45:22,  9.74s/it]\u001b[A\n",
      "300it [45:31,  9.45s/it]\u001b[A\n",
      "301it [45:39,  9.26s/it]\u001b[A\n",
      "302it [45:49,  9.27s/it]\u001b[A\n",
      "303it [45:58,  9.28s/it]\u001b[A\n",
      "304it [46:08,  9.38s/it]\u001b[A\n",
      "305it [46:17,  9.44s/it]\u001b[A\n",
      "306it [46:26,  9.37s/it]\u001b[A\n",
      "307it [46:36,  9.44s/it]\u001b[A\n",
      "308it [46:47,  9.79s/it]\u001b[A\n",
      "309it [46:56,  9.53s/it]\u001b[A\n",
      "310it [47:05,  9.51s/it]\u001b[A\n",
      "311it [47:15,  9.49s/it]\u001b[A\n",
      "312it [47:23,  9.30s/it]\u001b[A\n",
      "313it [47:33,  9.28s/it]\u001b[A\n",
      "314it [47:43,  9.48s/it]\u001b[A\n",
      "315it [47:52,  9.35s/it]\u001b[A\n",
      "316it [48:01,  9.25s/it]\u001b[A\n",
      "317it [48:10,  9.25s/it]\u001b[A\n",
      "318it [48:19,  9.11s/it]\u001b[A\n",
      "319it [48:28,  9.23s/it]\u001b[A\n",
      "320it [48:37,  9.25s/it]\u001b[A\n",
      "321it [48:47,  9.26s/it]\u001b[A\n",
      "322it [48:56,  9.13s/it]\u001b[A\n",
      "323it [49:04,  9.05s/it]\u001b[A\n",
      "324it [49:14,  9.19s/it]\u001b[A\n",
      "325it [49:24,  9.31s/it]\u001b[A\n",
      "326it [49:32,  9.10s/it]\u001b[A\n",
      "327it [49:44,  9.87s/it]\u001b[A\n",
      "328it [49:53,  9.55s/it]\u001b[A\n",
      "329it [50:02,  9.41s/it]\u001b[A\n",
      "330it [50:10,  9.22s/it]\u001b[A\n",
      "331it [50:19,  9.06s/it]\u001b[A\n",
      "332it [50:28,  9.03s/it]\u001b[A\n",
      "333it [50:38,  9.16s/it]\u001b[A\n",
      "334it [50:48,  9.41s/it]\u001b[A\n",
      "335it [50:57,  9.31s/it]\u001b[A\n",
      "336it [51:05,  8.90s/it]\u001b[A\n",
      "337it [51:14,  9.03s/it]\u001b[A\n",
      "338it [51:23,  9.02s/it]\u001b[A\n",
      "339it [51:32,  9.04s/it]\u001b[A\n",
      "340it [51:41,  9.08s/it]\u001b[A\n",
      "341it [51:50,  9.07s/it]\u001b[A\n",
      "342it [51:59,  9.10s/it]\u001b[A\n",
      "343it [52:09,  9.11s/it]\u001b[A\n",
      "344it [52:18,  9.14s/it]\u001b[A\n",
      "345it [52:27,  9.26s/it]\u001b[A\n",
      "346it [52:37,  9.27s/it]\u001b[A\n",
      "347it [52:48,  9.91s/it]\u001b[A\n",
      "348it [52:58,  9.83s/it]\u001b[A\n",
      "349it [53:08,  9.87s/it]\u001b[A\n",
      "350it [53:16,  9.49s/it]\u001b[A\n",
      "351it [53:26,  9.52s/it]\u001b[A\n",
      "352it [53:36,  9.87s/it]\u001b[A\n",
      "353it [53:46,  9.78s/it]\u001b[A\n",
      "354it [53:56,  9.78s/it]\u001b[A\n",
      "355it [54:06,  9.91s/it]\u001b[A\n",
      "356it [54:16,  9.80s/it]\u001b[A\n",
      "357it [54:24,  9.45s/it]\u001b[A\n",
      "358it [54:33,  9.26s/it]\u001b[A\n",
      "359it [54:44,  9.66s/it]\u001b[A\n",
      "360it [54:54, 10.02s/it]\u001b[A\n",
      "361it [55:03,  9.70s/it]\u001b[A\n",
      "362it [55:12,  9.50s/it]\u001b[A\n",
      "363it [55:21,  9.32s/it]\u001b[A\n",
      "364it [55:30,  9.12s/it]\u001b[A\n",
      "365it [55:40,  9.29s/it]\u001b[A\n",
      "366it [55:49,  9.20s/it]\u001b[A\n",
      "367it [55:58,  9.13s/it]\u001b[A\n",
      "368it [56:08,  9.42s/it]\u001b[A\n",
      "369it [56:17,  9.47s/it]\u001b[A\n",
      "370it [56:26,  9.37s/it]\u001b[A\n",
      "371it [56:36,  9.40s/it]\u001b[A\n",
      "372it [56:46,  9.56s/it]\u001b[A\n",
      "373it [56:56,  9.66s/it]\u001b[A\n",
      "374it [57:06,  9.82s/it]\u001b[A\n",
      "375it [57:15,  9.63s/it]\u001b[A\n",
      "376it [57:27, 10.35s/it]\u001b[A\n",
      "377it [57:38, 10.37s/it]\u001b[A\n",
      "378it [57:47, 10.00s/it]\u001b[A\n",
      "379it [57:58, 10.38s/it]\u001b[A\n",
      "380it [58:09, 10.52s/it]\u001b[A\n",
      "381it [58:19, 10.49s/it]\u001b[A\n",
      "382it [58:28, 10.03s/it]\u001b[A\n",
      "383it [58:38,  9.92s/it]\u001b[A\n",
      "384it [58:47,  9.67s/it]\u001b[A\n",
      "385it [58:56,  9.42s/it]\u001b[A\n",
      "386it [59:06,  9.55s/it]\u001b[A\n",
      "387it [59:15,  9.40s/it]\u001b[A\n",
      "388it [59:27, 10.31s/it]\u001b[A\n",
      "389it [59:36,  9.99s/it]\u001b[A\n",
      "390it [59:47, 10.17s/it]\u001b[A\n",
      "391it [59:56,  9.90s/it]\u001b[A\n",
      "392it [1:00:08, 10.56s/it]\u001b[A\n",
      "393it [1:00:22, 11.40s/it]\u001b[A\n",
      "394it [1:00:33, 11.25s/it]\u001b[A\n",
      "395it [1:00:43, 10.86s/it]\u001b[A\n",
      "396it [1:00:54, 10.90s/it]\u001b[A\n",
      "397it [1:01:08, 11.83s/it]\u001b[A\n",
      "398it [1:01:17, 11.23s/it]\u001b[A\n",
      "399it [1:01:28, 11.00s/it]\u001b[A\n",
      "400it [1:01:38, 10.85s/it]\u001b[A\n",
      "401it [1:01:48, 10.64s/it]\u001b[A\n",
      "402it [1:01:58, 10.25s/it]\u001b[A\n",
      "403it [1:02:07,  9.96s/it]\u001b[A\n",
      "404it [1:02:17,  9.88s/it]\u001b[A\n",
      "405it [1:02:26,  9.55s/it]\u001b[A\n",
      "406it [1:02:37, 10.23s/it]\u001b[A\n",
      "407it [1:02:48, 10.39s/it]\u001b[A\n",
      "408it [1:02:59, 10.66s/it]\u001b[A\n",
      "409it [1:03:11, 10.96s/it]\u001b[A\n",
      "410it [1:03:20, 10.44s/it]\u001b[A\n",
      "411it [1:03:30, 10.19s/it]\u001b[A\n",
      "412it [1:03:43, 10.91s/it]\u001b[A\n",
      "413it [1:03:52, 10.50s/it]\u001b[A\n",
      "414it [1:04:02, 10.30s/it]\u001b[A\n",
      "415it [1:04:12, 10.19s/it]\u001b[A\n",
      "416it [1:04:21,  9.82s/it]\u001b[A\n",
      "417it [1:04:30,  9.58s/it]\u001b[A\n",
      "418it [1:04:41, 10.20s/it]\u001b[A\n",
      "419it [1:04:53, 10.51s/it]\u001b[A\n",
      "420it [1:05:05, 11.09s/it]\u001b[A\n",
      "421it [1:05:14, 10.29s/it]\u001b[A\n",
      "422it [1:05:26, 10.85s/it]\u001b[A\n",
      "423it [1:05:36, 10.82s/it]\u001b[A\n",
      "424it [1:05:45, 10.05s/it]\u001b[A\n",
      "425it [1:05:53,  9.55s/it]\u001b[A\n",
      "426it [1:06:01,  9.18s/it]\u001b[A\n",
      "427it [1:06:12,  9.61s/it]\u001b[A\n",
      "428it [1:06:20,  9.23s/it]\u001b[A\n",
      "429it [1:06:32,  9.85s/it]\u001b[A\n",
      "430it [1:06:43, 10.28s/it]\u001b[A\n",
      "431it [1:06:52,  9.90s/it]\u001b[A\n",
      "432it [1:07:03, 10.30s/it]\u001b[A\n",
      "433it [1:07:12,  9.73s/it]\u001b[A\n",
      "434it [1:07:23, 10.10s/it]\u001b[A\n",
      "435it [1:07:33, 10.23s/it]\u001b[A\n",
      "436it [1:07:44, 10.48s/it]\u001b[A\n",
      "437it [1:07:59, 11.74s/it]\u001b[A\n",
      "438it [1:08:10, 11.49s/it]\u001b[A\n",
      "439it [1:08:22, 11.72s/it]\u001b[A\n",
      "440it [1:08:33, 11.48s/it]\u001b[A\n",
      "441it [1:08:43, 11.19s/it]\u001b[A\n",
      "442it [1:08:55, 11.30s/it]\u001b[A\n",
      "443it [1:09:04, 10.57s/it]\u001b[A\n",
      "444it [1:09:16, 10.90s/it]\u001b[A\n",
      "445it [1:09:24, 10.21s/it]\u001b[A\n",
      "446it [1:09:33,  9.73s/it]\u001b[A\n",
      "447it [1:09:44, 10.04s/it]\u001b[A\n",
      "448it [1:09:56, 10.88s/it]\u001b[A\n",
      "449it [1:14:57, 97.66s/it]\u001b[A\n",
      "450it [1:15:06, 71.22s/it]\u001b[A\n",
      "451it [1:15:20, 54.05s/it]\u001b[A\n",
      "452it [1:15:29, 40.47s/it]\u001b[A\n",
      "453it [1:15:39, 31.52s/it]\u001b[A\n",
      "454it [1:15:49, 24.91s/it]\u001b[A\n",
      "455it [1:16:01, 21.10s/it]\u001b[A\n",
      "456it [1:16:13, 18.37s/it]\u001b[A\n",
      "457it [1:16:24, 16.24s/it]\u001b[A\n",
      "458it [1:16:33, 14.04s/it]\u001b[A\n",
      "459it [1:16:44, 13.04s/it]\u001b[A\n",
      "460it [1:16:56, 12.66s/it]\u001b[A\n",
      "461it [1:17:04, 11.44s/it]\u001b[A\n",
      "462it [1:17:13, 10.57s/it]\u001b[A\n",
      "463it [1:17:21,  9.95s/it]\u001b[A\n",
      "464it [1:17:33, 10.37s/it]\u001b[A\n",
      "465it [1:17:47, 11.43s/it]\u001b[A\n",
      "466it [1:17:58, 11.50s/it]\u001b[A\n",
      "467it [1:18:10, 11.68s/it]\u001b[A\n",
      "468it [1:18:19, 10.85s/it]\u001b[A\n",
      "469it [1:18:31, 11.05s/it]\u001b[A\n",
      "470it [1:18:44, 11.68s/it]\u001b[A\n",
      "471it [1:18:53, 10.73s/it]\u001b[A\n",
      "472it [1:19:01, 10.03s/it]\u001b[A\n",
      "473it [1:19:12, 10.34s/it]\u001b[A\n",
      "474it [1:19:24, 10.72s/it]\u001b[A\n",
      "475it [1:19:35, 10.89s/it]\u001b[A\n",
      "476it [1:19:47, 11.33s/it]\u001b[A\n",
      "477it [1:19:56, 10.42s/it]\u001b[A\n",
      "478it [1:20:07, 10.67s/it]\u001b[A\n",
      "479it [1:20:20, 11.31s/it]\u001b[A\n",
      "480it [1:20:29, 10.65s/it]\u001b[A\n",
      "481it [1:20:41, 11.13s/it]\u001b[A\n",
      "482it [1:20:50, 10.53s/it]\u001b[A\n",
      "483it [1:20:59, 10.12s/it]\u001b[A\n",
      "484it [1:21:08,  9.69s/it]\u001b[A\n",
      "485it [1:21:20, 10.34s/it]\u001b[A\n",
      "486it [1:21:28,  9.78s/it]\u001b[A\n",
      "487it [1:21:38,  9.67s/it]\u001b[A\n",
      "488it [1:21:46,  9.33s/it]\u001b[A\n",
      "489it [1:22:00, 10.72s/it]\u001b[A\n",
      "490it [1:22:15, 11.86s/it]\u001b[A\n",
      "491it [1:22:24, 11.14s/it]\u001b[A\n",
      "492it [1:22:36, 11.33s/it]\u001b[A\n",
      "493it [1:22:49, 11.77s/it]\u001b[A\n",
      "494it [1:23:06, 13.36s/it]\u001b[A\n",
      "495it [1:23:14, 11.94s/it]\u001b[A\n",
      "496it [1:23:24, 11.14s/it]\u001b[A\n",
      "497it [1:23:33, 10.46s/it]\u001b[A\n",
      "498it [1:23:41,  9.87s/it]\u001b[A\n",
      "499it [1:23:50,  9.47s/it]\u001b[A\n",
      "500it [1:24:01,  9.93s/it]\u001b[A\n",
      "501it [1:24:17, 11.85s/it]\u001b[A\n",
      "502it [1:24:31, 12.65s/it]\u001b[A\n",
      "503it [1:24:48, 13.76s/it]\u001b[A\n",
      "504it [1:24:57, 12.30s/it]\u001b[A\n",
      "505it [1:25:06, 11.49s/it]\u001b[A\n",
      "506it [1:25:19, 11.86s/it]\u001b[A\n",
      "507it [1:25:32, 12.20s/it]\u001b[A\n",
      "508it [1:25:45, 12.50s/it]\u001b[A\n",
      "509it [1:25:59, 12.86s/it]\u001b[A\n",
      "510it [1:26:08, 11.63s/it]\u001b[A\n",
      "511it [1:26:23, 12.70s/it]\u001b[A\n",
      "512it [1:26:36, 12.94s/it]\u001b[A\n",
      "513it [1:26:45, 11.68s/it]\u001b[A\n",
      "514it [1:26:53, 10.65s/it]\u001b[A\n",
      "515it [1:27:07, 11.67s/it]\u001b[A\n",
      "516it [1:27:16, 10.75s/it]\u001b[A\n",
      "517it [1:27:28, 11.13s/it]\u001b[A\n",
      "518it [1:27:41, 11.62s/it]\u001b[A\n",
      "519it [1:27:56, 12.72s/it]\u001b[A\n",
      "520it [1:28:05, 11.64s/it]\u001b[A\n",
      "521it [1:28:18, 11.95s/it]\u001b[A\n",
      "522it [1:28:31, 12.26s/it]\u001b[A\n",
      "523it [1:28:44, 12.60s/it]\u001b[A\n",
      "524it [1:29:01, 13.92s/it]\u001b[A\n",
      "525it [1:29:10, 12.36s/it]\u001b[A\n",
      "526it [1:29:19, 11.46s/it]\u001b[A\n",
      "527it [1:29:32, 11.88s/it]\u001b[A\n",
      "528it [1:37:30, 151.68s/it]\u001b[A\n",
      "529it [1:37:40, 109.02s/it]\u001b[A\n",
      "530it [1:37:57, 81.66s/it] \u001b[A\n",
      "531it [1:38:12, 61.56s/it]\u001b[A\n",
      "532it [1:38:27, 47.55s/it]\u001b[A\n",
      "533it [1:38:40, 37.15s/it]\u001b[A\n",
      "534it [1:43:40, 116.11s/it]\u001b[A\n",
      "535it [1:43:49, 84.06s/it] \u001b[A\n",
      "536it [1:44:03, 63.03s/it]\u001b[A\n",
      "537it [1:44:12, 46.73s/it]\u001b[A\n",
      "538it [1:44:20, 35.16s/it]\u001b[A\n",
      "539it [1:44:30, 27.65s/it]\u001b[A\n",
      "540it [1:49:30, 109.37s/it]\u001b[A\n",
      "541it [1:49:44, 80.62s/it] \u001b[A\n",
      "542it [1:50:01, 61.52s/it]\u001b[A\n",
      "543it [1:50:13, 46.75s/it]\u001b[A\n",
      "544it [1:50:26, 36.70s/it]\u001b[A\n",
      "545it [1:50:34, 28.04s/it]\u001b[A\n",
      "546it [1:50:50, 24.37s/it]\u001b[A\n",
      "547it [1:51:00, 20.17s/it]\u001b[A\n",
      "548it [1:51:15, 18.48s/it]\u001b[A\n",
      "549it [1:51:30, 17.34s/it]\u001b[A\n",
      "550it [1:51:40, 15.31s/it]\u001b[A\n",
      "551it [1:51:50, 13.60s/it]\u001b[A\n",
      "552it [1:51:59, 12.19s/it]\u001b[A\n",
      "553it [1:52:08, 12.17s/it]\u001b[A\n"
     ]
    },
    {
     "name": "stdout",
     "output_type": "stream",
     "text": [
      "new_weather shape (25926, 11)\n"
     ]
    },
    {
     "name": "stderr",
     "output_type": "stream",
     "text": [
      "\r",
      "  7%|███████▌                                                                                                         | 1/15 [1:53:22<26:27:21, 6802.95s/it]"
     ]
    },
    {
     "name": "stdout",
     "output_type": "stream",
     "text": [
      "update weather data for  Khlong Hoi Khong\n",
      "updateing file: ../data/weather_cities/Khlong_Hoi_Khong.csv\n",
      "missing date 365\n"
     ]
    },
    {
     "name": "stderr",
     "output_type": "stream",
     "text": [
      "\n",
      "0it [00:00, ?it/s]\u001b[A\n",
      "1it [00:09,  9.39s/it]\u001b[A\n",
      "2it [00:18,  9.43s/it]\u001b[A\n",
      "3it [00:27,  9.18s/it]\u001b[A\n",
      "4it [00:36,  9.03s/it]\u001b[A\n",
      "5it [00:45,  9.20s/it]\u001b[A\n",
      "6it [00:54,  9.06s/it]\u001b[A\n",
      "7it [01:03,  8.94s/it]\u001b[A\n",
      "8it [01:11,  8.88s/it]\u001b[A\n",
      "9it [01:23,  9.84s/it]\u001b[A\n",
      "10it [01:33,  9.71s/it]\u001b[A\n",
      "11it [01:42,  9.44s/it]\u001b[A\n",
      "12it [01:50,  9.04s/it]\u001b[A\n",
      "13it [01:59,  9.01s/it]\u001b[A\n",
      "14it [02:09,  9.29s/it]\u001b[A\n",
      "15it [02:19,  9.52s/it]\u001b[A\n",
      "16it [02:28,  9.32s/it]\u001b[A\n",
      "17it [02:37,  9.32s/it]\u001b[A\n",
      "18it [02:45,  8.99s/it]\u001b[A\n",
      "19it [02:54,  8.87s/it]\u001b[A\n",
      "20it [03:02,  8.83s/it]\u001b[A\n",
      "21it [03:11,  8.84s/it]\u001b[A\n",
      "22it [03:20,  8.75s/it]\u001b[A\n",
      "23it [03:29,  8.90s/it]\u001b[A\n",
      "24it [03:39,  9.08s/it]\u001b[A\n",
      "25it [03:47,  8.81s/it]\u001b[A\n",
      "26it [03:55,  8.75s/it]\u001b[A\n",
      "27it [04:04,  8.79s/it]\u001b[A\n",
      "28it [04:13,  8.71s/it]\u001b[A\n",
      "29it [04:22,  8.82s/it]\u001b[A\n",
      "30it [04:31,  9.01s/it]\u001b[A\n",
      "31it [04:41,  9.09s/it]\u001b[A\n",
      "32it [04:50,  9.16s/it]\u001b[A\n",
      "33it [04:59,  9.26s/it]\u001b[A\n",
      "34it [05:08,  9.12s/it]\u001b[A\n",
      "35it [05:17,  9.03s/it]\u001b[A\n",
      "36it [05:26,  8.90s/it]\u001b[A\n",
      "37it [05:35,  8.92s/it]\u001b[A\n",
      "38it [05:44,  9.00s/it]\u001b[A\n",
      "39it [05:53,  9.07s/it]\u001b[A\n",
      "40it [06:03,  9.27s/it]\u001b[A\n",
      "41it [06:12,  9.27s/it]\u001b[A\n",
      "42it [06:21,  9.18s/it]\u001b[A\n",
      "43it [06:30,  9.04s/it]\u001b[A\n",
      "44it [06:39,  9.12s/it]\u001b[A\n",
      "45it [06:48,  9.04s/it]\u001b[A\n",
      "46it [06:56,  8.81s/it]\u001b[A\n",
      "47it [07:05,  8.69s/it]\u001b[A\n",
      "48it [07:13,  8.66s/it]\u001b[A\n",
      "49it [07:21,  8.48s/it]\u001b[A\n",
      "50it [07:30,  8.55s/it]\u001b[A\n",
      "51it [07:38,  8.48s/it]\u001b[A\n",
      "52it [07:47,  8.64s/it]\u001b[A\n",
      "53it [07:56,  8.63s/it]\u001b[A\n",
      "54it [08:04,  8.63s/it]\u001b[A\n",
      "55it [08:13,  8.63s/it]\u001b[A\n",
      "56it [08:22,  8.68s/it]\u001b[A\n",
      "57it [08:31,  8.69s/it]\u001b[A\n",
      "58it [08:41,  9.17s/it]\u001b[A\n",
      "59it [08:50,  9.21s/it]\u001b[A\n",
      "60it [08:59,  9.00s/it]\u001b[A\n",
      "61it [09:08,  9.02s/it]\u001b[A\n",
      "62it [09:16,  8.92s/it]\u001b[A\n",
      "63it [09:25,  8.65s/it]\u001b[A\n",
      "64it [09:33,  8.63s/it]\u001b[A\n",
      "65it [09:42,  8.83s/it]\u001b[A\n",
      "66it [09:52,  8.94s/it]\u001b[A\n",
      "67it [10:04, 10.10s/it]\u001b[A\n",
      "68it [10:13,  9.78s/it]\u001b[A\n",
      "69it [10:23,  9.75s/it]\u001b[A\n",
      "70it [10:32,  9.51s/it]\u001b[A\n",
      "71it [10:42,  9.55s/it]\u001b[A\n",
      "72it [10:51,  9.55s/it]\u001b[A\n",
      "73it [11:01,  9.52s/it]\u001b[A\n",
      "74it [11:11,  9.65s/it]\u001b[A\n",
      "75it [11:20,  9.56s/it]\u001b[A\n",
      "76it [11:29,  9.32s/it]\u001b[A\n",
      "77it [11:38,  9.24s/it]\u001b[A\n",
      "78it [11:47,  9.20s/it]\u001b[A\n",
      "79it [11:56,  9.21s/it]\u001b[A\n",
      "80it [12:06,  9.38s/it]\u001b[A\n",
      "81it [12:14,  9.10s/it]\u001b[A\n",
      "82it [12:23,  9.02s/it]\u001b[A\n",
      "83it [12:32,  9.09s/it]\u001b[A\n",
      "84it [12:41,  9.04s/it]\u001b[A\n",
      "85it [12:51,  9.33s/it]\u001b[A\n",
      "86it [13:00,  9.20s/it]\u001b[A\n",
      "87it [13:09,  9.04s/it]\u001b[A\n",
      "88it [13:18,  8.97s/it]\u001b[A\n",
      "89it [13:27,  9.00s/it]\u001b[A\n",
      "90it [13:36,  9.08s/it]\u001b[A\n",
      "91it [13:45,  8.99s/it]\u001b[A\n",
      "92it [13:55,  9.24s/it]\u001b[A\n",
      "93it [14:04,  9.25s/it]\u001b[A\n",
      "94it [14:13,  9.14s/it]\u001b[A\n",
      "95it [14:22,  9.23s/it]\u001b[A\n",
      "96it [14:32,  9.28s/it]\u001b[A\n",
      "97it [14:41,  9.33s/it]\u001b[A\n",
      "98it [14:52,  9.80s/it]\u001b[A\n",
      "99it [15:01,  9.46s/it]\u001b[A\n",
      "100it [15:10,  9.30s/it]\u001b[A\n",
      "101it [15:20,  9.61s/it]\u001b[A\n",
      "102it [15:29,  9.42s/it]\u001b[A\n",
      "103it [15:38,  9.32s/it]\u001b[A\n",
      "104it [15:47,  9.28s/it]\u001b[A\n",
      "105it [15:57,  9.42s/it]\u001b[A\n",
      "106it [16:06,  9.29s/it]\u001b[A\n",
      "107it [16:15,  9.08s/it]\u001b[A\n",
      "108it [16:24,  9.18s/it]\u001b[A\n",
      "109it [16:34,  9.31s/it]\u001b[A\n",
      "110it [16:42,  9.02s/it]\u001b[A\n",
      "111it [16:51,  8.97s/it]\u001b[A\n",
      "112it [17:00,  8.99s/it]\u001b[A\n",
      "113it [17:09,  9.12s/it]\u001b[A\n",
      "114it [17:18,  8.95s/it]\u001b[A\n",
      "115it [17:26,  8.84s/it]\u001b[A\n",
      "116it [17:35,  8.86s/it]\u001b[A\n",
      "117it [17:45,  9.18s/it]\u001b[A\n",
      "118it [17:55,  9.45s/it]\u001b[A\n",
      "119it [18:04,  9.16s/it]\u001b[A\n",
      "120it [18:12,  8.92s/it]\u001b[A\n",
      "121it [18:21,  8.99s/it]\u001b[A\n",
      "122it [18:30,  8.88s/it]\u001b[A\n",
      "123it [18:39,  9.06s/it]\u001b[A\n",
      "124it [18:48,  9.03s/it]\u001b[A\n",
      "125it [18:58,  9.17s/it]\u001b[A\n",
      "126it [19:09,  9.65s/it]\u001b[A\n",
      "127it [19:20, 10.04s/it]\u001b[A\n",
      "128it [19:32, 10.80s/it]\u001b[A\n",
      "129it [19:42, 10.53s/it]\u001b[A\n",
      "130it [19:51, 10.06s/it]\u001b[A\n",
      "131it [20:00,  9.74s/it]\u001b[A\n",
      "132it [20:09,  9.61s/it]\u001b[A\n",
      "133it [20:19,  9.71s/it]\u001b[A\n",
      "134it [20:28,  9.56s/it]\u001b[A\n",
      "135it [20:37,  9.28s/it]\u001b[A\n",
      "136it [20:47,  9.39s/it]\u001b[A\n",
      "137it [20:57,  9.56s/it]\u001b[A\n",
      "138it [21:06,  9.37s/it]\u001b[A\n",
      "139it [21:15,  9.28s/it]\u001b[A\n",
      "140it [21:24,  9.33s/it]\u001b[A\n",
      "141it [21:33,  9.22s/it]\u001b[A\n",
      "142it [21:43,  9.42s/it]\u001b[A\n",
      "143it [21:51,  9.16s/it]\u001b[A\n",
      "144it [22:00,  9.03s/it]\u001b[A\n",
      "145it [22:10,  9.35s/it]\u001b[A\n",
      "146it [22:19,  9.24s/it]\u001b[A\n",
      "147it [22:28,  9.09s/it]\u001b[A\n",
      "148it [22:38,  9.27s/it]\u001b[A\n",
      "149it [22:46,  9.07s/it]\u001b[A\n",
      "150it [22:55,  9.02s/it]\u001b[A\n",
      "151it [23:05,  9.38s/it]\u001b[A\n",
      "152it [23:15,  9.41s/it]\u001b[A\n",
      "153it [23:24,  9.21s/it]\u001b[A\n",
      "154it [23:33,  9.17s/it]\u001b[A\n",
      "155it [23:42,  9.32s/it]\u001b[A\n",
      "156it [23:52,  9.32s/it]\u001b[A\n",
      "157it [24:02,  9.57s/it]\u001b[A\n",
      "158it [24:11,  9.30s/it]\u001b[A\n",
      "159it [24:19,  9.16s/it]\u001b[A\n",
      "160it [24:29,  9.26s/it]\u001b[A\n",
      "161it [24:39,  9.55s/it]\u001b[A\n",
      "162it [24:49,  9.59s/it]\u001b[A\n",
      "163it [24:58,  9.50s/it]\u001b[A\n",
      "164it [25:07,  9.39s/it]\u001b[A\n",
      "165it [25:16,  9.35s/it]\u001b[A\n",
      "166it [25:26,  9.31s/it]\u001b[A\n",
      "167it [25:35,  9.20s/it]\u001b[A\n",
      "168it [25:43,  9.09s/it]\u001b[A\n",
      "169it [25:53,  9.14s/it]\u001b[A\n",
      "170it [26:03,  9.44s/it]\u001b[A\n",
      "171it [26:12,  9.28s/it]\u001b[A\n",
      "172it [26:21,  9.26s/it]\u001b[A\n",
      "173it [26:30,  9.21s/it]\u001b[A\n",
      "174it [26:39,  9.10s/it]\u001b[A\n",
      "175it [26:48,  9.23s/it]\u001b[A\n",
      "176it [26:57,  9.11s/it]\u001b[A\n",
      "177it [27:06,  9.03s/it]\u001b[A\n",
      "178it [27:15,  9.00s/it]\u001b[A\n",
      "179it [27:24,  8.94s/it]\u001b[A\n",
      "180it [27:34,  9.40s/it]\u001b[A\n",
      "181it [27:44,  9.36s/it]\u001b[A\n",
      "182it [27:52,  9.22s/it]\u001b[A\n",
      "183it [28:01,  9.10s/it]\u001b[A\n",
      "184it [28:10,  9.02s/it]\u001b[A\n",
      "185it [28:19,  9.07s/it]\u001b[A\n",
      "186it [28:28,  9.01s/it]\u001b[A\n",
      "187it [28:38,  9.14s/it]\u001b[A\n",
      "188it [28:47,  9.22s/it]\u001b[A\n",
      "189it [28:57,  9.50s/it]\u001b[A\n",
      "190it [29:07,  9.69s/it]\u001b[A\n",
      "191it [29:17,  9.57s/it]\u001b[A\n",
      "192it [29:26,  9.36s/it]\u001b[A\n",
      "193it [29:35,  9.39s/it]\u001b[A\n",
      "194it [29:44,  9.43s/it]\u001b[A\n",
      "195it [29:53,  9.12s/it]\u001b[A\n",
      "196it [30:02,  9.17s/it]\u001b[A\n",
      "197it [30:11,  9.08s/it]\u001b[A\n",
      "198it [30:19,  8.82s/it]\u001b[A\n",
      "199it [30:28,  8.79s/it]\u001b[A\n",
      "200it [30:37,  8.84s/it]\u001b[A\n",
      "201it [30:46,  8.80s/it]\u001b[A\n",
      "202it [30:54,  8.78s/it]\u001b[A\n",
      "203it [31:03,  8.73s/it]\u001b[A\n",
      "204it [31:12,  8.83s/it]\u001b[A\n",
      "205it [31:21,  8.92s/it]\u001b[A\n",
      "206it [31:30,  8.83s/it]\u001b[A\n",
      "207it [31:38,  8.71s/it]\u001b[A\n",
      "208it [31:47,  8.75s/it]\u001b[A\n",
      "209it [31:56,  8.89s/it]\u001b[A\n",
      "210it [32:05,  8.84s/it]\u001b[A\n",
      "211it [32:14,  8.82s/it]\u001b[A\n",
      "212it [32:24,  9.37s/it]\u001b[A\n",
      "213it [32:33,  9.20s/it]\u001b[A\n",
      "214it [32:43,  9.29s/it]\u001b[A\n",
      "215it [32:54,  9.94s/it]\u001b[A\n",
      "216it [33:03,  9.55s/it]\u001b[A\n",
      "217it [33:11,  9.25s/it]\u001b[A\n",
      "218it [33:20,  9.12s/it]\u001b[A\n",
      "219it [33:29,  9.10s/it]\u001b[A\n",
      "220it [33:39,  9.16s/it]\u001b[A\n",
      "221it [33:49,  9.40s/it]\u001b[A\n",
      "222it [33:57,  9.24s/it]\u001b[A\n",
      "223it [34:06,  9.08s/it]\u001b[A\n",
      "224it [34:15,  9.12s/it]\u001b[A\n",
      "225it [34:25,  9.21s/it]\u001b[A\n",
      "226it [34:34,  9.13s/it]\u001b[A\n",
      "227it [34:43,  9.27s/it]\u001b[A\n",
      "228it [34:53,  9.33s/it]\u001b[A\n",
      "229it [35:02,  9.25s/it]\u001b[A\n",
      "230it [35:11,  9.12s/it]\u001b[A\n",
      "231it [35:20,  9.08s/it]\u001b[A\n",
      "232it [35:29,  9.08s/it]\u001b[A\n",
      "233it [35:38,  9.23s/it]\u001b[A\n",
      "234it [35:48,  9.52s/it]\u001b[A\n",
      "235it [35:58,  9.42s/it]\u001b[A\n",
      "236it [36:07,  9.43s/it]\u001b[A\n",
      "237it [36:16,  9.15s/it]\u001b[A\n",
      "238it [36:25,  9.12s/it]\u001b[A\n",
      "239it [36:34,  9.11s/it]\u001b[A\n",
      "240it [36:43,  9.17s/it]\u001b[A\n",
      "241it [36:52,  9.14s/it]\u001b[A\n",
      "242it [37:01,  9.06s/it]\u001b[A\n",
      "243it [37:10,  9.04s/it]\u001b[A\n",
      "244it [37:19,  8.99s/it]\u001b[A\n",
      "245it [37:27,  8.86s/it]\u001b[A\n",
      "246it [37:37,  9.09s/it]\u001b[A\n",
      "247it [37:47,  9.21s/it]\u001b[A\n",
      "248it [37:56,  9.32s/it]\u001b[A\n",
      "249it [38:06,  9.44s/it]\u001b[A\n",
      "250it [38:14,  9.16s/it]\u001b[A\n",
      "251it [38:23,  9.01s/it]\u001b[A\n",
      "252it [38:31,  8.81s/it]\u001b[A\n",
      "253it [38:41,  9.08s/it]\u001b[A\n",
      "254it [38:50,  8.96s/it]\u001b[A\n",
      "255it [38:59,  9.01s/it]\u001b[A\n",
      "256it [39:08,  9.05s/it]\u001b[A\n",
      "257it [39:17,  8.90s/it]\u001b[A\n",
      "258it [39:26,  9.03s/it]\u001b[A\n",
      "259it [39:35,  9.05s/it]\u001b[A\n",
      "260it [39:44,  8.90s/it]\u001b[A\n",
      "261it [39:53,  8.96s/it]\u001b[A\n",
      "262it [40:01,  8.86s/it]\u001b[A\n",
      "263it [40:10,  8.89s/it]\u001b[A\n",
      "264it [40:19,  8.86s/it]\u001b[A\n",
      "265it [40:28,  8.92s/it]\u001b[A\n",
      "266it [40:38,  9.09s/it]\u001b[A\n",
      "267it [40:47,  9.22s/it]\u001b[A\n",
      "268it [40:56,  9.12s/it]\u001b[A\n",
      "269it [41:05,  9.14s/it]\u001b[A\n",
      "270it [41:14,  9.20s/it]\u001b[A\n",
      "271it [41:23,  9.06s/it]\u001b[A\n",
      "272it [41:32,  8.88s/it]\u001b[A\n",
      "273it [41:41,  8.97s/it]\u001b[A\n",
      "274it [41:50,  9.00s/it]\u001b[A\n",
      "275it [41:58,  8.74s/it]\u001b[A\n",
      "276it [42:07,  8.69s/it]\u001b[A\n",
      "277it [42:16,  8.82s/it]\u001b[A\n",
      "278it [42:24,  8.79s/it]\u001b[A\n",
      "279it [42:33,  8.86s/it]\u001b[A\n",
      "280it [42:43,  9.03s/it]\u001b[A\n",
      "281it [42:53,  9.32s/it]\u001b[A\n",
      "282it [43:03,  9.48s/it]\u001b[A\n",
      "283it [43:12,  9.30s/it]\u001b[A\n",
      "284it [43:20,  9.06s/it]\u001b[A\n",
      "285it [43:29,  9.06s/it]\u001b[A\n",
      "286it [43:38,  8.86s/it]\u001b[A\n",
      "287it [43:47,  8.96s/it]\u001b[A\n",
      "288it [43:56,  8.90s/it]\u001b[A\n",
      "289it [44:05,  8.99s/it]\u001b[A\n",
      "290it [44:14,  9.13s/it]\u001b[A\n",
      "291it [44:23,  9.05s/it]\u001b[A\n",
      "292it [44:32,  8.94s/it]\u001b[A\n",
      "293it [44:41,  9.05s/it]\u001b[A\n",
      "294it [44:50,  9.04s/it]\u001b[A\n",
      "295it [44:59,  8.98s/it]\u001b[A\n",
      "296it [45:07,  8.81s/it]\u001b[A\n",
      "297it [45:17,  9.02s/it]\u001b[A\n",
      "298it [45:26,  8.99s/it]\u001b[A\n",
      "299it [45:34,  8.80s/it]\u001b[A\n",
      "300it [45:43,  8.93s/it]\u001b[A\n",
      "301it [45:52,  9.00s/it]\u001b[A\n",
      "302it [46:01,  8.90s/it]\u001b[A\n",
      "303it [46:10,  8.93s/it]\u001b[A\n",
      "304it [46:19,  9.00s/it]\u001b[A\n",
      "305it [46:29,  9.12s/it]\u001b[A\n",
      "306it [46:38,  9.15s/it]\u001b[A\n",
      "307it [46:47,  9.16s/it]\u001b[A\n",
      "308it [46:56,  9.12s/it]\u001b[A\n",
      "309it [47:06,  9.26s/it]\u001b[A\n",
      "310it [47:15,  9.31s/it]\u001b[A\n",
      "311it [47:24,  9.30s/it]\u001b[A\n",
      "312it [47:34,  9.26s/it]\u001b[A\n",
      "313it [47:43,  9.34s/it]\u001b[A\n",
      "314it [47:52,  9.13s/it]\u001b[A\n",
      "315it [48:00,  8.93s/it]\u001b[A\n",
      "316it [48:09,  8.96s/it]\u001b[A\n",
      "317it [48:19,  9.07s/it]\u001b[A\n",
      "318it [48:27,  8.82s/it]\u001b[A\n",
      "319it [48:36,  8.94s/it]\u001b[A\n",
      "320it [48:45,  8.95s/it]\u001b[A\n",
      "321it [48:54,  9.11s/it]\u001b[A\n",
      "322it [49:03,  9.00s/it]\u001b[A\n",
      "323it [49:12,  8.97s/it]\u001b[A\n",
      "324it [49:21,  8.92s/it]\u001b[A\n",
      "325it [49:31,  9.26s/it]\u001b[A\n",
      "326it [49:40,  9.18s/it]\u001b[A\n",
      "327it [49:49,  9.02s/it]\u001b[A\n",
      "328it [49:57,  8.82s/it]\u001b[A\n",
      "329it [50:06,  8.80s/it]\u001b[A\n",
      "330it [50:14,  8.73s/it]\u001b[A\n",
      "331it [50:23,  8.71s/it]\u001b[A\n",
      "332it [50:32,  8.90s/it]\u001b[A\n",
      "333it [50:42,  9.02s/it]\u001b[A\n",
      "334it [50:52,  9.29s/it]\u001b[A\n",
      "335it [51:01,  9.42s/it]\u001b[A\n",
      "336it [51:10,  9.28s/it]\u001b[A\n",
      "337it [51:19,  9.19s/it]\u001b[A\n",
      "338it [51:28,  9.21s/it]\u001b[A\n",
      "339it [51:38,  9.24s/it]\u001b[A\n",
      "340it [51:48,  9.58s/it]\u001b[A\n",
      "341it [51:57,  9.29s/it]\u001b[A\n",
      "342it [52:06,  9.15s/it]\u001b[A\n",
      "343it [52:14,  9.05s/it]\u001b[A\n",
      "344it [52:23,  9.03s/it]\u001b[A\n",
      "345it [52:32,  9.02s/it]\u001b[A\n",
      "346it [52:42,  9.26s/it]\u001b[A\n",
      "347it [52:51,  9.16s/it]\u001b[A\n",
      "348it [53:01,  9.50s/it]\u001b[A\n",
      "349it [53:11,  9.39s/it]\u001b[A\n",
      "350it [53:21,  9.59s/it]\u001b[A\n",
      "351it [53:30,  9.47s/it]\u001b[A\n",
      "352it [53:39,  9.49s/it]\u001b[A\n",
      "353it [53:48,  9.17s/it]\u001b[A\n",
      "354it [53:57,  9.05s/it]\u001b[A\n",
      "355it [54:06,  9.05s/it]\u001b[A\n",
      "356it [54:14,  8.91s/it]\u001b[A\n",
      "357it [54:24,  9.10s/it]\u001b[A\n",
      "358it [54:32,  8.98s/it]\u001b[A\n",
      "359it [54:41,  9.00s/it]\u001b[A\n",
      "360it [54:50,  8.99s/it]\u001b[A\n",
      "361it [54:59,  8.90s/it]\u001b[A\n",
      "362it [55:08,  8.91s/it]\u001b[A\n",
      "363it [55:18,  9.20s/it]\u001b[A\n",
      "364it [55:27,  9.14s/it]\u001b[A\n",
      "365it [55:36,  9.14s/it]\u001b[A\n"
     ]
    },
    {
     "name": "stdout",
     "output_type": "stream",
     "text": [
      "new_weather shape (17308, 11)\n"
     ]
    },
    {
     "name": "stderr",
     "output_type": "stream",
     "text": [
      "\r",
      " 13%|███████████████                                                                                                  | 2/15 [2:49:41<20:51:23, 5775.65s/it]"
     ]
    },
    {
     "name": "stdout",
     "output_type": "stream",
     "text": [
      "update weather data for  Khlong Hoi Khong\n",
      "updateing file: ../data/weather_cities/Khlong_Hoi_Khong.csv\n",
      "missing date 365\n"
     ]
    },
    {
     "name": "stderr",
     "output_type": "stream",
     "text": [
      "\n",
      "0it [00:00, ?it/s]\u001b[A\n",
      "1it [00:09,  9.11s/it]\u001b[A\n",
      "2it [00:19,  9.46s/it]\u001b[A\n",
      "3it [00:28,  9.32s/it]\u001b[A\n",
      "4it [00:37,  9.19s/it]\u001b[A\n",
      "5it [00:46,  9.18s/it]\u001b[A\n",
      "6it [00:54,  8.94s/it]\u001b[A\n",
      "7it [01:03,  8.78s/it]\u001b[A\n",
      "8it [01:12,  8.84s/it]\u001b[A\n",
      "9it [01:20,  8.77s/it]\u001b[A\n",
      "10it [01:29,  8.78s/it]\u001b[A\n",
      "11it [01:38,  8.73s/it]\u001b[A\n",
      "12it [01:47,  8.79s/it]\u001b[A\n",
      "13it [01:55,  8.79s/it]\u001b[A\n",
      "14it [02:05,  8.91s/it]\u001b[A\n",
      "15it [02:20, 10.80s/it]\u001b[A\n",
      "16it [02:30, 10.50s/it]\u001b[A\n",
      "17it [02:40, 10.48s/it]\u001b[A\n",
      "18it [02:50, 10.34s/it]\u001b[A\n",
      "19it [02:59,  9.97s/it]\u001b[A\n",
      "20it [03:09,  9.78s/it]\u001b[A\n",
      "21it [03:18,  9.68s/it]\u001b[A\n",
      "22it [03:27,  9.40s/it]\u001b[A\n",
      "23it [03:36,  9.36s/it]\u001b[A\n",
      "24it [03:45,  9.20s/it]\u001b[A\n",
      "25it [03:54,  9.24s/it]\u001b[A\n",
      "26it [04:03,  9.24s/it]\u001b[A\n",
      "27it [04:12,  9.06s/it]\u001b[A\n",
      "28it [04:21,  9.04s/it]\u001b[A\n",
      "29it [04:30,  9.04s/it]\u001b[A\n",
      "30it [04:39,  9.06s/it]\u001b[A\n",
      "31it [04:48,  8.95s/it]\u001b[A\n",
      "32it [04:57,  8.88s/it]\u001b[A\n",
      "33it [05:06,  8.97s/it]\u001b[A\n",
      "34it [05:16,  9.41s/it]\u001b[A\n",
      "35it [05:25,  9.23s/it]\u001b[A\n",
      "36it [05:34,  9.07s/it]\u001b[A\n",
      "37it [05:44,  9.33s/it]\u001b[A\n",
      "38it [05:53,  9.32s/it]\u001b[A\n",
      "39it [06:02,  9.34s/it]\u001b[A\n",
      "40it [06:11,  9.22s/it]\u001b[A\n",
      "41it [06:20,  9.07s/it]\u001b[A\n",
      "42it [06:29,  9.19s/it]\u001b[A\n",
      "43it [06:39,  9.43s/it]\u001b[A\n",
      "44it [06:49,  9.35s/it]\u001b[A\n",
      "45it [06:59,  9.54s/it]\u001b[A\n",
      "46it [07:08,  9.49s/it]\u001b[A\n",
      "47it [07:17,  9.45s/it]\u001b[A\n",
      "48it [07:27,  9.51s/it]\u001b[A\n",
      "49it [07:37,  9.80s/it]\u001b[A\n",
      "50it [07:47,  9.84s/it]\u001b[A\n",
      "51it [07:56,  9.60s/it]\u001b[A\n",
      "52it [08:05,  9.35s/it]\u001b[A\n",
      "53it [08:15,  9.54s/it]\u001b[A\n",
      "54it [08:24,  9.28s/it]\u001b[A\n",
      "55it [08:33,  9.09s/it]\u001b[A\n",
      "56it [08:42,  9.10s/it]\u001b[A\n",
      "57it [08:50,  8.98s/it]\u001b[A\n",
      "58it [09:00,  9.23s/it]\u001b[A\n",
      "59it [09:09,  9.24s/it]\u001b[A\n",
      "60it [09:18,  9.12s/it]\u001b[A\n",
      "61it [09:26,  8.85s/it]\u001b[A\n",
      "62it [09:36,  9.03s/it]\u001b[A\n",
      "63it [09:46,  9.27s/it]\u001b[A\n",
      "64it [09:54,  9.06s/it]\u001b[A\n",
      "65it [10:04,  9.32s/it]\u001b[A\n",
      "66it [10:13,  9.04s/it]\u001b[A\n",
      "67it [10:22,  9.23s/it]\u001b[A\n",
      "68it [10:31,  9.08s/it]\u001b[A\n",
      "69it [10:40,  9.03s/it]\u001b[A\n",
      "70it [10:49,  9.08s/it]\u001b[A\n",
      "71it [10:58,  9.03s/it]\u001b[A\n",
      "72it [11:07,  8.97s/it]\u001b[A\n",
      "73it [11:16,  8.94s/it]\u001b[A\n",
      "74it [11:24,  8.81s/it]\u001b[A\n",
      "75it [11:33,  8.72s/it]\u001b[A\n",
      "76it [11:41,  8.68s/it]\u001b[A\n",
      "77it [11:51,  8.88s/it]\u001b[A\n",
      "78it [11:59,  8.73s/it]\u001b[A\n",
      "79it [12:08,  8.86s/it]\u001b[A\n",
      "80it [12:18,  9.03s/it]\u001b[A\n",
      "81it [12:26,  8.84s/it]\u001b[A\n",
      "82it [12:34,  8.67s/it]\u001b[A\n",
      "83it [12:43,  8.66s/it]\u001b[A\n",
      "84it [12:52,  8.68s/it]\u001b[A\n",
      "85it [13:01,  8.87s/it]\u001b[A\n",
      "86it [13:10,  8.89s/it]\u001b[A\n",
      "87it [13:19,  8.89s/it]\u001b[A\n",
      "88it [13:28,  8.87s/it]\u001b[A\n",
      "89it [13:37,  8.88s/it]\u001b[A\n",
      "90it [13:45,  8.73s/it]\u001b[A\n",
      "91it [13:54,  8.91s/it]\u001b[A\n",
      "92it [14:04,  9.30s/it]\u001b[A\n",
      "93it [14:15,  9.55s/it]\u001b[A\n",
      "94it [14:24,  9.53s/it]\u001b[A\n",
      "95it [14:33,  9.39s/it]\u001b[A\n",
      "96it [14:42,  9.14s/it]\u001b[A\n",
      "97it [14:52,  9.42s/it]\u001b[A\n",
      "98it [15:02,  9.57s/it]\u001b[A\n",
      "99it [15:12,  9.67s/it]\u001b[A\n",
      "100it [15:20,  9.41s/it]\u001b[A\n",
      "101it [15:29,  9.16s/it]\u001b[A\n",
      "102it [15:37,  8.96s/it]\u001b[A\n",
      "103it [15:46,  8.94s/it]\u001b[A\n",
      "104it [15:56,  9.12s/it]\u001b[A\n",
      "105it [16:04,  8.94s/it]\u001b[A\n",
      "106it [16:13,  8.69s/it]\u001b[A\n",
      "107it [16:21,  8.62s/it]\u001b[A\n",
      "108it [16:30,  8.65s/it]\u001b[A\n",
      "109it [16:42,  9.60s/it]\u001b[A\n",
      "110it [16:51,  9.56s/it]\u001b[A\n",
      "111it [17:01,  9.58s/it]\u001b[A\n",
      "112it [17:10,  9.45s/it]\u001b[A\n",
      "113it [17:19,  9.46s/it]\u001b[A\n",
      "114it [17:29,  9.67s/it]\u001b[A\n",
      "115it [17:38,  9.49s/it]\u001b[A\n",
      "116it [17:48,  9.59s/it]\u001b[A\n",
      "117it [17:58,  9.61s/it]\u001b[A\n",
      "118it [18:08,  9.71s/it]\u001b[A\n",
      "119it [18:17,  9.49s/it]\u001b[A\n",
      "120it [18:27,  9.63s/it]\u001b[A\n",
      "121it [18:36,  9.63s/it]\u001b[A\n",
      "122it [18:45,  9.39s/it]\u001b[A\n",
      "123it [18:55,  9.37s/it]\u001b[A\n",
      "124it [19:03,  9.01s/it]\u001b[A\n",
      "125it [19:12,  9.06s/it]\u001b[A\n",
      "126it [19:21,  9.10s/it]\u001b[A\n",
      "127it [19:31,  9.20s/it]\u001b[A\n",
      "128it [19:40,  9.37s/it]\u001b[A\n",
      "129it [19:50,  9.39s/it]\u001b[A\n",
      "130it [19:59,  9.44s/it]\u001b[A\n",
      "131it [20:09,  9.50s/it]\u001b[A\n",
      "132it [20:18,  9.36s/it]\u001b[A\n",
      "133it [20:26,  8.98s/it]\u001b[A\n",
      "134it [20:35,  8.93s/it]\u001b[A\n",
      "135it [20:43,  8.78s/it]\u001b[A\n",
      "136it [20:52,  8.84s/it]\u001b[A\n",
      "137it [21:01,  8.76s/it]\u001b[A\n",
      "138it [21:10,  8.76s/it]\u001b[A\n",
      "139it [21:18,  8.66s/it]\u001b[A\n",
      "140it [21:28,  9.00s/it]\u001b[A\n",
      "141it [21:36,  8.73s/it]\u001b[A\n",
      "142it [21:44,  8.66s/it]\u001b[A\n",
      "143it [21:53,  8.68s/it]\u001b[A\n",
      "144it [22:02,  8.77s/it]\u001b[A\n",
      "145it [22:11,  8.91s/it]\u001b[A\n",
      "146it [22:20,  8.83s/it]\u001b[A\n",
      "147it [22:29,  8.78s/it]\u001b[A\n",
      "148it [22:38,  8.84s/it]\u001b[A\n",
      "149it [22:47,  8.85s/it]\u001b[A\n",
      "150it [22:56,  8.90s/it]\u001b[A\n",
      "151it [23:05,  9.12s/it]\u001b[A\n",
      "152it [23:14,  9.08s/it]\u001b[A\n",
      "153it [23:23,  9.05s/it]\u001b[A\n",
      "154it [23:32,  8.97s/it]\u001b[A\n",
      "155it [23:41,  8.93s/it]\u001b[A\n",
      "156it [23:50,  8.89s/it]\u001b[A\n",
      "157it [23:58,  8.87s/it]\u001b[A\n",
      "158it [24:08,  9.03s/it]\u001b[A\n",
      "159it [24:17,  8.96s/it]\u001b[A\n",
      "160it [24:26,  9.20s/it]\u001b[A\n",
      "161it [24:35,  9.03s/it]\u001b[A\n",
      "162it [24:44,  9.02s/it]\u001b[A\n",
      "163it [24:53,  8.95s/it]\u001b[A\n",
      "164it [25:01,  8.70s/it]\u001b[A\n",
      "165it [25:10,  8.76s/it]\u001b[A\n",
      "166it [25:19,  8.86s/it]\u001b[A\n",
      "167it [25:27,  8.70s/it]\u001b[A\n",
      "168it [25:36,  8.78s/it]\u001b[A\n",
      "169it [25:46,  8.96s/it]\u001b[A\n",
      "170it [25:54,  8.81s/it]\u001b[A\n",
      "171it [26:03,  8.71s/it]\u001b[A\n",
      "172it [26:12,  9.04s/it]\u001b[A\n",
      "173it [26:21,  8.92s/it]\u001b[A\n",
      "174it [26:30,  9.00s/it]\u001b[A\n",
      "175it [26:39,  9.03s/it]\u001b[A\n",
      "176it [26:49,  9.26s/it]\u001b[A\n",
      "177it [26:58,  9.06s/it]\u001b[A\n",
      "178it [27:06,  8.88s/it]\u001b[A\n",
      "179it [27:15,  8.85s/it]\u001b[A\n",
      "180it [27:24,  8.92s/it]\u001b[A\n",
      "181it [27:33,  8.84s/it]\u001b[A\n",
      "182it [27:41,  8.78s/it]\u001b[A\n",
      "183it [27:50,  8.88s/it]\u001b[A\n",
      "184it [28:00,  9.18s/it]\u001b[A\n",
      "185it [28:09,  9.02s/it]\u001b[A\n",
      "186it [28:18,  8.99s/it]\u001b[A\n",
      "187it [28:26,  8.81s/it]\u001b[A\n",
      "188it [28:35,  8.77s/it]\u001b[A\n",
      "189it [28:43,  8.49s/it]\u001b[A\n",
      "190it [28:52,  8.67s/it]\u001b[A\n",
      "191it [29:01,  8.94s/it]\u001b[A\n",
      "192it [29:11,  9.03s/it]\u001b[A\n",
      "193it [29:19,  8.87s/it]\u001b[A\n",
      "194it [29:28,  8.98s/it]\u001b[A\n",
      "195it [29:38,  9.06s/it]\u001b[A\n",
      "196it [29:46,  8.87s/it]\u001b[A\n",
      "197it [29:55,  8.83s/it]\u001b[A\n",
      "198it [30:05,  9.14s/it]\u001b[A\n",
      "199it [30:13,  9.03s/it]\u001b[A\n",
      "200it [30:22,  8.81s/it]\u001b[A\n",
      "201it [30:30,  8.67s/it]\u001b[A\n",
      "202it [30:39,  8.70s/it]\u001b[A\n",
      "203it [30:47,  8.66s/it]\u001b[A\n",
      "204it [30:56,  8.64s/it]\u001b[A\n",
      "205it [31:05,  8.60s/it]\u001b[A\n",
      "206it [31:14,  8.90s/it]\u001b[A\n",
      "207it [31:23,  8.90s/it]\u001b[A\n",
      "208it [31:32,  9.02s/it]\u001b[A\n",
      "209it [31:41,  8.78s/it]\u001b[A\n",
      "210it [31:49,  8.76s/it]\u001b[A\n",
      "211it [31:58,  8.68s/it]\u001b[A\n",
      "212it [32:07,  8.73s/it]\u001b[A\n",
      "213it [32:15,  8.74s/it]\u001b[A\n",
      "214it [32:25,  8.95s/it]\u001b[A\n",
      "215it [32:34,  9.02s/it]\u001b[A\n",
      "216it [32:43,  9.06s/it]\u001b[A\n",
      "217it [32:52,  9.12s/it]\u001b[A\n",
      "218it [33:01,  9.05s/it]\u001b[A\n",
      "219it [33:10,  9.04s/it]\u001b[A\n",
      "220it [33:20,  9.19s/it]\u001b[A\n",
      "221it [33:29,  9.12s/it]\u001b[A\n",
      "222it [33:38,  9.08s/it]\u001b[A\n",
      "223it [33:47,  9.09s/it]\u001b[A\n",
      "224it [33:56,  9.03s/it]\u001b[A\n",
      "225it [34:04,  8.77s/it]\u001b[A\n",
      "226it [34:12,  8.65s/it]\u001b[A\n",
      "227it [34:21,  8.72s/it]\u001b[A\n",
      "228it [34:30,  8.64s/it]\u001b[A\n",
      "229it [34:38,  8.69s/it]\u001b[A\n",
      "230it [34:48,  8.98s/it]\u001b[A\n",
      "231it [34:57,  8.83s/it]\u001b[A\n",
      "232it [35:05,  8.68s/it]\u001b[A\n",
      "233it [35:14,  8.72s/it]\u001b[A\n",
      "234it [35:22,  8.72s/it]\u001b[A\n",
      "235it [35:30,  8.46s/it]\u001b[A\n",
      "236it [35:38,  8.30s/it]\u001b[A\n",
      "237it [35:47,  8.39s/it]\u001b[A\n",
      "238it [35:55,  8.34s/it]\u001b[A\n",
      "239it [36:03,  8.37s/it]\u001b[A\n",
      "240it [36:13,  8.58s/it]\u001b[A\n",
      "241it [36:21,  8.62s/it]\u001b[A\n",
      "242it [36:30,  8.60s/it]\u001b[A\n",
      "243it [36:38,  8.57s/it]\u001b[A\n",
      "244it [36:47,  8.55s/it]\u001b[A\n",
      "245it [36:59,  9.49s/it]\u001b[A\n",
      "246it [37:07,  9.21s/it]\u001b[A\n",
      "247it [37:15,  8.96s/it]\u001b[A\n",
      "248it [37:24,  8.87s/it]\u001b[A\n",
      "249it [37:33,  8.92s/it]\u001b[A\n",
      "250it [37:42,  8.87s/it]\u001b[A\n",
      "251it [37:51,  8.92s/it]\u001b[A\n",
      "252it [38:00,  8.82s/it]\u001b[A\n",
      "253it [38:09,  8.91s/it]\u001b[A\n",
      "254it [38:18,  9.07s/it]\u001b[A\n",
      "255it [38:27,  9.08s/it]\u001b[A\n",
      "256it [38:36,  9.08s/it]\u001b[A\n",
      "257it [38:45,  8.94s/it]\u001b[A\n",
      "258it [38:54,  8.93s/it]\u001b[A\n",
      "259it [39:02,  8.82s/it]\u001b[A\n",
      "260it [39:11,  8.92s/it]\u001b[A\n",
      "261it [39:21,  9.21s/it]\u001b[A\n",
      "262it [39:30,  9.16s/it]\u001b[A\n",
      "263it [39:40,  9.33s/it]\u001b[A\n",
      "264it [39:49,  9.18s/it]\u001b[A\n",
      "265it [39:58,  9.08s/it]\u001b[A\n",
      "266it [40:06,  8.80s/it]\u001b[A\n",
      "267it [40:14,  8.65s/it]\u001b[A\n",
      "268it [40:23,  8.70s/it]\u001b[A\n",
      "269it [40:31,  8.48s/it]\u001b[A\n",
      "270it [40:40,  8.59s/it]\u001b[A\n",
      "271it [40:49,  8.64s/it]\u001b[A\n",
      "272it [40:58,  8.77s/it]\u001b[A\n",
      "273it [41:06,  8.76s/it]\u001b[A\n",
      "274it [41:15,  8.78s/it]\u001b[A\n",
      "275it [41:24,  8.67s/it]\u001b[A\n",
      "276it [41:32,  8.68s/it]\u001b[A\n",
      "277it [41:41,  8.61s/it]\u001b[A\n",
      "278it [41:50,  8.78s/it]\u001b[A\n",
      "279it [41:59,  8.69s/it]\u001b[A\n",
      "280it [42:08,  8.82s/it]\u001b[A\n",
      "281it [42:17,  8.96s/it]\u001b[A\n",
      "282it [42:25,  8.80s/it]\u001b[A\n",
      "283it [42:34,  8.70s/it]\u001b[A\n",
      "284it [42:43,  8.71s/it]\u001b[A\n",
      "285it [42:52,  8.79s/it]\u001b[A\n",
      "286it [43:01,  8.95s/it]\u001b[A\n",
      "287it [43:10,  8.98s/it]\u001b[A\n",
      "288it [43:18,  8.86s/it]\u001b[A\n",
      "289it [43:27,  8.83s/it]\u001b[A\n",
      "290it [43:36,  8.77s/it]\u001b[A\n",
      "291it [43:45,  8.77s/it]\u001b[A\n",
      "292it [43:54,  8.99s/it]\u001b[A\n",
      "293it [44:04,  9.15s/it]\u001b[A\n",
      "294it [44:12,  9.01s/it]\u001b[A\n",
      "295it [44:22,  9.18s/it]\u001b[A\n",
      "296it [44:31,  9.15s/it]\u001b[A\n",
      "297it [44:54, 13.26s/it]\u001b[A\n",
      "298it [45:02, 11.87s/it]\u001b[A\n",
      "299it [45:11, 10.95s/it]\u001b[A\n",
      "300it [45:21, 10.43s/it]\u001b[A\n",
      "301it [45:29,  9.90s/it]\u001b[A\n",
      "302it [45:38,  9.59s/it]\u001b[A\n",
      "303it [45:47,  9.47s/it]\u001b[A\n",
      "304it [45:57,  9.54s/it]\u001b[A\n",
      "305it [46:06,  9.26s/it]\u001b[A\n",
      "306it [46:15,  9.18s/it]\u001b[A\n",
      "307it [46:24,  9.19s/it]\u001b[A\n",
      "308it [46:33,  9.12s/it]\u001b[A\n",
      "309it [46:42,  9.05s/it]\u001b[A\n",
      "310it [46:51,  9.22s/it]\u001b[A\n",
      "311it [47:00,  9.11s/it]\u001b[A\n",
      "312it [47:09,  8.92s/it]\u001b[A\n",
      "313it [47:18,  9.01s/it]\u001b[A\n",
      "314it [47:27,  9.01s/it]\u001b[A\n",
      "315it [47:36,  9.04s/it]\u001b[A\n",
      "316it [47:44,  8.77s/it]\u001b[A\n",
      "317it [47:53,  8.86s/it]\u001b[A\n",
      "318it [48:02,  8.81s/it]\u001b[A\n",
      "319it [48:10,  8.68s/it]\u001b[A\n",
      "320it [48:19,  8.82s/it]\u001b[A\n",
      "321it [48:28,  8.81s/it]\u001b[A\n",
      "322it [48:37,  8.82s/it]\u001b[A\n",
      "323it [48:46,  8.86s/it]\u001b[A\n",
      "324it [48:55,  8.91s/it]\u001b[A\n",
      "325it [49:03,  8.72s/it]\u001b[A\n",
      "326it [49:12,  8.76s/it]\u001b[A\n",
      "327it [49:21,  8.87s/it]\u001b[A\n",
      "328it [49:30,  8.81s/it]\u001b[A\n",
      "329it [49:40,  9.10s/it]\u001b[A\n",
      "330it [49:49,  9.06s/it]\u001b[A\n",
      "331it [49:57,  8.79s/it]\u001b[A\n",
      "332it [50:08,  9.62s/it]\u001b[A\n",
      "333it [50:18,  9.62s/it]\u001b[A\n",
      "334it [50:26,  9.28s/it]\u001b[A\n",
      "335it [50:35,  8.97s/it]\u001b[A\n",
      "336it [50:44,  9.16s/it]\u001b[A\n",
      "337it [50:52,  8.82s/it]\u001b[A\n",
      "338it [51:00,  8.61s/it]\u001b[A\n",
      "339it [51:10,  8.79s/it]\u001b[A\n",
      "340it [51:19,  9.08s/it]\u001b[A\n",
      "341it [51:28,  9.07s/it]\u001b[A\n",
      "342it [51:37,  9.03s/it]\u001b[A\n",
      "343it [51:47,  9.07s/it]\u001b[A\n",
      "344it [51:55,  8.92s/it]\u001b[A\n",
      "345it [52:04,  8.90s/it]\u001b[A\n",
      "346it [52:13,  8.91s/it]\u001b[A\n",
      "347it [52:22,  8.85s/it]\u001b[A\n",
      "348it [52:31,  8.98s/it]\u001b[A\n",
      "349it [52:40,  9.01s/it]\u001b[A\n",
      "350it [52:49,  9.09s/it]\u001b[A\n",
      "351it [52:59,  9.34s/it]\u001b[A\n",
      "352it [53:08,  9.10s/it]\u001b[A\n",
      "353it [53:16,  9.01s/it]\u001b[A\n",
      "354it [53:25,  8.98s/it]\u001b[A\n",
      "355it [53:34,  9.01s/it]\u001b[A\n",
      "356it [53:43,  8.96s/it]\u001b[A\n",
      "357it [53:52,  8.83s/it]\u001b[A\n",
      "358it [54:01,  8.85s/it]\u001b[A\n",
      "359it [54:11,  9.13s/it]\u001b[A\n",
      "360it [54:22,  9.86s/it]\u001b[A\n",
      "361it [54:32,  9.91s/it]\u001b[A\n",
      "362it [54:42,  9.92s/it]\u001b[A\n",
      "363it [54:52,  9.95s/it]\u001b[A\n",
      "364it [55:02,  9.88s/it]\u001b[A\n",
      "365it [55:12,  9.07s/it]\u001b[A\n"
     ]
    },
    {
     "name": "stdout",
     "output_type": "stream",
     "text": [
      "new_weather shape (16976, 11)\n"
     ]
    },
    {
     "name": "stderr",
     "output_type": "stream",
     "text": [
      "\r",
      " 20%|██████████████████████▌                                                                                          | 3/15 [3:45:33<16:49:43, 5048.59s/it]"
     ]
    },
    {
     "name": "stdout",
     "output_type": "stream",
     "text": [
      "update weather data for  Khlong Hoi Khong\n",
      "updateing file: ../data/weather_cities/Khlong_Hoi_Khong.csv\n",
      "missing date 365\n"
     ]
    },
    {
     "name": "stderr",
     "output_type": "stream",
     "text": [
      "\n",
      "0it [00:00, ?it/s]\u001b[A\n",
      "1it [00:11, 11.10s/it]\u001b[A\n",
      "2it [00:21, 10.92s/it]\u001b[A\n",
      "3it [00:31, 10.59s/it]\u001b[A\n",
      "4it [00:42, 10.68s/it]\u001b[A\n",
      "5it [00:52, 10.42s/it]\u001b[A\n",
      "6it [01:01, 10.01s/it]\u001b[A\n",
      "7it [01:09,  9.60s/it]\u001b[A\n",
      "8it [01:19,  9.65s/it]\u001b[A\n",
      "9it [01:28,  9.39s/it]\u001b[A\n",
      "10it [01:37,  9.30s/it]\u001b[A\n",
      "11it [01:46,  9.32s/it]\u001b[A\n",
      "12it [01:55,  9.15s/it]\u001b[A\n",
      "13it [02:04,  9.11s/it]\u001b[A\n",
      "14it [02:13,  9.09s/it]\u001b[A\n",
      "15it [02:22,  8.98s/it]\u001b[A\n",
      "16it [02:31,  9.17s/it]\u001b[A\n",
      "17it [02:40,  8.96s/it]\u001b[A\n",
      "18it [02:48,  8.80s/it]\u001b[A\n",
      "19it [02:57,  8.82s/it]\u001b[A\n",
      "20it [03:06,  8.77s/it]\u001b[A\n",
      "21it [03:15,  8.89s/it]\u001b[A\n",
      "22it [03:24,  8.83s/it]\u001b[A\n",
      "23it [03:33,  9.05s/it]\u001b[A\n",
      "24it [03:42,  9.01s/it]\u001b[A\n",
      "25it [03:51,  8.93s/it]\u001b[A\n",
      "26it [04:00,  8.88s/it]\u001b[A\n",
      "27it [04:08,  8.82s/it]\u001b[A\n",
      "28it [04:17,  8.70s/it]\u001b[A\n",
      "29it [04:25,  8.57s/it]\u001b[A\n",
      "30it [04:34,  8.67s/it]\u001b[A\n",
      "31it [04:42,  8.61s/it]\u001b[A\n",
      "32it [04:51,  8.55s/it]\u001b[A\n",
      "33it [04:59,  8.52s/it]\u001b[A\n",
      "34it [05:08,  8.44s/it]\u001b[A\n",
      "35it [05:16,  8.50s/it]\u001b[A\n",
      "36it [05:26,  8.75s/it]\u001b[A\n",
      "37it [05:34,  8.72s/it]\u001b[A\n",
      "38it [05:43,  8.78s/it]\u001b[A\n",
      "39it [05:52,  8.67s/it]\u001b[A\n",
      "40it [06:01,  8.81s/it]\u001b[A\n",
      "41it [06:09,  8.61s/it]\u001b[A\n",
      "42it [06:19,  8.93s/it]\u001b[A\n",
      "43it [06:27,  8.82s/it]\u001b[A\n",
      "44it [06:36,  8.99s/it]\u001b[A\n",
      "45it [06:45,  8.88s/it]\u001b[A\n",
      "46it [06:54,  8.77s/it]\u001b[A\n",
      "47it [07:02,  8.69s/it]\u001b[A\n",
      "48it [07:10,  8.57s/it]\u001b[A\n",
      "49it [07:19,  8.61s/it]\u001b[A\n",
      "50it [07:27,  8.54s/it]\u001b[A\n",
      "51it [07:36,  8.68s/it]\u001b[A\n",
      "52it [07:45,  8.76s/it]\u001b[A\n",
      "53it [07:54,  8.78s/it]\u001b[A\n",
      "54it [08:03,  8.70s/it]\u001b[A\n",
      "55it [08:11,  8.66s/it]\u001b[A\n",
      "56it [08:20,  8.61s/it]\u001b[A\n",
      "57it [08:29,  8.65s/it]\u001b[A\n",
      "58it [08:37,  8.68s/it]\u001b[A\n",
      "59it [08:46,  8.81s/it]\u001b[A\n",
      "60it [08:55,  8.74s/it]\u001b[A\n",
      "61it [09:03,  8.62s/it]\u001b[A\n",
      "62it [09:12,  8.74s/it]\u001b[A\n",
      "63it [09:21,  8.66s/it]\u001b[A\n",
      "64it [09:29,  8.56s/it]\u001b[A\n",
      "65it [09:37,  8.47s/it]\u001b[A\n",
      "66it [09:46,  8.45s/it]\u001b[A\n",
      "67it [09:55,  8.54s/it]\u001b[A\n",
      "68it [10:03,  8.47s/it]\u001b[A\n",
      "69it [10:12,  8.52s/it]\u001b[A\n",
      "70it [10:20,  8.61s/it]\u001b[A\n",
      "71it [10:29,  8.71s/it]\u001b[A\n",
      "72it [10:38,  8.62s/it]\u001b[A\n",
      "73it [10:47,  8.79s/it]\u001b[A\n",
      "74it [10:55,  8.56s/it]\u001b[A\n",
      "75it [11:05,  9.16s/it]\u001b[A\n",
      "76it [11:22, 11.26s/it]\u001b[A\n",
      "77it [11:30, 10.51s/it]\u001b[A\n",
      "78it [11:45, 11.86s/it]\u001b[A\n",
      "79it [12:02, 13.35s/it]\u001b[A\n",
      "80it [12:14, 12.76s/it]\u001b[A\n",
      "81it [12:23, 11.67s/it]\u001b[A\n",
      "82it [12:31, 10.67s/it]\u001b[A\n",
      "83it [12:40, 10.22s/it]\u001b[A\n",
      "84it [12:49,  9.75s/it]\u001b[A\n",
      "85it [12:57,  9.39s/it]\u001b[A\n",
      "86it [13:07,  9.28s/it]\u001b[A\n",
      "87it [13:15,  9.01s/it]\u001b[A\n",
      "88it [13:23,  8.86s/it]\u001b[A\n",
      "89it [13:32,  8.84s/it]\u001b[A\n",
      "90it [13:41,  8.78s/it]\u001b[A\n",
      "91it [13:49,  8.72s/it]\u001b[A\n",
      "92it [13:58,  8.83s/it]\u001b[A\n",
      "93it [14:07,  8.88s/it]\u001b[A\n",
      "94it [14:17,  8.97s/it]\u001b[A\n",
      "95it [14:25,  8.87s/it]\u001b[A\n",
      "96it [14:35,  9.02s/it]\u001b[A\n",
      "97it [14:44,  8.96s/it]\u001b[A\n",
      "98it [14:52,  8.93s/it]\u001b[A\n",
      "99it [15:01,  8.90s/it]\u001b[A\n",
      "100it [15:10,  8.77s/it]\u001b[A\n",
      "101it [15:18,  8.53s/it]\u001b[A\n",
      "102it [15:27,  8.73s/it]\u001b[A\n",
      "103it [15:35,  8.69s/it]\u001b[A\n",
      "104it [15:44,  8.55s/it]\u001b[A\n",
      "105it [15:52,  8.44s/it]\u001b[A\n",
      "106it [16:01,  8.69s/it]\u001b[A\n",
      "107it [16:10,  8.70s/it]\u001b[A\n",
      "108it [16:19,  8.80s/it]\u001b[A\n",
      "109it [16:27,  8.72s/it]\u001b[A\n",
      "110it [16:36,  8.58s/it]\u001b[A\n",
      "111it [16:44,  8.61s/it]\u001b[A\n",
      "112it [16:53,  8.50s/it]\u001b[A\n",
      "113it [17:01,  8.55s/it]\u001b[A\n",
      "114it [17:10,  8.61s/it]\u001b[A\n",
      "115it [17:19,  8.59s/it]\u001b[A\n",
      "116it [17:27,  8.52s/it]\u001b[A\n",
      "117it [17:36,  8.70s/it]\u001b[A\n",
      "118it [17:45,  8.64s/it]\u001b[A\n",
      "119it [17:53,  8.64s/it]\u001b[A\n",
      "120it [18:02,  8.64s/it]\u001b[A\n",
      "121it [18:11,  8.87s/it]\u001b[A\n",
      "122it [18:19,  8.65s/it]\u001b[A\n",
      "123it [18:28,  8.58s/it]\u001b[A\n",
      "124it [18:37,  8.63s/it]\u001b[A\n",
      "125it [18:45,  8.62s/it]\u001b[A\n",
      "126it [18:54,  8.63s/it]\u001b[A\n",
      "127it [19:03,  8.68s/it]\u001b[A\n",
      "128it [19:11,  8.53s/it]\u001b[A\n",
      "129it [19:19,  8.50s/it]\u001b[A\n",
      "130it [19:29,  8.83s/it]\u001b[A\n",
      "131it [19:37,  8.60s/it]\u001b[A\n",
      "132it [19:46,  8.74s/it]\u001b[A\n",
      "133it [19:54,  8.69s/it]\u001b[A\n",
      "134it [20:03,  8.74s/it]\u001b[A\n",
      "135it [20:11,  8.54s/it]\u001b[A\n",
      "136it [20:20,  8.53s/it]\u001b[A\n",
      "137it [20:28,  8.41s/it]\u001b[A\n",
      "138it [20:37,  8.46s/it]\u001b[A\n",
      "139it [20:45,  8.44s/it]\u001b[A\n",
      "140it [20:53,  8.36s/it]\u001b[A\n",
      "141it [21:02,  8.53s/it]\u001b[A\n",
      "142it [21:11,  8.51s/it]\u001b[A\n",
      "143it [21:20,  8.84s/it]\u001b[A\n",
      "144it [21:29,  8.72s/it]\u001b[A\n",
      "145it [21:37,  8.65s/it]\u001b[A\n",
      "146it [21:45,  8.55s/it]\u001b[A\n",
      "147it [21:54,  8.62s/it]\u001b[A\n",
      "148it [22:02,  8.45s/it]\u001b[A\n",
      "149it [22:11,  8.49s/it]\u001b[A\n",
      "150it [22:20,  8.68s/it]\u001b[A\n",
      "151it [22:28,  8.61s/it]\u001b[A\n",
      "152it [22:37,  8.60s/it]\u001b[A\n",
      "153it [22:45,  8.52s/it]\u001b[A\n",
      "154it [22:54,  8.54s/it]\u001b[A\n",
      "155it [23:04,  8.87s/it]\u001b[A\n",
      "156it [23:12,  8.62s/it]\u001b[A\n",
      "157it [23:20,  8.65s/it]\u001b[A\n",
      "158it [23:29,  8.71s/it]\u001b[A\n",
      "159it [23:37,  8.59s/it]\u001b[A\n",
      "160it [23:45,  8.41s/it]\u001b[A\n",
      "161it [23:54,  8.54s/it]\u001b[A\n",
      "162it [24:03,  8.49s/it]\u001b[A\n",
      "163it [24:11,  8.41s/it]\u001b[A\n",
      "164it [24:20,  8.50s/it]\u001b[A\n",
      "165it [24:28,  8.39s/it]\u001b[A\n",
      "166it [24:37,  8.55s/it]\u001b[A\n",
      "167it [24:46,  8.72s/it]\u001b[A\n",
      "168it [24:54,  8.68s/it]\u001b[A\n",
      "169it [25:03,  8.63s/it]\u001b[A\n",
      "170it [25:12,  8.70s/it]\u001b[A\n",
      "171it [25:20,  8.68s/it]\u001b[A\n",
      "172it [25:29,  8.72s/it]\u001b[A\n",
      "173it [25:38,  8.75s/it]\u001b[A\n",
      "174it [25:46,  8.62s/it]\u001b[A\n",
      "175it [25:55,  8.65s/it]\u001b[A\n",
      "176it [26:03,  8.56s/it]\u001b[A\n",
      "177it [26:12,  8.68s/it]\u001b[A\n",
      "178it [26:21,  8.71s/it]\u001b[A\n",
      "179it [26:30,  8.66s/it]\u001b[A\n",
      "180it [26:38,  8.70s/it]\u001b[A\n",
      "181it [26:48,  8.85s/it]\u001b[A\n",
      "182it [26:57,  8.88s/it]\u001b[A\n",
      "183it [27:06,  8.99s/it]\u001b[A\n",
      "184it [27:15,  8.93s/it]\u001b[A\n",
      "185it [27:25,  9.33s/it]\u001b[A\n",
      "186it [27:34,  9.10s/it]\u001b[A\n",
      "187it [27:43,  9.28s/it]\u001b[A\n",
      "188it [27:52,  9.03s/it]\u001b[A\n",
      "189it [28:01,  9.00s/it]\u001b[A\n",
      "190it [28:09,  8.71s/it]\u001b[A\n",
      "191it [28:17,  8.71s/it]\u001b[A\n",
      "192it [28:26,  8.69s/it]\u001b[A\n",
      "193it [28:35,  8.87s/it]\u001b[A\n",
      "194it [28:44,  8.75s/it]\u001b[A\n",
      "195it [28:52,  8.68s/it]\u001b[A\n",
      "196it [29:00,  8.48s/it]\u001b[A\n",
      "197it [29:09,  8.51s/it]\u001b[A\n",
      "198it [29:18,  8.61s/it]\u001b[A\n",
      "199it [29:26,  8.51s/it]\u001b[A\n",
      "200it [29:34,  8.40s/it]\u001b[A\n",
      "201it [29:43,  8.48s/it]\u001b[A\n",
      "202it [29:51,  8.34s/it]\u001b[A\n",
      "203it [29:59,  8.40s/it]\u001b[A\n",
      "204it [30:07,  8.30s/it]\u001b[A\n",
      "205it [30:16,  8.31s/it]\u001b[A\n",
      "206it [30:24,  8.40s/it]\u001b[A\n",
      "207it [30:33,  8.34s/it]\u001b[A\n",
      "208it [30:41,  8.42s/it]\u001b[A\n",
      "209it [30:50,  8.52s/it]\u001b[A\n",
      "210it [30:58,  8.51s/it]\u001b[A\n",
      "211it [31:06,  8.40s/it]\u001b[A\n",
      "212it [31:15,  8.49s/it]\u001b[A\n",
      "213it [31:24,  8.51s/it]\u001b[A\n",
      "214it [31:32,  8.41s/it]\u001b[A\n",
      "215it [31:40,  8.39s/it]\u001b[A\n",
      "216it [31:49,  8.44s/it]\u001b[A\n",
      "217it [31:57,  8.38s/it]\u001b[A\n",
      "218it [32:06,  8.56s/it]\u001b[A\n",
      "219it [32:15,  8.75s/it]\u001b[A\n",
      "220it [32:23,  8.56s/it]\u001b[A\n",
      "221it [32:32,  8.53s/it]\u001b[A\n",
      "222it [32:41,  8.61s/it]\u001b[A\n",
      "223it [32:49,  8.56s/it]\u001b[A\n",
      "224it [32:57,  8.49s/it]\u001b[A\n",
      "225it [33:06,  8.54s/it]\u001b[A\n",
      "226it [33:14,  8.49s/it]\u001b[A\n",
      "227it [33:23,  8.55s/it]\u001b[A\n",
      "228it [33:33,  8.90s/it]\u001b[A\n",
      "229it [33:41,  8.72s/it]\u001b[A\n",
      "230it [33:50,  8.75s/it]\u001b[A\n",
      "231it [33:59,  8.99s/it]\u001b[A\n",
      "232it [34:09,  9.02s/it]\u001b[A\n",
      "233it [34:17,  8.98s/it]\u001b[A\n",
      "234it [34:26,  8.95s/it]\u001b[A\n",
      "235it [34:35,  8.82s/it]\u001b[A\n",
      "236it [34:43,  8.76s/it]\u001b[A\n",
      "237it [34:52,  8.67s/it]\u001b[A\n",
      "238it [35:01,  8.74s/it]\u001b[A\n",
      "239it [35:10,  8.84s/it]\u001b[A\n",
      "240it [35:18,  8.74s/it]\u001b[A\n",
      "241it [35:27,  8.68s/it]\u001b[A\n",
      "242it [35:36,  8.84s/it]\u001b[A\n",
      "243it [35:45,  8.77s/it]\u001b[A\n",
      "244it [35:53,  8.65s/it]\u001b[A\n",
      "245it [36:06, 10.04s/it]\u001b[A\n",
      "246it [36:16,  9.89s/it]\u001b[A\n",
      "247it [36:24,  9.47s/it]\u001b[A\n",
      "248it [36:33,  9.28s/it]\u001b[A\n",
      "249it [36:44,  9.65s/it]\u001b[A\n",
      "250it [36:52,  9.35s/it]\u001b[A\n",
      "251it [37:05, 10.44s/it]\u001b[A\n",
      "252it [37:16, 10.44s/it]\u001b[A\n",
      "253it [37:26, 10.42s/it]\u001b[A\n",
      "254it [37:37, 10.53s/it]\u001b[A\n",
      "255it [37:49, 10.93s/it]\u001b[A\n",
      "256it [37:58, 10.33s/it]\u001b[A\n",
      "257it [38:07, 10.02s/it]\u001b[A\n",
      "258it [38:15,  9.50s/it]\u001b[A\n",
      "259it [38:24,  9.25s/it]\u001b[A\n",
      "260it [38:33,  9.06s/it]\u001b[A\n",
      "261it [38:41,  8.84s/it]\u001b[A\n",
      "262it [38:50,  9.00s/it]\u001b[A\n",
      "263it [39:00,  9.06s/it]\u001b[A\n",
      "264it [39:08,  8.93s/it]\u001b[A\n",
      "265it [39:17,  9.03s/it]\u001b[A\n",
      "266it [39:26,  8.95s/it]\u001b[A\n",
      "267it [39:35,  8.91s/it]\u001b[A\n",
      "268it [39:44,  8.85s/it]\u001b[A\n",
      "269it [39:52,  8.72s/it]\u001b[A\n",
      "270it [40:01,  8.60s/it]\u001b[A\n",
      "271it [40:10,  8.73s/it]\u001b[A\n",
      "272it [40:18,  8.59s/it]\u001b[A\n",
      "273it [40:26,  8.56s/it]\u001b[A\n",
      "274it [40:35,  8.71s/it]\u001b[A\n",
      "275it [40:44,  8.55s/it]\u001b[A\n",
      "276it [40:52,  8.52s/it]\u001b[A\n",
      "277it [41:01,  8.71s/it]\u001b[A\n",
      "278it [41:10,  8.61s/it]\u001b[A\n",
      "279it [41:18,  8.45s/it]\u001b[A\n",
      "280it [41:27,  8.70s/it]\u001b[A\n",
      "281it [41:35,  8.57s/it]\u001b[A\n",
      "282it [41:44,  8.50s/it]\u001b[A\n",
      "283it [41:52,  8.51s/it]\u001b[A\n",
      "284it [42:00,  8.47s/it]\u001b[A\n",
      "285it [42:09,  8.59s/it]\u001b[A\n",
      "286it [42:18,  8.71s/it]\u001b[A\n",
      "287it [42:27,  8.61s/it]\u001b[A\n",
      "288it [42:35,  8.67s/it]\u001b[A\n",
      "289it [42:44,  8.52s/it]\u001b[A\n",
      "290it [42:52,  8.54s/it]\u001b[A\n",
      "291it [43:01,  8.61s/it]\u001b[A\n",
      "292it [43:09,  8.51s/it]\u001b[A\n",
      "293it [43:17,  8.42s/it]\u001b[A\n",
      "294it [43:27,  8.64s/it]\u001b[A\n",
      "295it [43:35,  8.58s/it]\u001b[A\n",
      "296it [43:44,  8.71s/it]\u001b[A\n",
      "297it [43:53,  8.73s/it]\u001b[A\n",
      "298it [44:02,  8.72s/it]\u001b[A\n",
      "299it [44:11,  8.85s/it]\u001b[A\n",
      "300it [44:19,  8.69s/it]\u001b[A\n",
      "301it [44:28,  8.67s/it]\u001b[A\n",
      "302it [44:36,  8.64s/it]\u001b[A\n",
      "303it [44:45,  8.69s/it]\u001b[A\n",
      "304it [44:53,  8.51s/it]\u001b[A\n",
      "305it [45:02,  8.58s/it]\u001b[A\n",
      "306it [45:10,  8.59s/it]\u001b[A\n",
      "307it [45:22,  9.34s/it]\u001b[A\n",
      "308it [45:30,  9.22s/it]\u001b[A\n",
      "309it [45:38,  8.85s/it]\u001b[A\n",
      "310it [45:47,  8.77s/it]\u001b[A\n",
      "311it [45:56,  8.68s/it]\u001b[A\n",
      "312it [46:04,  8.64s/it]\u001b[A\n",
      "313it [46:13,  8.63s/it]\u001b[A\n",
      "314it [46:22,  8.93s/it]\u001b[A\n",
      "315it [46:31,  8.87s/it]\u001b[A\n",
      "316it [46:39,  8.73s/it]\u001b[A\n",
      "317it [46:48,  8.75s/it]\u001b[A\n",
      "318it [46:57,  8.75s/it]\u001b[A\n",
      "319it [47:06,  8.86s/it]\u001b[A\n",
      "320it [47:16,  9.07s/it]\u001b[A\n",
      "321it [47:24,  8.83s/it]\u001b[A\n",
      "322it [47:32,  8.66s/it]\u001b[A\n",
      "323it [47:41,  8.67s/it]\u001b[A\n",
      "324it [47:50,  8.88s/it]\u001b[A\n",
      "325it [47:59,  8.89s/it]\u001b[A\n",
      "326it [48:08,  8.76s/it]\u001b[A\n",
      "327it [48:17,  8.99s/it]\u001b[A\n",
      "328it [48:28,  9.67s/it]\u001b[A\n",
      "329it [48:38,  9.55s/it]\u001b[A\n",
      "330it [48:46,  9.20s/it]\u001b[A\n",
      "331it [48:54,  8.75s/it]\u001b[A\n",
      "332it [49:03,  8.82s/it]\u001b[A\n",
      "333it [49:12,  8.84s/it]\u001b[A\n",
      "334it [49:20,  8.70s/it]\u001b[A\n",
      "335it [49:29,  8.65s/it]\u001b[A\n",
      "336it [49:38,  8.82s/it]\u001b[A\n",
      "337it [49:46,  8.70s/it]\u001b[A\n",
      "338it [49:55,  8.70s/it]\u001b[A\n",
      "339it [50:04,  8.81s/it]\u001b[A\n",
      "340it [50:14,  9.06s/it]\u001b[A\n",
      "341it [50:24,  9.49s/it]\u001b[A\n",
      "342it [50:34,  9.48s/it]\u001b[A\n",
      "343it [50:43,  9.45s/it]\u001b[A\n",
      "344it [50:52,  9.24s/it]\u001b[A\n",
      "345it [51:00,  9.02s/it]\u001b[A\n",
      "346it [51:09,  9.07s/it]\u001b[A\n",
      "347it [51:18,  9.05s/it]\u001b[A\n",
      "348it [51:28,  9.25s/it]\u001b[A\n",
      "349it [51:38,  9.42s/it]\u001b[A\n",
      "350it [51:47,  9.32s/it]\u001b[A\n",
      "351it [51:57,  9.49s/it]\u001b[A\n",
      "352it [52:06,  9.25s/it]\u001b[A\n",
      "353it [52:14,  8.89s/it]\u001b[A\n",
      "354it [52:23,  9.08s/it]\u001b[A\n",
      "355it [52:32,  9.10s/it]\u001b[A\n",
      "356it [52:41,  9.01s/it]\u001b[A\n",
      "357it [52:49,  8.68s/it]\u001b[A\n",
      "358it [52:58,  8.64s/it]\u001b[A\n",
      "359it [53:06,  8.61s/it]\u001b[A\n",
      "360it [53:15,  8.67s/it]\u001b[A\n",
      "361it [53:24,  8.71s/it]\u001b[A\n",
      "362it [53:32,  8.71s/it]\u001b[A\n",
      "363it [53:41,  8.66s/it]\u001b[A\n",
      "364it [53:49,  8.58s/it]\u001b[A\n",
      "365it [53:59,  8.88s/it]\u001b[A\n"
     ]
    },
    {
     "name": "stdout",
     "output_type": "stream",
     "text": [
      "new_weather shape (17176, 11)\n"
     ]
    },
    {
     "name": "stderr",
     "output_type": "stream",
     "text": [
      "\r",
      " 27%|██████████████████████████████▏                                                                                  | 4/15 [4:40:13<13:48:18, 4518.03s/it]"
     ]
    },
    {
     "name": "stdout",
     "output_type": "stream",
     "text": [
      "update weather data for  Khlong Hoi Khong\n",
      "updateing file: ../data/weather_cities/Khlong_Hoi_Khong.csv\n",
      "missing date 366\n"
     ]
    },
    {
     "name": "stderr",
     "output_type": "stream",
     "text": [
      "\n",
      "0it [00:00, ?it/s]\u001b[A\n",
      "1it [00:08,  8.95s/it]\u001b[A\n",
      "2it [00:17,  8.98s/it]\u001b[A\n",
      "3it [00:26,  8.74s/it]\u001b[A\n",
      "4it [00:34,  8.68s/it]\u001b[A\n",
      "5it [00:46,  9.56s/it]\u001b[A\n",
      "6it [00:55,  9.30s/it]\u001b[A\n",
      "7it [01:03,  9.13s/it]\u001b[A\n",
      "8it [01:12,  9.01s/it]\u001b[A\n",
      "9it [01:22,  9.23s/it]\u001b[A\n",
      "10it [01:30,  8.92s/it]\u001b[A\n",
      "11it [01:59, 14.90s/it]\u001b[A\n",
      "12it [02:08, 13.28s/it]\u001b[A\n",
      "13it [02:17, 12.02s/it]\u001b[A\n",
      "14it [02:25, 10.78s/it]\u001b[A\n",
      "15it [02:34, 10.11s/it]\u001b[A\n",
      "16it [02:42,  9.58s/it]\u001b[A\n",
      "17it [02:51,  9.35s/it]\u001b[A\n",
      "18it [02:59,  9.06s/it]\u001b[A\n",
      "19it [03:08,  8.88s/it]\u001b[A\n",
      "20it [03:16,  8.74s/it]\u001b[A\n",
      "21it [03:25,  8.71s/it]\u001b[A\n",
      "22it [03:34,  8.72s/it]\u001b[A\n",
      "23it [03:43,  8.83s/it]\u001b[A\n",
      "24it [03:51,  8.81s/it]\u001b[A\n",
      "25it [04:00,  8.86s/it]\u001b[A\n",
      "26it [04:09,  8.76s/it]\u001b[A\n",
      "27it [04:17,  8.48s/it]\u001b[A\n",
      "28it [04:25,  8.36s/it]\u001b[A\n",
      "29it [04:33,  8.44s/it]\u001b[A\n",
      "30it [04:42,  8.47s/it]\u001b[A\n",
      "31it [04:51,  8.51s/it]\u001b[A\n",
      "32it [05:00,  8.67s/it]\u001b[A\n",
      "33it [05:08,  8.62s/it]\u001b[A\n",
      "34it [05:17,  8.61s/it]\u001b[A\n",
      "35it [05:26,  8.76s/it]\u001b[A\n",
      "36it [05:34,  8.53s/it]\u001b[A\n",
      "37it [05:43,  8.72s/it]\u001b[A\n",
      "38it [05:52,  8.79s/it]\u001b[A\n",
      "39it [06:01,  8.76s/it]\u001b[A\n",
      "40it [06:09,  8.66s/it]\u001b[A\n",
      "41it [06:18,  8.76s/it]\u001b[A\n",
      "42it [06:26,  8.61s/it]\u001b[A\n",
      "43it [06:35,  8.70s/it]\u001b[A\n",
      "44it [06:44,  8.71s/it]\u001b[A\n",
      "45it [06:53,  8.67s/it]\u001b[A\n",
      "46it [07:01,  8.74s/it]\u001b[A\n",
      "47it [07:10,  8.70s/it]\u001b[A\n",
      "48it [07:20,  9.10s/it]\u001b[A\n",
      "49it [07:29,  8.96s/it]\u001b[A\n",
      "50it [07:38,  9.17s/it]\u001b[A\n",
      "51it [07:47,  9.09s/it]\u001b[A\n",
      "52it [07:57,  9.18s/it]\u001b[A\n",
      "53it [08:06,  9.13s/it]\u001b[A\n",
      "54it [08:15,  9.05s/it]\u001b[A\n",
      "55it [08:23,  8.98s/it]\u001b[A\n",
      "56it [08:32,  8.89s/it]\u001b[A\n",
      "57it [08:43,  9.42s/it]\u001b[A\n",
      "58it [08:54, 10.02s/it]\u001b[A\n",
      "59it [09:04, 10.01s/it]\u001b[A\n",
      "60it [09:13,  9.63s/it]\u001b[A\n",
      "61it [09:22,  9.58s/it]\u001b[A\n",
      "62it [09:32,  9.63s/it]\u001b[A\n",
      "63it [09:40,  9.17s/it]\u001b[A\n",
      "64it [09:49,  9.16s/it]\u001b[A\n",
      "65it [09:59,  9.19s/it]\u001b[A\n",
      "66it [10:07,  9.06s/it]\u001b[A\n",
      "67it [10:15,  8.78s/it]\u001b[A\n",
      "68it [10:24,  8.64s/it]\u001b[A\n",
      "69it [10:32,  8.49s/it]\u001b[A\n",
      "70it [10:41,  8.58s/it]\u001b[A\n",
      "71it [10:49,  8.59s/it]\u001b[A\n",
      "72it [10:58,  8.51s/it]\u001b[A\n",
      "73it [11:07,  8.66s/it]\u001b[A\n",
      "74it [11:15,  8.49s/it]\u001b[A\n",
      "75it [11:24,  8.86s/it]\u001b[A\n",
      "76it [11:33,  8.78s/it]\u001b[A\n",
      "77it [11:42,  8.78s/it]\u001b[A\n",
      "78it [11:50,  8.70s/it]\u001b[A\n",
      "79it [11:59,  8.67s/it]\u001b[A\n",
      "80it [12:08,  8.67s/it]\u001b[A\n",
      "81it [12:17,  8.86s/it]\u001b[A\n",
      "82it [12:25,  8.63s/it]\u001b[A\n",
      "83it [12:33,  8.57s/it]\u001b[A\n",
      "84it [12:41,  8.39s/it]\u001b[A\n",
      "85it [12:50,  8.50s/it]\u001b[A\n",
      "86it [12:59,  8.60s/it]\u001b[A\n",
      "87it [13:07,  8.51s/it]\u001b[A\n",
      "88it [13:15,  8.35s/it]\u001b[A\n",
      "89it [13:24,  8.58s/it]\u001b[A\n",
      "90it [13:33,  8.63s/it]\u001b[A\n",
      "91it [13:42,  8.62s/it]\u001b[A\n",
      "92it [13:51,  8.75s/it]\u001b[A\n",
      "93it [13:59,  8.72s/it]\u001b[A\n",
      "94it [14:08,  8.76s/it]\u001b[A\n",
      "95it [14:17,  8.75s/it]\u001b[A\n",
      "96it [14:25,  8.66s/it]\u001b[A\n",
      "97it [14:34,  8.65s/it]\u001b[A\n",
      "98it [14:43,  8.68s/it]\u001b[A\n",
      "99it [14:51,  8.61s/it]\u001b[A\n",
      "100it [14:59,  8.47s/it]\u001b[A\n",
      "101it [15:10,  8.95s/it]\u001b[A\n",
      "102it [15:18,  8.75s/it]\u001b[A\n",
      "103it [15:26,  8.65s/it]\u001b[A\n",
      "104it [15:35,  8.66s/it]\u001b[A\n",
      "105it [15:44,  8.71s/it]\u001b[A\n",
      "106it [15:52,  8.53s/it]\u001b[A\n",
      "107it [16:00,  8.53s/it]\u001b[A\n",
      "108it [16:09,  8.55s/it]\u001b[A\n",
      "109it [16:18,  8.61s/it]\u001b[A\n",
      "110it [16:26,  8.54s/it]\u001b[A\n",
      "111it [16:35,  8.51s/it]\u001b[A\n",
      "112it [16:43,  8.53s/it]\u001b[A\n",
      "113it [16:52,  8.72s/it]\u001b[A\n",
      "114it [17:01,  8.63s/it]\u001b[A\n",
      "115it [17:09,  8.68s/it]\u001b[A\n",
      "116it [17:18,  8.66s/it]\u001b[A\n",
      "117it [17:26,  8.57s/it]\u001b[A\n",
      "118it [17:35,  8.68s/it]\u001b[A\n",
      "119it [17:44,  8.74s/it]\u001b[A\n",
      "120it [17:52,  8.55s/it]\u001b[A\n",
      "121it [18:01,  8.44s/it]\u001b[A\n",
      "122it [18:09,  8.42s/it]\u001b[A\n",
      "123it [18:18,  8.60s/it]\u001b[A\n",
      "124it [18:27,  8.82s/it]\u001b[A\n",
      "125it [18:38,  9.38s/it]\u001b[A\n",
      "126it [18:47,  9.14s/it]\u001b[A\n",
      "127it [18:55,  8.90s/it]\u001b[A\n",
      "128it [19:03,  8.74s/it]\u001b[A\n",
      "129it [19:12,  8.61s/it]\u001b[A\n",
      "130it [19:20,  8.69s/it]\u001b[A\n",
      "131it [19:28,  8.48s/it]\u001b[A\n",
      "132it [19:38,  8.74s/it]\u001b[A\n",
      "133it [19:47,  8.79s/it]\u001b[A\n",
      "134it [19:56,  8.90s/it]\u001b[A\n",
      "135it [20:04,  8.71s/it]\u001b[A\n",
      "136it [20:13,  8.75s/it]\u001b[A\n",
      "137it [20:21,  8.65s/it]\u001b[A\n",
      "138it [20:30,  8.52s/it]\u001b[A\n",
      "139it [20:38,  8.60s/it]\u001b[A\n",
      "140it [20:47,  8.71s/it]\u001b[A\n",
      "141it [20:55,  8.51s/it]\u001b[A\n",
      "142it [21:04,  8.42s/it]\u001b[A\n",
      "143it [21:12,  8.36s/it]\u001b[A\n",
      "144it [21:20,  8.29s/it]\u001b[A\n",
      "145it [21:28,  8.34s/it]\u001b[A\n",
      "146it [21:37,  8.29s/it]\u001b[A\n",
      "147it [21:45,  8.29s/it]\u001b[A\n",
      "148it [21:53,  8.23s/it]\u001b[A\n",
      "149it [22:01,  8.28s/it]\u001b[A\n",
      "150it [22:09,  8.22s/it]\u001b[A\n",
      "151it [22:18,  8.36s/it]\u001b[A\n",
      "152it [22:27,  8.46s/it]\u001b[A\n",
      "153it [22:35,  8.50s/it]\u001b[A\n",
      "154it [22:44,  8.52s/it]\u001b[A\n",
      "155it [22:52,  8.35s/it]\u001b[A\n",
      "156it [23:00,  8.25s/it]\u001b[A\n",
      "157it [23:09,  8.43s/it]\u001b[A\n",
      "158it [23:18,  8.75s/it]\u001b[A\n",
      "159it [23:29,  9.20s/it]\u001b[A\n",
      "160it [23:38,  9.35s/it]\u001b[A\n",
      "161it [23:47,  9.16s/it]\u001b[A\n",
      "162it [23:55,  8.83s/it]\u001b[A\n",
      "163it [24:04,  8.72s/it]\u001b[A\n",
      "164it [24:12,  8.75s/it]\u001b[A\n",
      "165it [24:21,  8.65s/it]\u001b[A\n",
      "166it [24:29,  8.52s/it]\u001b[A\n",
      "167it [24:38,  8.55s/it]\u001b[A\n",
      "168it [24:46,  8.45s/it]\u001b[A\n",
      "169it [24:54,  8.45s/it]\u001b[A\n",
      "170it [25:02,  8.35s/it]\u001b[A\n",
      "171it [25:11,  8.55s/it]\u001b[A\n",
      "172it [25:20,  8.53s/it]\u001b[A\n",
      "173it [25:29,  8.62s/it]\u001b[A\n",
      "174it [25:37,  8.44s/it]\u001b[A\n",
      "175it [25:45,  8.46s/it]\u001b[A\n",
      "176it [25:54,  8.49s/it]\u001b[A\n",
      "177it [26:02,  8.40s/it]\u001b[A\n",
      "178it [26:11,  8.44s/it]\u001b[A\n",
      "179it [26:19,  8.36s/it]\u001b[A\n",
      "180it [26:27,  8.41s/it]\u001b[A\n",
      "181it [26:36,  8.40s/it]\u001b[A\n",
      "182it [26:44,  8.43s/it]\u001b[A\n",
      "183it [26:55,  9.18s/it]\u001b[A\n",
      "184it [27:03,  8.89s/it]\u001b[A\n",
      "185it [27:12,  8.72s/it]\u001b[A\n",
      "186it [27:22,  9.28s/it]\u001b[A\n",
      "187it [27:32,  9.41s/it]\u001b[A\n",
      "188it [27:44, 10.10s/it]\u001b[A\n",
      "189it [27:58, 11.30s/it]\u001b[A\n",
      "190it [28:07, 10.81s/it]\u001b[A\n",
      "191it [28:17, 10.45s/it]\u001b[A\n",
      "192it [28:27, 10.19s/it]\u001b[A\n",
      "193it [28:35,  9.70s/it]\u001b[A\n",
      "194it [28:44,  9.37s/it]\u001b[A\n",
      "195it [28:53,  9.24s/it]\u001b[A\n",
      "196it [29:04,  9.78s/it]\u001b[A\n",
      "197it [29:12,  9.26s/it]\u001b[A\n",
      "198it [29:20,  8.92s/it]\u001b[A\n",
      "199it [29:28,  8.67s/it]\u001b[A\n",
      "200it [29:36,  8.62s/it]\u001b[A\n",
      "201it [29:47,  9.26s/it]\u001b[A\n",
      "202it [29:56,  8.98s/it]\u001b[A\n",
      "203it [30:04,  8.76s/it]\u001b[A\n",
      "204it [30:12,  8.62s/it]\u001b[A\n",
      "205it [30:20,  8.49s/it]\u001b[A\n",
      "206it [30:30,  8.75s/it]\u001b[A\n",
      "207it [30:38,  8.62s/it]\u001b[A\n",
      "208it [30:46,  8.45s/it]\u001b[A\n",
      "209it [30:55,  8.54s/it]\u001b[A\n",
      "210it [31:03,  8.40s/it]\u001b[A\n",
      "211it [31:11,  8.39s/it]\u001b[A\n",
      "212it [31:20,  8.43s/it]\u001b[A\n",
      "213it [31:28,  8.37s/it]\u001b[A\n",
      "214it [31:37,  8.60s/it]\u001b[A\n",
      "215it [31:45,  8.53s/it]\u001b[A\n",
      "216it [31:54,  8.66s/it]\u001b[A\n",
      "217it [32:03,  8.62s/it]\u001b[A\n",
      "218it [32:11,  8.55s/it]\u001b[A\n",
      "219it [32:20,  8.61s/it]\u001b[A\n",
      "220it [32:29,  8.74s/it]\u001b[A\n",
      "221it [32:38,  8.76s/it]\u001b[A\n",
      "222it [32:46,  8.67s/it]\u001b[A\n",
      "223it [32:56,  8.86s/it]\u001b[A\n",
      "224it [33:04,  8.58s/it]\u001b[A\n",
      "225it [33:12,  8.48s/it]\u001b[A\n",
      "226it [33:20,  8.43s/it]\u001b[A\n",
      "227it [33:28,  8.37s/it]\u001b[A\n",
      "228it [33:37,  8.36s/it]\u001b[A\n",
      "229it [33:46,  8.74s/it]\u001b[A\n",
      "230it [33:57,  9.30s/it]\u001b[A\n",
      "231it [34:05,  9.07s/it]\u001b[A\n",
      "232it [34:14,  8.77s/it]\u001b[A\n",
      "233it [34:22,  8.62s/it]\u001b[A\n",
      "234it [34:30,  8.48s/it]\u001b[A\n",
      "235it [34:39,  8.53s/it]\u001b[A\n",
      "236it [34:47,  8.62s/it]\u001b[A\n",
      "237it [34:56,  8.64s/it]\u001b[A\n",
      "238it [35:04,  8.55s/it]\u001b[A\n",
      "239it [35:13,  8.67s/it]\u001b[A\n",
      "240it [35:22,  8.73s/it]\u001b[A\n",
      "241it [35:30,  8.51s/it]\u001b[A\n",
      "242it [35:40,  8.73s/it]\u001b[A\n",
      "243it [35:48,  8.54s/it]\u001b[A\n",
      "244it [35:56,  8.41s/it]\u001b[A\n",
      "245it [36:04,  8.34s/it]\u001b[A\n",
      "246it [36:13,  8.50s/it]\u001b[A\n",
      "247it [36:21,  8.44s/it]\u001b[A\n",
      "248it [36:29,  8.26s/it]\u001b[A\n",
      "249it [36:37,  8.22s/it]\u001b[A\n",
      "250it [36:46,  8.41s/it]\u001b[A\n",
      "251it [36:54,  8.34s/it]\u001b[A\n",
      "252it [37:02,  8.36s/it]\u001b[A\n",
      "253it [37:12,  8.62s/it]\u001b[A\n",
      "254it [37:21,  8.74s/it]\u001b[A\n",
      "255it [37:29,  8.65s/it]\u001b[A\n",
      "256it [37:37,  8.55s/it]\u001b[A\n",
      "257it [37:47,  8.97s/it]\u001b[A\n",
      "258it [37:56,  8.80s/it]\u001b[A\n",
      "259it [38:04,  8.64s/it]\u001b[A\n",
      "260it [38:12,  8.45s/it]\u001b[A\n",
      "261it [38:21,  8.55s/it]\u001b[A\n",
      "262it [38:30,  8.62s/it]\u001b[A\n",
      "263it [38:38,  8.54s/it]\u001b[A\n",
      "264it [38:47,  8.52s/it]\u001b[A\n",
      "265it [38:57,  8.97s/it]\u001b[A\n",
      "266it [39:05,  8.76s/it]\u001b[A\n",
      "267it [39:13,  8.65s/it]\u001b[A\n",
      "268it [39:22,  8.57s/it]\u001b[A\n",
      "269it [39:30,  8.56s/it]\u001b[A\n",
      "270it [39:39,  8.67s/it]\u001b[A\n",
      "271it [39:47,  8.52s/it]\u001b[A\n",
      "272it [39:55,  8.29s/it]\u001b[A\n",
      "273it [40:04,  8.40s/it]\u001b[A\n",
      "274it [40:13,  8.70s/it]\u001b[A\n",
      "275it [40:22,  8.64s/it]\u001b[A\n",
      "276it [40:30,  8.49s/it]\u001b[A\n",
      "277it [40:38,  8.58s/it]\u001b[A\n",
      "278it [40:47,  8.49s/it]\u001b[A\n",
      "279it [40:55,  8.44s/it]\u001b[A\n",
      "280it [41:05,  8.73s/it]\u001b[A\n",
      "281it [41:13,  8.67s/it]\u001b[A\n",
      "282it [41:21,  8.51s/it]\u001b[A\n",
      "283it [41:29,  8.36s/it]\u001b[A\n",
      "284it [41:38,  8.46s/it]\u001b[A\n",
      "285it [41:46,  8.42s/it]\u001b[A\n",
      "286it [41:55,  8.44s/it]\u001b[A\n",
      "287it [42:03,  8.50s/it]\u001b[A\n",
      "288it [42:12,  8.45s/it]\u001b[A\n",
      "289it [42:20,  8.46s/it]\u001b[A\n",
      "290it [42:28,  8.28s/it]\u001b[A\n",
      "291it [42:36,  8.13s/it]\u001b[A\n",
      "292it [42:45,  8.51s/it]\u001b[A\n",
      "293it [42:54,  8.51s/it]\u001b[A\n",
      "294it [43:02,  8.50s/it]\u001b[A\n",
      "295it [43:10,  8.41s/it]\u001b[A\n",
      "296it [43:20,  8.72s/it]\u001b[A\n",
      "297it [43:28,  8.61s/it]\u001b[A\n",
      "298it [43:37,  8.63s/it]\u001b[A\n",
      "299it [43:45,  8.60s/it]\u001b[A\n",
      "300it [43:55,  9.03s/it]\u001b[A\n",
      "301it [44:04,  8.82s/it]\u001b[A\n",
      "302it [44:13,  8.92s/it]\u001b[A\n",
      "303it [44:21,  8.70s/it]\u001b[A\n",
      "304it [44:30,  8.70s/it]\u001b[A\n",
      "305it [44:38,  8.57s/it]\u001b[A\n",
      "306it [44:46,  8.45s/it]\u001b[A\n",
      "307it [44:54,  8.39s/it]\u001b[A\n",
      "308it [45:03,  8.29s/it]\u001b[A\n",
      "309it [45:11,  8.43s/it]\u001b[A\n",
      "310it [45:19,  8.30s/it]\u001b[A\n",
      "311it [45:28,  8.40s/it]\u001b[A\n",
      "312it [45:36,  8.33s/it]\u001b[A\n",
      "313it [45:44,  8.22s/it]\u001b[A\n",
      "314it [45:52,  8.11s/it]\u001b[A\n",
      "315it [46:00,  8.04s/it]\u001b[A\n",
      "316it [46:08,  8.16s/it]\u001b[A\n",
      "317it [46:16,  8.17s/it]\u001b[A\n",
      "318it [46:26,  8.50s/it]\u001b[A\n",
      "319it [46:34,  8.40s/it]\u001b[A\n",
      "320it [46:42,  8.31s/it]\u001b[A\n",
      "321it [46:51,  8.51s/it]\u001b[A\n",
      "322it [46:59,  8.35s/it]\u001b[A\n",
      "323it [47:07,  8.25s/it]\u001b[A\n",
      "324it [47:16,  8.42s/it]\u001b[A\n",
      "325it [47:24,  8.35s/it]\u001b[A\n",
      "326it [47:32,  8.23s/it]\u001b[A\n",
      "327it [47:40,  8.18s/it]\u001b[A\n",
      "328it [47:49,  8.30s/it]\u001b[A\n",
      "329it [47:57,  8.37s/it]\u001b[A\n",
      "330it [48:05,  8.35s/it]\u001b[A\n",
      "331it [48:14,  8.40s/it]\u001b[A\n",
      "332it [48:22,  8.37s/it]\u001b[A\n",
      "333it [48:31,  8.56s/it]\u001b[A\n",
      "334it [48:40,  8.64s/it]\u001b[A\n",
      "335it [48:49,  8.67s/it]\u001b[A\n",
      "336it [48:57,  8.54s/it]\u001b[A\n",
      "337it [49:05,  8.53s/it]\u001b[A\n",
      "338it [49:14,  8.67s/it]\u001b[A\n",
      "339it [49:23,  8.55s/it]\u001b[A\n",
      "340it [49:32,  8.73s/it]\u001b[A\n",
      "341it [49:41,  8.74s/it]\u001b[A\n",
      "342it [49:48,  8.45s/it]\u001b[A\n",
      "343it [49:57,  8.42s/it]\u001b[A\n",
      "344it [50:05,  8.40s/it]\u001b[A\n",
      "345it [50:13,  8.26s/it]\u001b[A\n",
      "346it [50:21,  8.31s/it]\u001b[A\n",
      "347it [50:30,  8.49s/it]\u001b[A\n",
      "348it [50:39,  8.43s/it]\u001b[A\n",
      "349it [50:47,  8.37s/it]\u001b[A\n",
      "350it [50:56,  8.55s/it]\u001b[A\n",
      "351it [51:05,  8.63s/it]\u001b[A\n",
      "352it [51:14,  8.82s/it]\u001b[A\n",
      "353it [51:23,  9.00s/it]\u001b[A\n",
      "354it [51:32,  8.83s/it]\u001b[A\n",
      "355it [51:41,  8.90s/it]\u001b[A\n",
      "356it [51:49,  8.74s/it]\u001b[A\n",
      "357it [51:57,  8.48s/it]\u001b[A\n",
      "358it [52:05,  8.38s/it]\u001b[A\n",
      "359it [52:14,  8.34s/it]\u001b[A\n",
      "360it [52:22,  8.38s/it]\u001b[A\n",
      "361it [52:30,  8.34s/it]\u001b[A\n",
      "362it [52:39,  8.35s/it]\u001b[A\n",
      "363it [52:48,  8.64s/it]\u001b[A\n",
      "364it [52:57,  8.64s/it]\u001b[A\n",
      "365it [53:04,  8.40s/it]\u001b[A\n",
      "366it [53:13,  8.72s/it]\u001b[A\n"
     ]
    },
    {
     "name": "stdout",
     "output_type": "stream",
     "text": [
      "new_weather shape (17549, 11)\n"
     ]
    },
    {
     "name": "stderr",
     "output_type": "stream",
     "text": [
      "\r",
      " 33%|█████████████████████████████████████▋                                                                           | 5/15 [5:34:06<11:28:43, 4132.39s/it]"
     ]
    },
    {
     "name": "stdout",
     "output_type": "stream",
     "text": [
      "update weather data for  Khlong Hoi Khong\n",
      "updateing file: ../data/weather_cities/Khlong_Hoi_Khong.csv\n",
      "missing date 365\n"
     ]
    },
    {
     "name": "stderr",
     "output_type": "stream",
     "text": [
      "\n",
      "0it [00:00, ?it/s]\u001b[A\n",
      "1it [00:08,  8.96s/it]\u001b[A\n",
      "2it [00:18,  9.00s/it]\u001b[A\n",
      "3it [00:26,  8.86s/it]\u001b[A\n",
      "4it [00:35,  8.81s/it]\u001b[A\n",
      "5it [00:43,  8.70s/it]\u001b[A\n",
      "6it [00:52,  8.62s/it]\u001b[A\n",
      "7it [01:00,  8.52s/it]\u001b[A\n",
      "8it [01:08,  8.47s/it]\u001b[A\n",
      "9it [01:17,  8.46s/it]\u001b[A\n",
      "10it [01:25,  8.47s/it]\u001b[A\n",
      "11it [01:34,  8.47s/it]\u001b[A\n",
      "12it [01:42,  8.36s/it]\u001b[A\n",
      "13it [01:50,  8.40s/it]\u001b[A\n",
      "14it [01:59,  8.44s/it]\u001b[A\n",
      "15it [02:07,  8.37s/it]\u001b[A\n",
      "16it [02:15,  8.36s/it]\u001b[A\n",
      "17it [02:24,  8.36s/it]\u001b[A\n",
      "18it [02:33,  8.50s/it]\u001b[A\n",
      "19it [02:41,  8.60s/it]\u001b[A\n",
      "20it [02:50,  8.67s/it]\u001b[A\n",
      "21it [02:59,  8.62s/it]\u001b[A\n",
      "22it [03:08,  8.77s/it]\u001b[A\n",
      "23it [03:16,  8.62s/it]\u001b[A\n",
      "24it [03:24,  8.53s/it]\u001b[A\n",
      "25it [03:32,  8.39s/it]\u001b[A\n",
      "26it [03:42,  8.62s/it]\u001b[A\n",
      "27it [03:50,  8.56s/it]\u001b[A\n",
      "28it [03:59,  8.62s/it]\u001b[A\n",
      "29it [04:08,  8.67s/it]\u001b[A\n",
      "30it [04:16,  8.57s/it]\u001b[A\n",
      "31it [04:24,  8.48s/it]\u001b[A\n",
      "32it [04:33,  8.64s/it]\u001b[A\n",
      "33it [04:42,  8.70s/it]\u001b[A\n",
      "34it [04:50,  8.56s/it]\u001b[A\n",
      "35it [04:59,  8.46s/it]\u001b[A\n",
      "36it [05:07,  8.49s/it]\u001b[A\n",
      "37it [05:15,  8.36s/it]\u001b[A\n",
      "38it [05:23,  8.30s/it]\u001b[A\n",
      "39it [05:32,  8.53s/it]\u001b[A\n",
      "40it [05:41,  8.65s/it]\u001b[A\n",
      "41it [05:50,  8.57s/it]\u001b[A\n",
      "42it [05:58,  8.63s/it]\u001b[A\n",
      "43it [06:07,  8.67s/it]\u001b[A\n",
      "44it [06:16,  8.59s/it]\u001b[A\n",
      "45it [06:24,  8.57s/it]\u001b[A\n",
      "46it [06:32,  8.45s/it]\u001b[A\n",
      "47it [06:42,  8.74s/it]\u001b[A\n",
      "48it [06:51,  8.93s/it]\u001b[A\n",
      "49it [07:00,  8.95s/it]\u001b[A\n",
      "50it [07:09,  8.91s/it]\u001b[A\n",
      "51it [07:17,  8.75s/it]\u001b[A\n",
      "52it [07:26,  8.68s/it]\u001b[A\n",
      "53it [07:35,  8.89s/it]\u001b[A\n",
      "54it [07:44,  8.76s/it]\u001b[A\n",
      "55it [07:53,  8.86s/it]\u001b[A\n",
      "56it [08:02,  8.96s/it]\u001b[A\n",
      "57it [08:11,  8.91s/it]\u001b[A\n",
      "58it [08:19,  8.78s/it]\u001b[A\n",
      "59it [08:28,  8.84s/it]\u001b[A\n",
      "60it [08:37,  8.72s/it]\u001b[A\n",
      "61it [08:45,  8.73s/it]\u001b[A\n",
      "62it [08:54,  8.74s/it]\u001b[A\n",
      "63it [09:02,  8.56s/it]\u001b[A\n",
      "64it [09:10,  8.36s/it]\u001b[A\n",
      "65it [09:19,  8.36s/it]\u001b[A\n",
      "66it [09:27,  8.30s/it]\u001b[A\n",
      "67it [09:36,  8.53s/it]\u001b[A\n",
      "68it [09:45,  8.69s/it]\u001b[A\n",
      "69it [09:59, 10.20s/it]\u001b[A\n",
      "70it [10:08, 10.05s/it]\u001b[A\n",
      "71it [10:17,  9.75s/it]\u001b[A\n",
      "72it [10:27,  9.59s/it]\u001b[A\n",
      "73it [10:35,  9.32s/it]\u001b[A\n",
      "74it [10:43,  8.94s/it]\u001b[A\n",
      "75it [10:53,  9.09s/it]\u001b[A\n",
      "76it [11:02,  9.07s/it]\u001b[A\n",
      "77it [11:11,  9.09s/it]\u001b[A\n",
      "78it [11:19,  8.91s/it]\u001b[A\n",
      "79it [11:28,  8.87s/it]\u001b[A\n",
      "80it [11:37,  8.84s/it]\u001b[A\n",
      "81it [11:46,  8.77s/it]\u001b[A\n",
      "82it [11:55,  8.86s/it]\u001b[A\n",
      "83it [12:03,  8.67s/it]\u001b[A\n",
      "84it [12:11,  8.58s/it]\u001b[A\n",
      "85it [12:19,  8.49s/it]\u001b[A\n",
      "86it [12:28,  8.39s/it]\u001b[A\n",
      "87it [12:36,  8.47s/it]\u001b[A\n",
      "88it [12:45,  8.54s/it]\u001b[A\n",
      "89it [12:53,  8.50s/it]\u001b[A\n",
      "90it [13:02,  8.55s/it]\u001b[A\n",
      "91it [13:11,  8.67s/it]\u001b[A\n",
      "92it [13:20,  8.83s/it]\u001b[A\n",
      "93it [13:29,  8.91s/it]\u001b[A\n",
      "94it [13:38,  8.87s/it]\u001b[A\n",
      "95it [13:46,  8.65s/it]\u001b[A\n",
      "96it [13:54,  8.46s/it]\u001b[A\n",
      "97it [14:03,  8.51s/it]\u001b[A\n",
      "98it [14:11,  8.41s/it]\u001b[A\n",
      "99it [14:20,  8.46s/it]\u001b[A\n",
      "100it [14:28,  8.37s/it]\u001b[A\n",
      "101it [14:36,  8.18s/it]\u001b[A\n",
      "102it [14:44,  8.26s/it]\u001b[A\n",
      "103it [14:52,  8.30s/it]\u001b[A\n",
      "104it [15:01,  8.41s/it]\u001b[A\n",
      "105it [15:09,  8.42s/it]\u001b[A\n",
      "106it [15:18,  8.48s/it]\u001b[A\n",
      "107it [15:26,  8.42s/it]\u001b[A\n",
      "108it [15:34,  8.31s/it]\u001b[A\n",
      "109it [15:43,  8.41s/it]\u001b[A\n",
      "110it [15:53,  8.89s/it]\u001b[A\n",
      "111it [16:02,  8.92s/it]\u001b[A\n",
      "112it [16:10,  8.77s/it]\u001b[A\n",
      "113it [16:20,  8.86s/it]\u001b[A\n",
      "114it [16:28,  8.81s/it]\u001b[A\n",
      "115it [16:37,  8.74s/it]\u001b[A\n",
      "116it [16:46,  8.78s/it]\u001b[A\n",
      "117it [16:54,  8.76s/it]\u001b[A\n",
      "118it [17:03,  8.70s/it]\u001b[A\n",
      "119it [17:12,  8.65s/it]\u001b[A\n",
      "120it [17:20,  8.65s/it]\u001b[A\n",
      "121it [17:29,  8.68s/it]\u001b[A\n",
      "122it [17:37,  8.47s/it]\u001b[A\n",
      "123it [17:46,  8.60s/it]\u001b[A\n",
      "124it [17:54,  8.43s/it]\u001b[A\n",
      "125it [18:02,  8.28s/it]\u001b[A\n",
      "126it [18:10,  8.28s/it]\u001b[A\n",
      "127it [18:18,  8.27s/it]\u001b[A\n",
      "128it [18:26,  8.09s/it]\u001b[A\n",
      "129it [18:35,  8.24s/it]\u001b[A\n",
      "130it [18:43,  8.39s/it]\u001b[A\n",
      "131it [18:51,  8.24s/it]\u001b[A\n",
      "132it [19:00,  8.55s/it]\u001b[A\n",
      "133it [19:09,  8.53s/it]\u001b[A\n",
      "134it [19:17,  8.42s/it]\u001b[A\n",
      "135it [19:25,  8.34s/it]\u001b[A\n",
      "136it [19:33,  8.31s/it]\u001b[A\n",
      "137it [19:42,  8.32s/it]\u001b[A\n",
      "138it [19:51,  8.61s/it]\u001b[A\n",
      "139it [20:01,  8.96s/it]\u001b[A\n",
      "140it [20:10,  8.96s/it]\u001b[A\n",
      "141it [20:18,  8.84s/it]\u001b[A\n",
      "142it [20:27,  8.75s/it]\u001b[A\n",
      "143it [20:35,  8.48s/it]\u001b[A\n",
      "144it [20:43,  8.47s/it]\u001b[A\n",
      "145it [20:51,  8.38s/it]\u001b[A\n",
      "146it [21:00,  8.43s/it]\u001b[A\n",
      "147it [21:09,  8.59s/it]\u001b[A\n",
      "148it [21:17,  8.54s/it]\u001b[A\n",
      "149it [21:25,  8.35s/it]\u001b[A\n",
      "150it [21:34,  8.42s/it]\u001b[A\n",
      "151it [21:44,  8.88s/it]\u001b[A\n",
      "152it [21:55,  9.56s/it]\u001b[A\n",
      "153it [22:03,  9.14s/it]\u001b[A\n",
      "154it [22:12,  9.12s/it]\u001b[A\n",
      "155it [22:21,  8.97s/it]\u001b[A\n",
      "156it [22:31,  9.46s/it]\u001b[A\n",
      "157it [22:41,  9.45s/it]\u001b[A\n",
      "158it [22:49,  9.17s/it]\u001b[A\n",
      "159it [23:00,  9.60s/it]\u001b[A\n",
      "160it [23:09,  9.43s/it]\u001b[A\n",
      "161it [23:17,  9.13s/it]\u001b[A\n",
      "162it [23:26,  8.98s/it]\u001b[A\n",
      "163it [23:34,  8.73s/it]\u001b[A\n",
      "164it [23:43,  8.64s/it]\u001b[A\n",
      "165it [23:51,  8.55s/it]\u001b[A\n",
      "166it [24:00,  8.75s/it]\u001b[A\n",
      "167it [24:09,  8.77s/it]\u001b[A\n",
      "168it [24:17,  8.64s/it]\u001b[A\n",
      "169it [24:26,  8.65s/it]\u001b[A\n",
      "170it [24:35,  8.63s/it]\u001b[A\n",
      "171it [24:43,  8.52s/it]\u001b[A\n",
      "172it [24:52,  8.59s/it]\u001b[A\n",
      "173it [25:00,  8.52s/it]\u001b[A\n",
      "174it [25:09,  8.65s/it]\u001b[A\n",
      "175it [25:18,  8.66s/it]\u001b[A\n",
      "176it [25:26,  8.64s/it]\u001b[A\n",
      "177it [25:35,  8.79s/it]\u001b[A\n",
      "178it [25:44,  8.74s/it]\u001b[A\n",
      "179it [25:53,  8.75s/it]\u001b[A\n",
      "180it [26:01,  8.74s/it]\u001b[A\n",
      "181it [26:10,  8.76s/it]\u001b[A\n",
      "182it [26:19,  8.85s/it]\u001b[A\n",
      "183it [26:28,  8.85s/it]\u001b[A\n",
      "184it [26:37,  8.82s/it]\u001b[A\n",
      "185it [26:46,  8.79s/it]\u001b[A\n",
      "186it [26:54,  8.80s/it]\u001b[A\n",
      "187it [27:04,  8.95s/it]\u001b[A\n",
      "188it [27:12,  8.72s/it]\u001b[A\n",
      "189it [27:20,  8.57s/it]\u001b[A\n",
      "190it [27:29,  8.62s/it]\u001b[A\n",
      "191it [27:38,  8.72s/it]\u001b[A\n",
      "192it [27:47,  8.70s/it]\u001b[A\n",
      "193it [27:56,  9.08s/it]\u001b[A\n",
      "194it [28:04,  8.76s/it]\u001b[A\n",
      "195it [28:13,  8.74s/it]\u001b[A\n",
      "196it [28:22,  8.62s/it]\u001b[A\n",
      "197it [28:30,  8.49s/it]\u001b[A\n",
      "198it [28:38,  8.33s/it]\u001b[A\n",
      "199it [28:45,  8.15s/it]\u001b[A\n",
      "200it [28:54,  8.16s/it]\u001b[A\n",
      "201it [29:02,  8.36s/it]\u001b[A\n",
      "202it [29:11,  8.52s/it]\u001b[A\n",
      "203it [29:20,  8.51s/it]\u001b[A\n",
      "204it [29:28,  8.52s/it]\u001b[A\n",
      "205it [29:37,  8.48s/it]\u001b[A\n",
      "206it [29:46,  8.71s/it]\u001b[A\n",
      "207it [29:55,  8.81s/it]\u001b[A\n",
      "208it [30:03,  8.64s/it]\u001b[A\n",
      "209it [30:11,  8.42s/it]\u001b[A\n",
      "210it [30:19,  8.21s/it]\u001b[A\n",
      "211it [30:27,  8.32s/it]\u001b[A\n",
      "212it [30:39,  9.26s/it]\u001b[A\n",
      "213it [30:47,  9.02s/it]\u001b[A\n",
      "214it [30:56,  8.85s/it]\u001b[A\n",
      "215it [31:04,  8.69s/it]\u001b[A\n",
      "216it [31:13,  8.77s/it]\u001b[A\n",
      "217it [31:22,  8.78s/it]\u001b[A\n",
      "218it [31:31,  8.79s/it]\u001b[A\n",
      "219it [31:39,  8.72s/it]\u001b[A\n",
      "220it [31:47,  8.53s/it]\u001b[A\n",
      "221it [31:56,  8.61s/it]\u001b[A\n",
      "222it [32:04,  8.49s/it]\u001b[A\n",
      "223it [32:13,  8.59s/it]\u001b[A\n",
      "224it [32:21,  8.40s/it]\u001b[A\n",
      "225it [32:31,  8.73s/it]\u001b[A\n",
      "226it [32:42,  9.53s/it]\u001b[A\n",
      "227it [32:50,  8.99s/it]\u001b[A\n",
      "228it [32:58,  8.63s/it]\u001b[A\n",
      "229it [33:06,  8.45s/it]\u001b[A\n",
      "230it [33:14,  8.55s/it]\u001b[A\n",
      "231it [33:22,  8.43s/it]\u001b[A\n",
      "232it [33:30,  8.21s/it]\u001b[A\n",
      "233it [33:39,  8.39s/it]\u001b[A\n",
      "234it [33:49,  8.74s/it]\u001b[A\n",
      "235it [33:57,  8.56s/it]\u001b[A\n",
      "236it [34:06,  8.70s/it]\u001b[A\n",
      "237it [34:14,  8.65s/it]\u001b[A\n",
      "238it [34:23,  8.80s/it]\u001b[A\n",
      "239it [34:32,  8.61s/it]\u001b[A\n",
      "240it [34:40,  8.51s/it]\u001b[A\n",
      "241it [34:48,  8.50s/it]\u001b[A\n",
      "242it [34:59,  9.01s/it]\u001b[A\n",
      "243it [35:07,  8.74s/it]\u001b[A\n",
      "244it [35:15,  8.67s/it]\u001b[A\n",
      "245it [35:24,  8.78s/it]\u001b[A\n",
      "246it [35:33,  8.83s/it]\u001b[A\n",
      "247it [35:42,  8.71s/it]\u001b[A\n",
      "248it [35:50,  8.59s/it]\u001b[A\n",
      "249it [35:59,  8.78s/it]\u001b[A\n",
      "250it [36:08,  8.70s/it]\u001b[A\n",
      "251it [36:16,  8.61s/it]\u001b[A\n",
      "252it [36:25,  8.79s/it]\u001b[A\n",
      "253it [36:33,  8.47s/it]\u001b[A\n",
      "254it [36:41,  8.39s/it]\u001b[A\n",
      "255it [36:50,  8.43s/it]\u001b[A\n",
      "256it [36:58,  8.30s/it]\u001b[A\n",
      "257it [37:06,  8.39s/it]\u001b[A\n",
      "258it [37:15,  8.53s/it]\u001b[A\n",
      "259it [37:23,  8.47s/it]\u001b[A\n",
      "260it [37:32,  8.48s/it]\u001b[A\n",
      "261it [37:41,  8.54s/it]\u001b[A\n",
      "262it [37:49,  8.55s/it]\u001b[A\n",
      "263it [37:58,  8.48s/it]\u001b[A\n",
      "264it [38:07,  8.77s/it]\u001b[A\n",
      "265it [38:15,  8.62s/it]\u001b[A\n",
      "266it [38:23,  8.48s/it]\u001b[A\n",
      "267it [38:32,  8.51s/it]\u001b[A\n",
      "268it [38:41,  8.63s/it]\u001b[A\n",
      "269it [38:49,  8.58s/it]\u001b[A\n",
      "270it [38:58,  8.74s/it]\u001b[A\n",
      "271it [39:08,  8.89s/it]\u001b[A\n",
      "272it [39:16,  8.65s/it]\u001b[A\n",
      "273it [39:25,  8.70s/it]\u001b[A\n",
      "274it [39:33,  8.65s/it]\u001b[A\n",
      "275it [39:42,  8.67s/it]\u001b[A\n",
      "276it [39:51,  8.86s/it]\u001b[A\n",
      "277it [40:00,  8.87s/it]\u001b[A\n",
      "278it [40:09,  8.83s/it]\u001b[A\n",
      "279it [40:17,  8.76s/it]\u001b[A\n",
      "280it [40:25,  8.41s/it]\u001b[A\n",
      "281it [40:33,  8.41s/it]\u001b[A\n",
      "282it [40:41,  8.27s/it]\u001b[A\n",
      "283it [40:50,  8.38s/it]\u001b[A\n",
      "284it [40:58,  8.36s/it]\u001b[A\n",
      "285it [41:07,  8.44s/it]\u001b[A\n",
      "286it [41:15,  8.39s/it]\u001b[A\n",
      "287it [41:24,  8.54s/it]\u001b[A\n",
      "288it [41:33,  8.74s/it]\u001b[A\n",
      "289it [41:42,  8.65s/it]\u001b[A\n",
      "290it [41:50,  8.61s/it]\u001b[A\n",
      "291it [41:59,  8.76s/it]\u001b[A\n",
      "292it [42:08,  8.71s/it]\u001b[A\n",
      "293it [42:16,  8.51s/it]\u001b[A\n",
      "294it [42:24,  8.33s/it]\u001b[A\n",
      "295it [42:32,  8.25s/it]\u001b[A\n",
      "296it [42:40,  8.30s/it]\u001b[A\n",
      "297it [42:49,  8.35s/it]\u001b[A\n",
      "298it [42:58,  8.62s/it]\u001b[A\n",
      "299it [43:06,  8.37s/it]\u001b[A\n",
      "300it [43:14,  8.41s/it]\u001b[A\n",
      "301it [43:23,  8.60s/it]\u001b[A\n",
      "302it [43:32,  8.52s/it]\u001b[A\n",
      "303it [43:42,  9.09s/it]\u001b[A\n",
      "304it [43:51,  8.87s/it]\u001b[A\n",
      "305it [43:59,  8.78s/it]\u001b[A\n",
      "306it [44:11,  9.79s/it]\u001b[A\n",
      "307it [44:20,  9.52s/it]\u001b[A\n",
      "308it [44:28,  9.17s/it]\u001b[A\n",
      "309it [44:37,  9.05s/it]\u001b[A\n",
      "310it [44:46,  8.81s/it]\u001b[A\n",
      "311it [44:55,  8.86s/it]\u001b[A\n",
      "312it [45:04,  9.01s/it]\u001b[A\n",
      "313it [45:12,  8.84s/it]\u001b[A\n",
      "314it [45:21,  8.67s/it]\u001b[A\n",
      "315it [45:30,  8.76s/it]\u001b[A\n",
      "316it [45:38,  8.62s/it]\u001b[A\n",
      "317it [45:46,  8.57s/it]\u001b[A\n",
      "318it [45:55,  8.64s/it]\u001b[A\n",
      "319it [46:04,  8.62s/it]\u001b[A\n",
      "320it [46:12,  8.58s/it]\u001b[A\n",
      "321it [46:20,  8.50s/it]\u001b[A\n",
      "322it [46:29,  8.62s/it]\u001b[A\n",
      "323it [46:39,  8.79s/it]\u001b[A\n",
      "324it [46:47,  8.63s/it]\u001b[A\n",
      "325it [46:56,  8.83s/it]\u001b[A\n",
      "326it [47:05,  8.77s/it]\u001b[A\n",
      "327it [47:13,  8.74s/it]\u001b[A\n",
      "328it [47:22,  8.73s/it]\u001b[A\n",
      "329it [47:31,  8.63s/it]\u001b[A\n",
      "330it [47:38,  8.42s/it]\u001b[A\n",
      "331it [47:47,  8.54s/it]\u001b[A\n",
      "332it [47:56,  8.69s/it]\u001b[A\n",
      "333it [48:05,  8.65s/it]\u001b[A\n",
      "334it [48:13,  8.59s/it]\u001b[A\n",
      "335it [48:22,  8.60s/it]\u001b[A\n",
      "336it [48:30,  8.38s/it]\u001b[A\n",
      "337it [48:39,  8.49s/it]\u001b[A\n",
      "338it [48:48,  8.65s/it]\u001b[A\n",
      "339it [48:56,  8.69s/it]\u001b[A\n",
      "340it [49:05,  8.78s/it]\u001b[A\n",
      "341it [49:14,  8.62s/it]\u001b[A\n",
      "342it [49:22,  8.63s/it]\u001b[A\n",
      "343it [49:31,  8.52s/it]\u001b[A\n",
      "344it [49:39,  8.56s/it]\u001b[A\n",
      "345it [49:47,  8.45s/it]\u001b[A\n",
      "346it [49:57,  8.73s/it]\u001b[A\n",
      "347it [50:06,  8.86s/it]\u001b[A\n",
      "348it [50:14,  8.65s/it]\u001b[A\n",
      "349it [50:23,  8.67s/it]\u001b[A\n",
      "350it [50:31,  8.59s/it]\u001b[A\n",
      "351it [50:40,  8.55s/it]\u001b[A\n",
      "352it [50:48,  8.45s/it]\u001b[A\n",
      "353it [50:57,  8.52s/it]\u001b[A\n",
      "354it [51:05,  8.53s/it]\u001b[A\n",
      "355it [51:15,  8.88s/it]\u001b[A\n",
      "356it [51:23,  8.71s/it]\u001b[A\n",
      "357it [51:31,  8.55s/it]\u001b[A\n",
      "358it [51:40,  8.64s/it]\u001b[A\n",
      "359it [51:50,  8.94s/it]\u001b[A\n",
      "360it [51:58,  8.69s/it]\u001b[A\n",
      "361it [52:07,  8.89s/it]\u001b[A\n",
      "362it [52:16,  8.86s/it]\u001b[A\n",
      "363it [52:24,  8.69s/it]\u001b[A\n",
      "364it [52:33,  8.57s/it]\u001b[A\n",
      "365it [52:41,  8.66s/it]\u001b[A\n"
     ]
    },
    {
     "name": "stdout",
     "output_type": "stream",
     "text": [
      "new_weather shape (17355, 11)\n"
     ]
    },
    {
     "name": "stderr",
     "output_type": "stream",
     "text": [
      "\r",
      " 40%|█████████████████████████████████████████████▌                                                                    | 6/15 [6:27:25<9:37:50, 3852.31s/it]"
     ]
    },
    {
     "name": "stdout",
     "output_type": "stream",
     "text": [
      "update weather data for  Khlong Hoi Khong\n",
      "updateing file: ../data/weather_cities/Khlong_Hoi_Khong.csv\n",
      "missing date 365\n"
     ]
    },
    {
     "name": "stderr",
     "output_type": "stream",
     "text": [
      "\n",
      "0it [00:00, ?it/s]\u001b[A\n",
      "1it [00:09,  9.66s/it]\u001b[A\n",
      "2it [00:18,  9.27s/it]\u001b[A\n",
      "3it [00:26,  9.13s/it]\u001b[A\n",
      "4it [00:35,  8.99s/it]\u001b[A\n",
      "5it [00:43,  8.79s/it]\u001b[A\n",
      "6it [00:51,  8.52s/it]\u001b[A\n",
      "7it [01:00,  8.52s/it]\u001b[A\n",
      "8it [01:08,  8.54s/it]\u001b[A\n",
      "9it [01:18,  8.95s/it]\u001b[A\n",
      "10it [01:26,  8.66s/it]\u001b[A\n",
      "11it [01:34,  8.46s/it]\u001b[A\n",
      "12it [01:43,  8.55s/it]\u001b[A\n",
      "13it [01:51,  8.50s/it]\u001b[A\n",
      "14it [02:01,  8.73s/it]\u001b[A\n",
      "15it [02:14, 10.02s/it]\u001b[A\n",
      "16it [02:22,  9.37s/it]\u001b[A\n",
      "17it [02:30,  9.22s/it]\u001b[A\n",
      "18it [02:39,  8.98s/it]\u001b[A\n",
      "19it [02:47,  8.74s/it]\u001b[A\n",
      "20it [02:55,  8.55s/it]\u001b[A\n",
      "21it [03:03,  8.51s/it]\u001b[A\n",
      "22it [03:11,  8.26s/it]\u001b[A\n",
      "23it [03:20,  8.42s/it]\u001b[A\n",
      "24it [03:28,  8.42s/it]\u001b[A\n",
      "25it [03:36,  8.22s/it]\u001b[A\n",
      "26it [03:45,  8.29s/it]\u001b[A\n",
      "27it [03:53,  8.22s/it]\u001b[A\n",
      "28it [04:00,  8.07s/it]\u001b[A\n",
      "29it [04:09,  8.22s/it]\u001b[A\n",
      "30it [04:17,  8.30s/it]\u001b[A\n",
      "31it [04:26,  8.29s/it]\u001b[A\n",
      "32it [04:34,  8.25s/it]\u001b[A\n",
      "33it [04:42,  8.28s/it]\u001b[A\n",
      "34it [04:50,  8.25s/it]\u001b[A\n",
      "35it [04:58,  8.12s/it]\u001b[A\n",
      "36it [05:07,  8.24s/it]\u001b[A\n",
      "37it [05:15,  8.29s/it]\u001b[A\n",
      "38it [05:24,  8.33s/it]\u001b[A\n",
      "39it [05:32,  8.24s/it]\u001b[A\n",
      "40it [05:40,  8.29s/it]\u001b[A\n",
      "41it [05:48,  8.10s/it]\u001b[A\n",
      "42it [05:56,  8.13s/it]\u001b[A\n",
      "43it [06:04,  8.22s/it]\u001b[A\n",
      "44it [06:12,  8.07s/it]\u001b[A\n",
      "45it [06:20,  8.18s/it]\u001b[A\n",
      "46it [06:29,  8.24s/it]\u001b[A\n",
      "47it [06:37,  8.29s/it]\u001b[A\n",
      "48it [06:45,  8.22s/it]\u001b[A\n",
      "49it [06:53,  8.14s/it]\u001b[A\n",
      "50it [07:01,  8.07s/it]\u001b[A\n",
      "51it [07:09,  8.15s/it]\u001b[A\n",
      "52it [07:17,  7.94s/it]\u001b[A\n",
      "53it [07:25,  7.98s/it]\u001b[A\n",
      "54it [07:33,  8.14s/it]\u001b[A\n",
      "55it [07:42,  8.28s/it]\u001b[A\n",
      "56it [07:51,  8.47s/it]\u001b[A\n",
      "57it [07:59,  8.47s/it]\u001b[A\n",
      "58it [08:07,  8.28s/it]\u001b[A\n",
      "59it [08:15,  8.17s/it]\u001b[A\n",
      "60it [08:23,  8.12s/it]\u001b[A\n",
      "61it [08:31,  7.99s/it]\u001b[A\n",
      "62it [08:40,  8.27s/it]\u001b[A\n",
      "63it [08:48,  8.32s/it]\u001b[A\n",
      "64it [08:56,  8.27s/it]\u001b[A\n",
      "65it [09:04,  8.17s/it]\u001b[A\n",
      "66it [09:13,  8.38s/it]\u001b[A\n",
      "67it [09:22,  8.42s/it]\u001b[A\n",
      "68it [09:31,  8.56s/it]\u001b[A\n",
      "69it [09:39,  8.46s/it]\u001b[A\n",
      "70it [09:46,  8.20s/it]\u001b[A\n",
      "71it [09:54,  8.12s/it]\u001b[A\n",
      "72it [10:03,  8.20s/it]\u001b[A\n",
      "73it [10:11,  8.21s/it]\u001b[A\n",
      "74it [10:20,  8.30s/it]\u001b[A\n",
      "75it [10:28,  8.44s/it]\u001b[A\n",
      "76it [10:37,  8.48s/it]\u001b[A\n",
      "77it [10:45,  8.32s/it]\u001b[A\n",
      "78it [10:53,  8.27s/it]\u001b[A\n",
      "79it [11:01,  8.22s/it]\u001b[A\n",
      "80it [11:09,  8.15s/it]\u001b[A\n",
      "81it [11:17,  8.23s/it]\u001b[A\n",
      "82it [11:27,  8.48s/it]\u001b[A\n",
      "83it [11:35,  8.46s/it]\u001b[A\n",
      "84it [11:43,  8.38s/it]\u001b[A\n",
      "85it [11:52,  8.44s/it]\u001b[A\n",
      "86it [12:00,  8.36s/it]\u001b[A\n",
      "87it [12:08,  8.33s/it]\u001b[A\n",
      "88it [12:16,  8.28s/it]\u001b[A\n",
      "89it [12:25,  8.26s/it]\u001b[A\n",
      "90it [12:34,  8.47s/it]\u001b[A\n",
      "91it [12:43,  8.64s/it]\u001b[A\n",
      "92it [12:51,  8.64s/it]\u001b[A\n",
      "93it [13:00,  8.57s/it]\u001b[A\n",
      "94it [13:08,  8.62s/it]\u001b[A\n",
      "95it [13:17,  8.51s/it]\u001b[A\n",
      "96it [13:25,  8.51s/it]\u001b[A\n",
      "97it [13:34,  8.65s/it]\u001b[A\n",
      "98it [13:42,  8.52s/it]\u001b[A\n",
      "99it [13:51,  8.44s/it]\u001b[A\n",
      "100it [13:59,  8.43s/it]\u001b[A\n",
      "101it [14:07,  8.28s/it]\u001b[A\n",
      "102it [14:16,  8.40s/it]\u001b[A\n",
      "103it [14:24,  8.29s/it]\u001b[A\n",
      "104it [14:33,  8.75s/it]\u001b[A\n",
      "105it [14:41,  8.54s/it]\u001b[A\n",
      "106it [14:50,  8.59s/it]\u001b[A\n",
      "107it [14:59,  8.65s/it]\u001b[A\n",
      "108it [15:07,  8.37s/it]\u001b[A\n",
      "109it [15:15,  8.29s/it]\u001b[A\n",
      "110it [15:23,  8.35s/it]\u001b[A\n",
      "111it [15:33,  8.67s/it]\u001b[A\n",
      "112it [15:42,  8.84s/it]\u001b[A\n",
      "113it [15:50,  8.61s/it]\u001b[A\n",
      "114it [15:58,  8.34s/it]\u001b[A\n",
      "115it [16:06,  8.27s/it]\u001b[A\n",
      "116it [16:14,  8.30s/it]\u001b[A\n",
      "117it [16:23,  8.44s/it]\u001b[A\n",
      "118it [16:36,  9.67s/it]\u001b[A\n",
      "119it [16:44,  9.25s/it]\u001b[A\n",
      "120it [16:52,  8.90s/it]\u001b[A\n",
      "121it [17:00,  8.71s/it]\u001b[A\n",
      "122it [17:09,  8.61s/it]\u001b[A\n",
      "123it [17:16,  8.38s/it]\u001b[A\n",
      "124it [17:24,  8.26s/it]\u001b[A\n",
      "125it [17:32,  8.17s/it]\u001b[A\n",
      "126it [17:40,  8.00s/it]\u001b[A\n",
      "127it [17:49,  8.21s/it]\u001b[A\n",
      "128it [17:57,  8.20s/it]\u001b[A\n",
      "129it [18:05,  8.23s/it]\u001b[A\n",
      "130it [18:13,  8.11s/it]\u001b[A\n",
      "131it [18:21,  8.16s/it]\u001b[A\n",
      "132it [18:29,  8.14s/it]\u001b[A\n",
      "133it [18:37,  8.16s/it]\u001b[A\n",
      "134it [18:45,  8.05s/it]\u001b[A\n",
      "135it [18:53,  8.07s/it]\u001b[A\n",
      "136it [19:01,  8.05s/it]\u001b[A\n",
      "137it [19:10,  8.17s/it]\u001b[A\n",
      "138it [19:18,  8.07s/it]\u001b[A\n",
      "139it [19:26,  8.21s/it]\u001b[A\n",
      "140it [19:35,  8.26s/it]\u001b[A\n",
      "141it [19:43,  8.40s/it]\u001b[A\n",
      "142it [19:51,  8.20s/it]\u001b[A\n",
      "143it [19:59,  8.16s/it]\u001b[A\n",
      "144it [20:07,  8.13s/it]\u001b[A\n",
      "145it [20:16,  8.24s/it]\u001b[A\n",
      "146it [20:24,  8.22s/it]\u001b[A\n",
      "147it [20:32,  8.09s/it]\u001b[A\n",
      "148it [20:40,  8.08s/it]\u001b[A\n",
      "149it [20:48,  8.09s/it]\u001b[A\n",
      "150it [20:56,  8.11s/it]\u001b[A\n",
      "151it [21:05,  8.46s/it]\u001b[A\n",
      "152it [21:13,  8.31s/it]\u001b[A\n",
      "153it [21:21,  8.21s/it]\u001b[A\n",
      "154it [21:30,  8.29s/it]\u001b[A\n",
      "155it [21:38,  8.35s/it]\u001b[A\n",
      "156it [21:47,  8.50s/it]\u001b[A\n",
      "157it [21:55,  8.35s/it]\u001b[A\n",
      "158it [22:04,  8.44s/it]\u001b[A\n",
      "159it [22:12,  8.37s/it]\u001b[A\n",
      "160it [22:21,  8.47s/it]\u001b[A\n",
      "161it [22:28,  8.30s/it]\u001b[A\n",
      "162it [22:36,  8.14s/it]\u001b[A\n",
      "163it [22:45,  8.31s/it]\u001b[A\n",
      "164it [22:53,  8.35s/it]\u001b[A\n",
      "165it [23:02,  8.34s/it]\u001b[A\n",
      "166it [23:10,  8.26s/it]\u001b[A\n",
      "167it [23:18,  8.36s/it]\u001b[A\n",
      "168it [23:26,  8.24s/it]\u001b[A\n",
      "169it [23:34,  8.08s/it]\u001b[A\n",
      "170it [23:43,  8.22s/it]\u001b[A\n",
      "171it [23:51,  8.22s/it]\u001b[A\n",
      "172it [23:59,  8.22s/it]\u001b[A\n",
      "173it [24:07,  8.27s/it]\u001b[A\n",
      "174it [24:16,  8.30s/it]\u001b[A\n",
      "175it [24:24,  8.34s/it]\u001b[A\n",
      "176it [24:33,  8.35s/it]\u001b[A\n",
      "177it [24:41,  8.43s/it]\u001b[A\n",
      "178it [24:49,  8.23s/it]\u001b[A\n",
      "179it [24:57,  8.23s/it]\u001b[A\n",
      "180it [25:06,  8.42s/it]\u001b[A\n",
      "181it [25:14,  8.36s/it]\u001b[A\n",
      "182it [25:22,  8.28s/it]\u001b[A\n",
      "183it [25:31,  8.41s/it]\u001b[A\n",
      "184it [25:39,  8.27s/it]\u001b[A\n",
      "185it [25:47,  8.23s/it]\u001b[A\n",
      "186it [25:56,  8.28s/it]\u001b[A\n",
      "187it [26:04,  8.36s/it]\u001b[A\n",
      "188it [26:12,  8.34s/it]\u001b[A\n",
      "189it [26:20,  8.15s/it]\u001b[A\n",
      "190it [26:29,  8.40s/it]\u001b[A\n",
      "191it [26:38,  8.53s/it]\u001b[A\n",
      "192it [26:46,  8.47s/it]\u001b[A\n",
      "193it [26:54,  8.36s/it]\u001b[A\n",
      "194it [27:02,  8.27s/it]\u001b[A\n",
      "195it [27:14,  9.16s/it]\u001b[A\n",
      "196it [27:22,  8.85s/it]\u001b[A\n",
      "197it [27:30,  8.58s/it]\u001b[A\n",
      "198it [27:39,  8.67s/it]\u001b[A\n",
      "199it [27:47,  8.47s/it]\u001b[A\n",
      "200it [27:55,  8.48s/it]\u001b[A\n",
      "201it [28:04,  8.65s/it]\u001b[A\n",
      "202it [28:13,  8.63s/it]\u001b[A\n",
      "203it [28:21,  8.55s/it]\u001b[A\n",
      "204it [28:30,  8.58s/it]\u001b[A\n",
      "205it [28:38,  8.43s/it]\u001b[A\n",
      "206it [28:47,  8.58s/it]\u001b[A\n",
      "207it [28:54,  8.34s/it]\u001b[A\n",
      "208it [29:02,  8.19s/it]\u001b[A\n",
      "209it [29:11,  8.39s/it]\u001b[A\n",
      "210it [29:19,  8.30s/it]\u001b[A\n",
      "211it [29:28,  8.37s/it]\u001b[A\n",
      "212it [29:36,  8.30s/it]\u001b[A\n",
      "213it [29:44,  8.22s/it]\u001b[A\n",
      "214it [29:52,  8.19s/it]\u001b[A\n",
      "215it [30:01,  8.37s/it]\u001b[A\n",
      "216it [30:10,  8.64s/it]\u001b[A\n",
      "217it [30:19,  8.58s/it]\u001b[A\n",
      "218it [30:27,  8.53s/it]\u001b[A\n",
      "219it [30:35,  8.51s/it]\u001b[A\n",
      "220it [30:43,  8.35s/it]\u001b[A\n",
      "221it [30:52,  8.37s/it]\u001b[A\n",
      "222it [31:01,  8.63s/it]\u001b[A\n",
      "223it [31:09,  8.51s/it]\u001b[A\n",
      "224it [31:18,  8.45s/it]\u001b[A\n",
      "225it [31:26,  8.34s/it]\u001b[A\n",
      "226it [31:35,  8.57s/it]\u001b[A\n",
      "227it [31:43,  8.36s/it]\u001b[A\n",
      "228it [31:51,  8.44s/it]\u001b[A\n",
      "229it [31:59,  8.28s/it]\u001b[A\n",
      "230it [32:08,  8.37s/it]\u001b[A\n",
      "231it [32:17,  8.52s/it]\u001b[A\n",
      "232it [32:25,  8.38s/it]\u001b[A\n",
      "233it [32:33,  8.48s/it]\u001b[A\n",
      "234it [32:42,  8.41s/it]\u001b[A\n",
      "235it [32:50,  8.53s/it]\u001b[A\n",
      "236it [32:59,  8.40s/it]\u001b[A\n",
      "237it [33:07,  8.45s/it]\u001b[A\n",
      "238it [33:16,  8.54s/it]\u001b[A\n",
      "239it [33:24,  8.33s/it]\u001b[A\n",
      "240it [33:32,  8.29s/it]\u001b[A\n",
      "241it [33:40,  8.10s/it]\u001b[A\n",
      "242it [33:47,  8.03s/it]\u001b[A\n",
      "243it [33:56,  8.17s/it]\u001b[A\n",
      "244it [34:04,  8.28s/it]\u001b[A\n",
      "245it [34:13,  8.46s/it]\u001b[A\n",
      "246it [34:21,  8.24s/it]\u001b[A\n",
      "247it [34:31,  8.61s/it]\u001b[A\n",
      "248it [34:39,  8.41s/it]\u001b[A\n",
      "249it [34:46,  8.12s/it]\u001b[A\n",
      "250it [34:54,  8.13s/it]\u001b[A\n",
      "251it [35:02,  8.14s/it]\u001b[A\n",
      "252it [35:11,  8.32s/it]\u001b[A\n",
      "253it [35:20,  8.43s/it]\u001b[A\n",
      "254it [35:28,  8.40s/it]\u001b[A\n",
      "255it [35:36,  8.36s/it]\u001b[A\n",
      "256it [35:44,  8.17s/it]\u001b[A\n",
      "257it [35:53,  8.27s/it]\u001b[A\n",
      "258it [36:01,  8.36s/it]\u001b[A\n",
      "259it [36:10,  8.51s/it]\u001b[A\n",
      "260it [36:21,  9.22s/it]\u001b[A\n",
      "261it [36:29,  8.96s/it]\u001b[A\n",
      "262it [36:38,  8.97s/it]\u001b[A\n",
      "263it [36:47,  8.82s/it]\u001b[A\n",
      "264it [36:55,  8.62s/it]\u001b[A\n",
      "265it [37:04,  8.66s/it]\u001b[A\n",
      "266it [37:12,  8.51s/it]\u001b[A\n",
      "267it [37:20,  8.52s/it]\u001b[A\n",
      "268it [37:29,  8.48s/it]\u001b[A\n",
      "269it [37:37,  8.35s/it]\u001b[A\n",
      "270it [37:45,  8.36s/it]\u001b[A\n",
      "271it [37:53,  8.33s/it]\u001b[A\n",
      "272it [38:01,  8.21s/it]\u001b[A\n",
      "273it [38:09,  8.22s/it]\u001b[A\n",
      "274it [38:18,  8.23s/it]\u001b[A\n",
      "275it [38:26,  8.37s/it]\u001b[A\n",
      "276it [38:35,  8.43s/it]\u001b[A\n",
      "277it [38:43,  8.32s/it]\u001b[A\n",
      "278it [38:51,  8.23s/it]\u001b[A\n",
      "279it [38:59,  8.27s/it]\u001b[A\n",
      "280it [39:08,  8.23s/it]\u001b[A\n",
      "281it [39:16,  8.29s/it]\u001b[A\n",
      "282it [39:24,  8.05s/it]\u001b[A\n",
      "283it [39:32,  8.12s/it]\u001b[A\n",
      "284it [39:40,  8.05s/it]\u001b[A\n",
      "285it [39:48,  8.06s/it]\u001b[A\n",
      "286it [39:56,  8.07s/it]\u001b[A\n",
      "287it [40:04,  8.08s/it]\u001b[A\n",
      "288it [40:12,  8.05s/it]\u001b[A\n",
      "289it [40:20,  8.02s/it]\u001b[A\n",
      "290it [40:28,  8.16s/it]\u001b[A\n",
      "291it [40:37,  8.43s/it]\u001b[A\n",
      "292it [40:47,  8.66s/it]\u001b[A\n",
      "293it [40:55,  8.54s/it]\u001b[A\n",
      "294it [41:03,  8.48s/it]\u001b[A\n",
      "295it [41:11,  8.32s/it]\u001b[A\n",
      "296it [41:20,  8.37s/it]\u001b[A\n",
      "297it [41:28,  8.41s/it]\u001b[A\n",
      "298it [41:36,  8.37s/it]\u001b[A\n",
      "299it [41:48,  9.21s/it]\u001b[A\n",
      "300it [41:56,  8.92s/it]\u001b[A\n",
      "301it [42:04,  8.69s/it]\u001b[A\n",
      "302it [42:12,  8.55s/it]\u001b[A\n",
      "303it [42:21,  8.48s/it]\u001b[A\n",
      "304it [42:29,  8.49s/it]\u001b[A\n",
      "305it [42:38,  8.49s/it]\u001b[A\n",
      "306it [42:45,  8.22s/it]\u001b[A\n",
      "307it [42:53,  8.14s/it]\u001b[A\n",
      "308it [43:01,  8.00s/it]\u001b[A\n",
      "309it [43:08,  7.90s/it]\u001b[A\n",
      "310it [43:16,  7.87s/it]\u001b[A\n",
      "311it [43:25,  8.09s/it]\u001b[A\n",
      "312it [43:33,  7.97s/it]\u001b[A\n",
      "313it [43:42,  8.34s/it]\u001b[A\n",
      "314it [43:50,  8.40s/it]\u001b[A\n",
      "315it [43:59,  8.42s/it]\u001b[A\n",
      "316it [44:07,  8.23s/it]\u001b[A\n",
      "317it [44:14,  8.13s/it]\u001b[A\n",
      "318it [44:22,  8.10s/it]\u001b[A\n",
      "319it [44:31,  8.24s/it]\u001b[A\n",
      "320it [44:40,  8.32s/it]\u001b[A\n",
      "321it [44:47,  8.20s/it]\u001b[A\n",
      "322it [44:56,  8.43s/it]\u001b[A\n",
      "323it [45:05,  8.57s/it]\u001b[A\n",
      "324it [45:14,  8.70s/it]\u001b[A\n",
      "325it [45:23,  8.80s/it]\u001b[A\n",
      "326it [45:32,  8.79s/it]\u001b[A\n",
      "327it [45:41,  8.73s/it]\u001b[A\n",
      "328it [45:49,  8.67s/it]\u001b[A\n",
      "329it [45:58,  8.58s/it]\u001b[A\n",
      "330it [46:06,  8.50s/it]\u001b[A\n",
      "331it [46:14,  8.52s/it]\u001b[A\n",
      "332it [46:23,  8.60s/it]\u001b[A\n",
      "333it [46:32,  8.71s/it]\u001b[A\n",
      "334it [46:41,  8.69s/it]\u001b[A\n",
      "335it [46:50,  8.73s/it]\u001b[A\n",
      "336it [46:58,  8.67s/it]\u001b[A\n",
      "337it [47:07,  8.66s/it]\u001b[A\n",
      "338it [47:15,  8.57s/it]\u001b[A\n",
      "339it [47:24,  8.59s/it]\u001b[A\n",
      "340it [47:32,  8.47s/it]\u001b[A\n",
      "341it [47:42,  8.85s/it]\u001b[A\n",
      "342it [47:50,  8.72s/it]\u001b[A\n",
      "343it [47:58,  8.46s/it]\u001b[A\n",
      "344it [48:07,  8.55s/it]\u001b[A\n",
      "345it [48:15,  8.48s/it]\u001b[A\n",
      "346it [48:24,  8.54s/it]\u001b[A\n",
      "347it [48:32,  8.47s/it]\u001b[A\n",
      "348it [48:41,  8.49s/it]\u001b[A\n",
      "349it [48:49,  8.51s/it]\u001b[A\n",
      "350it [48:58,  8.48s/it]\u001b[A\n",
      "351it [49:06,  8.32s/it]\u001b[A\n",
      "352it [49:14,  8.45s/it]\u001b[A\n",
      "353it [49:23,  8.60s/it]\u001b[A\n",
      "354it [49:32,  8.67s/it]\u001b[A\n",
      "355it [49:40,  8.55s/it]\u001b[A\n",
      "356it [49:48,  8.38s/it]\u001b[A\n",
      "357it [49:57,  8.43s/it]\u001b[A\n",
      "358it [50:05,  8.47s/it]\u001b[A\n",
      "359it [50:17,  9.25s/it]\u001b[A\n",
      "360it [50:25,  8.93s/it]\u001b[A\n",
      "361it [50:33,  8.82s/it]\u001b[A\n",
      "362it [50:43,  8.97s/it]\u001b[A\n",
      "363it [50:52,  9.09s/it]\u001b[A\n",
      "364it [51:00,  8.78s/it]\u001b[A\n",
      "365it [51:09,  8.41s/it]\u001b[A\n"
     ]
    },
    {
     "name": "stdout",
     "output_type": "stream",
     "text": [
      "new_weather shape (17300, 11)\n"
     ]
    },
    {
     "name": "stderr",
     "output_type": "stream",
     "text": [
      "\r",
      " 47%|█████████████████████████████████████████████████████▏                                                            | 7/15 [7:19:12<8:03:50, 3628.75s/it]"
     ]
    },
    {
     "name": "stdout",
     "output_type": "stream",
     "text": [
      "update weather data for  Khlong Hoi Khong\n",
      "updateing file: ../data/weather_cities/Khlong_Hoi_Khong.csv\n",
      "missing date 365\n"
     ]
    },
    {
     "name": "stderr",
     "output_type": "stream",
     "text": [
      "\n",
      "0it [00:00, ?it/s]\u001b[A\n",
      "1it [00:08,  8.62s/it]\u001b[A\n",
      "2it [00:17,  8.75s/it]\u001b[A\n",
      "3it [00:26,  8.78s/it]\u001b[A\n",
      "4it [00:34,  8.55s/it]\u001b[A\n",
      "5it [00:43,  8.57s/it]\u001b[A\n",
      "6it [00:52,  8.82s/it]\u001b[A\n",
      "7it [01:00,  8.70s/it]\u001b[A\n",
      "8it [01:09,  8.56s/it]\u001b[A\n",
      "9it [01:17,  8.60s/it]\u001b[A\n",
      "10it [01:27,  8.77s/it]\u001b[A\n",
      "11it [01:35,  8.64s/it]\u001b[A\n",
      "12it [01:44,  8.70s/it]\u001b[A\n",
      "13it [01:53,  8.82s/it]\u001b[A\n",
      "14it [02:01,  8.48s/it]\u001b[A\n",
      "15it [02:09,  8.41s/it]\u001b[A\n",
      "16it [02:17,  8.45s/it]\u001b[A\n",
      "17it [02:25,  8.34s/it]\u001b[A\n",
      "18it [02:34,  8.27s/it]\u001b[A\n",
      "19it [02:42,  8.38s/it]\u001b[A\n",
      "20it [02:51,  8.44s/it]\u001b[A\n",
      "21it [03:00,  8.69s/it]\u001b[A\n",
      "22it [03:08,  8.55s/it]\u001b[A\n",
      "23it [03:17,  8.54s/it]\u001b[A\n",
      "24it [03:25,  8.46s/it]\u001b[A\n",
      "25it [03:33,  8.39s/it]\u001b[A\n",
      "26it [03:42,  8.60s/it]\u001b[A\n",
      "27it [03:50,  8.39s/it]\u001b[A\n",
      "28it [03:58,  8.33s/it]\u001b[A\n",
      "29it [04:06,  8.23s/it]\u001b[A\n",
      "30it [04:15,  8.41s/it]\u001b[A\n",
      "31it [04:24,  8.44s/it]\u001b[A\n",
      "32it [04:32,  8.32s/it]\u001b[A\n",
      "33it [04:40,  8.21s/it]\u001b[A\n",
      "34it [04:48,  8.32s/it]\u001b[A\n",
      "35it [04:56,  8.26s/it]\u001b[A\n",
      "36it [05:05,  8.44s/it]\u001b[A\n",
      "37it [05:14,  8.41s/it]\u001b[A\n",
      "38it [05:21,  8.23s/it]\u001b[A\n",
      "39it [05:29,  8.10s/it]\u001b[A\n",
      "40it [05:38,  8.38s/it]\u001b[A\n",
      "41it [05:47,  8.36s/it]\u001b[A\n",
      "42it [05:55,  8.34s/it]\u001b[A\n",
      "43it [06:03,  8.18s/it]\u001b[A\n",
      "44it [06:11,  8.36s/it]\u001b[A\n",
      "45it [06:20,  8.30s/it]\u001b[A\n",
      "46it [06:28,  8.37s/it]\u001b[A\n",
      "47it [06:36,  8.26s/it]\u001b[A\n",
      "48it [06:44,  8.18s/it]\u001b[A\n",
      "49it [06:52,  8.21s/it]\u001b[A\n",
      "50it [07:00,  8.12s/it]\u001b[A\n",
      "51it [07:10,  8.53s/it]\u001b[A\n",
      "52it [07:19,  8.78s/it]\u001b[A\n",
      "53it [07:28,  8.68s/it]\u001b[A\n",
      "54it [07:35,  8.42s/it]\u001b[A\n",
      "55it [07:44,  8.38s/it]\u001b[A\n",
      "56it [07:51,  8.19s/it]\u001b[A\n",
      "57it [08:00,  8.30s/it]\u001b[A\n",
      "58it [08:08,  8.27s/it]\u001b[A\n",
      "59it [08:17,  8.36s/it]\u001b[A\n",
      "60it [08:25,  8.24s/it]\u001b[A\n",
      "61it [08:34,  8.47s/it]\u001b[A\n",
      "62it [08:43,  8.54s/it]\u001b[A\n",
      "63it [08:50,  8.33s/it]\u001b[A\n",
      "64it [08:58,  8.20s/it]\u001b[A\n",
      "65it [09:06,  8.11s/it]\u001b[A\n",
      "66it [09:14,  8.12s/it]\u001b[A\n",
      "67it [09:22,  8.09s/it]\u001b[A\n",
      "68it [09:30,  8.08s/it]\u001b[A\n",
      "69it [09:38,  8.09s/it]\u001b[A\n",
      "70it [09:47,  8.36s/it]\u001b[A\n",
      "71it [09:56,  8.34s/it]\u001b[A\n",
      "72it [10:04,  8.33s/it]\u001b[A\n",
      "73it [10:13,  8.59s/it]\u001b[A\n",
      "74it [10:22,  8.71s/it]\u001b[A\n",
      "75it [10:31,  8.76s/it]\u001b[A\n",
      "76it [10:40,  8.72s/it]\u001b[A\n",
      "77it [10:48,  8.52s/it]\u001b[A\n",
      "78it [10:56,  8.40s/it]\u001b[A\n",
      "79it [11:04,  8.20s/it]\u001b[A\n",
      "80it [11:12,  8.23s/it]\u001b[A\n",
      "81it [11:20,  8.25s/it]\u001b[A\n",
      "82it [11:29,  8.30s/it]\u001b[A\n",
      "83it [11:37,  8.23s/it]\u001b[A\n",
      "84it [11:45,  8.15s/it]\u001b[A\n",
      "85it [11:53,  8.22s/it]\u001b[A\n",
      "86it [12:01,  8.07s/it]\u001b[A\n",
      "87it [12:09,  8.14s/it]\u001b[A\n",
      "88it [12:18,  8.22s/it]\u001b[A\n",
      "89it [12:26,  8.39s/it]\u001b[A\n",
      "90it [12:35,  8.55s/it]\u001b[A\n",
      "91it [12:43,  8.35s/it]\u001b[A\n",
      "92it [12:51,  8.16s/it]\u001b[A\n",
      "93it [12:59,  8.24s/it]\u001b[A\n",
      "94it [13:08,  8.25s/it]\u001b[A\n",
      "95it [13:16,  8.21s/it]\u001b[A\n",
      "96it [13:23,  8.09s/it]\u001b[A\n",
      "97it [13:32,  8.17s/it]\u001b[A\n",
      "98it [13:40,  8.16s/it]\u001b[A\n",
      "99it [13:48,  8.14s/it]\u001b[A\n",
      "100it [13:56,  8.14s/it]\u001b[A\n",
      "101it [14:05,  8.26s/it]\u001b[A\n",
      "102it [14:13,  8.17s/it]\u001b[A\n",
      "103it [14:21,  8.32s/it]\u001b[A\n",
      "104it [14:29,  8.18s/it]\u001b[A\n",
      "105it [14:37,  8.16s/it]\u001b[A\n",
      "106it [14:46,  8.16s/it]\u001b[A\n",
      "107it [14:54,  8.25s/it]\u001b[A\n",
      "108it [15:02,  8.14s/it]\u001b[A\n",
      "109it [15:10,  8.05s/it]\u001b[A\n",
      "110it [15:18,  7.98s/it]\u001b[A\n",
      "111it [15:26,  8.10s/it]\u001b[A\n",
      "112it [15:34,  8.13s/it]\u001b[A\n",
      "113it [15:42,  8.10s/it]\u001b[A\n",
      "114it [15:50,  8.04s/it]\u001b[A\n",
      "115it [15:58,  7.97s/it]\u001b[A\n",
      "116it [16:06,  7.90s/it]\u001b[A\n",
      "117it [16:14,  8.01s/it]\u001b[A\n",
      "118it [16:22,  7.95s/it]\u001b[A\n",
      "119it [16:30,  8.17s/it]\u001b[A\n",
      "120it [16:39,  8.20s/it]\u001b[A\n",
      "121it [16:47,  8.16s/it]\u001b[A\n",
      "122it [16:55,  8.13s/it]\u001b[A\n",
      "123it [17:04,  8.36s/it]\u001b[A\n",
      "124it [17:11,  8.11s/it]\u001b[A\n",
      "125it [17:19,  8.13s/it]\u001b[A\n",
      "126it [17:28,  8.19s/it]\u001b[A\n",
      "127it [17:35,  8.03s/it]\u001b[A\n",
      "128it [17:44,  8.08s/it]\u001b[A\n",
      "129it [17:51,  7.98s/it]\u001b[A\n",
      "130it [17:59,  8.02s/it]\u001b[A\n",
      "131it [18:08,  8.08s/it]\u001b[A\n",
      "132it [18:15,  7.99s/it]\u001b[A\n",
      "133it [18:23,  7.93s/it]\u001b[A\n",
      "134it [18:31,  7.97s/it]\u001b[A\n",
      "135it [18:42,  8.76s/it]\u001b[A\n",
      "136it [18:50,  8.48s/it]\u001b[A\n",
      "137it [18:58,  8.38s/it]\u001b[A\n",
      "138it [19:06,  8.28s/it]\u001b[A\n",
      "139it [19:14,  8.28s/it]\u001b[A\n",
      "140it [19:22,  8.17s/it]\u001b[A\n",
      "141it [19:30,  8.14s/it]\u001b[A\n",
      "142it [19:38,  8.10s/it]\u001b[A\n",
      "143it [19:47,  8.33s/it]\u001b[A\n",
      "144it [19:55,  8.18s/it]\u001b[A\n",
      "145it [20:03,  8.24s/it]\u001b[A\n",
      "146it [20:12,  8.29s/it]\u001b[A\n",
      "147it [20:19,  8.17s/it]\u001b[A\n",
      "148it [20:27,  8.09s/it]\u001b[A\n",
      "149it [20:37,  8.56s/it]\u001b[A\n",
      "150it [20:47,  8.96s/it]\u001b[A\n",
      "151it [20:55,  8.76s/it]\u001b[A\n",
      "152it [21:04,  8.63s/it]\u001b[A\n",
      "153it [21:11,  8.35s/it]\u001b[A\n",
      "154it [21:19,  8.29s/it]\u001b[A\n",
      "155it [21:27,  8.21s/it]\u001b[A\n",
      "156it [21:36,  8.37s/it]\u001b[A\n",
      "157it [21:46,  8.80s/it]\u001b[A\n",
      "158it [21:55,  8.75s/it]\u001b[A\n",
      "159it [22:03,  8.66s/it]\u001b[A\n",
      "160it [22:12,  8.65s/it]\u001b[A\n",
      "161it [22:20,  8.69s/it]\u001b[A\n",
      "162it [22:28,  8.42s/it]\u001b[A\n",
      "163it [22:37,  8.54s/it]\u001b[A\n",
      "164it [22:45,  8.39s/it]\u001b[A\n",
      "165it [22:53,  8.36s/it]\u001b[A\n",
      "166it [23:02,  8.35s/it]\u001b[A\n",
      "167it [23:10,  8.38s/it]\u001b[A\n",
      "168it [23:19,  8.61s/it]\u001b[A\n",
      "169it [23:28,  8.60s/it]\u001b[A\n",
      "170it [23:37,  8.60s/it]\u001b[A\n",
      "171it [23:44,  8.41s/it]\u001b[A\n",
      "172it [23:53,  8.47s/it]\u001b[A\n",
      "173it [24:01,  8.33s/it]\u001b[A\n",
      "174it [24:10,  8.35s/it]\u001b[A\n",
      "175it [24:18,  8.42s/it]\u001b[A\n",
      "176it [24:26,  8.36s/it]\u001b[A\n",
      "177it [24:35,  8.37s/it]\u001b[A\n",
      "178it [24:45,  9.03s/it]\u001b[A\n",
      "179it [24:56,  9.53s/it]\u001b[A\n",
      "180it [25:05,  9.29s/it]\u001b[A\n",
      "181it [25:12,  8.74s/it]\u001b[A\n",
      "182it [25:20,  8.46s/it]\u001b[A\n",
      "183it [25:28,  8.29s/it]\u001b[A\n",
      "184it [25:39,  9.03s/it]\u001b[A\n",
      "185it [25:47,  8.99s/it]\u001b[A\n",
      "186it [25:55,  8.66s/it]\u001b[A\n",
      "187it [26:04,  8.54s/it]\u001b[A\n",
      "188it [26:11,  8.33s/it]\u001b[A\n",
      "189it [26:20,  8.23s/it]\u001b[A\n",
      "190it [26:28,  8.26s/it]\u001b[A\n",
      "191it [26:36,  8.17s/it]\u001b[A\n",
      "192it [26:44,  8.17s/it]\u001b[A\n",
      "193it [26:52,  8.10s/it]\u001b[A\n",
      "194it [27:00,  8.05s/it]\u001b[A\n",
      "195it [27:08,  8.21s/it]\u001b[A\n",
      "196it [27:16,  8.03s/it]\u001b[A\n",
      "197it [27:24,  8.04s/it]\u001b[A\n",
      "198it [27:32,  8.04s/it]\u001b[A\n",
      "199it [27:41,  8.27s/it]\u001b[A\n",
      "200it [27:50,  8.56s/it]\u001b[A\n",
      "201it [28:01,  9.17s/it]\u001b[A\n",
      "202it [28:12,  9.81s/it]\u001b[A\n",
      "203it [28:23, 10.02s/it]\u001b[A\n",
      "204it [28:34, 10.37s/it]\u001b[A\n",
      "205it [28:42,  9.71s/it]\u001b[A\n",
      "206it [28:50,  9.28s/it]\u001b[A\n",
      "207it [28:59,  9.02s/it]\u001b[A\n",
      "208it [29:07,  8.72s/it]\u001b[A\n",
      "209it [29:15,  8.49s/it]\u001b[A\n",
      "210it [29:23,  8.46s/it]\u001b[A\n",
      "211it [29:32,  8.78s/it]\u001b[A\n",
      "212it [29:40,  8.52s/it]\u001b[A\n",
      "213it [29:49,  8.68s/it]\u001b[A\n",
      "214it [29:57,  8.48s/it]\u001b[A\n",
      "215it [30:05,  8.33s/it]\u001b[A\n",
      "216it [30:14,  8.27s/it]\u001b[A\n",
      "217it [30:22,  8.17s/it]\u001b[A\n",
      "218it [30:30,  8.18s/it]\u001b[A\n",
      "219it [30:38,  8.11s/it]\u001b[A\n",
      "220it [30:47,  8.45s/it]\u001b[A\n",
      "221it [30:55,  8.42s/it]\u001b[A\n",
      "222it [31:04,  8.43s/it]\u001b[A\n",
      "223it [31:12,  8.37s/it]\u001b[A\n",
      "224it [31:20,  8.29s/it]\u001b[A\n",
      "225it [31:28,  8.31s/it]\u001b[A\n",
      "226it [31:37,  8.31s/it]\u001b[A\n",
      "227it [31:45,  8.35s/it]\u001b[A\n",
      "228it [31:54,  8.47s/it]\u001b[A\n",
      "229it [32:02,  8.43s/it]\u001b[A\n",
      "230it [32:10,  8.24s/it]\u001b[A\n",
      "231it [32:19,  8.56s/it]\u001b[A\n",
      "232it [32:29,  8.75s/it]\u001b[A\n",
      "233it [32:37,  8.60s/it]\u001b[A\n",
      "234it [32:45,  8.57s/it]\u001b[A\n",
      "235it [32:54,  8.51s/it]\u001b[A\n",
      "236it [33:02,  8.41s/it]\u001b[A\n",
      "237it [33:10,  8.25s/it]\u001b[A\n",
      "238it [33:18,  8.40s/it]\u001b[A\n",
      "239it [33:27,  8.33s/it]\u001b[A\n",
      "240it [33:34,  8.13s/it]\u001b[A\n",
      "241it [33:42,  8.14s/it]\u001b[A\n",
      "242it [33:51,  8.17s/it]\u001b[A\n",
      "243it [33:59,  8.10s/it]\u001b[A\n",
      "244it [34:07,  8.22s/it]\u001b[A\n",
      "245it [34:16,  8.29s/it]\u001b[A\n",
      "246it [34:24,  8.28s/it]\u001b[A\n",
      "247it [34:32,  8.35s/it]\u001b[A\n",
      "248it [34:41,  8.35s/it]\u001b[A\n",
      "249it [34:49,  8.26s/it]\u001b[A\n",
      "250it [34:57,  8.26s/it]\u001b[A\n",
      "251it [35:05,  8.26s/it]\u001b[A\n",
      "252it [35:14,  8.25s/it]\u001b[A\n",
      "253it [35:22,  8.29s/it]\u001b[A\n",
      "254it [35:30,  8.32s/it]\u001b[A\n",
      "255it [35:38,  8.25s/it]\u001b[A\n",
      "256it [35:47,  8.34s/it]\u001b[A\n",
      "257it [35:56,  8.47s/it]\u001b[A\n",
      "258it [36:05,  8.80s/it]\u001b[A\n",
      "259it [36:14,  8.83s/it]\u001b[A\n",
      "260it [36:23,  8.75s/it]\u001b[A\n",
      "261it [36:31,  8.62s/it]\u001b[A\n",
      "262it [36:40,  8.57s/it]\u001b[A\n",
      "263it [36:48,  8.44s/it]\u001b[A\n",
      "264it [36:56,  8.45s/it]\u001b[A\n",
      "265it [37:04,  8.40s/it]\u001b[A\n",
      "266it [37:12,  8.22s/it]\u001b[A\n",
      "267it [37:21,  8.25s/it]\u001b[A\n",
      "268it [37:28,  8.07s/it]\u001b[A\n",
      "269it [37:37,  8.21s/it]\u001b[A\n",
      "270it [37:44,  8.04s/it]\u001b[A\n",
      "271it [37:52,  8.06s/it]\u001b[A\n",
      "272it [38:01,  8.06s/it]\u001b[A\n",
      "273it [38:09,  8.14s/it]\u001b[A\n",
      "274it [38:17,  8.27s/it]\u001b[A\n",
      "275it [38:26,  8.46s/it]\u001b[A\n",
      "276it [38:35,  8.58s/it]\u001b[A\n",
      "277it [38:44,  8.56s/it]\u001b[A\n",
      "278it [38:52,  8.52s/it]\u001b[A\n",
      "279it [39:00,  8.38s/it]\u001b[A\n",
      "280it [39:09,  8.43s/it]\u001b[A\n",
      "281it [39:17,  8.39s/it]\u001b[A\n",
      "282it [39:25,  8.30s/it]\u001b[A\n",
      "283it [39:33,  8.25s/it]\u001b[A\n",
      "284it [39:42,  8.34s/it]\u001b[A\n",
      "285it [39:50,  8.38s/it]\u001b[A\n",
      "286it [39:59,  8.58s/it]\u001b[A\n",
      "287it [40:08,  8.63s/it]\u001b[A\n",
      "288it [40:16,  8.45s/it]\u001b[A\n",
      "289it [40:25,  8.44s/it]\u001b[A\n",
      "290it [40:33,  8.31s/it]\u001b[A\n",
      "291it [40:41,  8.30s/it]\u001b[A\n",
      "292it [40:49,  8.17s/it]\u001b[A\n",
      "293it [40:57,  8.23s/it]\u001b[A\n",
      "294it [41:05,  8.11s/it]\u001b[A\n",
      "295it [41:14,  8.46s/it]\u001b[A\n",
      "296it [41:22,  8.33s/it]\u001b[A\n",
      "297it [41:30,  8.29s/it]\u001b[A\n",
      "298it [41:38,  8.20s/it]\u001b[A\n",
      "299it [41:47,  8.31s/it]\u001b[A\n",
      "300it [41:55,  8.24s/it]\u001b[A\n",
      "301it [42:03,  8.21s/it]\u001b[A\n",
      "302it [42:11,  8.10s/it]\u001b[A\n",
      "303it [42:19,  8.10s/it]\u001b[A\n",
      "304it [42:27,  8.17s/it]\u001b[A\n",
      "305it [42:36,  8.21s/it]\u001b[A\n",
      "306it [42:44,  8.20s/it]\u001b[A\n",
      "307it [42:52,  8.29s/it]\u001b[A\n",
      "308it [43:01,  8.30s/it]\u001b[A\n",
      "309it [43:09,  8.25s/it]\u001b[A\n",
      "310it [43:18,  8.39s/it]\u001b[A\n",
      "311it [43:25,  8.21s/it]\u001b[A\n",
      "312it [43:34,  8.21s/it]\u001b[A\n",
      "313it [43:41,  8.07s/it]\u001b[A\n",
      "314it [43:50,  8.23s/it]\u001b[A\n",
      "315it [43:57,  8.02s/it]\u001b[A\n",
      "316it [44:06,  8.12s/it]\u001b[A\n",
      "317it [44:14,  8.13s/it]\u001b[A\n",
      "318it [44:22,  8.02s/it]\u001b[A\n",
      "319it [44:30,  8.17s/it]\u001b[A\n",
      "320it [44:39,  8.35s/it]\u001b[A\n",
      "321it [44:47,  8.35s/it]\u001b[A\n",
      "322it [44:56,  8.50s/it]\u001b[A\n",
      "323it [45:05,  8.69s/it]\u001b[A\n",
      "324it [45:13,  8.50s/it]\u001b[A\n",
      "325it [45:21,  8.35s/it]\u001b[A\n",
      "326it [45:30,  8.42s/it]\u001b[A\n",
      "327it [45:38,  8.34s/it]\u001b[A\n",
      "328it [45:47,  8.55s/it]\u001b[A\n",
      "329it [45:56,  8.53s/it]\u001b[A\n",
      "330it [46:04,  8.40s/it]\u001b[A\n",
      "331it [46:12,  8.48s/it]\u001b[A\n",
      "332it [46:21,  8.39s/it]\u001b[A\n",
      "333it [46:29,  8.32s/it]\u001b[A\n",
      "334it [46:38,  8.57s/it]\u001b[A\n",
      "335it [46:47,  8.67s/it]\u001b[A\n",
      "336it [46:55,  8.49s/it]\u001b[A\n",
      "337it [47:03,  8.26s/it]\u001b[A\n",
      "338it [47:11,  8.32s/it]\u001b[A\n",
      "339it [47:20,  8.46s/it]\u001b[A\n",
      "340it [47:28,  8.45s/it]\u001b[A\n",
      "341it [47:36,  8.36s/it]\u001b[A\n",
      "342it [47:45,  8.29s/it]\u001b[A\n",
      "343it [47:53,  8.28s/it]\u001b[A\n",
      "344it [48:01,  8.39s/it]\u001b[A\n",
      "345it [48:10,  8.34s/it]\u001b[A\n",
      "346it [48:18,  8.37s/it]\u001b[A\n",
      "347it [48:27,  8.42s/it]\u001b[A\n",
      "348it [48:36,  8.63s/it]\u001b[A\n",
      "349it [48:45,  8.94s/it]\u001b[A\n",
      "350it [48:56,  9.35s/it]\u001b[A\n",
      "351it [49:04,  9.12s/it]\u001b[A\n",
      "352it [49:13,  8.83s/it]\u001b[A\n",
      "353it [49:21,  8.79s/it]\u001b[A\n",
      "354it [49:29,  8.58s/it]\u001b[A\n",
      "355it [49:38,  8.55s/it]\u001b[A\n",
      "356it [49:46,  8.48s/it]\u001b[A\n",
      "357it [49:54,  8.42s/it]\u001b[A\n",
      "358it [50:03,  8.60s/it]\u001b[A\n",
      "359it [50:11,  8.43s/it]\u001b[A\n",
      "360it [50:20,  8.58s/it]\u001b[A\n",
      "361it [50:28,  8.37s/it]\u001b[A\n",
      "362it [50:36,  8.28s/it]\u001b[A\n",
      "363it [50:44,  8.23s/it]\u001b[A\n",
      "364it [50:53,  8.33s/it]\u001b[A\n",
      "365it [51:01,  8.39s/it]\u001b[A\n"
     ]
    },
    {
     "name": "stdout",
     "output_type": "stream",
     "text": [
      "new_weather shape (17311, 11)\n"
     ]
    },
    {
     "name": "stderr",
     "output_type": "stream",
     "text": [
      "\r",
      " 53%|████████████████████████████████████████████████████████████▊                                                     | 8/15 [8:10:49<6:44:45, 3469.43s/it]"
     ]
    },
    {
     "name": "stdout",
     "output_type": "stream",
     "text": [
      "update weather data for  Khlong Hoi Khong\n",
      "updateing file: ../data/weather_cities/Khlong_Hoi_Khong.csv\n",
      "missing date 366\n"
     ]
    },
    {
     "name": "stderr",
     "output_type": "stream",
     "text": [
      "\n",
      "0it [00:00, ?it/s]\u001b[A\n",
      "1it [00:08,  8.85s/it]\u001b[A\n",
      "2it [00:17,  8.72s/it]\u001b[A\n",
      "3it [00:25,  8.53s/it]\u001b[A\n",
      "4it [00:33,  8.41s/it]\u001b[A\n",
      "5it [00:41,  8.37s/it]\u001b[A\n",
      "6it [00:49,  8.31s/it]\u001b[A\n",
      "7it [00:57,  8.14s/it]\u001b[A\n",
      "8it [01:05,  8.13s/it]\u001b[A\n",
      "9it [01:14,  8.21s/it]\u001b[A\n",
      "10it [01:22,  8.32s/it]\u001b[A\n",
      "11it [01:31,  8.46s/it]\u001b[A\n",
      "12it [01:40,  8.52s/it]\u001b[A\n",
      "13it [01:48,  8.54s/it]\u001b[A\n",
      "14it [01:57,  8.52s/it]\u001b[A\n",
      "15it [02:05,  8.49s/it]\u001b[A\n",
      "16it [02:13,  8.38s/it]\u001b[A\n",
      "17it [02:23,  8.66s/it]\u001b[A\n",
      "18it [02:31,  8.72s/it]\u001b[A\n",
      "19it [02:39,  8.50s/it]\u001b[A\n",
      "20it [02:48,  8.65s/it]\u001b[A\n",
      "21it [02:57,  8.50s/it]\u001b[A\n",
      "22it [03:04,  8.31s/it]\u001b[A\n",
      "23it [03:12,  8.20s/it]\u001b[A\n",
      "24it [03:20,  8.11s/it]\u001b[A\n",
      "25it [03:29,  8.19s/it]\u001b[A\n",
      "26it [03:37,  8.14s/it]\u001b[A\n",
      "27it [03:45,  8.21s/it]\u001b[A\n",
      "28it [03:54,  8.37s/it]\u001b[A\n",
      "29it [04:02,  8.31s/it]\u001b[A\n",
      "30it [04:10,  8.26s/it]\u001b[A\n",
      "31it [04:18,  8.26s/it]\u001b[A\n",
      "32it [04:27,  8.23s/it]\u001b[A\n",
      "33it [04:34,  8.10s/it]\u001b[A\n",
      "34it [04:42,  8.10s/it]\u001b[A\n",
      "35it [04:51,  8.19s/it]\u001b[A\n",
      "36it [05:00,  8.51s/it]\u001b[A\n",
      "37it [05:09,  8.60s/it]\u001b[A\n",
      "38it [05:17,  8.45s/it]\u001b[A\n",
      "39it [05:26,  8.47s/it]\u001b[A\n",
      "40it [05:34,  8.44s/it]\u001b[A\n",
      "41it [05:43,  8.56s/it]\u001b[A\n",
      "42it [05:54,  9.37s/it]\u001b[A\n",
      "43it [06:03,  9.34s/it]\u001b[A\n",
      "44it [06:11,  8.97s/it]\u001b[A\n",
      "45it [06:20,  8.71s/it]\u001b[A\n",
      "46it [06:28,  8.70s/it]\u001b[A\n",
      "47it [06:37,  8.73s/it]\u001b[A\n",
      "48it [06:46,  8.72s/it]\u001b[A\n",
      "49it [06:54,  8.48s/it]\u001b[A\n",
      "50it [07:02,  8.34s/it]\u001b[A\n",
      "51it [07:11,  8.52s/it]\u001b[A\n",
      "52it [07:18,  8.31s/it]\u001b[A\n",
      "53it [07:27,  8.32s/it]\u001b[A\n",
      "54it [07:35,  8.34s/it]\u001b[A\n",
      "55it [07:43,  8.26s/it]\u001b[A\n",
      "56it [07:51,  8.25s/it]\u001b[A\n",
      "57it [08:02,  9.00s/it]\u001b[A\n",
      "58it [08:10,  8.64s/it]\u001b[A\n",
      "59it [08:19,  8.77s/it]\u001b[A\n",
      "60it [08:27,  8.66s/it]\u001b[A\n",
      "61it [08:35,  8.40s/it]\u001b[A\n",
      "62it [08:44,  8.48s/it]\u001b[A\n",
      "63it [08:52,  8.34s/it]\u001b[A\n",
      "64it [09:00,  8.38s/it]\u001b[A\n",
      "65it [09:09,  8.52s/it]\u001b[A\n",
      "66it [09:18,  8.62s/it]\u001b[A\n",
      "67it [09:27,  8.72s/it]\u001b[A\n",
      "68it [09:35,  8.42s/it]\u001b[A\n",
      "69it [09:43,  8.41s/it]\u001b[A\n",
      "70it [09:52,  8.44s/it]\u001b[A\n",
      "71it [10:00,  8.37s/it]\u001b[A\n",
      "72it [10:09,  8.53s/it]\u001b[A\n",
      "73it [10:17,  8.36s/it]\u001b[A\n",
      "74it [10:25,  8.29s/it]\u001b[A\n",
      "75it [10:33,  8.29s/it]\u001b[A\n",
      "76it [10:42,  8.42s/it]\u001b[A\n",
      "77it [10:50,  8.40s/it]\u001b[A\n",
      "78it [10:59,  8.51s/it]\u001b[A\n",
      "79it [11:08,  8.63s/it]\u001b[A\n",
      "80it [11:17,  8.81s/it]\u001b[A\n",
      "81it [11:25,  8.61s/it]\u001b[A\n",
      "82it [11:33,  8.49s/it]\u001b[A\n",
      "83it [11:42,  8.36s/it]\u001b[A\n",
      "84it [11:51,  8.57s/it]\u001b[A\n",
      "85it [11:58,  8.37s/it]\u001b[A\n",
      "86it [12:07,  8.35s/it]\u001b[A\n",
      "87it [12:15,  8.26s/it]\u001b[A\n",
      "88it [12:23,  8.34s/it]\u001b[A\n",
      "89it [12:32,  8.38s/it]\u001b[A\n",
      "90it [12:40,  8.28s/it]\u001b[A\n",
      "91it [12:48,  8.37s/it]\u001b[A\n",
      "92it [12:57,  8.48s/it]\u001b[A\n",
      "93it [13:05,  8.40s/it]\u001b[A\n",
      "94it [13:14,  8.40s/it]\u001b[A\n",
      "95it [13:22,  8.39s/it]\u001b[A\n",
      "96it [13:30,  8.36s/it]\u001b[A\n",
      "97it [13:39,  8.35s/it]\u001b[A\n",
      "98it [13:47,  8.41s/it]\u001b[A\n",
      "99it [13:56,  8.34s/it]\u001b[A\n",
      "100it [14:04,  8.25s/it]\u001b[A\n",
      "101it [14:12,  8.31s/it]\u001b[A\n",
      "102it [14:20,  8.17s/it]\u001b[A\n",
      "103it [14:28,  8.13s/it]\u001b[A\n",
      "104it [14:36,  8.17s/it]\u001b[A\n",
      "105it [14:44,  7.99s/it]\u001b[A\n",
      "106it [14:52,  8.00s/it]\u001b[A\n",
      "107it [15:00,  8.00s/it]\u001b[A\n",
      "108it [15:08,  8.09s/it]\u001b[A\n",
      "109it [15:16,  8.12s/it]\u001b[A\n",
      "110it [15:24,  8.07s/it]\u001b[A\n",
      "111it [15:32,  8.05s/it]\u001b[A\n",
      "112it [15:40,  8.08s/it]\u001b[A\n",
      "113it [15:48,  8.09s/it]\u001b[A\n",
      "114it [15:57,  8.14s/it]\u001b[A\n",
      "115it [16:05,  8.25s/it]\u001b[A\n",
      "116it [16:14,  8.36s/it]\u001b[A\n",
      "117it [16:22,  8.34s/it]\u001b[A\n",
      "118it [16:31,  8.41s/it]\u001b[A\n",
      "119it [16:39,  8.39s/it]\u001b[A\n",
      "120it [16:47,  8.16s/it]\u001b[A\n",
      "121it [16:55,  8.13s/it]\u001b[A\n",
      "122it [17:03,  8.06s/it]\u001b[A\n",
      "123it [17:11,  8.07s/it]\u001b[A\n",
      "124it [17:19,  8.09s/it]\u001b[A\n",
      "125it [17:27,  8.21s/it]\u001b[A\n",
      "126it [17:36,  8.29s/it]\u001b[A\n",
      "127it [17:44,  8.24s/it]\u001b[A\n",
      "128it [17:53,  8.39s/it]\u001b[A\n",
      "129it [18:01,  8.41s/it]\u001b[A\n",
      "130it [18:09,  8.36s/it]\u001b[A\n",
      "131it [18:19,  8.72s/it]\u001b[A\n",
      "132it [18:28,  8.74s/it]\u001b[A\n",
      "133it [18:37,  8.77s/it]\u001b[A\n",
      "134it [18:45,  8.65s/it]\u001b[A\n",
      "135it [18:54,  8.78s/it]\u001b[A\n",
      "136it [19:02,  8.54s/it]\u001b[A\n",
      "137it [19:11,  8.58s/it]\u001b[A\n",
      "138it [19:20,  8.75s/it]\u001b[A\n",
      "139it [19:30,  9.27s/it]\u001b[A\n",
      "140it [19:40,  9.26s/it]\u001b[A\n",
      "141it [19:48,  9.04s/it]\u001b[A\n",
      "142it [19:57,  8.88s/it]\u001b[A\n",
      "143it [20:05,  8.88s/it]\u001b[A\n",
      "144it [20:14,  8.78s/it]\u001b[A\n",
      "145it [20:22,  8.64s/it]\u001b[A\n",
      "146it [20:31,  8.68s/it]\u001b[A\n",
      "147it [20:40,  8.72s/it]\u001b[A\n",
      "148it [20:48,  8.51s/it]\u001b[A\n",
      "149it [20:56,  8.39s/it]\u001b[A\n",
      "150it [21:05,  8.42s/it]\u001b[A\n",
      "151it [21:13,  8.36s/it]\u001b[A\n",
      "152it [21:21,  8.38s/it]\u001b[A\n",
      "153it [21:30,  8.50s/it]\u001b[A\n",
      "154it [21:38,  8.30s/it]\u001b[A\n",
      "155it [21:46,  8.13s/it]\u001b[A\n",
      "156it [21:54,  8.14s/it]\u001b[A\n",
      "157it [22:02,  8.06s/it]\u001b[A\n",
      "158it [22:10,  8.26s/it]\u001b[A\n",
      "159it [22:20,  8.64s/it]\u001b[A\n",
      "160it [22:29,  8.78s/it]\u001b[A\n",
      "161it [22:37,  8.67s/it]\u001b[A\n",
      "162it [22:46,  8.61s/it]\u001b[A\n",
      "163it [22:56,  8.98s/it]\u001b[A\n",
      "164it [23:04,  8.93s/it]\u001b[A\n",
      "165it [23:13,  8.88s/it]\u001b[A\n",
      "166it [23:22,  8.81s/it]\u001b[A\n",
      "167it [23:30,  8.64s/it]\u001b[A\n",
      "168it [23:38,  8.48s/it]\u001b[A\n",
      "169it [23:47,  8.53s/it]\u001b[A\n",
      "170it [23:56,  8.57s/it]\u001b[A\n",
      "171it [24:05,  8.71s/it]\u001b[A\n",
      "172it [24:13,  8.73s/it]\u001b[A\n",
      "173it [24:22,  8.80s/it]\u001b[A\n",
      "174it [24:30,  8.57s/it]\u001b[A\n",
      "175it [24:39,  8.58s/it]\u001b[A\n",
      "176it [24:47,  8.45s/it]\u001b[A\n",
      "177it [24:56,  8.68s/it]\u001b[A\n",
      "178it [25:06,  8.94s/it]\u001b[A\n",
      "179it [25:14,  8.65s/it]\u001b[A\n",
      "180it [25:22,  8.55s/it]\u001b[A\n",
      "181it [25:30,  8.43s/it]\u001b[A\n",
      "182it [25:38,  8.35s/it]\u001b[A\n",
      "183it [25:48,  8.63s/it]\u001b[A\n",
      "184it [25:56,  8.54s/it]\u001b[A\n",
      "185it [26:05,  8.53s/it]\u001b[A\n",
      "186it [26:14,  8.72s/it]\u001b[A\n",
      "187it [26:22,  8.70s/it]\u001b[A\n",
      "188it [26:30,  8.51s/it]\u001b[A\n",
      "189it [26:39,  8.37s/it]\u001b[A\n",
      "190it [26:46,  8.21s/it]\u001b[A\n",
      "191it [26:54,  8.19s/it]\u001b[A\n",
      "192it [27:03,  8.26s/it]\u001b[A\n",
      "193it [27:11,  8.29s/it]\u001b[A\n",
      "194it [27:20,  8.27s/it]\u001b[A\n",
      "195it [27:27,  8.07s/it]\u001b[A\n",
      "196it [27:36,  8.19s/it]\u001b[A\n",
      "197it [27:44,  8.12s/it]\u001b[A\n",
      "198it [27:51,  8.05s/it]\u001b[A\n",
      "199it [28:00,  8.35s/it]\u001b[A\n",
      "200it [28:09,  8.35s/it]\u001b[A\n",
      "201it [28:17,  8.40s/it]\u001b[A\n",
      "202it [28:26,  8.59s/it]\u001b[A\n",
      "203it [28:34,  8.43s/it]\u001b[A\n",
      "204it [28:43,  8.33s/it]\u001b[A\n",
      "205it [28:52,  8.55s/it]\u001b[A\n",
      "206it [29:00,  8.64s/it]\u001b[A\n",
      "207it [29:09,  8.74s/it]\u001b[A\n",
      "208it [29:17,  8.51s/it]\u001b[A\n",
      "209it [29:26,  8.49s/it]\u001b[A\n",
      "210it [29:34,  8.45s/it]\u001b[A\n",
      "211it [29:43,  8.50s/it]\u001b[A\n",
      "212it [29:51,  8.37s/it]\u001b[A\n",
      "213it [30:00,  8.46s/it]\u001b[A\n",
      "214it [30:09,  8.66s/it]\u001b[A\n",
      "215it [30:18,  8.77s/it]\u001b[A\n",
      "216it [30:26,  8.50s/it]\u001b[A\n",
      "217it [30:34,  8.48s/it]\u001b[A\n",
      "218it [30:42,  8.37s/it]\u001b[A\n",
      "219it [30:50,  8.22s/it]\u001b[A\n",
      "220it [30:59,  8.45s/it]\u001b[A\n",
      "221it [31:08,  8.67s/it]\u001b[A\n",
      "222it [31:17,  8.77s/it]\u001b[A\n",
      "223it [31:26,  8.73s/it]\u001b[A\n",
      "224it [31:34,  8.52s/it]\u001b[A\n",
      "225it [31:43,  8.67s/it]\u001b[A\n",
      "226it [31:51,  8.55s/it]\u001b[A\n",
      "227it [31:59,  8.44s/it]\u001b[A\n",
      "228it [32:08,  8.57s/it]\u001b[A\n",
      "229it [32:17,  8.66s/it]\u001b[A\n",
      "230it [32:26,  8.60s/it]\u001b[A\n",
      "231it [32:34,  8.70s/it]\u001b[A\n",
      "232it [32:46,  9.41s/it]\u001b[A\n",
      "233it [32:54,  9.02s/it]\u001b[A\n",
      "234it [33:02,  8.89s/it]\u001b[A\n",
      "235it [33:11,  8.90s/it]\u001b[A\n",
      "236it [33:19,  8.70s/it]\u001b[A\n",
      "237it [33:28,  8.66s/it]\u001b[A\n",
      "238it [33:36,  8.54s/it]\u001b[A\n",
      "239it [33:45,  8.65s/it]\u001b[A\n",
      "240it [33:53,  8.52s/it]\u001b[A\n",
      "241it [34:02,  8.57s/it]\u001b[A\n",
      "242it [34:11,  8.74s/it]\u001b[A\n",
      "243it [34:20,  8.89s/it]\u001b[A\n",
      "244it [34:29,  8.84s/it]\u001b[A\n",
      "245it [34:37,  8.69s/it]\u001b[A\n",
      "246it [34:46,  8.72s/it]\u001b[A\n",
      "247it [34:55,  8.74s/it]\u001b[A\n",
      "248it [35:03,  8.63s/it]\u001b[A\n",
      "249it [35:12,  8.50s/it]\u001b[A\n",
      "250it [35:20,  8.55s/it]\u001b[A\n",
      "251it [35:29,  8.56s/it]\u001b[A\n",
      "252it [35:37,  8.51s/it]\u001b[A\n",
      "253it [35:45,  8.29s/it]\u001b[A\n",
      "254it [35:54,  8.57s/it]\u001b[A\n",
      "255it [36:03,  8.53s/it]\u001b[A\n",
      "256it [36:10,  8.27s/it]\u001b[A\n",
      "257it [36:19,  8.42s/it]\u001b[A\n",
      "258it [36:28,  8.56s/it]\u001b[A\n",
      "259it [36:38,  8.96s/it]\u001b[A\n",
      "260it [36:46,  8.78s/it]\u001b[A\n",
      "261it [36:56,  9.16s/it]\u001b[A\n",
      "262it [37:04,  8.71s/it]\u001b[A\n",
      "263it [37:13,  8.66s/it]\u001b[A\n",
      "264it [37:21,  8.57s/it]\u001b[A\n",
      "265it [37:29,  8.30s/it]\u001b[A\n",
      "266it [37:37,  8.36s/it]\u001b[A\n",
      "267it [37:46,  8.54s/it]\u001b[A\n",
      "268it [37:54,  8.48s/it]\u001b[A\n",
      "269it [38:03,  8.65s/it]\u001b[A\n",
      "270it [38:12,  8.53s/it]\u001b[A\n",
      "271it [38:20,  8.57s/it]\u001b[A\n",
      "272it [38:28,  8.46s/it]\u001b[A\n",
      "273it [38:37,  8.52s/it]\u001b[A\n",
      "274it [38:46,  8.49s/it]\u001b[A\n",
      "275it [38:54,  8.48s/it]\u001b[A\n",
      "276it [39:02,  8.42s/it]\u001b[A\n",
      "277it [39:10,  8.31s/it]\u001b[A\n",
      "278it [39:22,  9.40s/it]\u001b[A\n",
      "279it [39:30,  8.95s/it]\u001b[A\n",
      "280it [39:39,  8.80s/it]\u001b[A\n",
      "281it [39:47,  8.63s/it]\u001b[A\n",
      "282it [39:55,  8.55s/it]\u001b[A\n",
      "283it [40:04,  8.52s/it]\u001b[A\n",
      "284it [40:12,  8.43s/it]\u001b[A\n",
      "285it [40:21,  8.54s/it]\u001b[A\n",
      "286it [40:29,  8.45s/it]\u001b[A\n",
      "287it [40:37,  8.43s/it]\u001b[A\n",
      "288it [40:45,  8.34s/it]\u001b[A\n",
      "289it [40:54,  8.36s/it]\u001b[A\n",
      "290it [41:04,  8.79s/it]\u001b[A\n",
      "291it [41:12,  8.60s/it]\u001b[A\n",
      "292it [41:23,  9.29s/it]\u001b[A\n",
      "293it [41:30,  8.84s/it]\u001b[A\n",
      "294it [41:39,  8.63s/it]\u001b[A\n",
      "295it [41:47,  8.53s/it]\u001b[A\n",
      "296it [41:56,  8.62s/it]\u001b[A\n",
      "297it [42:05,  8.67s/it]\u001b[A\n",
      "298it [42:13,  8.60s/it]\u001b[A\n",
      "299it [42:21,  8.48s/it]\u001b[A\n",
      "300it [42:30,  8.52s/it]\u001b[A\n",
      "301it [42:38,  8.55s/it]\u001b[A\n",
      "302it [42:46,  8.24s/it]\u001b[A\n",
      "303it [42:54,  8.24s/it]\u001b[A\n",
      "304it [43:02,  8.03s/it]\u001b[A\n",
      "305it [43:10,  8.19s/it]\u001b[A\n",
      "306it [43:19,  8.29s/it]\u001b[A\n",
      "307it [43:27,  8.38s/it]\u001b[A\n",
      "308it [43:35,  8.24s/it]\u001b[A\n",
      "309it [43:44,  8.24s/it]\u001b[A\n",
      "310it [43:52,  8.21s/it]\u001b[A\n",
      "311it [44:00,  8.32s/it]\u001b[A\n",
      "312it [44:10,  8.79s/it]\u001b[A\n",
      "313it [44:19,  8.85s/it]\u001b[A\n",
      "314it [44:27,  8.49s/it]\u001b[A\n",
      "315it [44:35,  8.35s/it]\u001b[A\n",
      "316it [44:43,  8.36s/it]\u001b[A\n",
      "317it [44:51,  8.30s/it]\u001b[A\n",
      "318it [45:00,  8.42s/it]\u001b[A\n",
      "319it [45:09,  8.52s/it]\u001b[A\n",
      "320it [45:17,  8.47s/it]\u001b[A\n",
      "321it [45:25,  8.33s/it]\u001b[A\n",
      "322it [45:34,  8.40s/it]\u001b[A\n",
      "323it [45:42,  8.31s/it]\u001b[A\n",
      "324it [45:50,  8.32s/it]\u001b[A\n",
      "325it [45:59,  8.33s/it]\u001b[A\n",
      "326it [46:09,  8.94s/it]\u001b[A\n",
      "327it [46:18,  8.86s/it]\u001b[A\n",
      "328it [46:26,  8.79s/it]\u001b[A\n",
      "329it [46:35,  8.74s/it]\u001b[A\n",
      "330it [46:43,  8.68s/it]\u001b[A\n",
      "331it [46:52,  8.64s/it]\u001b[A\n",
      "332it [47:01,  8.76s/it]\u001b[A\n",
      "333it [47:09,  8.62s/it]\u001b[A\n",
      "334it [47:17,  8.32s/it]\u001b[A\n",
      "335it [47:26,  8.50s/it]\u001b[A\n",
      "336it [47:34,  8.56s/it]\u001b[A\n",
      "337it [47:43,  8.41s/it]\u001b[A\n",
      "338it [47:51,  8.44s/it]\u001b[A\n",
      "339it [47:59,  8.37s/it]\u001b[A\n",
      "340it [48:08,  8.50s/it]\u001b[A\n",
      "341it [48:17,  8.51s/it]\u001b[A\n",
      "342it [48:25,  8.50s/it]\u001b[A\n",
      "343it [48:33,  8.35s/it]\u001b[A\n",
      "344it [48:42,  8.41s/it]\u001b[A\n",
      "345it [48:50,  8.40s/it]\u001b[A\n",
      "346it [48:59,  8.50s/it]\u001b[A\n",
      "347it [49:08,  8.64s/it]\u001b[A\n",
      "348it [49:17,  8.70s/it]\u001b[A\n",
      "349it [49:25,  8.74s/it]\u001b[A\n",
      "350it [49:36,  9.19s/it]\u001b[A\n",
      "351it [49:44,  8.94s/it]\u001b[A\n",
      "352it [49:53,  8.93s/it]\u001b[A\n",
      "353it [50:02,  8.88s/it]\u001b[A\n",
      "354it [50:10,  8.81s/it]\u001b[A\n",
      "355it [50:19,  8.68s/it]\u001b[A\n",
      "356it [50:28,  8.75s/it]\u001b[A\n",
      "357it [50:36,  8.69s/it]\u001b[A\n",
      "358it [50:45,  8.74s/it]\u001b[A\n",
      "359it [50:54,  8.77s/it]\u001b[A\n",
      "360it [51:03,  8.85s/it]\u001b[A\n",
      "361it [51:12,  8.90s/it]\u001b[A\n",
      "362it [51:21,  9.04s/it]\u001b[A\n",
      "363it [51:29,  8.75s/it]\u001b[A\n",
      "364it [51:41,  9.49s/it]\u001b[A\n",
      "365it [51:50,  9.36s/it]\u001b[A\n",
      "366it [51:58,  8.52s/it]\u001b[A\n"
     ]
    },
    {
     "name": "stdout",
     "output_type": "stream",
     "text": [
      "new_weather shape (17292, 11)\n"
     ]
    },
    {
     "name": "stderr",
     "output_type": "stream",
     "text": [
      "\r",
      " 60%|████████████████████████████████████████████████████████████████████▍                                             | 9/15 [9:03:27<5:37:35, 3375.97s/it]"
     ]
    },
    {
     "name": "stdout",
     "output_type": "stream",
     "text": [
      "update weather data for  Khlong Hoi Khong\n",
      "updateing file: ../data/weather_cities/Khlong_Hoi_Khong.csv\n",
      "missing date 365\n"
     ]
    },
    {
     "name": "stderr",
     "output_type": "stream",
     "text": [
      "\n",
      "0it [00:00, ?it/s]\u001b[A\n",
      "1it [00:09, 10.00s/it]\u001b[A\n",
      "2it [00:18,  9.50s/it]\u001b[A\n",
      "3it [00:26,  9.19s/it]\u001b[A\n",
      "4it [00:35,  9.05s/it]\u001b[A\n",
      "5it [00:43,  8.82s/it]\u001b[A\n",
      "6it [00:52,  8.80s/it]\u001b[A\n",
      "7it [01:00,  8.69s/it]\u001b[A\n",
      "8it [01:09,  8.76s/it]\u001b[A\n",
      "9it [01:18,  8.72s/it]\u001b[A\n",
      "10it [01:29,  9.38s/it]\u001b[A\n",
      "11it [01:37,  9.03s/it]\u001b[A\n",
      "12it [01:47,  9.22s/it]\u001b[A\n",
      "13it [01:55,  8.90s/it]\u001b[A\n",
      "14it [02:04,  8.81s/it]\u001b[A\n",
      "15it [02:12,  8.67s/it]\u001b[A\n",
      "16it [02:21,  8.76s/it]\u001b[A\n",
      "17it [02:30,  8.92s/it]\u001b[A\n",
      "18it [02:41,  9.40s/it]\u001b[A\n",
      "19it [02:49,  9.14s/it]\u001b[A\n",
      "20it [02:58,  8.91s/it]\u001b[A\n",
      "21it [03:07,  8.91s/it]\u001b[A\n",
      "22it [03:15,  8.66s/it]\u001b[A\n",
      "23it [03:23,  8.43s/it]\u001b[A\n",
      "24it [03:32,  8.65s/it]\u001b[A\n",
      "25it [03:40,  8.62s/it]\u001b[A\n",
      "26it [03:48,  8.43s/it]\u001b[A\n",
      "27it [03:57,  8.45s/it]\u001b[A\n",
      "28it [04:05,  8.48s/it]\u001b[A\n",
      "29it [04:14,  8.46s/it]\u001b[A\n",
      "30it [04:22,  8.35s/it]\u001b[A\n",
      "31it [04:30,  8.31s/it]\u001b[A\n",
      "32it [04:38,  8.24s/it]\u001b[A\n",
      "33it [04:46,  8.09s/it]\u001b[A\n",
      "34it [04:54,  8.16s/it]\u001b[A\n",
      "35it [05:03,  8.25s/it]\u001b[A\n",
      "36it [05:12,  8.54s/it]\u001b[A\n",
      "37it [05:20,  8.51s/it]\u001b[A\n",
      "38it [05:30,  8.76s/it]\u001b[A\n",
      "39it [05:38,  8.61s/it]\u001b[A\n",
      "40it [05:46,  8.56s/it]\u001b[A\n",
      "41it [05:54,  8.45s/it]\u001b[A\n",
      "42it [06:03,  8.47s/it]\u001b[A\n",
      "43it [06:11,  8.34s/it]\u001b[A\n",
      "44it [06:19,  8.27s/it]\u001b[A\n",
      "45it [06:28,  8.40s/it]\u001b[A\n",
      "46it [06:36,  8.39s/it]\u001b[A\n",
      "47it [06:44,  8.32s/it]\u001b[A\n",
      "48it [06:53,  8.54s/it]\u001b[A\n",
      "49it [07:02,  8.51s/it]\u001b[A\n",
      "50it [07:11,  8.59s/it]\u001b[A\n",
      "51it [07:19,  8.61s/it]\u001b[A\n",
      "52it [07:28,  8.63s/it]\u001b[A\n",
      "53it [07:36,  8.52s/it]\u001b[A\n",
      "54it [07:45,  8.56s/it]\u001b[A\n",
      "55it [07:53,  8.44s/it]\u001b[A\n",
      "56it [08:01,  8.41s/it]\u001b[A\n",
      "57it [08:10,  8.41s/it]\u001b[A\n",
      "58it [08:18,  8.46s/it]\u001b[A\n",
      "59it [08:27,  8.48s/it]\u001b[A\n",
      "60it [08:35,  8.47s/it]\u001b[A\n",
      "61it [08:44,  8.41s/it]\u001b[A\n",
      "62it [08:52,  8.46s/it]\u001b[A\n",
      "63it [09:04,  9.36s/it]\u001b[A\n",
      "64it [09:13,  9.31s/it]\u001b[A\n",
      "65it [09:22,  9.20s/it]\u001b[A\n",
      "66it [09:30,  9.00s/it]\u001b[A\n",
      "67it [09:38,  8.71s/it]\u001b[A\n",
      "68it [09:47,  8.62s/it]\u001b[A\n",
      "69it [09:55,  8.60s/it]\u001b[A\n",
      "70it [10:04,  8.50s/it]\u001b[A\n",
      "71it [10:12,  8.44s/it]\u001b[A\n",
      "72it [10:20,  8.39s/it]\u001b[A\n",
      "73it [10:28,  8.36s/it]\u001b[A\n",
      "74it [10:38,  8.58s/it]\u001b[A\n",
      "75it [10:47,  8.75s/it]\u001b[A\n",
      "76it [10:56,  8.88s/it]\u001b[A\n",
      "77it [11:05,  8.93s/it]\u001b[A\n",
      "78it [11:13,  8.75s/it]\u001b[A\n",
      "79it [11:22,  8.84s/it]\u001b[A\n",
      "80it [11:30,  8.59s/it]\u001b[A\n",
      "81it [11:39,  8.57s/it]\u001b[A\n",
      "82it [11:48,  8.66s/it]\u001b[A\n",
      "83it [11:56,  8.57s/it]\u001b[A\n",
      "84it [12:05,  8.56s/it]\u001b[A\n",
      "85it [12:12,  8.33s/it]\u001b[A\n",
      "86it [12:21,  8.37s/it]\u001b[A\n",
      "87it [12:30,  8.47s/it]\u001b[A\n",
      "88it [12:38,  8.55s/it]\u001b[A\n",
      "89it [12:46,  8.36s/it]\u001b[A\n",
      "90it [12:55,  8.40s/it]\u001b[A\n",
      "91it [13:03,  8.31s/it]\u001b[A\n",
      "92it [13:11,  8.35s/it]\u001b[A\n",
      "93it [13:22,  9.01s/it]\u001b[A\n",
      "94it [13:30,  8.88s/it]\u001b[A\n",
      "95it [13:39,  8.67s/it]\u001b[A\n",
      "96it [13:47,  8.46s/it]\u001b[A\n",
      "97it [13:55,  8.43s/it]\u001b[A\n",
      "98it [14:03,  8.40s/it]\u001b[A\n",
      "99it [14:12,  8.42s/it]\u001b[A\n",
      "100it [14:21,  8.56s/it]\u001b[A\n",
      "101it [14:29,  8.43s/it]\u001b[A\n",
      "102it [14:37,  8.53s/it]\u001b[A\n",
      "103it [14:48,  9.00s/it]\u001b[A\n",
      "104it [14:56,  8.77s/it]\u001b[A\n",
      "105it [15:04,  8.55s/it]\u001b[A\n",
      "106it [15:15,  9.40s/it]\u001b[A\n",
      "107it [15:24,  9.15s/it]\u001b[A\n",
      "108it [15:32,  8.91s/it]\u001b[A\n",
      "109it [15:41,  8.85s/it]\u001b[A\n",
      "110it [15:49,  8.68s/it]\u001b[A\n",
      "111it [15:58,  8.69s/it]\u001b[A\n",
      "112it [16:07,  8.71s/it]\u001b[A\n",
      "113it [16:15,  8.59s/it]\u001b[A\n",
      "114it [16:23,  8.59s/it]\u001b[A\n",
      "115it [16:32,  8.64s/it]\u001b[A\n",
      "116it [16:40,  8.51s/it]\u001b[A\n",
      "117it [16:49,  8.57s/it]\u001b[A\n",
      "118it [16:58,  8.69s/it]\u001b[A\n",
      "119it [17:07,  8.68s/it]\u001b[A\n",
      "120it [17:15,  8.67s/it]\u001b[A\n",
      "121it [17:23,  8.49s/it]\u001b[A\n",
      "122it [17:32,  8.40s/it]\u001b[A\n",
      "123it [17:40,  8.29s/it]\u001b[A\n",
      "124it [17:48,  8.33s/it]\u001b[A\n",
      "125it [17:57,  8.35s/it]\u001b[A\n",
      "126it [18:05,  8.31s/it]\u001b[A\n",
      "127it [18:14,  8.49s/it]\u001b[A\n",
      "128it [18:22,  8.49s/it]\u001b[A\n",
      "129it [18:31,  8.69s/it]\u001b[A\n",
      "130it [18:40,  8.59s/it]\u001b[A\n",
      "131it [18:48,  8.48s/it]\u001b[A\n",
      "132it [18:56,  8.44s/it]\u001b[A\n",
      "133it [19:04,  8.37s/it]\u001b[A\n",
      "134it [19:12,  8.17s/it]\u001b[A\n",
      "135it [19:21,  8.31s/it]\u001b[A\n",
      "136it [19:29,  8.27s/it]\u001b[A\n",
      "137it [19:37,  8.27s/it]\u001b[A\n",
      "138it [19:46,  8.51s/it]\u001b[A\n",
      "139it [19:55,  8.48s/it]\u001b[A\n",
      "140it [20:03,  8.33s/it]\u001b[A\n",
      "141it [20:12,  8.48s/it]\u001b[A\n",
      "142it [20:20,  8.42s/it]\u001b[A\n",
      "143it [20:29,  8.57s/it]\u001b[A\n",
      "144it [20:37,  8.58s/it]\u001b[A\n",
      "145it [20:46,  8.73s/it]\u001b[A\n",
      "146it [20:55,  8.80s/it]\u001b[A\n",
      "147it [21:04,  8.67s/it]\u001b[A\n",
      "148it [21:12,  8.59s/it]\u001b[A\n",
      "149it [21:21,  8.62s/it]\u001b[A\n",
      "150it [21:30,  8.73s/it]\u001b[A\n",
      "151it [21:39,  8.88s/it]\u001b[A\n",
      "152it [21:50,  9.52s/it]\u001b[A\n",
      "153it [21:59,  9.22s/it]\u001b[A\n",
      "154it [22:07,  9.08s/it]\u001b[A\n",
      "155it [22:16,  8.82s/it]\u001b[A\n",
      "156it [22:24,  8.60s/it]\u001b[A\n",
      "157it [22:32,  8.47s/it]\u001b[A\n",
      "158it [22:40,  8.31s/it]\u001b[A\n",
      "159it [22:48,  8.24s/it]\u001b[A\n",
      "160it [22:56,  8.26s/it]\u001b[A\n",
      "161it [23:04,  8.24s/it]\u001b[A\n",
      "162it [23:13,  8.37s/it]\u001b[A\n",
      "163it [23:22,  8.46s/it]\u001b[A\n",
      "164it [23:30,  8.47s/it]\u001b[A\n",
      "165it [23:39,  8.51s/it]\u001b[A\n",
      "166it [23:48,  8.63s/it]\u001b[A\n",
      "167it [23:56,  8.55s/it]\u001b[A\n",
      "168it [24:05,  8.68s/it]\u001b[A\n",
      "169it [24:13,  8.61s/it]\u001b[A\n",
      "170it [24:22,  8.63s/it]\u001b[A\n",
      "171it [24:30,  8.48s/it]\u001b[A\n",
      "172it [24:39,  8.49s/it]\u001b[A\n",
      "173it [24:47,  8.38s/it]\u001b[A\n",
      "174it [24:55,  8.39s/it]\u001b[A\n",
      "175it [25:04,  8.40s/it]\u001b[A\n",
      "176it [25:12,  8.52s/it]\u001b[A\n",
      "177it [25:22,  8.66s/it]\u001b[A\n",
      "178it [25:30,  8.59s/it]\u001b[A\n",
      "179it [25:38,  8.45s/it]\u001b[A\n",
      "180it [25:46,  8.18s/it]\u001b[A\n",
      "181it [25:54,  8.31s/it]\u001b[A\n",
      "182it [26:03,  8.31s/it]\u001b[A\n",
      "183it [26:11,  8.45s/it]\u001b[A\n",
      "184it [26:20,  8.49s/it]\u001b[A\n",
      "185it [26:29,  8.61s/it]\u001b[A\n",
      "186it [26:37,  8.60s/it]\u001b[A\n",
      "187it [26:46,  8.68s/it]\u001b[A\n",
      "188it [26:55,  8.61s/it]\u001b[A\n",
      "189it [27:03,  8.51s/it]\u001b[A\n",
      "190it [27:11,  8.49s/it]\u001b[A\n",
      "191it [27:20,  8.55s/it]\u001b[A\n",
      "192it [27:28,  8.36s/it]\u001b[A\n",
      "193it [27:37,  8.49s/it]\u001b[A\n",
      "194it [27:45,  8.53s/it]\u001b[A\n",
      "195it [27:54,  8.59s/it]\u001b[A\n",
      "196it [28:02,  8.46s/it]\u001b[A\n",
      "197it [28:10,  8.38s/it]\u001b[A\n",
      "198it [28:19,  8.41s/it]\u001b[A\n",
      "199it [28:27,  8.31s/it]\u001b[A\n",
      "200it [28:36,  8.42s/it]\u001b[A\n",
      "201it [28:44,  8.47s/it]\u001b[A\n",
      "202it [28:53,  8.60s/it]\u001b[A\n",
      "203it [29:01,  8.32s/it]\u001b[A\n",
      "204it [29:09,  8.35s/it]\u001b[A\n",
      "205it [29:17,  8.26s/it]\u001b[A\n",
      "206it [29:25,  8.22s/it]\u001b[A\n",
      "207it [29:34,  8.34s/it]\u001b[A\n",
      "208it [29:42,  8.16s/it]\u001b[A\n",
      "209it [29:50,  8.24s/it]\u001b[A\n",
      "210it [29:58,  8.16s/it]\u001b[A\n",
      "211it [30:06,  8.07s/it]\u001b[A\n",
      "212it [30:14,  7.99s/it]\u001b[A\n",
      "213it [30:22,  8.01s/it]\u001b[A\n",
      "214it [30:30,  8.05s/it]\u001b[A\n",
      "215it [30:38,  8.10s/it]\u001b[A\n",
      "216it [30:47,  8.25s/it]\u001b[A\n",
      "217it [30:56,  8.52s/it]\u001b[A\n",
      "218it [31:05,  8.55s/it]\u001b[A\n",
      "219it [31:13,  8.62s/it]\u001b[A\n",
      "220it [31:22,  8.59s/it]\u001b[A\n",
      "221it [31:31,  8.63s/it]\u001b[A\n",
      "222it [31:39,  8.48s/it]\u001b[A\n",
      "223it [31:47,  8.50s/it]\u001b[A\n",
      "224it [31:56,  8.47s/it]\u001b[A\n",
      "225it [32:04,  8.52s/it]\u001b[A\n",
      "226it [32:13,  8.66s/it]\u001b[A\n",
      "227it [32:22,  8.57s/it]\u001b[A\n",
      "228it [32:30,  8.45s/it]\u001b[A\n",
      "229it [32:38,  8.26s/it]\u001b[A\n",
      "230it [32:46,  8.24s/it]\u001b[A\n",
      "231it [32:54,  8.10s/it]\u001b[A\n",
      "232it [33:02,  8.26s/it]\u001b[A\n",
      "233it [33:11,  8.29s/it]\u001b[A\n",
      "234it [33:19,  8.35s/it]\u001b[A\n",
      "235it [33:27,  8.21s/it]\u001b[A\n",
      "236it [33:35,  8.17s/it]\u001b[A\n",
      "237it [33:43,  8.09s/it]\u001b[A\n",
      "238it [33:51,  8.16s/it]\u001b[A\n",
      "239it [33:59,  8.03s/it]\u001b[A\n",
      "240it [34:07,  8.13s/it]\u001b[A\n",
      "241it [34:16,  8.12s/it]\u001b[A\n",
      "242it [34:24,  8.19s/it]\u001b[A\n",
      "243it [34:32,  8.22s/it]\u001b[A\n",
      "244it [34:41,  8.35s/it]\u001b[A\n",
      "245it [34:49,  8.36s/it]\u001b[A\n",
      "246it [34:58,  8.36s/it]\u001b[A\n",
      "247it [35:06,  8.22s/it]\u001b[A\n",
      "248it [35:14,  8.27s/it]\u001b[A\n",
      "249it [35:22,  8.31s/it]\u001b[A\n",
      "250it [35:30,  8.25s/it]\u001b[A\n",
      "251it [35:41,  8.81s/it]\u001b[A\n",
      "252it [35:49,  8.86s/it]\u001b[A\n",
      "253it [35:59,  8.99s/it]\u001b[A\n",
      "254it [36:07,  8.75s/it]\u001b[A\n",
      "255it [36:16,  8.68s/it]\u001b[A\n",
      "256it [36:24,  8.58s/it]\u001b[A\n",
      "257it [36:32,  8.52s/it]\u001b[A\n",
      "258it [36:41,  8.64s/it]\u001b[A\n",
      "259it [36:49,  8.51s/it]\u001b[A\n",
      "260it [36:57,  8.24s/it]\u001b[A\n",
      "261it [37:05,  8.20s/it]\u001b[A\n",
      "262it [37:14,  8.31s/it]\u001b[A\n",
      "263it [37:23,  8.71s/it]\u001b[A\n",
      "264it [37:31,  8.55s/it]\u001b[A\n",
      "265it [37:40,  8.54s/it]\u001b[A\n",
      "266it [37:48,  8.50s/it]\u001b[A\n",
      "267it [37:58,  8.79s/it]\u001b[A\n",
      "268it [38:06,  8.68s/it]\u001b[A\n",
      "269it [38:15,  8.66s/it]\u001b[A\n",
      "270it [38:24,  8.84s/it]\u001b[A\n",
      "271it [38:33,  8.93s/it]\u001b[A\n",
      "272it [38:42,  8.84s/it]\u001b[A\n",
      "273it [38:50,  8.70s/it]\u001b[A\n",
      "274it [38:58,  8.55s/it]\u001b[A\n",
      "275it [39:07,  8.54s/it]\u001b[A\n",
      "276it [39:16,  8.62s/it]\u001b[A\n",
      "277it [39:24,  8.64s/it]\u001b[A\n",
      "278it [39:33,  8.49s/it]\u001b[A\n",
      "279it [39:41,  8.46s/it]\u001b[A\n",
      "280it [39:50,  8.52s/it]\u001b[A\n",
      "281it [39:58,  8.47s/it]\u001b[A\n",
      "282it [40:07,  8.47s/it]\u001b[A\n",
      "283it [40:15,  8.37s/it]\u001b[A\n",
      "284it [40:24,  8.60s/it]\u001b[A\n",
      "285it [40:32,  8.54s/it]\u001b[A\n",
      "286it [40:41,  8.70s/it]\u001b[A\n",
      "287it [40:49,  8.45s/it]\u001b[A\n",
      "288it [40:57,  8.43s/it]\u001b[A\n",
      "289it [41:06,  8.48s/it]\u001b[A\n",
      "290it [41:15,  8.48s/it]\u001b[A\n",
      "291it [41:23,  8.53s/it]\u001b[A\n",
      "292it [41:32,  8.47s/it]\u001b[A\n",
      "293it [41:40,  8.54s/it]\u001b[A\n",
      "294it [41:49,  8.62s/it]\u001b[A\n",
      "295it [41:58,  8.82s/it]\u001b[A\n",
      "296it [42:07,  8.80s/it]\u001b[A\n",
      "297it [42:16,  8.72s/it]\u001b[A\n",
      "298it [42:24,  8.75s/it]\u001b[A\n",
      "299it [42:32,  8.47s/it]\u001b[A\n",
      "300it [42:41,  8.60s/it]\u001b[A\n",
      "301it [42:50,  8.60s/it]\u001b[A\n",
      "302it [42:58,  8.43s/it]\u001b[A\n",
      "303it [43:06,  8.45s/it]\u001b[A\n",
      "304it [43:15,  8.49s/it]\u001b[A\n",
      "305it [43:23,  8.44s/it]\u001b[A\n",
      "306it [43:31,  8.36s/it]\u001b[A\n",
      "307it [43:40,  8.39s/it]\u001b[A\n",
      "308it [43:48,  8.29s/it]\u001b[A\n",
      "309it [43:57,  8.44s/it]\u001b[A\n",
      "310it [44:05,  8.47s/it]\u001b[A\n",
      "311it [44:14,  8.55s/it]\u001b[A\n",
      "312it [44:22,  8.44s/it]\u001b[A\n",
      "313it [44:30,  8.31s/it]\u001b[A\n",
      "314it [44:39,  8.35s/it]\u001b[A\n",
      "315it [44:47,  8.49s/it]\u001b[A\n",
      "316it [44:56,  8.48s/it]\u001b[A\n",
      "317it [45:05,  8.54s/it]\u001b[A\n",
      "318it [45:13,  8.61s/it]\u001b[A\n",
      "319it [45:22,  8.50s/it]\u001b[A\n",
      "320it [45:29,  8.33s/it]\u001b[A\n",
      "321it [45:38,  8.37s/it]\u001b[A\n",
      "322it [45:48,  8.76s/it]\u001b[A\n",
      "323it [45:56,  8.67s/it]\u001b[A\n",
      "324it [46:05,  8.66s/it]\u001b[A\n",
      "325it [46:13,  8.58s/it]\u001b[A\n",
      "326it [46:22,  8.69s/it]\u001b[A\n",
      "327it [46:32,  8.98s/it]\u001b[A\n",
      "328it [46:40,  8.90s/it]\u001b[A\n",
      "329it [46:49,  8.81s/it]\u001b[A\n",
      "330it [46:58,  8.98s/it]\u001b[A\n",
      "331it [47:07,  8.93s/it]\u001b[A\n",
      "332it [47:16,  8.75s/it]\u001b[A\n",
      "333it [47:24,  8.61s/it]\u001b[A\n",
      "334it [47:32,  8.48s/it]\u001b[A\n",
      "335it [47:41,  8.49s/it]\u001b[A\n",
      "336it [47:49,  8.56s/it]\u001b[A\n",
      "337it [47:58,  8.51s/it]\u001b[A\n",
      "338it [48:06,  8.39s/it]\u001b[A\n",
      "339it [48:14,  8.42s/it]\u001b[A\n",
      "340it [48:23,  8.40s/it]\u001b[A\n",
      "341it [48:31,  8.49s/it]\u001b[A\n",
      "342it [48:40,  8.49s/it]\u001b[A\n",
      "343it [48:48,  8.28s/it]\u001b[A\n",
      "344it [48:59,  9.14s/it]\u001b[A\n",
      "345it [49:07,  8.94s/it]\u001b[A\n",
      "346it [49:15,  8.54s/it]\u001b[A\n",
      "347it [49:23,  8.32s/it]\u001b[A\n",
      "348it [49:31,  8.24s/it]\u001b[A\n",
      "349it [49:39,  8.35s/it]\u001b[A\n",
      "350it [49:48,  8.41s/it]\u001b[A\n",
      "351it [49:56,  8.42s/it]\u001b[A\n",
      "352it [50:05,  8.44s/it]\u001b[A\n",
      "353it [50:13,  8.41s/it]\u001b[A\n",
      "354it [50:21,  8.33s/it]\u001b[A\n",
      "355it [50:31,  8.63s/it]\u001b[A\n",
      "356it [50:39,  8.64s/it]\u001b[A\n",
      "357it [50:47,  8.46s/it]\u001b[A\n",
      "358it [50:56,  8.54s/it]\u001b[A\n",
      "359it [51:04,  8.48s/it]\u001b[A\n",
      "360it [51:13,  8.56s/it]\u001b[A\n",
      "361it [51:23,  8.85s/it]\u001b[A\n",
      "362it [51:31,  8.68s/it]\u001b[A\n",
      "363it [51:40,  8.68s/it]\u001b[A\n",
      "364it [51:48,  8.67s/it]\u001b[A\n",
      "365it [51:56,  8.54s/it]\u001b[A\n"
     ]
    },
    {
     "name": "stdout",
     "output_type": "stream",
     "text": [
      "new_weather shape (17310, 11)\n"
     ]
    },
    {
     "name": "stderr",
     "output_type": "stream",
     "text": [
      "\r",
      " 67%|███████████████████████████████████████████████████████████████████████████▎                                     | 10/15 [9:56:10<4:36:00, 3312.01s/it]"
     ]
    },
    {
     "name": "stdout",
     "output_type": "stream",
     "text": [
      "update weather data for  Khlong Hoi Khong\n",
      "updateing file: ../data/weather_cities/Khlong_Hoi_Khong.csv\n",
      "missing date 365\n"
     ]
    },
    {
     "name": "stderr",
     "output_type": "stream",
     "text": [
      "\n",
      "0it [00:00, ?it/s]\u001b[A\n",
      "1it [00:08,  8.56s/it]\u001b[A\n",
      "2it [00:17,  8.58s/it]\u001b[A\n",
      "3it [00:26,  8.71s/it]\u001b[A\n",
      "4it [00:37,  9.49s/it]\u001b[A\n",
      "5it [00:46,  9.41s/it]\u001b[A\n",
      "6it [00:55,  9.17s/it]\u001b[A\n",
      "7it [01:04,  9.13s/it]\u001b[A\n",
      "8it [01:12,  8.91s/it]\u001b[A\n",
      "9it [01:21,  8.74s/it]\u001b[A\n",
      "10it [01:29,  8.59s/it]\u001b[A\n",
      "11it [01:38,  8.70s/it]\u001b[A\n",
      "12it [01:46,  8.65s/it]\u001b[A\n",
      "13it [01:55,  8.59s/it]\u001b[A\n",
      "14it [02:04,  8.65s/it]\u001b[A\n",
      "15it [02:11,  8.39s/it]\u001b[A\n",
      "16it [02:20,  8.43s/it]\u001b[A\n",
      "17it [02:29,  8.49s/it]\u001b[A\n",
      "18it [02:37,  8.49s/it]\u001b[A\n",
      "19it [02:45,  8.44s/it]\u001b[A\n",
      "20it [02:54,  8.40s/it]\u001b[A\n",
      "21it [03:02,  8.44s/it]\u001b[A\n",
      "22it [03:11,  8.47s/it]\u001b[A\n",
      "23it [03:19,  8.42s/it]\u001b[A\n",
      "24it [03:27,  8.32s/it]\u001b[A\n",
      "25it [03:35,  8.25s/it]\u001b[A\n",
      "26it [03:43,  8.19s/it]\u001b[A\n",
      "27it [03:52,  8.23s/it]\u001b[A\n",
      "28it [04:01,  8.69s/it]\u001b[A\n",
      "29it [04:10,  8.58s/it]\u001b[A\n",
      "30it [04:19,  8.69s/it]\u001b[A\n",
      "31it [04:28,  8.92s/it]\u001b[A\n",
      "32it [04:36,  8.76s/it]\u001b[A\n",
      "33it [04:45,  8.65s/it]\u001b[A\n",
      "34it [04:53,  8.65s/it]\u001b[A\n",
      "35it [05:02,  8.59s/it]\u001b[A\n",
      "36it [05:10,  8.46s/it]\u001b[A\n",
      "37it [05:18,  8.32s/it]\u001b[A\n",
      "38it [05:27,  8.35s/it]\u001b[A\n",
      "39it [05:35,  8.26s/it]\u001b[A\n",
      "40it [05:43,  8.45s/it]\u001b[A\n",
      "41it [05:52,  8.39s/it]\u001b[A\n",
      "42it [06:01,  8.61s/it]\u001b[A\n",
      "43it [06:09,  8.53s/it]\u001b[A\n",
      "44it [06:18,  8.62s/it]\u001b[A\n",
      "45it [06:26,  8.53s/it]\u001b[A\n",
      "46it [06:35,  8.48s/it]\u001b[A\n",
      "47it [06:43,  8.39s/it]\u001b[A\n",
      "48it [06:52,  8.48s/it]\u001b[A\n",
      "49it [07:00,  8.38s/it]\u001b[A\n",
      "50it [07:08,  8.29s/it]\u001b[A\n",
      "51it [07:16,  8.23s/it]\u001b[A\n",
      "52it [07:24,  8.14s/it]\u001b[A\n",
      "53it [07:32,  8.14s/it]\u001b[A\n",
      "54it [07:40,  8.24s/it]\u001b[A\n",
      "55it [07:49,  8.30s/it]\u001b[A\n",
      "56it [07:57,  8.31s/it]\u001b[A\n",
      "57it [08:06,  8.33s/it]\u001b[A\n",
      "58it [08:14,  8.49s/it]\u001b[A\n",
      "59it [08:23,  8.65s/it]\u001b[A\n",
      "60it [08:33,  8.84s/it]\u001b[A\n",
      "61it [08:41,  8.74s/it]\u001b[A\n",
      "62it [08:50,  8.81s/it]\u001b[A\n",
      "63it [08:59,  8.93s/it]\u001b[A\n",
      "64it [09:08,  8.89s/it]\u001b[A\n",
      "65it [09:17,  8.86s/it]\u001b[A\n",
      "66it [09:25,  8.69s/it]\u001b[A\n",
      "67it [09:34,  8.68s/it]\u001b[A\n",
      "68it [09:43,  8.72s/it]\u001b[A\n",
      "69it [09:51,  8.68s/it]\u001b[A\n",
      "70it [10:01,  8.84s/it]\u001b[A\n",
      "71it [10:09,  8.69s/it]\u001b[A\n",
      "72it [10:18,  8.80s/it]\u001b[A\n",
      "73it [10:26,  8.50s/it]\u001b[A\n",
      "74it [10:34,  8.55s/it]\u001b[A\n",
      "75it [10:42,  8.40s/it]\u001b[A\n",
      "76it [10:51,  8.39s/it]\u001b[A\n",
      "77it [10:59,  8.34s/it]\u001b[A\n",
      "78it [11:07,  8.33s/it]\u001b[A\n",
      "79it [11:16,  8.31s/it]\u001b[A\n",
      "80it [11:24,  8.45s/it]\u001b[A\n",
      "81it [11:33,  8.38s/it]\u001b[A\n",
      "82it [11:42,  8.55s/it]\u001b[A\n",
      "83it [11:53,  9.37s/it]\u001b[A\n",
      "84it [12:02,  9.20s/it]\u001b[A\n",
      "85it [12:10,  8.94s/it]\u001b[A\n",
      "86it [12:18,  8.63s/it]\u001b[A\n",
      "87it [12:27,  8.76s/it]\u001b[A\n",
      "88it [12:35,  8.65s/it]\u001b[A\n",
      "89it [12:44,  8.76s/it]\u001b[A\n",
      "90it [12:54,  8.96s/it]\u001b[A\n",
      "91it [13:01,  8.57s/it]\u001b[A\n",
      "92it [13:10,  8.61s/it]\u001b[A\n",
      "93it [13:19,  8.56s/it]\u001b[A\n",
      "94it [13:28,  8.71s/it]\u001b[A\n",
      "95it [13:36,  8.55s/it]\u001b[A\n",
      "96it [13:45,  8.67s/it]\u001b[A\n",
      "97it [13:53,  8.62s/it]\u001b[A\n",
      "98it [14:01,  8.35s/it]\u001b[A\n",
      "99it [14:09,  8.34s/it]\u001b[A\n",
      "100it [14:18,  8.32s/it]\u001b[A\n",
      "101it [14:27,  8.52s/it]\u001b[A\n",
      "102it [14:35,  8.57s/it]\u001b[A\n",
      "103it [14:44,  8.65s/it]\u001b[A\n",
      "104it [14:53,  8.78s/it]\u001b[A\n",
      "105it [15:01,  8.58s/it]\u001b[A\n",
      "106it [15:09,  8.41s/it]\u001b[A\n",
      "107it [15:18,  8.36s/it]\u001b[A\n",
      "108it [15:26,  8.28s/it]\u001b[A\n",
      "109it [15:34,  8.24s/it]\u001b[A\n",
      "110it [15:42,  8.18s/it]\u001b[A\n",
      "111it [15:50,  8.15s/it]\u001b[A\n",
      "112it [15:58,  8.26s/it]\u001b[A\n",
      "113it [16:07,  8.26s/it]\u001b[A\n",
      "114it [16:15,  8.29s/it]\u001b[A\n",
      "115it [16:23,  8.23s/it]\u001b[A\n",
      "116it [16:32,  8.49s/it]\u001b[A\n",
      "117it [16:40,  8.36s/it]\u001b[A\n",
      "118it [16:49,  8.35s/it]\u001b[A\n",
      "119it [16:57,  8.39s/it]\u001b[A\n",
      "120it [17:06,  8.56s/it]\u001b[A\n",
      "121it [17:15,  8.54s/it]\u001b[A\n",
      "122it [17:23,  8.62s/it]\u001b[A\n",
      "123it [17:32,  8.50s/it]\u001b[A\n",
      "124it [17:42,  8.98s/it]\u001b[A\n",
      "125it [17:50,  8.79s/it]\u001b[A\n",
      "126it [17:58,  8.64s/it]\u001b[A\n",
      "127it [18:07,  8.66s/it]\u001b[A\n",
      "128it [18:15,  8.47s/it]\u001b[A\n",
      "129it [18:23,  8.43s/it]\u001b[A\n",
      "130it [18:32,  8.48s/it]\u001b[A\n",
      "131it [18:40,  8.34s/it]\u001b[A\n",
      "132it [18:48,  8.34s/it]\u001b[A\n",
      "133it [18:57,  8.38s/it]\u001b[A\n",
      "134it [19:05,  8.45s/it]\u001b[A\n",
      "135it [19:14,  8.42s/it]\u001b[A\n",
      "136it [19:23,  8.52s/it]\u001b[A\n",
      "137it [19:31,  8.47s/it]\u001b[A\n",
      "138it [19:39,  8.43s/it]\u001b[A\n",
      "139it [19:48,  8.41s/it]\u001b[A\n",
      "140it [19:56,  8.32s/it]\u001b[A\n",
      "141it [20:03,  8.13s/it]\u001b[A\n",
      "142it [20:12,  8.38s/it]\u001b[A\n",
      "143it [20:21,  8.48s/it]\u001b[A\n",
      "144it [20:30,  8.71s/it]\u001b[A\n",
      "145it [20:39,  8.61s/it]\u001b[A\n",
      "146it [20:48,  8.74s/it]\u001b[A\n",
      "147it [20:56,  8.54s/it]\u001b[A\n",
      "148it [21:04,  8.44s/it]\u001b[A\n",
      "149it [21:13,  8.74s/it]\u001b[A\n",
      "150it [21:22,  8.57s/it]\u001b[A\n",
      "151it [21:30,  8.55s/it]\u001b[A\n",
      "152it [21:38,  8.39s/it]\u001b[A\n",
      "153it [21:47,  8.48s/it]\u001b[A\n",
      "154it [21:55,  8.29s/it]\u001b[A\n",
      "155it [22:04,  8.47s/it]\u001b[A\n",
      "156it [22:11,  8.30s/it]\u001b[A\n",
      "157it [22:19,  8.15s/it]\u001b[A\n",
      "158it [22:27,  8.17s/it]\u001b[A\n",
      "159it [22:35,  8.05s/it]\u001b[A\n",
      "160it [22:44,  8.21s/it]\u001b[A\n",
      "161it [22:52,  8.09s/it]\u001b[A\n",
      "162it [23:00,  8.32s/it]\u001b[A\n",
      "163it [23:09,  8.39s/it]\u001b[A\n",
      "164it [23:17,  8.24s/it]\u001b[A\n",
      "165it [23:25,  8.25s/it]\u001b[A\n",
      "166it [23:33,  8.08s/it]\u001b[A\n",
      "167it [23:41,  8.17s/it]\u001b[A\n",
      "168it [23:50,  8.28s/it]\u001b[A\n",
      "169it [23:58,  8.33s/it]\u001b[A\n",
      "170it [24:06,  8.08s/it]\u001b[A\n",
      "171it [24:14,  8.18s/it]\u001b[A\n",
      "172it [24:23,  8.24s/it]\u001b[A\n",
      "173it [24:31,  8.26s/it]\u001b[A\n",
      "174it [24:39,  8.13s/it]\u001b[A\n",
      "175it [24:46,  8.01s/it]\u001b[A\n",
      "176it [24:55,  8.25s/it]\u001b[A\n",
      "177it [25:03,  8.06s/it]\u001b[A\n",
      "178it [25:11,  8.05s/it]\u001b[A\n",
      "179it [25:19,  7.99s/it]\u001b[A\n",
      "180it [25:26,  7.86s/it]\u001b[A\n",
      "181it [25:34,  7.91s/it]\u001b[A\n",
      "182it [25:42,  7.81s/it]\u001b[A\n",
      "183it [25:49,  7.74s/it]\u001b[A\n",
      "184it [25:58,  7.93s/it]\u001b[A\n",
      "185it [26:06,  7.94s/it]\u001b[A\n",
      "186it [26:13,  7.86s/it]\u001b[A\n",
      "187it [26:21,  7.89s/it]\u001b[A\n",
      "188it [26:30,  8.06s/it]\u001b[A\n",
      "189it [26:38,  8.00s/it]\u001b[A\n",
      "190it [26:46,  8.11s/it]\u001b[A\n",
      "191it [26:54,  8.11s/it]\u001b[A\n",
      "192it [27:02,  7.98s/it]\u001b[A\n",
      "193it [27:10,  7.90s/it]\u001b[A\n",
      "194it [27:17,  7.89s/it]\u001b[A\n",
      "195it [27:26,  8.08s/it]\u001b[A\n",
      "196it [27:34,  8.01s/it]\u001b[A\n",
      "197it [27:42,  8.12s/it]\u001b[A\n",
      "198it [27:50,  8.01s/it]\u001b[A\n",
      "199it [27:57,  7.84s/it]\u001b[A\n",
      "200it [28:05,  7.87s/it]\u001b[A\n",
      "201it [28:13,  7.83s/it]\u001b[A\n",
      "202it [28:21,  7.93s/it]\u001b[A\n",
      "203it [28:29,  7.97s/it]\u001b[A\n",
      "204it [28:37,  8.01s/it]\u001b[A\n",
      "205it [28:46,  8.05s/it]\u001b[A\n",
      "206it [28:54,  8.03s/it]\u001b[A\n",
      "207it [29:02,  8.07s/it]\u001b[A\n",
      "208it [29:11,  8.31s/it]\u001b[A\n",
      "209it [29:21,  8.87s/it]\u001b[A\n",
      "210it [29:29,  8.77s/it]\u001b[A\n",
      "211it [29:37,  8.53s/it]\u001b[A\n",
      "212it [29:45,  8.30s/it]\u001b[A\n",
      "213it [29:54,  8.36s/it]\u001b[A\n",
      "214it [30:02,  8.25s/it]\u001b[A\n",
      "215it [30:09,  8.10s/it]\u001b[A\n",
      "216it [30:17,  8.01s/it]\u001b[A\n",
      "217it [30:26,  8.19s/it]\u001b[A\n",
      "218it [30:34,  8.09s/it]\u001b[A\n",
      "219it [30:42,  8.16s/it]\u001b[A\n",
      "220it [30:50,  8.13s/it]\u001b[A\n",
      "221it [30:58,  8.13s/it]\u001b[A\n",
      "222it [31:06,  8.08s/it]\u001b[A\n",
      "223it [31:14,  7.96s/it]\u001b[A\n",
      "224it [31:22,  7.96s/it]\u001b[A\n",
      "225it [31:30,  7.98s/it]\u001b[A\n",
      "226it [31:38,  8.05s/it]\u001b[A\n",
      "227it [31:47,  8.26s/it]\u001b[A\n",
      "228it [31:55,  8.38s/it]\u001b[A\n",
      "229it [32:04,  8.44s/it]\u001b[A\n",
      "230it [32:12,  8.34s/it]\u001b[A\n",
      "231it [32:23,  9.12s/it]\u001b[A\n",
      "232it [32:31,  8.92s/it]\u001b[A\n",
      "233it [32:40,  8.70s/it]\u001b[A\n",
      "234it [32:48,  8.50s/it]\u001b[A\n",
      "235it [32:56,  8.38s/it]\u001b[A\n",
      "236it [33:05,  8.52s/it]\u001b[A\n",
      "237it [33:12,  8.31s/it]\u001b[A\n",
      "238it [33:23,  9.09s/it]\u001b[A\n",
      "239it [33:32,  8.84s/it]\u001b[A\n",
      "240it [33:39,  8.55s/it]\u001b[A\n",
      "241it [33:47,  8.37s/it]\u001b[A\n",
      "242it [33:55,  8.26s/it]\u001b[A\n",
      "243it [34:03,  8.09s/it]\u001b[A\n",
      "244it [34:14,  8.95s/it]\u001b[A\n",
      "245it [34:22,  8.67s/it]\u001b[A\n",
      "246it [34:30,  8.49s/it]\u001b[A\n",
      "247it [34:38,  8.26s/it]\u001b[A\n",
      "248it [34:46,  8.21s/it]\u001b[A\n",
      "249it [34:54,  8.23s/it]\u001b[A\n",
      "250it [35:02,  8.09s/it]\u001b[A\n",
      "251it [35:10,  8.05s/it]\u001b[A\n",
      "252it [35:18,  8.02s/it]\u001b[A\n",
      "253it [35:26,  7.99s/it]\u001b[A\n",
      "254it [35:34,  8.16s/it]\u001b[A\n",
      "255it [35:43,  8.33s/it]\u001b[A\n",
      "256it [35:51,  8.17s/it]\u001b[A\n",
      "257it [35:59,  8.17s/it]\u001b[A\n",
      "258it [36:08,  8.31s/it]\u001b[A\n",
      "259it [36:15,  8.12s/it]\u001b[A\n",
      "260it [36:23,  8.12s/it]\u001b[A\n",
      "261it [36:32,  8.18s/it]\u001b[A\n",
      "262it [36:40,  8.16s/it]\u001b[A\n",
      "263it [36:49,  8.31s/it]\u001b[A\n",
      "264it [36:58,  8.56s/it]\u001b[A\n",
      "265it [37:06,  8.47s/it]\u001b[A\n",
      "266it [37:14,  8.33s/it]\u001b[A\n",
      "267it [37:23,  8.52s/it]\u001b[A\n",
      "268it [37:31,  8.43s/it]\u001b[A\n",
      "269it [37:39,  8.29s/it]\u001b[A\n",
      "270it [37:47,  8.16s/it]\u001b[A\n",
      "271it [37:55,  8.17s/it]\u001b[A\n",
      "272it [38:03,  8.10s/it]\u001b[A\n",
      "273it [38:11,  8.09s/it]\u001b[A\n",
      "274it [38:19,  8.00s/it]\u001b[A\n",
      "275it [38:28,  8.24s/it]\u001b[A\n",
      "276it [38:36,  8.28s/it]\u001b[A\n",
      "277it [38:44,  8.18s/it]\u001b[A\n",
      "278it [39:05, 11.97s/it]\u001b[A\n",
      "279it [39:13, 10.80s/it]\u001b[A\n",
      "280it [39:21, 10.12s/it]\u001b[A\n",
      "281it [39:30,  9.66s/it]\u001b[A\n",
      "282it [39:39,  9.30s/it]\u001b[A\n",
      "283it [39:52, 10.49s/it]\u001b[A\n",
      "284it [40:00,  9.71s/it]\u001b[A\n",
      "285it [40:08,  9.26s/it]\u001b[A\n",
      "286it [40:16,  8.99s/it]\u001b[A\n",
      "287it [40:24,  8.63s/it]\u001b[A\n",
      "288it [40:32,  8.44s/it]\u001b[A\n",
      "289it [40:40,  8.25s/it]\u001b[A\n",
      "290it [40:48,  8.32s/it]\u001b[A\n",
      "291it [40:57,  8.44s/it]\u001b[A\n",
      "292it [41:05,  8.41s/it]\u001b[A\n",
      "293it [41:13,  8.19s/it]\u001b[A\n",
      "294it [41:21,  8.07s/it]\u001b[A\n",
      "295it [41:29,  8.09s/it]\u001b[A\n",
      "296it [41:36,  7.87s/it]\u001b[A\n",
      "297it [41:44,  7.80s/it]\u001b[A\n",
      "298it [41:53,  8.04s/it]\u001b[A\n",
      "299it [42:01,  8.10s/it]\u001b[A\n",
      "300it [42:09,  7.98s/it]\u001b[A\n",
      "301it [42:17,  8.11s/it]\u001b[A\n",
      "302it [42:25,  8.08s/it]\u001b[A\n",
      "303it [42:33,  8.18s/it]\u001b[A\n",
      "304it [42:42,  8.21s/it]\u001b[A\n",
      "305it [42:50,  8.20s/it]\u001b[A\n",
      "306it [42:58,  8.19s/it]\u001b[A\n",
      "307it [43:06,  8.19s/it]\u001b[A\n",
      "308it [43:14,  8.09s/it]\u001b[A\n",
      "309it [43:22,  7.98s/it]\u001b[A\n",
      "310it [43:30,  8.07s/it]\u001b[A\n",
      "311it [43:40,  8.51s/it]\u001b[A\n",
      "312it [43:48,  8.57s/it]\u001b[A\n",
      "313it [43:57,  8.50s/it]\u001b[A\n",
      "314it [44:05,  8.43s/it]\u001b[A\n",
      "315it [44:13,  8.48s/it]\u001b[A\n",
      "316it [44:22,  8.39s/it]\u001b[A\n",
      "317it [44:30,  8.26s/it]\u001b[A\n",
      "318it [44:39,  8.52s/it]\u001b[A\n",
      "319it [44:48,  8.66s/it]\u001b[A\n",
      "320it [44:56,  8.58s/it]\u001b[A\n",
      "321it [45:04,  8.42s/it]\u001b[A\n",
      "322it [45:13,  8.48s/it]\u001b[A\n",
      "323it [45:22,  8.59s/it]\u001b[A\n",
      "324it [45:30,  8.55s/it]\u001b[A\n",
      "325it [45:38,  8.37s/it]\u001b[A\n",
      "326it [45:47,  8.45s/it]\u001b[A\n",
      "327it [45:55,  8.31s/it]\u001b[A\n",
      "328it [46:03,  8.39s/it]\u001b[A\n",
      "329it [46:11,  8.24s/it]\u001b[A\n",
      "330it [46:20,  8.30s/it]\u001b[A\n",
      "331it [46:28,  8.44s/it]\u001b[A\n",
      "332it [46:37,  8.55s/it]\u001b[A\n",
      "333it [46:46,  8.69s/it]\u001b[A\n",
      "334it [46:55,  8.59s/it]\u001b[A\n",
      "335it [47:03,  8.47s/it]\u001b[A\n",
      "336it [47:11,  8.49s/it]\u001b[A\n",
      "337it [47:20,  8.53s/it]\u001b[A\n",
      "338it [47:30,  8.97s/it]\u001b[A\n",
      "339it [47:38,  8.70s/it]\u001b[A\n",
      "340it [47:47,  8.75s/it]\u001b[A\n",
      "341it [47:56,  8.77s/it]\u001b[A\n",
      "342it [48:04,  8.52s/it]\u001b[A\n",
      "343it [48:12,  8.46s/it]\u001b[A\n",
      "344it [48:21,  8.72s/it]\u001b[A\n",
      "345it [48:30,  8.64s/it]\u001b[A\n",
      "346it [48:38,  8.59s/it]\u001b[A\n",
      "347it [48:50,  9.60s/it]\u001b[A\n",
      "348it [48:59,  9.48s/it]\u001b[A\n",
      "349it [49:08,  9.11s/it]\u001b[A\n",
      "350it [49:16,  8.81s/it]\u001b[A\n",
      "351it [49:24,  8.74s/it]\u001b[A\n",
      "352it [49:32,  8.49s/it]\u001b[A\n",
      "353it [49:41,  8.57s/it]\u001b[A\n",
      "354it [49:50,  8.70s/it]\u001b[A\n",
      "355it [50:00,  9.05s/it]\u001b[A\n",
      "356it [50:09,  9.24s/it]\u001b[A\n",
      "357it [50:18,  9.14s/it]\u001b[A\n",
      "358it [50:28,  9.21s/it]\u001b[A\n",
      "359it [50:36,  8.96s/it]\u001b[A\n",
      "360it [50:45,  8.82s/it]\u001b[A\n",
      "361it [50:53,  8.69s/it]\u001b[A\n",
      "362it [51:01,  8.53s/it]\u001b[A\n",
      "363it [51:09,  8.37s/it]\u001b[A\n",
      "364it [51:17,  8.28s/it]\u001b[A\n",
      "365it [51:26,  8.46s/it]\u001b[A\n"
     ]
    },
    {
     "name": "stdout",
     "output_type": "stream",
     "text": [
      "new_weather shape (10936, 11)\n"
     ]
    },
    {
     "name": "stderr",
     "output_type": "stream",
     "text": [
      "\r",
      " 73%|██████████████████████████████████████████████████████████████████████████████████▏                             | 11/15 [10:48:12<3:37:00, 3255.06s/it]"
     ]
    },
    {
     "name": "stdout",
     "output_type": "stream",
     "text": [
      "update weather data for  Khlong Hoi Khong\n",
      "updateing file: ../data/weather_cities/Khlong_Hoi_Khong.csv\n",
      "missing date 482\n"
     ]
    },
    {
     "name": "stderr",
     "output_type": "stream",
     "text": [
      "\n",
      "0it [00:00, ?it/s]\u001b[A\n",
      "1it [00:08,  8.11s/it]\u001b[A\n",
      "2it [00:18,  8.88s/it]\u001b[A\n",
      "3it [00:27,  8.98s/it]\u001b[A\n",
      "4it [00:36,  8.87s/it]\u001b[A\n",
      "5it [00:44,  8.63s/it]\u001b[A\n",
      "6it [00:52,  8.50s/it]\u001b[A\n",
      "7it [01:01,  8.57s/it]\u001b[A\n",
      "8it [01:10,  8.57s/it]\u001b[A\n",
      "9it [01:18,  8.58s/it]\u001b[A\n",
      "10it [01:27,  8.57s/it]\u001b[A\n",
      "11it [01:36,  8.62s/it]\u001b[A\n",
      "12it [01:44,  8.69s/it]\u001b[A\n",
      "13it [01:52,  8.47s/it]\u001b[A\n",
      "14it [02:00,  8.34s/it]\u001b[A\n",
      "15it [02:08,  8.24s/it]\u001b[A\n",
      "16it [02:18,  8.54s/it]\u001b[A\n",
      "17it [02:26,  8.43s/it]\u001b[A\n",
      "18it [02:35,  8.51s/it]\u001b[A\n",
      "19it [02:43,  8.45s/it]\u001b[A\n",
      "20it [02:51,  8.44s/it]\u001b[A\n",
      "21it [02:59,  8.31s/it]\u001b[A\n",
      "22it [03:08,  8.42s/it]\u001b[A\n",
      "23it [03:16,  8.37s/it]\u001b[A\n",
      "24it [03:24,  8.28s/it]\u001b[A\n",
      "25it [03:32,  8.17s/it]\u001b[A\n",
      "26it [03:40,  8.10s/it]\u001b[A\n",
      "27it [03:48,  8.11s/it]\u001b[A\n",
      "28it [03:56,  8.13s/it]\u001b[A\n",
      "29it [04:05,  8.39s/it]\u001b[A\n",
      "30it [04:14,  8.35s/it]\u001b[A\n",
      "31it [04:25,  9.18s/it]\u001b[A\n",
      "32it [04:34,  9.13s/it]\u001b[A\n",
      "33it [04:44,  9.30s/it]\u001b[A\n",
      "34it [04:53,  9.44s/it]\u001b[A\n",
      "35it [05:02,  9.08s/it]\u001b[A\n",
      "36it [05:10,  8.82s/it]\u001b[A\n",
      "37it [05:18,  8.68s/it]\u001b[A\n",
      "38it [05:26,  8.53s/it]\u001b[A\n",
      "39it [05:34,  8.40s/it]\u001b[A\n",
      "40it [05:43,  8.46s/it]\u001b[A\n",
      "41it [05:52,  8.75s/it]\u001b[A\n",
      "42it [06:02,  9.02s/it]\u001b[A\n",
      "43it [06:11,  8.96s/it]\u001b[A\n",
      "44it [06:19,  8.79s/it]\u001b[A\n",
      "45it [06:27,  8.56s/it]\u001b[A\n",
      "46it [06:36,  8.46s/it]\u001b[A\n",
      "47it [06:44,  8.43s/it]\u001b[A\n",
      "48it [06:52,  8.43s/it]\u001b[A\n",
      "49it [07:01,  8.44s/it]\u001b[A\n",
      "50it [07:09,  8.51s/it]\u001b[A\n",
      "51it [07:18,  8.43s/it]\u001b[A\n",
      "52it [07:26,  8.39s/it]\u001b[A\n",
      "53it [07:34,  8.34s/it]\u001b[A\n",
      "54it [07:43,  8.39s/it]\u001b[A\n",
      "55it [07:51,  8.28s/it]\u001b[A\n",
      "56it [07:59,  8.29s/it]\u001b[A\n",
      "57it [08:07,  8.30s/it]\u001b[A\n",
      "58it [08:16,  8.27s/it]\u001b[A\n",
      "59it [08:24,  8.34s/it]\u001b[A\n",
      "60it [08:32,  8.35s/it]\u001b[A\n",
      "61it [08:40,  8.24s/it]\u001b[A\n",
      "62it [08:49,  8.28s/it]\u001b[A\n",
      "63it [08:57,  8.35s/it]\u001b[A\n",
      "64it [09:06,  8.36s/it]\u001b[A\n",
      "65it [09:14,  8.42s/it]\u001b[A\n",
      "66it [09:23,  8.41s/it]\u001b[A\n",
      "67it [09:31,  8.35s/it]\u001b[A\n",
      "68it [09:40,  8.50s/it]\u001b[A\n",
      "69it [09:48,  8.54s/it]\u001b[A\n",
      "70it [09:57,  8.45s/it]\u001b[A\n",
      "71it [10:05,  8.45s/it]\u001b[A\n",
      "72it [10:14,  8.60s/it]\u001b[A\n",
      "73it [10:23,  8.73s/it]\u001b[A\n",
      "74it [10:32,  8.83s/it]\u001b[A\n",
      "75it [10:41,  8.96s/it]\u001b[A\n",
      "76it [10:51,  9.25s/it]\u001b[A\n",
      "77it [11:00,  8.99s/it]\u001b[A\n",
      "78it [11:08,  8.85s/it]\u001b[A\n",
      "79it [11:17,  8.94s/it]\u001b[A\n",
      "80it [11:26,  8.85s/it]\u001b[A\n",
      "81it [11:35,  8.84s/it]\u001b[A\n",
      "82it [11:44,  8.86s/it]\u001b[A\n",
      "83it [11:52,  8.78s/it]\u001b[A\n",
      "84it [12:00,  8.60s/it]\u001b[A\n",
      "85it [12:10,  8.91s/it]\u001b[A\n",
      "86it [12:19,  8.82s/it]\u001b[A\n",
      "87it [12:27,  8.57s/it]\u001b[A\n",
      "88it [12:35,  8.60s/it]\u001b[A\n",
      "89it [12:44,  8.61s/it]\u001b[A\n",
      "90it [12:53,  8.71s/it]\u001b[A\n",
      "91it [13:02,  8.67s/it]\u001b[A\n",
      "92it [13:10,  8.60s/it]\u001b[A\n",
      "93it [13:18,  8.56s/it]\u001b[A\n",
      "94it [13:27,  8.54s/it]\u001b[A\n",
      "95it [13:35,  8.42s/it]\u001b[A\n",
      "96it [13:44,  8.58s/it]\u001b[A\n",
      "97it [13:52,  8.51s/it]\u001b[A\n",
      "98it [14:02,  8.76s/it]\u001b[A\n",
      "99it [14:11,  8.77s/it]\u001b[A\n",
      "100it [14:19,  8.67s/it]\u001b[A\n",
      "101it [14:28,  8.67s/it]\u001b[A\n",
      "102it [14:36,  8.55s/it]\u001b[A\n",
      "103it [14:45,  8.63s/it]\u001b[A\n",
      "104it [14:53,  8.52s/it]\u001b[A\n",
      "105it [15:02,  8.53s/it]\u001b[A\n",
      "106it [15:10,  8.57s/it]\u001b[A\n",
      "107it [15:18,  8.44s/it]\u001b[A\n",
      "108it [15:27,  8.50s/it]\u001b[A\n",
      "109it [15:36,  8.63s/it]\u001b[A\n",
      "110it [15:44,  8.57s/it]\u001b[A\n",
      "111it [15:53,  8.63s/it]\u001b[A\n",
      "112it [16:01,  8.45s/it]\u001b[A\n",
      "113it [16:09,  8.23s/it]\u001b[A\n",
      "114it [16:17,  8.32s/it]\u001b[A\n",
      "115it [16:26,  8.56s/it]\u001b[A\n",
      "116it [16:34,  8.38s/it]\u001b[A\n",
      "117it [16:43,  8.48s/it]\u001b[A\n",
      "118it [16:52,  8.54s/it]\u001b[A\n",
      "119it [17:00,  8.53s/it]\u001b[A\n",
      "120it [17:09,  8.46s/it]\u001b[A\n",
      "121it [17:17,  8.34s/it]\u001b[A\n",
      "122it [17:25,  8.38s/it]\u001b[A\n",
      "123it [17:33,  8.31s/it]\u001b[A\n",
      "124it [17:41,  8.21s/it]\u001b[A\n",
      "125it [17:50,  8.26s/it]\u001b[A\n",
      "126it [17:58,  8.26s/it]\u001b[A\n",
      "127it [18:07,  8.46s/it]\u001b[A\n",
      "128it [18:15,  8.51s/it]\u001b[A\n",
      "129it [18:24,  8.41s/it]\u001b[A\n",
      "130it [18:32,  8.47s/it]\u001b[A\n",
      "131it [18:41,  8.68s/it]\u001b[A\n",
      "132it [18:51,  8.86s/it]\u001b[A\n",
      "133it [19:03,  9.88s/it]\u001b[A\n",
      "134it [19:12,  9.48s/it]\u001b[A\n",
      "135it [19:21,  9.63s/it]\u001b[A\n",
      "136it [19:45, 13.76s/it]\u001b[A\n",
      "137it [19:54, 12.22s/it]\u001b[A\n",
      "138it [20:02, 11.07s/it]\u001b[A\n",
      "139it [20:10, 10.20s/it]\u001b[A\n",
      "140it [20:19,  9.78s/it]\u001b[A\n",
      "141it [20:27,  9.36s/it]\u001b[A\n",
      "142it [20:36,  9.22s/it]\u001b[A\n",
      "143it [20:45,  9.01s/it]\u001b[A\n",
      "144it [20:53,  8.89s/it]\u001b[A\n",
      "145it [21:05,  9.76s/it]\u001b[A\n",
      "146it [21:14,  9.39s/it]\u001b[A\n",
      "147it [21:22,  9.17s/it]\u001b[A\n",
      "148it [21:31,  9.07s/it]\u001b[A\n",
      "149it [21:40,  9.01s/it]\u001b[A\n",
      "150it [21:49,  9.05s/it]\u001b[A\n",
      "151it [21:58,  8.87s/it]\u001b[A\n",
      "152it [22:06,  8.70s/it]\u001b[A\n",
      "153it [22:17,  9.47s/it]\u001b[A\n",
      "154it [22:26,  9.35s/it]\u001b[A\n",
      "155it [22:35,  9.12s/it]\u001b[A\n",
      "156it [22:44,  9.11s/it]\u001b[A\n",
      "157it [22:53,  9.06s/it]\u001b[A\n",
      "158it [23:02,  9.00s/it]\u001b[A\n",
      "159it [23:11,  8.96s/it]\u001b[A\n",
      "160it [23:19,  8.80s/it]\u001b[A\n",
      "161it [23:28,  8.75s/it]\u001b[A\n",
      "162it [23:36,  8.69s/it]\u001b[A\n",
      "163it [23:45,  8.71s/it]\u001b[A\n",
      "164it [23:54,  8.77s/it]\u001b[A\n",
      "165it [24:02,  8.67s/it]\u001b[A\n",
      "166it [24:11,  8.75s/it]\u001b[A\n",
      "167it [24:21,  8.93s/it]\u001b[A\n",
      "168it [24:29,  8.84s/it]\u001b[A\n",
      "169it [24:38,  8.98s/it]\u001b[A\n",
      "170it [24:47,  8.94s/it]\u001b[A\n",
      "171it [24:56,  8.96s/it]\u001b[A\n",
      "172it [25:05,  8.91s/it]\u001b[A\n",
      "173it [25:14,  8.87s/it]\u001b[A\n",
      "174it [25:23,  8.91s/it]\u001b[A\n",
      "175it [25:32,  8.84s/it]\u001b[A\n",
      "176it [25:40,  8.76s/it]\u001b[A\n",
      "177it [25:49,  8.75s/it]\u001b[A\n",
      "178it [25:58,  8.74s/it]\u001b[A\n",
      "179it [26:07,  8.85s/it]\u001b[A\n",
      "180it [26:15,  8.83s/it]\u001b[A\n",
      "181it [26:25,  8.91s/it]\u001b[A\n",
      "182it [26:33,  8.86s/it]\u001b[A\n",
      "183it [26:42,  8.78s/it]\u001b[A\n",
      "184it [26:52,  9.07s/it]\u001b[A\n",
      "185it [27:01,  9.08s/it]\u001b[A\n",
      "186it [27:10,  9.02s/it]\u001b[A\n",
      "187it [27:18,  8.91s/it]\u001b[A\n",
      "188it [27:27,  8.77s/it]\u001b[A\n",
      "189it [27:35,  8.62s/it]\u001b[A\n",
      "190it [27:44,  8.87s/it]\u001b[A\n",
      "191it [27:54,  8.99s/it]\u001b[A\n",
      "192it [28:03,  8.97s/it]\u001b[A\n",
      "193it [28:11,  8.74s/it]\u001b[A\n",
      "194it [28:20,  8.77s/it]\u001b[A\n",
      "195it [28:28,  8.77s/it]\u001b[A\n",
      "196it [28:37,  8.70s/it]\u001b[A\n",
      "197it [28:46,  8.65s/it]\u001b[A\n",
      "198it [28:53,  8.45s/it]\u001b[A\n",
      "199it [29:02,  8.50s/it]\u001b[A\n",
      "200it [29:10,  8.40s/it]\u001b[A\n",
      "201it [29:18,  8.30s/it]\u001b[A\n",
      "202it [29:27,  8.42s/it]\u001b[A\n",
      "203it [29:36,  8.55s/it]\u001b[A\n",
      "204it [29:45,  8.67s/it]\u001b[A\n",
      "205it [29:54,  8.77s/it]\u001b[A\n",
      "206it [30:03,  8.75s/it]\u001b[A\n",
      "207it [30:12,  8.90s/it]\u001b[A\n",
      "208it [30:21,  8.96s/it]\u001b[A\n",
      "209it [30:29,  8.77s/it]\u001b[A\n",
      "210it [30:37,  8.58s/it]\u001b[A\n",
      "211it [30:47,  8.76s/it]\u001b[A\n",
      "212it [30:55,  8.72s/it]\u001b[A\n",
      "213it [31:04,  8.89s/it]\u001b[A\n",
      "214it [31:13,  8.77s/it]\u001b[A\n",
      "215it [31:22,  8.84s/it]\u001b[A\n",
      "216it [31:30,  8.67s/it]\u001b[A\n",
      "217it [31:39,  8.77s/it]\u001b[A\n",
      "218it [31:48,  8.66s/it]\u001b[A\n",
      "219it [31:56,  8.67s/it]\u001b[A\n",
      "220it [32:05,  8.72s/it]\u001b[A\n",
      "221it [32:13,  8.60s/it]\u001b[A\n",
      "222it [32:23,  8.87s/it]\u001b[A\n",
      "223it [32:32,  8.81s/it]\u001b[A\n",
      "224it [32:40,  8.65s/it]\u001b[A\n",
      "225it [32:49,  8.75s/it]\u001b[A\n",
      "226it [32:58,  8.76s/it]\u001b[A\n",
      "227it [33:06,  8.59s/it]\u001b[A\n",
      "228it [33:14,  8.56s/it]\u001b[A\n",
      "229it [33:23,  8.47s/it]\u001b[A\n",
      "230it [33:31,  8.33s/it]\u001b[A\n",
      "231it [33:40,  8.67s/it]\u001b[A\n",
      "232it [33:50,  9.05s/it]\u001b[A\n",
      "233it [33:58,  8.84s/it]\u001b[A\n",
      "234it [34:07,  8.63s/it]\u001b[A\n",
      "235it [34:15,  8.56s/it]\u001b[A\n",
      "236it [34:24,  8.71s/it]\u001b[A\n",
      "237it [34:32,  8.59s/it]\u001b[A\n",
      "238it [34:41,  8.69s/it]\u001b[A\n",
      "239it [34:50,  8.61s/it]\u001b[A\n",
      "240it [34:58,  8.66s/it]\u001b[A\n",
      "241it [35:07,  8.56s/it]\u001b[A\n",
      "242it [35:15,  8.53s/it]\u001b[A\n",
      "243it [35:24,  8.49s/it]\u001b[A\n",
      "244it [35:32,  8.47s/it]\u001b[A\n",
      "245it [35:41,  8.47s/it]\u001b[A\n",
      "246it [35:51,  8.97s/it]\u001b[A\n",
      "247it [35:59,  8.86s/it]\u001b[A\n",
      "248it [36:08,  8.77s/it]\u001b[A\n",
      "249it [36:17,  8.96s/it]\u001b[A\n",
      "250it [36:26,  9.00s/it]\u001b[A\n",
      "251it [36:36,  9.10s/it]\u001b[A\n",
      "252it [36:44,  8.95s/it]\u001b[A\n",
      "253it [36:53,  8.89s/it]\u001b[A\n",
      "254it [37:02,  8.78s/it]\u001b[A\n",
      "255it [37:11,  8.90s/it]\u001b[A\n",
      "256it [37:19,  8.75s/it]\u001b[A\n",
      "257it [37:28,  8.72s/it]\u001b[A\n",
      "258it [37:37,  8.80s/it]\u001b[A\n",
      "259it [37:46,  8.95s/it]\u001b[A\n",
      "260it [37:55,  8.87s/it]\u001b[A\n",
      "261it [38:04,  8.97s/it]\u001b[A\n",
      "262it [38:12,  8.81s/it]\u001b[A\n",
      "263it [38:21,  8.75s/it]\u001b[A\n",
      "264it [38:30,  8.75s/it]\u001b[A\n",
      "265it [38:38,  8.68s/it]\u001b[A\n",
      "266it [38:47,  8.77s/it]\u001b[A\n",
      "267it [38:56,  8.70s/it]\u001b[A\n",
      "268it [39:05,  8.75s/it]\u001b[A\n",
      "269it [39:13,  8.63s/it]\u001b[A\n",
      "270it [39:21,  8.46s/it]\u001b[A\n",
      "271it [39:30,  8.67s/it]\u001b[A\n",
      "272it [39:39,  8.69s/it]\u001b[A\n",
      "273it [39:48,  8.90s/it]\u001b[A\n",
      "274it [39:57,  8.82s/it]\u001b[A\n",
      "275it [40:06,  8.79s/it]\u001b[A\n",
      "276it [40:14,  8.74s/it]\u001b[A\n",
      "277it [40:23,  8.79s/it]\u001b[A\n",
      "278it [40:35,  9.56s/it]\u001b[A\n",
      "279it [40:44,  9.38s/it]\u001b[A\n",
      "280it [40:52,  9.10s/it]\u001b[A\n",
      "281it [41:00,  8.91s/it]\u001b[A\n",
      "282it [41:10,  9.03s/it]\u001b[A\n",
      "283it [41:20,  9.36s/it]\u001b[A\n",
      "284it [41:30,  9.56s/it]\u001b[A\n",
      "285it [41:39,  9.40s/it]\u001b[A\n",
      "286it [41:48,  9.34s/it]\u001b[A\n",
      "287it [41:58,  9.38s/it]\u001b[A\n",
      "288it [42:07,  9.30s/it]\u001b[A\n",
      "289it [42:16,  9.19s/it]\u001b[A\n",
      "290it [42:24,  9.03s/it]\u001b[A\n",
      "291it [42:34,  9.10s/it]\u001b[A\n",
      "292it [42:43,  9.35s/it]\u001b[A\n",
      "293it [42:53,  9.48s/it]\u001b[A\n",
      "294it [43:02,  9.16s/it]\u001b[A\n",
      "295it [43:10,  8.79s/it]\u001b[A\n",
      "296it [43:19,  8.84s/it]\u001b[A\n",
      "297it [43:28,  8.88s/it]\u001b[A\n",
      "298it [43:36,  8.89s/it]\u001b[A\n",
      "299it [43:47,  9.49s/it]\u001b[A\n",
      "300it [44:00, 10.34s/it]\u001b[A\n",
      "301it [44:09, 10.05s/it]\u001b[A\n",
      "302it [44:19,  9.89s/it]\u001b[A\n",
      "303it [44:27,  9.56s/it]\u001b[A\n",
      "304it [44:36,  9.28s/it]\u001b[A\n",
      "305it [44:46,  9.44s/it]\u001b[A\n",
      "306it [44:55,  9.39s/it]\u001b[A\n",
      "307it [45:04,  9.34s/it]\u001b[A\n",
      "308it [45:13,  9.20s/it]\u001b[A\n",
      "309it [45:23,  9.39s/it]\u001b[A\n",
      "310it [45:32,  9.25s/it]\u001b[A\n",
      "311it [45:42,  9.42s/it]\u001b[A\n",
      "312it [45:51,  9.32s/it]\u001b[A\n",
      "313it [46:00,  9.26s/it]\u001b[A\n",
      "314it [46:10,  9.41s/it]\u001b[A\n",
      "315it [46:19,  9.50s/it]\u001b[A\n",
      "316it [46:29,  9.54s/it]\u001b[A\n",
      "317it [46:38,  9.25s/it]\u001b[A\n",
      "318it [46:47,  9.38s/it]\u001b[A\n",
      "319it [46:59, 10.07s/it]\u001b[A\n",
      "320it [47:08,  9.73s/it]\u001b[A\n",
      "321it [47:16,  9.32s/it]\u001b[A\n",
      "322it [47:25,  9.17s/it]\u001b[A\n",
      "323it [47:34,  9.06s/it]\u001b[A\n",
      "324it [47:44,  9.47s/it]\u001b[A\n",
      "325it [47:53,  9.26s/it]\u001b[A\n",
      "326it [48:01,  8.92s/it]\u001b[A\n",
      "327it [48:10,  8.85s/it]\u001b[A\n",
      "328it [48:20,  9.22s/it]\u001b[A\n",
      "329it [48:33, 10.25s/it]\u001b[A\n",
      "330it [48:42,  9.89s/it]\u001b[A\n",
      "331it [48:51,  9.68s/it]\u001b[A\n",
      "332it [49:00,  9.54s/it]\u001b[A\n",
      "333it [49:09,  9.45s/it]\u001b[A\n",
      "334it [49:18,  9.27s/it]\u001b[A\n",
      "335it [49:28,  9.34s/it]\u001b[A\n",
      "336it [49:36,  9.17s/it]\u001b[A\n",
      "337it [49:47,  9.46s/it]\u001b[A\n",
      "338it [49:56,  9.33s/it]\u001b[A\n",
      "339it [50:05,  9.39s/it]\u001b[A\n",
      "340it [50:14,  9.19s/it]\u001b[A\n",
      "341it [50:22,  8.90s/it]\u001b[A\n",
      "342it [50:30,  8.60s/it]\u001b[A\n",
      "343it [50:39,  8.67s/it]\u001b[A\n",
      "344it [50:49,  9.18s/it]\u001b[A\n",
      "345it [50:59,  9.51s/it]\u001b[A\n",
      "346it [51:08,  9.20s/it]\u001b[A\n",
      "347it [51:17,  9.08s/it]\u001b[A\n",
      "348it [51:25,  8.95s/it]\u001b[A\n",
      "349it [51:34,  8.84s/it]\u001b[A\n",
      "350it [51:46,  9.72s/it]\u001b[A\n",
      "351it [51:55,  9.49s/it]\u001b[A\n",
      "352it [52:04,  9.31s/it]\u001b[A\n",
      "353it [52:13,  9.28s/it]\u001b[A\n",
      "354it [52:23,  9.56s/it]\u001b[A\n",
      "355it [52:32,  9.30s/it]\u001b[A\n",
      "356it [52:41,  9.23s/it]\u001b[A\n",
      "357it [52:50,  9.12s/it]\u001b[A\n",
      "358it [52:58,  9.00s/it]\u001b[A\n",
      "359it [53:09,  9.42s/it]\u001b[A\n",
      "360it [53:18,  9.22s/it]\u001b[A\n",
      "361it [53:26,  9.00s/it]\u001b[A\n",
      "362it [53:35,  8.95s/it]\u001b[A\n",
      "363it [53:44,  9.05s/it]\u001b[A\n",
      "364it [53:53,  9.07s/it]\u001b[A\n",
      "365it [54:02,  9.05s/it]\u001b[A\n",
      "366it [54:11,  8.95s/it]\u001b[A\n",
      "367it [54:19,  8.72s/it]\u001b[A\n",
      "368it [54:28,  8.69s/it]\u001b[A\n",
      "369it [54:37,  8.74s/it]\u001b[A\n",
      "370it [54:45,  8.73s/it]\u001b[A\n",
      "371it [54:54,  8.81s/it]\u001b[A\n",
      "372it [55:03,  8.76s/it]\u001b[A\n",
      "373it [55:13,  9.00s/it]\u001b[A\n",
      "374it [55:21,  8.85s/it]\u001b[A\n",
      "375it [55:30,  8.78s/it]\u001b[A\n",
      "376it [55:38,  8.56s/it]\u001b[A\n",
      "377it [55:49,  9.30s/it]\u001b[A\n",
      "378it [55:58,  9.36s/it]\u001b[A\n",
      "379it [56:09,  9.85s/it]\u001b[A\n",
      "380it [56:18,  9.52s/it]\u001b[A\n",
      "381it [56:27,  9.22s/it]\u001b[A\n",
      "382it [56:37,  9.49s/it]\u001b[A\n",
      "383it [56:46,  9.49s/it]\u001b[A\n",
      "384it [56:55,  9.24s/it]\u001b[A\n",
      "385it [57:03,  9.00s/it]\u001b[A\n",
      "386it [57:12,  8.83s/it]\u001b[A\n",
      "387it [57:21,  9.05s/it]\u001b[A\n",
      "388it [57:29,  8.78s/it]\u001b[A\n",
      "389it [57:38,  8.84s/it]\u001b[A\n",
      "390it [57:47,  8.83s/it]\u001b[A\n",
      "391it [57:55,  8.68s/it]\u001b[A\n",
      "392it [58:03,  8.48s/it]\u001b[A\n",
      "393it [58:12,  8.39s/it]\u001b[A\n",
      "394it [58:20,  8.45s/it]\u001b[A\n",
      "395it [58:29,  8.43s/it]\u001b[A\n",
      "396it [58:38,  8.77s/it]\u001b[A\n",
      "397it [58:47,  8.79s/it]\u001b[A\n",
      "398it [58:55,  8.46s/it]\u001b[A\n",
      "399it [59:03,  8.52s/it]\u001b[A\n",
      "400it [59:12,  8.55s/it]\u001b[A\n",
      "401it [59:21,  8.76s/it]\u001b[A\n",
      "402it [59:30,  8.76s/it]\u001b[A\n",
      "403it [59:38,  8.63s/it]\u001b[A\n",
      "404it [59:51,  9.72s/it]\u001b[A\n",
      "405it [59:59,  9.29s/it]\u001b[A\n",
      "406it [1:00:08,  9.29s/it]\u001b[A\n",
      "407it [1:00:18,  9.47s/it]\u001b[A\n",
      "408it [1:00:27,  9.39s/it]\u001b[A\n",
      "409it [1:00:35,  9.04s/it]\u001b[A\n",
      "410it [1:00:44,  8.73s/it]\u001b[A\n",
      "411it [1:00:52,  8.72s/it]\u001b[A\n",
      "412it [1:01:01,  8.73s/it]\u001b[A\n",
      "413it [1:01:10,  8.89s/it]\u001b[A\n",
      "414it [1:01:19,  8.79s/it]\u001b[A\n",
      "415it [1:01:28,  8.94s/it]\u001b[A\n",
      "416it [1:01:37,  8.98s/it]\u001b[A\n",
      "417it [1:01:46,  8.84s/it]\u001b[A\n",
      "418it [1:01:53,  8.53s/it]\u001b[A\n",
      "419it [1:02:03,  8.83s/it]\u001b[A\n",
      "420it [1:02:12,  8.97s/it]\u001b[A\n",
      "421it [1:02:22,  9.10s/it]\u001b[A\n",
      "422it [1:02:32,  9.56s/it]\u001b[A\n",
      "423it [1:02:41,  9.33s/it]\u001b[A\n",
      "424it [1:02:50,  9.07s/it]\u001b[A\n",
      "425it [1:02:58,  8.83s/it]\u001b[A\n",
      "426it [1:03:06,  8.74s/it]\u001b[A\n",
      "427it [1:03:15,  8.57s/it]\u001b[A\n",
      "428it [1:03:24,  8.85s/it]\u001b[A\n",
      "429it [1:03:33,  8.77s/it]\u001b[A\n",
      "430it [1:03:42,  8.86s/it]\u001b[A\n",
      "431it [1:03:51,  8.86s/it]\u001b[A\n",
      "432it [1:04:01,  9.41s/it]\u001b[A\n",
      "433it [1:04:11,  9.52s/it]\u001b[A\n",
      "434it [1:04:20,  9.21s/it]\u001b[A\n",
      "435it [1:04:27,  8.80s/it]\u001b[A\n",
      "436it [1:04:35,  8.57s/it]\u001b[A\n",
      "437it [1:04:43,  8.43s/it]\u001b[A\n",
      "438it [1:04:52,  8.33s/it]\u001b[A\n",
      "439it [1:05:00,  8.29s/it]\u001b[A\n",
      "440it [1:05:08,  8.35s/it]\u001b[A\n",
      "441it [1:05:17,  8.43s/it]\u001b[A\n",
      "442it [1:05:25,  8.41s/it]\u001b[A\n",
      "443it [1:05:34,  8.40s/it]\u001b[A\n",
      "444it [1:05:43,  8.59s/it]\u001b[A\n",
      "445it [1:05:51,  8.47s/it]\u001b[A\n",
      "446it [1:05:59,  8.38s/it]\u001b[A\n",
      "447it [1:06:08,  8.65s/it]\u001b[A\n",
      "448it [1:06:18,  8.90s/it]\u001b[A\n",
      "449it [1:06:26,  8.77s/it]\u001b[A\n",
      "450it [1:06:35,  8.77s/it]\u001b[A\n",
      "451it [1:06:43,  8.62s/it]\u001b[A\n",
      "452it [1:06:51,  8.46s/it]\u001b[A\n",
      "453it [1:07:00,  8.50s/it]\u001b[A\n",
      "454it [1:07:08,  8.27s/it]\u001b[A\n",
      "455it [1:07:16,  8.15s/it]\u001b[A\n",
      "456it [1:07:24,  8.36s/it]\u001b[A\n",
      "457it [1:07:33,  8.47s/it]\u001b[A\n",
      "458it [1:07:42,  8.66s/it]\u001b[A\n",
      "459it [1:07:50,  8.53s/it]\u001b[A\n",
      "460it [1:08:00,  8.74s/it]\u001b[A\n",
      "461it [1:08:08,  8.59s/it]\u001b[A\n",
      "462it [1:08:17,  8.67s/it]\u001b[A\n",
      "463it [1:08:26,  8.74s/it]\u001b[A\n",
      "464it [1:08:35,  8.92s/it]\u001b[A\n",
      "465it [1:08:44,  8.82s/it]\u001b[A\n",
      "466it [1:08:52,  8.55s/it]\u001b[A\n",
      "467it [1:09:01,  8.88s/it]\u001b[A\n",
      "468it [1:09:09,  8.60s/it]\u001b[A\n",
      "469it [1:09:18,  8.67s/it]\u001b[A\n",
      "470it [1:09:27,  8.67s/it]\u001b[A\n",
      "471it [1:09:35,  8.61s/it]\u001b[A\n",
      "472it [1:09:44,  8.83s/it]\u001b[A\n",
      "473it [1:09:53,  8.65s/it]\u001b[A\n",
      "474it [1:10:01,  8.69s/it]\u001b[A\n",
      "475it [1:10:10,  8.65s/it]\u001b[A\n",
      "476it [1:10:19,  8.62s/it]\u001b[A\n",
      "477it [1:10:28,  8.72s/it]\u001b[A\n",
      "478it [1:10:38,  9.25s/it]\u001b[A\n",
      "479it [1:10:48,  9.57s/it]\u001b[A\n",
      "480it [1:10:56,  9.13s/it]\u001b[A\n",
      "481it [1:11:05,  9.01s/it]\u001b[A\n",
      "482it [1:11:13,  8.87s/it]\u001b[A\n"
     ]
    },
    {
     "name": "stdout",
     "output_type": "stream",
     "text": [
      "new_weather shape (16770, 11)\n"
     ]
    },
    {
     "name": "stderr",
     "output_type": "stream",
     "text": [
      "\r",
      " 80%|█████████████████████████████████████████████████████████████████████████████████████████▌                      | 12/15 [12:00:09<2:58:40, 3573.56s/it]"
     ]
    },
    {
     "name": "stdout",
     "output_type": "stream",
     "text": [
      "update weather data for  Khlong Hoi Khong\n",
      "updateing file: ../data/weather_cities/Khlong_Hoi_Khong.csv\n",
      "missing date 483\n"
     ]
    },
    {
     "name": "stderr",
     "output_type": "stream",
     "text": [
      "\n",
      "0it [00:00, ?it/s]\u001b[A\n",
      "1it [00:09,  9.53s/it]\u001b[A\n",
      "2it [00:17,  9.16s/it]\u001b[A\n",
      "3it [00:26,  9.14s/it]\u001b[A\n",
      "4it [00:35,  8.91s/it]\u001b[A\n",
      "5it [00:43,  8.75s/it]\u001b[A\n",
      "6it [00:52,  8.82s/it]\u001b[A\n",
      "7it [01:01,  8.68s/it]\u001b[A\n",
      "8it [01:09,  8.65s/it]\u001b[A\n",
      "9it [01:19,  8.96s/it]\u001b[A\n",
      "10it [01:28,  8.90s/it]\u001b[A\n",
      "11it [01:37,  8.95s/it]\u001b[A\n",
      "12it [01:45,  8.75s/it]\u001b[A\n",
      "13it [01:53,  8.59s/it]\u001b[A\n",
      "14it [02:02,  8.68s/it]\u001b[A\n",
      "15it [02:10,  8.58s/it]\u001b[A\n",
      "16it [02:19,  8.54s/it]\u001b[A\n",
      "17it [02:27,  8.50s/it]\u001b[A\n",
      "18it [02:36,  8.72s/it]\u001b[A\n",
      "19it [02:46,  9.05s/it]\u001b[A\n",
      "20it [02:55,  9.09s/it]\u001b[A\n",
      "21it [03:05,  9.17s/it]\u001b[A\n",
      "22it [03:13,  8.90s/it]\u001b[A\n",
      "23it [03:22,  8.95s/it]\u001b[A\n",
      "24it [03:30,  8.74s/it]\u001b[A\n",
      "25it [03:40,  8.88s/it]\u001b[A\n",
      "26it [03:50,  9.31s/it]\u001b[A\n",
      "27it [03:59,  9.28s/it]\u001b[A\n",
      "28it [04:08,  9.25s/it]\u001b[A\n",
      "29it [04:17,  8.94s/it]\u001b[A\n",
      "30it [04:26,  9.07s/it]\u001b[A\n",
      "31it [04:34,  8.86s/it]\u001b[A\n",
      "32it [04:44,  9.12s/it]\u001b[A\n",
      "33it [04:53,  9.11s/it]\u001b[A\n",
      "34it [05:02,  8.93s/it]\u001b[A\n",
      "35it [05:09,  8.56s/it]\u001b[A\n",
      "36it [05:18,  8.50s/it]\u001b[A\n",
      "37it [05:25,  8.19s/it]\u001b[A\n",
      "38it [05:34,  8.41s/it]\u001b[A\n",
      "39it [05:43,  8.44s/it]\u001b[A\n",
      "40it [05:51,  8.38s/it]\u001b[A\n",
      "41it [06:00,  8.61s/it]\u001b[A\n",
      "42it [06:08,  8.51s/it]\u001b[A\n",
      "43it [06:17,  8.71s/it]\u001b[A\n",
      "44it [06:26,  8.65s/it]\u001b[A\n",
      "45it [06:34,  8.59s/it]\u001b[A\n",
      "46it [06:42,  8.43s/it]\u001b[A\n",
      "47it [06:51,  8.49s/it]\u001b[A\n",
      "48it [07:00,  8.51s/it]\u001b[A\n",
      "49it [07:11,  9.42s/it]\u001b[A\n",
      "50it [07:20,  9.37s/it]\u001b[A\n",
      "51it [07:29,  9.21s/it]\u001b[A\n",
      "52it [07:38,  9.01s/it]\u001b[A\n",
      "53it [07:46,  8.84s/it]\u001b[A\n",
      "54it [07:55,  8.84s/it]\u001b[A\n",
      "55it [08:03,  8.65s/it]\u001b[A\n",
      "56it [08:11,  8.39s/it]\u001b[A\n",
      "57it [08:20,  8.50s/it]\u001b[A\n",
      "58it [08:29,  8.66s/it]\u001b[A\n",
      "59it [08:37,  8.40s/it]\u001b[A\n",
      "60it [08:45,  8.34s/it]\u001b[A\n",
      "61it [08:53,  8.35s/it]\u001b[A\n",
      "62it [09:01,  8.30s/it]\u001b[A\n",
      "63it [09:10,  8.33s/it]\u001b[A\n",
      "64it [09:18,  8.25s/it]\u001b[A\n",
      "65it [09:26,  8.37s/it]\u001b[A\n",
      "66it [09:38,  9.29s/it]\u001b[A\n",
      "67it [09:48,  9.42s/it]\u001b[A\n",
      "68it [09:57,  9.41s/it]\u001b[A\n",
      "69it [10:05,  9.07s/it]\u001b[A\n",
      "70it [10:14,  8.82s/it]\u001b[A\n",
      "71it [10:23,  8.99s/it]\u001b[A\n",
      "72it [10:32,  8.88s/it]\u001b[A\n",
      "73it [10:40,  8.71s/it]\u001b[A\n",
      "74it [10:50,  9.06s/it]\u001b[A\n",
      "75it [10:58,  8.92s/it]\u001b[A\n",
      "76it [11:08,  9.00s/it]\u001b[A\n",
      "77it [11:17,  9.29s/it]\u001b[A\n",
      "78it [11:26,  8.95s/it]\u001b[A\n",
      "79it [11:35,  8.99s/it]\u001b[A\n",
      "80it [11:44,  9.09s/it]\u001b[A\n",
      "81it [11:52,  8.85s/it]\u001b[A\n",
      "82it [12:01,  8.66s/it]\u001b[A\n",
      "83it [12:09,  8.58s/it]\u001b[A\n",
      "84it [12:18,  8.65s/it]\u001b[A\n",
      "85it [12:28,  9.11s/it]\u001b[A\n",
      "86it [12:37,  9.09s/it]\u001b[A\n",
      "87it [12:45,  8.86s/it]\u001b[A\n",
      "88it [12:54,  8.75s/it]\u001b[A\n",
      "89it [13:03,  8.86s/it]\u001b[A\n",
      "90it [13:12,  8.84s/it]\u001b[A\n",
      "91it [13:20,  8.75s/it]\u001b[A\n",
      "92it [13:29,  8.78s/it]\u001b[A\n",
      "93it [13:38,  8.70s/it]\u001b[A\n",
      "94it [13:46,  8.58s/it]\u001b[A\n",
      "95it [13:54,  8.57s/it]\u001b[A\n",
      "96it [14:03,  8.58s/it]\u001b[A\n",
      "97it [14:12,  8.63s/it]\u001b[A\n",
      "98it [14:20,  8.49s/it]\u001b[A\n",
      "99it [14:30,  8.80s/it]\u001b[A\n",
      "100it [14:39,  8.95s/it]\u001b[A\n",
      "101it [14:48,  9.01s/it]\u001b[A\n",
      "102it [14:56,  8.80s/it]\u001b[A\n",
      "103it [15:04,  8.62s/it]\u001b[A\n",
      "104it [15:12,  8.37s/it]\u001b[A\n",
      "105it [15:21,  8.49s/it]\u001b[A\n",
      "106it [15:29,  8.46s/it]\u001b[A\n",
      "107it [15:39,  8.75s/it]\u001b[A\n",
      "108it [15:48,  8.95s/it]\u001b[A\n",
      "109it [15:57,  8.75s/it]\u001b[A\n",
      "110it [16:05,  8.57s/it]\u001b[A\n",
      "111it [16:13,  8.56s/it]\u001b[A\n",
      "112it [16:22,  8.52s/it]\u001b[A\n",
      "113it [16:30,  8.34s/it]\u001b[A\n",
      "114it [16:38,  8.31s/it]\u001b[A\n",
      "115it [16:46,  8.20s/it]\u001b[A\n",
      "116it [16:55,  8.50s/it]\u001b[A\n",
      "117it [17:03,  8.31s/it]\u001b[A\n",
      "118it [17:14,  9.10s/it]\u001b[A\n",
      "119it [17:22,  8.95s/it]\u001b[A\n",
      "120it [17:31,  8.74s/it]\u001b[A\n",
      "121it [17:39,  8.78s/it]\u001b[A\n",
      "122it [17:47,  8.47s/it]\u001b[A\n",
      "123it [17:55,  8.41s/it]\u001b[A\n",
      "124it [18:05,  8.64s/it]\u001b[A\n",
      "125it [18:14,  8.76s/it]\u001b[A\n",
      "126it [18:23,  8.83s/it]\u001b[A\n",
      "127it [18:31,  8.65s/it]\u001b[A\n",
      "128it [18:39,  8.60s/it]\u001b[A\n",
      "129it [18:48,  8.57s/it]\u001b[A\n",
      "130it [18:56,  8.49s/it]\u001b[A\n",
      "131it [19:05,  8.61s/it]\u001b[A\n",
      "132it [19:13,  8.47s/it]\u001b[A\n",
      "133it [19:22,  8.42s/it]\u001b[A\n",
      "134it [19:29,  8.23s/it]\u001b[A\n",
      "135it [19:38,  8.29s/it]\u001b[A\n",
      "136it [19:47,  8.44s/it]\u001b[A\n",
      "137it [19:55,  8.41s/it]\u001b[A\n",
      "138it [20:04,  8.53s/it]\u001b[A\n",
      "139it [20:12,  8.53s/it]\u001b[A\n",
      "140it [20:21,  8.60s/it]\u001b[A\n",
      "141it [20:30,  8.57s/it]\u001b[A\n",
      "142it [20:38,  8.39s/it]\u001b[A\n",
      "143it [20:46,  8.45s/it]\u001b[A\n",
      "144it [20:54,  8.32s/it]\u001b[A\n",
      "145it [21:02,  8.22s/it]\u001b[A\n",
      "146it [21:11,  8.35s/it]\u001b[A\n",
      "147it [21:18,  8.11s/it]\u001b[A\n",
      "148it [21:27,  8.39s/it]\u001b[A\n",
      "149it [21:35,  8.26s/it]\u001b[A\n",
      "150it [21:44,  8.42s/it]\u001b[A\n",
      "151it [21:52,  8.34s/it]\u001b[A\n",
      "152it [22:02,  8.63s/it]\u001b[A\n",
      "153it [22:10,  8.50s/it]\u001b[A\n",
      "154it [22:18,  8.47s/it]\u001b[A\n",
      "155it [22:26,  8.30s/it]\u001b[A\n",
      "156it [22:35,  8.36s/it]\u001b[A\n",
      "157it [22:43,  8.31s/it]\u001b[A\n",
      "158it [22:52,  8.44s/it]\u001b[A\n",
      "159it [23:00,  8.51s/it]\u001b[A\n",
      "160it [23:08,  8.39s/it]\u001b[A\n",
      "161it [23:17,  8.34s/it]\u001b[A\n",
      "162it [23:25,  8.47s/it]\u001b[A\n",
      "163it [23:34,  8.50s/it]\u001b[A\n",
      "164it [23:42,  8.53s/it]\u001b[A\n",
      "165it [23:52,  8.71s/it]\u001b[A\n",
      "166it [24:01,  8.87s/it]\u001b[A\n",
      "167it [24:09,  8.54s/it]\u001b[A\n",
      "168it [24:17,  8.64s/it]\u001b[A\n",
      "169it [24:27,  8.85s/it]\u001b[A\n",
      "170it [24:37,  9.25s/it]\u001b[A\n",
      "171it [24:48,  9.71s/it]\u001b[A\n",
      "172it [24:57,  9.45s/it]\u001b[A\n",
      "173it [25:05,  9.12s/it]\u001b[A\n",
      "174it [25:14,  9.01s/it]\u001b[A\n",
      "175it [25:22,  8.85s/it]\u001b[A\n",
      "176it [25:31,  8.69s/it]\u001b[A\n",
      "177it [25:39,  8.49s/it]\u001b[A\n",
      "178it [25:47,  8.57s/it]\u001b[A\n",
      "179it [25:57,  8.76s/it]\u001b[A\n",
      "180it [26:05,  8.68s/it]\u001b[A\n",
      "181it [26:13,  8.59s/it]\u001b[A\n",
      "182it [26:22,  8.52s/it]\u001b[A\n",
      "183it [26:30,  8.49s/it]\u001b[A\n",
      "184it [26:38,  8.33s/it]\u001b[A\n",
      "185it [26:47,  8.62s/it]\u001b[A\n",
      "186it [26:56,  8.69s/it]\u001b[A\n",
      "187it [27:05,  8.67s/it]\u001b[A\n",
      "188it [27:14,  8.77s/it]\u001b[A\n",
      "189it [27:22,  8.61s/it]\u001b[A\n",
      "190it [27:31,  8.75s/it]\u001b[A\n",
      "191it [27:39,  8.61s/it]\u001b[A\n",
      "192it [27:48,  8.45s/it]\u001b[A\n",
      "193it [27:56,  8.35s/it]\u001b[A\n",
      "194it [28:04,  8.46s/it]\u001b[A\n",
      "195it [28:12,  8.29s/it]\u001b[A\n",
      "196it [28:20,  8.13s/it]\u001b[A\n",
      "197it [28:28,  8.10s/it]\u001b[A\n",
      "198it [28:37,  8.30s/it]\u001b[A\n",
      "199it [28:45,  8.30s/it]\u001b[A\n",
      "200it [28:54,  8.34s/it]\u001b[A\n",
      "201it [29:02,  8.26s/it]\u001b[A\n",
      "202it [29:10,  8.22s/it]\u001b[A\n",
      "203it [29:19,  8.44s/it]\u001b[A\n",
      "204it [29:28,  8.60s/it]\u001b[A\n",
      "205it [29:36,  8.57s/it]\u001b[A\n",
      "206it [29:47,  9.20s/it]\u001b[A\n",
      "207it [29:56,  9.28s/it]\u001b[A\n",
      "208it [30:05,  9.05s/it]\u001b[A\n",
      "209it [30:13,  8.93s/it]\u001b[A\n",
      "210it [30:22,  8.80s/it]\u001b[A\n",
      "211it [30:31,  8.79s/it]\u001b[A\n",
      "212it [30:39,  8.58s/it]\u001b[A\n",
      "213it [30:47,  8.42s/it]\u001b[A\n",
      "214it [30:55,  8.35s/it]\u001b[A\n",
      "215it [31:03,  8.37s/it]\u001b[A\n",
      "216it [31:13,  8.60s/it]\u001b[A\n",
      "217it [31:21,  8.50s/it]\u001b[A\n",
      "218it [31:29,  8.33s/it]\u001b[A\n",
      "219it [31:37,  8.29s/it]\u001b[A\n",
      "220it [31:46,  8.35s/it]\u001b[A\n",
      "221it [31:54,  8.30s/it]\u001b[A\n",
      "222it [32:01,  8.12s/it]\u001b[A\n",
      "223it [32:10,  8.26s/it]\u001b[A\n",
      "224it [32:18,  8.26s/it]\u001b[A\n",
      "225it [32:27,  8.29s/it]\u001b[A\n",
      "226it [32:35,  8.32s/it]\u001b[A\n",
      "227it [32:44,  8.49s/it]\u001b[A\n",
      "228it [32:52,  8.38s/it]\u001b[A\n",
      "229it [33:00,  8.39s/it]\u001b[A\n",
      "230it [33:09,  8.34s/it]\u001b[A\n",
      "231it [33:17,  8.39s/it]\u001b[A\n",
      "232it [33:26,  8.40s/it]\u001b[A\n",
      "233it [33:34,  8.41s/it]\u001b[A\n",
      "234it [33:43,  8.45s/it]\u001b[A\n",
      "235it [33:51,  8.54s/it]\u001b[A\n",
      "236it [34:00,  8.48s/it]\u001b[A\n",
      "237it [34:09,  8.66s/it]\u001b[A\n",
      "238it [34:17,  8.53s/it]\u001b[A\n",
      "239it [34:25,  8.40s/it]\u001b[A\n",
      "240it [34:33,  8.36s/it]\u001b[A\n",
      "241it [34:42,  8.59s/it]\u001b[A\n",
      "242it [34:51,  8.53s/it]\u001b[A\n",
      "243it [34:59,  8.55s/it]\u001b[A\n",
      "244it [35:08,  8.49s/it]\u001b[A\n",
      "245it [35:16,  8.40s/it]\u001b[A\n",
      "246it [35:25,  8.45s/it]\u001b[A\n",
      "247it [35:34,  8.63s/it]\u001b[A\n",
      "248it [35:42,  8.51s/it]\u001b[A\n",
      "249it [35:51,  8.58s/it]\u001b[A\n",
      "250it [35:59,  8.55s/it]\u001b[A\n",
      "251it [36:08,  8.59s/it]\u001b[A\n",
      "252it [36:16,  8.52s/it]\u001b[A\n",
      "253it [36:25,  8.56s/it]\u001b[A\n",
      "254it [36:33,  8.42s/it]\u001b[A\n",
      "255it [36:41,  8.44s/it]\u001b[A\n",
      "256it [36:50,  8.43s/it]\u001b[A\n",
      "257it [36:59,  8.63s/it]\u001b[A\n",
      "258it [37:07,  8.53s/it]\u001b[A\n",
      "259it [37:15,  8.49s/it]\u001b[A\n",
      "260it [37:24,  8.59s/it]\u001b[A\n",
      "261it [37:33,  8.55s/it]\u001b[A\n",
      "262it [37:41,  8.38s/it]\u001b[A\n",
      "263it [37:50,  8.64s/it]\u001b[A\n",
      "264it [37:59,  8.69s/it]\u001b[A\n",
      "265it [38:08,  8.78s/it]\u001b[A\n",
      "266it [38:16,  8.66s/it]\u001b[A\n",
      "267it [38:25,  8.59s/it]\u001b[A\n",
      "268it [38:33,  8.47s/it]\u001b[A\n",
      "269it [38:41,  8.47s/it]\u001b[A\n",
      "270it [38:50,  8.66s/it]\u001b[A\n",
      "271it [39:00,  8.87s/it]\u001b[A\n",
      "272it [39:09,  8.85s/it]\u001b[A\n",
      "273it [39:17,  8.67s/it]\u001b[A\n",
      "274it [39:26,  8.81s/it]\u001b[A\n",
      "275it [39:35,  8.74s/it]\u001b[A\n",
      "276it [39:42,  8.47s/it]\u001b[A\n",
      "277it [39:52,  8.67s/it]\u001b[A\n",
      "278it [40:00,  8.68s/it]\u001b[A\n",
      "279it [40:08,  8.46s/it]\u001b[A\n",
      "280it [40:17,  8.58s/it]\u001b[A\n",
      "281it [40:26,  8.61s/it]\u001b[A\n",
      "282it [40:34,  8.58s/it]\u001b[A\n",
      "283it [40:42,  8.45s/it]\u001b[A\n",
      "284it [40:51,  8.47s/it]\u001b[A\n",
      "285it [40:59,  8.49s/it]\u001b[A\n",
      "286it [41:08,  8.43s/it]\u001b[A\n",
      "287it [41:18,  8.84s/it]\u001b[A\n",
      "288it [41:26,  8.84s/it]\u001b[A\n",
      "289it [41:35,  8.83s/it]\u001b[A\n",
      "290it [41:43,  8.66s/it]\u001b[A\n",
      "291it [41:52,  8.61s/it]\u001b[A\n",
      "292it [42:00,  8.58s/it]\u001b[A\n",
      "293it [42:09,  8.53s/it]\u001b[A\n",
      "294it [42:19,  8.93s/it]\u001b[A\n",
      "295it [42:31,  9.98s/it]\u001b[A\n",
      "296it [42:40,  9.53s/it]\u001b[A\n",
      "297it [42:49,  9.48s/it]\u001b[A\n",
      "298it [42:58,  9.31s/it]\u001b[A\n",
      "299it [43:08,  9.52s/it]\u001b[A\n",
      "300it [43:16,  9.22s/it]\u001b[A\n",
      "301it [43:25,  8.92s/it]\u001b[A\n",
      "302it [43:33,  8.84s/it]\u001b[A\n",
      "303it [43:42,  8.77s/it]\u001b[A\n",
      "304it [43:53,  9.48s/it]\u001b[A\n",
      "305it [44:02,  9.31s/it]\u001b[A\n",
      "306it [44:11,  9.23s/it]\u001b[A\n",
      "307it [44:20,  9.20s/it]\u001b[A\n",
      "308it [44:29,  9.19s/it]\u001b[A\n",
      "309it [44:38,  8.95s/it]\u001b[A\n",
      "310it [44:48,  9.29s/it]\u001b[A\n",
      "311it [44:57,  9.22s/it]\u001b[A\n",
      "312it [45:07,  9.65s/it]\u001b[A\n",
      "313it [45:19, 10.10s/it]\u001b[A\n",
      "314it [45:31, 10.75s/it]\u001b[A\n",
      "315it [45:44, 11.47s/it]\u001b[A\n",
      "316it [45:56, 11.75s/it]\u001b[A\n",
      "317it [46:09, 11.86s/it]\u001b[A\n",
      "318it [46:21, 12.11s/it]\u001b[A\n",
      "319it [46:32, 11.70s/it]\u001b[A\n",
      "320it [46:42, 11.18s/it]\u001b[A\n",
      "321it [46:52, 10.73s/it]\u001b[A\n",
      "322it [47:01, 10.38s/it]\u001b[A\n",
      "323it [47:09,  9.72s/it]\u001b[A\n",
      "324it [47:18,  9.43s/it]\u001b[A\n",
      "325it [47:27,  9.24s/it]\u001b[A\n",
      "326it [47:35,  9.02s/it]\u001b[A\n",
      "327it [47:44,  8.81s/it]\u001b[A\n",
      "328it [47:52,  8.61s/it]\u001b[A\n",
      "329it [48:00,  8.50s/it]\u001b[A\n",
      "330it [48:08,  8.39s/it]\u001b[A\n",
      "331it [48:17,  8.36s/it]\u001b[A\n",
      "332it [48:25,  8.29s/it]\u001b[A\n",
      "333it [48:33,  8.40s/it]\u001b[A\n",
      "334it [48:42,  8.47s/it]\u001b[A\n",
      "335it [48:50,  8.33s/it]\u001b[A\n",
      "336it [48:58,  8.33s/it]\u001b[A\n",
      "337it [49:06,  8.26s/it]\u001b[A\n",
      "338it [49:15,  8.29s/it]\u001b[A\n",
      "339it [49:24,  8.67s/it]\u001b[A\n",
      "340it [49:32,  8.45s/it]\u001b[A\n",
      "341it [49:41,  8.66s/it]\u001b[A\n",
      "342it [49:51,  8.84s/it]\u001b[A\n",
      "343it [49:59,  8.72s/it]\u001b[A\n",
      "344it [50:08,  8.71s/it]\u001b[A\n",
      "345it [50:16,  8.56s/it]\u001b[A\n",
      "346it [50:25,  8.71s/it]\u001b[A\n",
      "347it [50:34,  8.70s/it]\u001b[A\n",
      "348it [50:42,  8.42s/it]\u001b[A\n",
      "349it [50:50,  8.48s/it]\u001b[A\n",
      "350it [50:59,  8.56s/it]\u001b[A\n",
      "351it [51:08,  8.60s/it]\u001b[A\n",
      "352it [51:17,  8.71s/it]\u001b[A\n",
      "353it [51:25,  8.78s/it]\u001b[A\n",
      "354it [51:34,  8.62s/it]\u001b[A\n",
      "355it [51:42,  8.51s/it]\u001b[A\n",
      "356it [51:51,  8.61s/it]\u001b[A\n",
      "357it [51:59,  8.54s/it]\u001b[A\n",
      "358it [52:08,  8.58s/it]\u001b[A\n",
      "359it [52:16,  8.45s/it]\u001b[A\n",
      "360it [52:24,  8.45s/it]\u001b[A\n",
      "361it [52:33,  8.46s/it]\u001b[A\n",
      "362it [52:41,  8.45s/it]\u001b[A\n",
      "363it [52:51,  8.71s/it]\u001b[A\n",
      "364it [52:59,  8.59s/it]\u001b[A\n",
      "365it [53:07,  8.50s/it]\u001b[A\n",
      "366it [53:16,  8.54s/it]\u001b[A\n",
      "367it [53:25,  8.66s/it]\u001b[A\n",
      "368it [53:33,  8.55s/it]\u001b[A\n",
      "369it [53:41,  8.31s/it]\u001b[A\n",
      "370it [53:49,  8.24s/it]\u001b[A\n",
      "371it [53:57,  8.25s/it]\u001b[A\n",
      "372it [54:05,  8.21s/it]\u001b[A\n",
      "373it [54:13,  8.08s/it]\u001b[A\n",
      "374it [54:22,  8.25s/it]\u001b[A\n",
      "375it [54:30,  8.29s/it]\u001b[A\n",
      "376it [54:40,  8.62s/it]\u001b[A\n",
      "377it [54:48,  8.50s/it]\u001b[A\n",
      "378it [54:57,  8.68s/it]\u001b[A\n",
      "379it [55:05,  8.41s/it]\u001b[A\n",
      "380it [55:13,  8.38s/it]\u001b[A\n",
      "381it [55:21,  8.16s/it]\u001b[A\n",
      "382it [55:29,  8.35s/it]\u001b[A\n",
      "383it [55:39,  8.73s/it]\u001b[A\n",
      "384it [55:49,  8.97s/it]\u001b[A\n",
      "385it [55:57,  8.82s/it]\u001b[A\n",
      "386it [56:05,  8.65s/it]\u001b[A\n",
      "387it [56:13,  8.48s/it]\u001b[A\n",
      "388it [56:21,  8.36s/it]\u001b[A\n",
      "389it [56:30,  8.34s/it]\u001b[A\n",
      "390it [56:38,  8.32s/it]\u001b[A\n",
      "391it [56:47,  8.47s/it]\u001b[A\n",
      "392it [56:55,  8.45s/it]\u001b[A\n",
      "393it [57:03,  8.37s/it]\u001b[A\n",
      "394it [57:12,  8.30s/it]\u001b[A\n",
      "395it [57:20,  8.46s/it]\u001b[A\n",
      "396it [57:29,  8.41s/it]\u001b[A\n",
      "397it [57:37,  8.35s/it]\u001b[A\n",
      "398it [57:47,  8.76s/it]\u001b[A\n",
      "399it [57:55,  8.78s/it]\u001b[A\n",
      "400it [58:04,  8.85s/it]\u001b[A\n",
      "401it [58:14,  8.92s/it]\u001b[A\n",
      "402it [58:23,  8.93s/it]\u001b[A\n",
      "403it [58:31,  8.80s/it]\u001b[A\n",
      "404it [58:39,  8.70s/it]\u001b[A\n",
      "405it [58:48,  8.60s/it]\u001b[A\n",
      "406it [58:56,  8.45s/it]\u001b[A\n",
      "407it [59:06,  8.95s/it]\u001b[A\n",
      "408it [59:15,  8.83s/it]\u001b[A\n",
      "409it [59:23,  8.79s/it]\u001b[A\n",
      "410it [59:32,  8.63s/it]\u001b[A\n",
      "411it [59:40,  8.45s/it]\u001b[A\n",
      "412it [59:48,  8.40s/it]\u001b[A\n",
      "413it [59:56,  8.34s/it]\u001b[A\n",
      "414it [1:00:04,  8.25s/it]\u001b[A\n",
      "415it [1:00:13,  8.48s/it]\u001b[A\n",
      "416it [1:00:22,  8.60s/it]\u001b[A\n",
      "417it [1:00:31,  8.59s/it]\u001b[A\n",
      "418it [1:00:39,  8.43s/it]\u001b[A\n",
      "419it [1:00:47,  8.54s/it]\u001b[A\n",
      "420it [1:00:57,  8.72s/it]\u001b[A\n",
      "421it [1:01:06,  8.87s/it]\u001b[A\n",
      "422it [1:01:14,  8.71s/it]\u001b[A\n",
      "423it [1:01:24,  8.92s/it]\u001b[A\n",
      "424it [1:01:32,  8.89s/it]\u001b[A\n",
      "425it [1:01:44,  9.68s/it]\u001b[A\n",
      "426it [1:01:52,  9.21s/it]\u001b[A\n",
      "427it [1:02:01,  9.03s/it]\u001b[A\n",
      "428it [1:02:09,  8.89s/it]\u001b[A\n",
      "429it [1:02:18,  8.75s/it]\u001b[A\n",
      "430it [1:02:26,  8.67s/it]\u001b[A\n",
      "431it [1:02:34,  8.59s/it]\u001b[A\n",
      "432it [1:02:44,  8.76s/it]\u001b[A\n",
      "433it [1:02:52,  8.59s/it]\u001b[A\n",
      "434it [1:03:01,  8.82s/it]\u001b[A\n",
      "435it [1:03:10,  8.83s/it]\u001b[A\n",
      "436it [1:03:19,  8.87s/it]\u001b[A\n",
      "437it [1:03:30,  9.50s/it]\u001b[A\n",
      "438it [1:03:38,  9.21s/it]\u001b[A\n",
      "439it [1:03:47,  9.03s/it]\u001b[A\n",
      "440it [1:03:56,  8.94s/it]\u001b[A\n",
      "441it [1:04:04,  8.80s/it]\u001b[A\n",
      "442it [1:04:13,  8.62s/it]\u001b[A\n",
      "443it [1:04:20,  8.40s/it]\u001b[A\n",
      "444it [1:04:29,  8.56s/it]\u001b[A\n",
      "445it [1:04:37,  8.40s/it]\u001b[A\n",
      "446it [1:04:46,  8.56s/it]\u001b[A\n",
      "447it [1:04:56,  8.99s/it]\u001b[A\n",
      "448it [1:05:05,  8.83s/it]\u001b[A\n",
      "449it [1:05:13,  8.70s/it]\u001b[A\n",
      "450it [1:05:22,  8.89s/it]\u001b[A\n",
      "451it [1:05:31,  8.90s/it]\u001b[A\n",
      "452it [1:05:40,  8.88s/it]\u001b[A\n",
      "453it [1:05:50,  9.03s/it]\u001b[A\n",
      "454it [1:05:58,  8.81s/it]\u001b[A\n",
      "455it [1:06:07,  8.77s/it]\u001b[A\n",
      "456it [1:06:16,  8.81s/it]\u001b[A\n",
      "457it [1:06:24,  8.84s/it]\u001b[A\n",
      "458it [1:06:33,  8.90s/it]\u001b[A\n",
      "459it [1:06:43,  9.00s/it]\u001b[A\n",
      "460it [1:06:51,  8.79s/it]\u001b[A\n",
      "461it [1:06:59,  8.67s/it]\u001b[A\n",
      "462it [1:07:09,  8.97s/it]\u001b[A\n",
      "463it [1:07:18,  8.86s/it]\u001b[A\n",
      "464it [1:07:27,  9.02s/it]\u001b[A\n",
      "465it [1:07:37,  9.18s/it]\u001b[A\n",
      "466it [1:07:45,  8.86s/it]\u001b[A\n",
      "467it [1:07:54,  9.03s/it]\u001b[A\n",
      "468it [1:08:02,  8.80s/it]\u001b[A\n",
      "469it [1:08:10,  8.51s/it]\u001b[A\n",
      "470it [1:08:19,  8.53s/it]\u001b[A\n",
      "471it [1:08:28,  8.78s/it]\u001b[A\n",
      "472it [1:08:37,  8.75s/it]\u001b[A\n",
      "473it [1:08:46,  8.73s/it]\u001b[A\n",
      "474it [1:08:54,  8.61s/it]\u001b[A\n",
      "475it [1:09:02,  8.51s/it]\u001b[A\n",
      "476it [1:09:10,  8.27s/it]\u001b[A\n",
      "477it [1:09:18,  8.34s/it]\u001b[A\n",
      "478it [1:09:26,  8.27s/it]\u001b[A\n",
      "479it [1:09:34,  8.12s/it]\u001b[A\n",
      "480it [1:09:43,  8.32s/it]\u001b[A\n",
      "481it [1:09:52,  8.52s/it]\u001b[A\n",
      "482it [1:10:00,  8.43s/it]\u001b[A\n",
      "483it [1:10:09,  8.72s/it]\u001b[A\n"
     ]
    },
    {
     "name": "stdout",
     "output_type": "stream",
     "text": [
      "new_weather shape (16892, 11)\n"
     ]
    },
    {
     "name": "stderr",
     "output_type": "stream",
     "text": [
      "\r",
      " 87%|█████████████████████████████████████████████████████████████████████████████████████████████████               | 13/15 [13:11:04<2:05:55, 3777.88s/it]"
     ]
    },
    {
     "name": "stdout",
     "output_type": "stream",
     "text": [
      "update weather data for  Khlong Hoi Khong\n",
      "updateing file: ../data/weather_cities/Khlong_Hoi_Khong.csv\n",
      "missing date 482\n"
     ]
    },
    {
     "name": "stderr",
     "output_type": "stream",
     "text": [
      "\n",
      "0it [00:00, ?it/s]\u001b[A\n",
      "1it [00:09,  9.54s/it]\u001b[A\n",
      "2it [00:18,  9.34s/it]\u001b[A\n",
      "3it [00:27,  9.35s/it]\u001b[A\n",
      "4it [00:36,  9.23s/it]\u001b[A\n",
      "5it [00:45,  9.16s/it]\u001b[A\n",
      "6it [00:56,  9.54s/it]\u001b[A\n",
      "7it [01:05,  9.52s/it]\u001b[A\n",
      "8it [01:16, 10.01s/it]\u001b[A\n",
      "9it [01:26,  9.81s/it]\u001b[A\n",
      "10it [01:34,  9.36s/it]\u001b[A\n",
      "11it [01:42,  9.11s/it]\u001b[A\n",
      "12it [01:51,  9.00s/it]\u001b[A\n",
      "13it [02:00,  8.96s/it]\u001b[A\n",
      "14it [02:09,  8.92s/it]\u001b[A\n",
      "15it [02:20,  9.46s/it]\u001b[A\n",
      "16it [02:29,  9.33s/it]\u001b[A\n",
      "17it [02:37,  9.06s/it]\u001b[A\n",
      "18it [02:46,  8.91s/it]\u001b[A\n",
      "19it [02:55,  9.16s/it]\u001b[A\n",
      "20it [03:05,  9.26s/it]\u001b[A\n",
      "21it [03:14,  9.33s/it]\u001b[A\n",
      "22it [03:23,  9.09s/it]\u001b[A\n",
      "23it [03:32,  9.01s/it]\u001b[A\n",
      "24it [03:41,  9.21s/it]\u001b[A\n",
      "25it [03:50,  9.02s/it]\u001b[A\n",
      "26it [03:58,  8.65s/it]\u001b[A\n",
      "27it [04:06,  8.57s/it]\u001b[A\n",
      "28it [04:15,  8.70s/it]\u001b[A\n",
      "29it [04:24,  8.77s/it]\u001b[A\n",
      "30it [04:32,  8.43s/it]\u001b[A\n",
      "31it [04:40,  8.38s/it]\u001b[A\n",
      "32it [04:48,  8.40s/it]\u001b[A\n",
      "33it [04:56,  8.21s/it]\u001b[A\n",
      "34it [05:06,  8.56s/it]\u001b[A\n",
      "35it [05:14,  8.54s/it]\u001b[A\n",
      "36it [05:22,  8.43s/it]\u001b[A\n",
      "37it [05:32,  8.90s/it]\u001b[A\n",
      "38it [05:41,  8.84s/it]\u001b[A\n",
      "39it [05:50,  8.81s/it]\u001b[A\n",
      "40it [05:58,  8.67s/it]\u001b[A\n",
      "41it [06:06,  8.48s/it]\u001b[A\n",
      "42it [06:16,  8.78s/it]\u001b[A\n",
      "43it [06:24,  8.82s/it]\u001b[A\n",
      "44it [06:33,  8.83s/it]\u001b[A\n",
      "45it [06:42,  8.78s/it]\u001b[A\n",
      "46it [06:50,  8.64s/it]\u001b[A\n",
      "47it [07:00,  8.93s/it]\u001b[A\n",
      "48it [07:09,  8.96s/it]\u001b[A\n",
      "49it [07:18,  9.01s/it]\u001b[A\n",
      "50it [07:27,  8.94s/it]\u001b[A\n",
      "51it [07:35,  8.77s/it]\u001b[A\n",
      "52it [07:44,  8.71s/it]\u001b[A\n",
      "53it [07:54,  9.27s/it]\u001b[A\n",
      "54it [08:04,  9.30s/it]\u001b[A\n",
      "55it [08:13,  9.22s/it]\u001b[A\n",
      "56it [08:21,  8.95s/it]\u001b[A\n",
      "57it [08:29,  8.68s/it]\u001b[A\n",
      "58it [08:39,  9.00s/it]\u001b[A\n",
      "59it [08:47,  8.82s/it]\u001b[A\n",
      "60it [08:55,  8.63s/it]\u001b[A\n",
      "61it [09:03,  8.43s/it]\u001b[A\n",
      "62it [09:13,  8.63s/it]\u001b[A\n",
      "63it [09:21,  8.59s/it]\u001b[A\n",
      "64it [09:30,  8.77s/it]\u001b[A\n",
      "65it [09:39,  8.66s/it]\u001b[A\n",
      "66it [09:47,  8.66s/it]\u001b[A\n",
      "67it [10:00,  9.79s/it]\u001b[A\n",
      "68it [10:08,  9.39s/it]\u001b[A\n",
      "69it [10:17,  9.14s/it]\u001b[A\n",
      "70it [10:25,  9.00s/it]\u001b[A\n",
      "71it [10:34,  8.86s/it]\u001b[A\n",
      "72it [10:42,  8.77s/it]\u001b[A\n",
      "73it [10:50,  8.48s/it]\u001b[A\n",
      "74it [10:59,  8.58s/it]\u001b[A\n",
      "75it [11:08,  8.64s/it]\u001b[A\n",
      "76it [11:17,  8.76s/it]\u001b[A\n",
      "77it [11:25,  8.69s/it]\u001b[A\n",
      "78it [11:34,  8.63s/it]\u001b[A\n",
      "79it [11:43,  8.78s/it]\u001b[A\n",
      "80it [11:52,  8.87s/it]\u001b[A\n",
      "81it [12:00,  8.69s/it]\u001b[A\n",
      "82it [12:09,  8.63s/it]\u001b[A\n",
      "83it [12:17,  8.55s/it]\u001b[A\n",
      "84it [12:26,  8.75s/it]\u001b[A\n",
      "85it [12:35,  8.74s/it]\u001b[A\n",
      "86it [12:44,  8.69s/it]\u001b[A\n",
      "87it [12:53,  8.74s/it]\u001b[A\n",
      "88it [13:02,  8.90s/it]\u001b[A\n",
      "89it [13:11,  9.07s/it]\u001b[A\n",
      "90it [13:21,  9.10s/it]\u001b[A\n",
      "91it [13:29,  9.04s/it]\u001b[A\n",
      "92it [13:38,  9.03s/it]\u001b[A\n",
      "93it [13:48,  9.28s/it]\u001b[A\n",
      "94it [13:57,  9.18s/it]\u001b[A\n",
      "95it [14:06,  9.17s/it]\u001b[A\n",
      "96it [14:16,  9.43s/it]\u001b[A\n",
      "97it [14:25,  9.29s/it]\u001b[A\n",
      "98it [14:36,  9.80s/it]\u001b[A\n",
      "99it [14:46,  9.84s/it]\u001b[A\n",
      "100it [14:55,  9.38s/it]\u001b[A\n",
      "101it [15:03,  8.96s/it]\u001b[A\n",
      "102it [15:12,  9.21s/it]\u001b[A\n",
      "103it [15:22,  9.23s/it]\u001b[A\n",
      "104it [15:31,  9.15s/it]\u001b[A\n",
      "105it [15:40,  9.26s/it]\u001b[A\n",
      "106it [15:50,  9.32s/it]\u001b[A\n",
      "107it [15:59,  9.42s/it]\u001b[A\n",
      "108it [16:07,  8.97s/it]\u001b[A\n",
      "109it [16:17,  9.20s/it]\u001b[A\n",
      "110it [16:26,  9.06s/it]\u001b[A\n",
      "111it [16:34,  8.95s/it]\u001b[A\n",
      "112it [16:44,  9.03s/it]\u001b[A\n",
      "113it [16:52,  8.87s/it]\u001b[A\n",
      "114it [17:01,  8.95s/it]\u001b[A\n",
      "115it [17:10,  8.99s/it]\u001b[A\n",
      "116it [17:20,  9.14s/it]\u001b[A\n",
      "117it [17:29,  9.16s/it]\u001b[A\n",
      "118it [17:38,  9.03s/it]\u001b[A\n",
      "119it [17:46,  8.78s/it]\u001b[A\n",
      "120it [17:58,  9.65s/it]\u001b[A\n",
      "121it [18:07,  9.48s/it]\u001b[A\n",
      "122it [18:15,  9.17s/it]\u001b[A\n",
      "123it [18:24,  8.96s/it]\u001b[A\n",
      "124it [18:32,  8.83s/it]\u001b[A\n",
      "125it [18:41,  8.76s/it]\u001b[A\n",
      "126it [18:50,  8.89s/it]\u001b[A\n",
      "127it [18:59,  8.84s/it]\u001b[A\n",
      "128it [19:07,  8.82s/it]\u001b[A\n",
      "129it [19:16,  8.71s/it]\u001b[A\n",
      "130it [19:24,  8.66s/it]\u001b[A\n",
      "131it [19:33,  8.57s/it]\u001b[A\n",
      "132it [19:41,  8.54s/it]\u001b[A\n",
      "133it [19:50,  8.53s/it]\u001b[A\n",
      "134it [19:58,  8.49s/it]\u001b[A\n",
      "135it [20:07,  8.68s/it]\u001b[A\n",
      "136it [20:17,  9.00s/it]\u001b[A\n",
      "137it [20:26,  8.88s/it]\u001b[A\n",
      "138it [20:35,  9.05s/it]\u001b[A\n",
      "139it [20:44,  8.87s/it]\u001b[A\n",
      "140it [20:54,  9.28s/it]\u001b[A\n",
      "141it [21:02,  8.99s/it]\u001b[A\n",
      "142it [21:10,  8.77s/it]\u001b[A\n",
      "143it [21:19,  8.80s/it]\u001b[A\n",
      "144it [21:29,  9.12s/it]\u001b[A\n",
      "145it [21:39,  9.39s/it]\u001b[A\n",
      "146it [21:49,  9.46s/it]\u001b[A\n",
      "147it [21:58,  9.44s/it]\u001b[A\n",
      "148it [22:07,  9.40s/it]\u001b[A\n",
      "149it [22:17,  9.33s/it]\u001b[A\n",
      "150it [22:25,  9.11s/it]\u001b[A\n",
      "151it [22:33,  8.88s/it]\u001b[A\n",
      "152it [22:42,  8.75s/it]\u001b[A\n",
      "153it [22:50,  8.61s/it]\u001b[A\n",
      "154it [22:59,  8.72s/it]\u001b[A\n",
      "155it [23:07,  8.49s/it]\u001b[A\n",
      "156it [23:15,  8.39s/it]\u001b[A\n",
      "157it [23:24,  8.45s/it]\u001b[A\n",
      "158it [23:33,  8.60s/it]\u001b[A\n",
      "159it [23:41,  8.55s/it]\u001b[A\n",
      "160it [23:50,  8.49s/it]\u001b[A\n",
      "161it [23:58,  8.38s/it]\u001b[A\n",
      "162it [24:08,  9.02s/it]\u001b[A\n",
      "163it [24:18,  9.13s/it]\u001b[A\n",
      "164it [24:27,  9.27s/it]\u001b[A\n",
      "165it [24:36,  9.14s/it]\u001b[A\n",
      "166it [24:44,  8.88s/it]\u001b[A\n",
      "167it [24:53,  8.81s/it]\u001b[A\n",
      "168it [25:03,  9.06s/it]\u001b[A\n",
      "169it [25:11,  8.87s/it]\u001b[A\n",
      "170it [25:20,  8.74s/it]\u001b[A\n",
      "171it [25:28,  8.66s/it]\u001b[A\n",
      "172it [25:36,  8.53s/it]\u001b[A\n",
      "173it [25:45,  8.66s/it]\u001b[A\n",
      "174it [25:55,  8.86s/it]\u001b[A\n",
      "175it [26:04,  9.04s/it]\u001b[A\n",
      "176it [26:13,  8.92s/it]\u001b[A\n",
      "177it [26:21,  8.82s/it]\u001b[A\n",
      "178it [26:30,  8.74s/it]\u001b[A\n",
      "179it [26:38,  8.67s/it]\u001b[A\n",
      "180it [26:47,  8.61s/it]\u001b[A\n",
      "181it [26:56,  8.68s/it]\u001b[A\n",
      "182it [27:04,  8.67s/it]\u001b[A\n",
      "183it [27:13,  8.85s/it]\u001b[A\n",
      "184it [27:23,  9.15s/it]\u001b[A\n",
      "185it [27:32,  8.95s/it]\u001b[A\n",
      "186it [27:41,  8.95s/it]\u001b[A\n",
      "187it [27:49,  8.76s/it]\u001b[A\n",
      "188it [27:58,  8.75s/it]\u001b[A\n",
      "189it [28:07,  8.90s/it]\u001b[A\n",
      "190it [28:16,  8.83s/it]\u001b[A\n",
      "191it [28:26,  9.24s/it]\u001b[A\n",
      "192it [28:34,  8.94s/it]\u001b[A\n",
      "193it [28:43,  8.82s/it]\u001b[A\n",
      "194it [28:51,  8.78s/it]\u001b[A\n",
      "195it [29:02,  9.43s/it]\u001b[A\n",
      "196it [29:11,  9.35s/it]\u001b[A\n",
      "197it [29:21,  9.51s/it]\u001b[A\n",
      "198it [29:30,  9.27s/it]\u001b[A\n",
      "199it [29:39,  9.25s/it]\u001b[A\n",
      "200it [29:50,  9.72s/it]\u001b[A\n",
      "201it [29:59,  9.57s/it]\u001b[A\n",
      "202it [30:11, 10.09s/it]\u001b[A\n",
      "203it [30:22, 10.35s/it]\u001b[A\n",
      "204it [30:31, 10.06s/it]\u001b[A\n",
      "205it [30:40,  9.75s/it]\u001b[A\n",
      "206it [30:49,  9.53s/it]\u001b[A\n",
      "207it [31:00,  9.82s/it]\u001b[A\n",
      "208it [31:11, 10.29s/it]\u001b[A\n",
      "209it [31:19,  9.77s/it]\u001b[A\n",
      "210it [31:29,  9.67s/it]\u001b[A\n",
      "211it [31:38,  9.36s/it]\u001b[A\n",
      "212it [31:47,  9.50s/it]\u001b[A\n",
      "213it [31:56,  9.23s/it]\u001b[A\n",
      "214it [32:06,  9.39s/it]\u001b[A\n",
      "215it [32:16,  9.54s/it]\u001b[A\n",
      "216it [32:27, 10.01s/it]\u001b[A\n",
      "217it [32:37, 10.10s/it]\u001b[A\n",
      "218it [32:48, 10.44s/it]\u001b[A\n",
      "219it [32:58, 10.39s/it]\u001b[A\n",
      "220it [33:08, 10.05s/it]\u001b[A\n",
      "221it [33:18, 10.21s/it]\u001b[A\n",
      "222it [33:28,  9.91s/it]\u001b[A\n",
      "223it [33:37,  9.90s/it]\u001b[A\n",
      "224it [33:47,  9.91s/it]\u001b[A\n",
      "225it [33:58, 10.20s/it]\u001b[A\n",
      "226it [34:08,  9.96s/it]\u001b[A\n",
      "227it [34:17,  9.73s/it]\u001b[A\n",
      "228it [34:25,  9.32s/it]\u001b[A\n",
      "229it [34:35,  9.34s/it]\u001b[A\n",
      "230it [34:44,  9.26s/it]\u001b[A\n",
      "231it [34:53,  9.35s/it]\u001b[A\n",
      "232it [35:05, 10.14s/it]\u001b[A\n",
      "233it [35:15,  9.92s/it]\u001b[A\n",
      "234it [35:25, 10.05s/it]\u001b[A\n",
      "235it [35:35, 10.19s/it]\u001b[A\n",
      "236it [35:45,  9.85s/it]\u001b[A\n",
      "237it [35:54,  9.78s/it]\u001b[A\n",
      "238it [36:04,  9.77s/it]\u001b[A\n",
      "239it [36:13,  9.51s/it]\u001b[A\n",
      "240it [36:22,  9.30s/it]\u001b[A\n",
      "241it [36:32,  9.61s/it]\u001b[A\n",
      "242it [36:42,  9.67s/it]\u001b[A\n",
      "243it [36:53, 10.04s/it]\u001b[A\n",
      "244it [37:02,  9.86s/it]\u001b[A\n",
      "245it [37:12,  9.92s/it]\u001b[A\n",
      "246it [37:21,  9.65s/it]\u001b[A\n",
      "247it [37:30,  9.35s/it]\u001b[A\n",
      "248it [37:39,  9.19s/it]\u001b[A\n",
      "249it [37:48,  9.28s/it]\u001b[A\n",
      "250it [37:59,  9.71s/it]\u001b[A\n",
      "251it [38:08,  9.45s/it]\u001b[A\n",
      "252it [38:17,  9.42s/it]\u001b[A\n",
      "253it [38:28,  9.90s/it]\u001b[A\n",
      "254it [38:37,  9.62s/it]\u001b[A\n",
      "255it [38:47,  9.69s/it]\u001b[A\n",
      "256it [38:56,  9.53s/it]\u001b[A\n",
      "257it [39:06,  9.53s/it]\u001b[A\n",
      "258it [39:15,  9.50s/it]\u001b[A\n",
      "259it [39:24,  9.42s/it]\u001b[A\n",
      "260it [39:33,  9.20s/it]\u001b[A\n",
      "261it [39:43,  9.36s/it]\u001b[A\n",
      "262it [39:52,  9.49s/it]\u001b[A\n",
      "263it [40:02,  9.44s/it]\u001b[A\n",
      "264it [40:11,  9.29s/it]\u001b[A\n",
      "265it [40:20,  9.35s/it]\u001b[A\n",
      "266it [40:31,  9.73s/it]\u001b[A\n",
      "267it [40:39,  9.34s/it]\u001b[A\n",
      "268it [40:48,  9.19s/it]\u001b[A\n",
      "269it [40:58,  9.34s/it]\u001b[A\n",
      "270it [41:07,  9.42s/it]\u001b[A\n",
      "271it [41:18,  9.77s/it]\u001b[A\n",
      "272it [41:30, 10.50s/it]\u001b[A\n",
      "273it [41:40, 10.30s/it]\u001b[A\n",
      "274it [41:51, 10.36s/it]\u001b[A\n",
      "275it [42:00, 10.04s/it]\u001b[A\n",
      "276it [42:09,  9.70s/it]\u001b[A\n",
      "277it [42:18,  9.67s/it]\u001b[A\n",
      "278it [42:29,  9.95s/it]\u001b[A\n",
      "279it [42:40, 10.17s/it]\u001b[A\n",
      "280it [42:49,  9.96s/it]\u001b[A\n",
      "281it [42:59, 10.04s/it]\u001b[A\n",
      "282it [43:08,  9.78s/it]\u001b[A\n",
      "283it [43:18,  9.57s/it]\u001b[A\n",
      "284it [43:27,  9.40s/it]\u001b[A\n",
      "285it [43:36,  9.34s/it]\u001b[A\n",
      "286it [43:46,  9.53s/it]\u001b[A\n",
      "287it [43:57,  9.99s/it]\u001b[A\n",
      "288it [44:06,  9.86s/it]\u001b[A\n",
      "289it [44:16,  9.91s/it]\u001b[A\n",
      "290it [44:26,  9.78s/it]\u001b[A\n",
      "291it [44:35,  9.54s/it]\u001b[A\n",
      "292it [44:45,  9.84s/it]\u001b[A\n",
      "293it [44:55,  9.84s/it]\u001b[A\n",
      "294it [45:05,  9.92s/it]\u001b[A\n",
      "295it [45:16, 10.29s/it]\u001b[A\n",
      "296it [45:25,  9.87s/it]\u001b[A\n",
      "297it [45:37, 10.50s/it]\u001b[A\n",
      "298it [45:49, 10.89s/it]\u001b[A\n",
      "299it [45:59, 10.60s/it]\u001b[A\n",
      "300it [46:09, 10.29s/it]\u001b[A\n",
      "301it [46:19, 10.41s/it]\u001b[A\n",
      "302it [46:30, 10.35s/it]\u001b[A\n",
      "303it [46:44, 11.49s/it]\u001b[A\n",
      "304it [46:57, 12.16s/it]\u001b[A\n",
      "305it [47:09, 11.92s/it]\u001b[A\n",
      "306it [47:19, 11.42s/it]\u001b[A\n",
      "307it [47:30, 11.23s/it]\u001b[A\n",
      "308it [47:38, 10.46s/it]\u001b[A\n",
      "309it [47:48, 10.20s/it]\u001b[A\n",
      "310it [47:59, 10.45s/it]\u001b[A\n",
      "311it [48:08, 10.04s/it]\u001b[A\n",
      "312it [48:17,  9.69s/it]\u001b[A\n",
      "313it [48:26,  9.49s/it]\u001b[A\n",
      "314it [48:35,  9.38s/it]\u001b[A\n",
      "315it [48:43,  9.01s/it]\u001b[A\n",
      "316it [48:55,  9.81s/it]\u001b[A\n",
      "317it [49:04,  9.51s/it]\u001b[A\n",
      "318it [49:16, 10.35s/it]\u001b[A\n",
      "319it [49:25,  9.87s/it]\u001b[A\n",
      "320it [49:34,  9.64s/it]\u001b[A\n",
      "321it [49:44,  9.80s/it]\u001b[A\n",
      "322it [49:57, 10.59s/it]\u001b[A\n",
      "323it [50:07, 10.64s/it]\u001b[A\n",
      "324it [50:17, 10.33s/it]\u001b[A\n",
      "325it [50:29, 10.93s/it]\u001b[A\n",
      "326it [55:29, 97.66s/it]\u001b[A\n",
      "327it [55:39, 71.17s/it]\u001b[A\n",
      "328it [55:50, 53.28s/it]\u001b[A\n",
      "329it [56:01, 40.67s/it]\u001b[A\n",
      "330it [56:13, 31.83s/it]\u001b[A\n",
      "331it [56:24, 25.66s/it]\u001b[A\n",
      "332it [56:33, 20.71s/it]\u001b[A\n",
      "333it [56:43, 17.43s/it]\u001b[A\n",
      "334it [56:52, 14.91s/it]\u001b[A\n",
      "335it [57:01, 13.15s/it]\u001b[A\n",
      "336it [57:09, 11.76s/it]\u001b[A\n",
      "337it [57:17, 10.64s/it]\u001b[A\n",
      "338it [57:29, 11.00s/it]\u001b[A\n",
      "339it [57:41, 11.20s/it]\u001b[A\n",
      "340it [57:49, 10.38s/it]\u001b[A\n",
      "341it [57:59, 10.09s/it]\u001b[A\n",
      "342it [58:10, 10.53s/it]\u001b[A\n",
      "343it [58:19, 10.08s/it]\u001b[A\n",
      "344it [58:30, 10.35s/it]\u001b[A\n",
      "345it [58:39,  9.77s/it]\u001b[A\n",
      "346it [58:49,  9.86s/it]\u001b[A\n",
      "347it [59:01, 10.40s/it]\u001b[A\n",
      "348it [59:11, 10.42s/it]\u001b[A\n",
      "349it [59:20,  9.96s/it]\u001b[A\n",
      "350it [59:31, 10.41s/it]\u001b[A\n",
      "351it [59:43, 10.67s/it]\u001b[A\n",
      "352it [59:55, 11.19s/it]\u001b[A\n",
      "353it [1:00:06, 11.25s/it]\u001b[A\n",
      "354it [1:00:18, 11.33s/it]\u001b[A\n",
      "355it [1:00:29, 11.32s/it]\u001b[A\n",
      "356it [1:00:42, 11.76s/it]\u001b[A\n",
      "357it [1:00:54, 11.68s/it]\u001b[A\n",
      "358it [1:01:02, 10.82s/it]\u001b[A\n",
      "359it [1:01:15, 11.33s/it]\u001b[A\n",
      "360it [1:01:26, 11.37s/it]\u001b[A\n",
      "361it [1:01:39, 11.64s/it]\u001b[A\n",
      "362it [1:01:50, 11.59s/it]\u001b[A\n",
      "363it [1:02:01, 11.46s/it]\u001b[A\n",
      "364it [1:02:14, 11.88s/it]\u001b[A\n",
      "365it [1:02:26, 11.83s/it]\u001b[A\n",
      "366it [1:02:38, 12.04s/it]\u001b[A\n",
      "367it [1:02:47, 11.05s/it]\u001b[A\n",
      "368it [1:02:56, 10.45s/it]\u001b[A\n",
      "369it [1:03:07, 10.67s/it]\u001b[A\n",
      "370it [1:03:21, 11.61s/it]\u001b[A\n",
      "371it [1:03:29, 10.57s/it]\u001b[A\n",
      "372it [1:03:44, 11.92s/it]\u001b[A\n",
      "373it [1:03:59, 12.65s/it]\u001b[A\n",
      "374it [1:04:14, 13.52s/it]\u001b[A\n",
      "375it [1:04:23, 12.00s/it]\u001b[A\n",
      "376it [1:04:38, 12.92s/it]\u001b[A\n",
      "377it [1:04:47, 11.74s/it]\u001b[A\n",
      "378it [1:05:02, 12.66s/it]\u001b[A\n",
      "379it [1:05:10, 11.48s/it]\u001b[A\n",
      "380it [1:05:21, 11.34s/it]\u001b[A\n",
      "381it [1:05:30, 10.47s/it]\u001b[A\n",
      "382it [1:05:45, 11.76s/it]\u001b[A\n",
      "383it [1:05:59, 12.56s/it]\u001b[A\n",
      "384it [1:06:08, 11.58s/it]\u001b[A\n",
      "385it [1:06:23, 12.56s/it]\u001b[A\n",
      "386it [1:06:37, 13.07s/it]\u001b[A\n",
      "387it [1:06:49, 12.78s/it]\u001b[A\n",
      "388it [1:07:01, 12.39s/it]\u001b[A\n",
      "389it [1:12:01, 98.68s/it]\u001b[A\n",
      "390it [1:12:12, 72.26s/it]\u001b[A\n",
      "391it [1:12:28, 55.47s/it]\u001b[A\n",
      "392it [1:12:37, 41.55s/it]\u001b[A\n",
      "393it [1:12:54, 34.13s/it]\u001b[A\n",
      "394it [1:13:11, 28.94s/it]\u001b[A\n",
      "395it [1:13:28, 25.49s/it]\u001b[A\n",
      "396it [1:13:44, 22.65s/it]\u001b[A\n",
      "397it [1:13:53, 18.67s/it]\u001b[A\n",
      "398it [1:14:04, 16.35s/it]\u001b[A\n",
      "399it [1:14:13, 14.13s/it]\u001b[A\n",
      "400it [1:14:26, 13.67s/it]\u001b[A\n",
      "401it [1:14:35, 12.42s/it]\u001b[A\n",
      "402it [1:14:48, 12.56s/it]\u001b[A\n",
      "403it [1:15:02, 12.89s/it]\u001b[A\n",
      "404it [1:15:19, 14.03s/it]\u001b[A\n",
      "405it [1:15:36, 15.02s/it]\u001b[A\n",
      "406it [1:15:48, 14.26s/it]\u001b[A\n",
      "407it [1:16:03, 14.23s/it]\u001b[A\n",
      "408it [1:16:15, 13.71s/it]\u001b[A\n",
      "409it [1:16:28, 13.59s/it]\u001b[A\n",
      "410it [1:16:46, 14.85s/it]\u001b[A\n",
      "411it [1:17:03, 15.54s/it]\u001b[A\n",
      "412it [1:17:17, 15.08s/it]\u001b[A\n",
      "413it [1:17:30, 14.28s/it]\u001b[A\n",
      "414it [1:17:40, 13.13s/it]\u001b[A\n",
      "415it [1:17:50, 12.02s/it]\u001b[A\n",
      "416it [1:17:59, 11.34s/it]\u001b[A\n",
      "417it [1:18:13, 11.88s/it]\u001b[A\n",
      "418it [1:18:22, 11.01s/it]\u001b[A\n",
      "419it [1:18:30, 10.25s/it]\u001b[A\n",
      "420it [1:18:47, 12.42s/it]\u001b[A\n",
      "421it [1:19:01, 12.66s/it]\u001b[A\n",
      "422it [1:19:22, 15.11s/it]\u001b[A\n",
      "423it [1:19:30, 13.17s/it]\u001b[A\n",
      "424it [1:19:39, 11.82s/it]\u001b[A\n",
      "425it [1:19:53, 12.46s/it]\u001b[A\n",
      "426it [1:20:07, 12.93s/it]\u001b[A\n",
      "427it [1:20:17, 12.09s/it]\u001b[A\n",
      "428it [1:20:26, 11.12s/it]\u001b[A\n",
      "429it [1:20:39, 11.67s/it]\u001b[A\n",
      "430it [1:20:57, 13.74s/it]\u001b[A\n",
      "431it [1:21:12, 13.98s/it]\u001b[A\n",
      "432it [1:21:22, 12.74s/it]\u001b[A\n",
      "433it [1:21:34, 12.72s/it]\u001b[A\n",
      "434it [1:21:47, 12.74s/it]\u001b[A\n",
      "435it [1:21:56, 11.59s/it]\u001b[A\n",
      "436it [1:22:09, 12.02s/it]\u001b[A\n",
      "437it [1:22:23, 12.47s/it]\u001b[A\n",
      "438it [1:22:40, 14.04s/it]\u001b[A\n",
      "439it [1:22:51, 12.88s/it]\u001b[A\n",
      "440it [1:23:10, 14.80s/it]\u001b[A\n",
      "441it [1:23:19, 13.15s/it]\u001b[A\n",
      "442it [1:23:36, 14.21s/it]\u001b[A\n",
      "443it [1:23:54, 15.27s/it]\u001b[A\n",
      "444it [1:24:02, 13.37s/it]\u001b[A\n",
      "445it [1:24:19, 14.41s/it]\u001b[A\n",
      "446it [1:24:28, 12.81s/it]\u001b[A\n",
      "447it [1:24:37, 11.55s/it]\u001b[A\n",
      "448it [1:24:56, 13.71s/it]\u001b[A\n",
      "449it [1:25:05, 12.40s/it]\u001b[A\n",
      "450it [1:25:22, 13.69s/it]\u001b[A\n",
      "451it [1:25:32, 12.76s/it]\u001b[A\n",
      "452it [1:25:41, 11.38s/it]\u001b[A\n",
      "453it [1:25:49, 10.54s/it]\u001b[A\n",
      "454it [1:25:58, 10.10s/it]\u001b[A\n",
      "455it [1:26:09, 10.34s/it]\u001b[A\n",
      "456it [1:26:19, 10.21s/it]\u001b[A\n",
      "457it [1:26:32, 11.16s/it]\u001b[A\n",
      "458it [1:26:49, 12.79s/it]\u001b[A\n",
      "459it [1:26:58, 11.70s/it]\u001b[A\n",
      "460it [1:27:07, 10.77s/it]\u001b[A\n",
      "461it [1:27:23, 12.55s/it]\u001b[A\n",
      "462it [1:27:33, 11.57s/it]\u001b[A\n",
      "463it [1:27:50, 13.18s/it]\u001b[A\n",
      "464it [1:28:00, 12.31s/it]\u001b[A\n",
      "465it [1:28:09, 11.34s/it]\u001b[A\n",
      "466it [1:28:25, 12.74s/it]\u001b[A\n",
      "467it [1:28:34, 11.75s/it]\u001b[A\n",
      "468it [1:28:47, 12.03s/it]\u001b[A\n",
      "469it [1:28:59, 11.92s/it]\u001b[A\n",
      "470it [1:29:10, 11.57s/it]\u001b[A\n",
      "471it [1:29:20, 11.22s/it]\u001b[A\n",
      "472it [1:29:29, 10.45s/it]\u001b[A\n",
      "473it [1:29:43, 11.64s/it]\u001b[A\n",
      "474it [1:30:00, 13.27s/it]\u001b[A\n",
      "475it [1:30:09, 11.90s/it]\u001b[A\n",
      "476it [1:30:17, 10.85s/it]\u001b[A\n",
      "477it [1:30:35, 13.04s/it]\u001b[A\n",
      "478it [1:30:53, 14.53s/it]\u001b[A\n",
      "479it [1:31:11, 15.44s/it]\u001b[A\n",
      "480it [1:31:22, 14.00s/it]\u001b[A\n",
      "481it [1:31:31, 12.72s/it]\u001b[A\n",
      "482it [1:31:44, 11.42s/it]\u001b[A\n"
     ]
    },
    {
     "name": "stdout",
     "output_type": "stream",
     "text": [
      "new_weather shape (12661, 11)\n"
     ]
    },
    {
     "name": "stderr",
     "output_type": "stream",
     "text": [
      "\r",
      " 93%|████████████████████████████████████████████████████████████████████████████████████████████████████████▌       | 14/15 [14:43:38<1:11:50, 4310.83s/it]"
     ]
    },
    {
     "name": "stdout",
     "output_type": "stream",
     "text": [
      "update weather data for  Khlong Hoi Khong\n",
      "updateing file: ../data/weather_cities/Khlong_Hoi_Khong.csv\n",
      "missing date 482\n"
     ]
    },
    {
     "name": "stderr",
     "output_type": "stream",
     "text": [
      "\n",
      "0it [00:00, ?it/s]\u001b[A\n",
      "1it [00:09,  9.27s/it]\u001b[A\n",
      "2it [00:22, 10.42s/it]\u001b[A\n",
      "3it [00:32, 10.38s/it]\u001b[A\n",
      "4it [00:42, 10.17s/it]\u001b[A\n",
      "5it [00:51,  9.84s/it]\u001b[A\n",
      "6it [01:01, 10.03s/it]\u001b[A\n",
      "7it [01:10,  9.58s/it]\u001b[A\n",
      "8it [01:19,  9.52s/it]\u001b[A\n",
      "9it [01:29,  9.52s/it]\u001b[A\n",
      "10it [01:39,  9.77s/it]\u001b[A\n",
      "11it [01:48,  9.51s/it]\u001b[A\n",
      "12it [01:57,  9.31s/it]\u001b[A\n",
      "13it [02:06,  9.28s/it]\u001b[A\n",
      "14it [02:17,  9.74s/it]\u001b[A\n",
      "15it [02:27,  9.72s/it]\u001b[A\n",
      "16it [02:36,  9.58s/it]\u001b[A\n",
      "17it [02:45,  9.51s/it]\u001b[A\n",
      "18it [02:54,  9.38s/it]\u001b[A\n",
      "19it [03:03,  9.31s/it]\u001b[A\n",
      "20it [03:13,  9.42s/it]\u001b[A\n",
      "21it [03:23,  9.66s/it]\u001b[A\n",
      "22it [03:32,  9.41s/it]\u001b[A\n",
      "23it [03:41,  9.33s/it]\u001b[A\n",
      "24it [03:51,  9.50s/it]\u001b[A\n",
      "25it [04:01,  9.50s/it]\u001b[A\n",
      "26it [04:09,  9.24s/it]\u001b[A\n",
      "27it [04:18,  9.01s/it]\u001b[A\n",
      "28it [04:27,  9.14s/it]\u001b[A\n",
      "29it [04:36,  9.07s/it]\u001b[A\n",
      "30it [04:46,  9.44s/it]\u001b[A\n",
      "31it [04:55,  9.24s/it]\u001b[A\n",
      "32it [05:04,  9.18s/it]\u001b[A\n",
      "33it [05:14,  9.24s/it]\u001b[A\n",
      "34it [05:23,  9.30s/it]\u001b[A\n",
      "35it [05:33,  9.39s/it]\u001b[A\n",
      "36it [05:43,  9.53s/it]\u001b[A\n",
      "37it [05:53,  9.83s/it]\u001b[A\n",
      "38it [06:03,  9.93s/it]\u001b[A\n",
      "39it [06:13,  9.79s/it]\u001b[A\n",
      "40it [06:23,  9.89s/it]\u001b[A\n",
      "41it [06:33, 10.04s/it]\u001b[A\n",
      "42it [06:42,  9.71s/it]\u001b[A\n",
      "43it [06:52,  9.76s/it]\u001b[A\n",
      "44it [07:01,  9.66s/it]\u001b[A\n",
      "45it [07:12,  9.86s/it]\u001b[A\n",
      "46it [07:21,  9.74s/it]\u001b[A\n",
      "47it [07:32,  9.91s/it]\u001b[A\n",
      "48it [07:42, 10.20s/it]\u001b[A\n",
      "49it [07:53, 10.30s/it]\u001b[A\n",
      "50it [08:04, 10.42s/it]\u001b[A\n",
      "51it [08:13, 10.08s/it]\u001b[A\n",
      "52it [08:23, 10.22s/it]\u001b[A\n",
      "53it [08:32,  9.79s/it]\u001b[A\n",
      "54it [08:41,  9.62s/it]\u001b[A\n",
      "55it [08:52,  9.78s/it]\u001b[A\n",
      "56it [09:03, 10.22s/it]\u001b[A\n",
      "57it [09:12,  9.81s/it]\u001b[A\n",
      "58it [09:21,  9.77s/it]\u001b[A\n",
      "59it [09:32, 10.10s/it]\u001b[A\n",
      "60it [09:44, 10.67s/it]\u001b[A\n",
      "61it [09:55, 10.61s/it]\u001b[A\n",
      "62it [10:05, 10.52s/it]\u001b[A\n",
      "63it [10:13,  9.85s/it]\u001b[A\n",
      "64it [10:23,  9.81s/it]\u001b[A\n",
      "65it [10:32,  9.46s/it]\u001b[A\n",
      "66it [10:41,  9.45s/it]\u001b[A\n",
      "67it [10:50,  9.38s/it]\u001b[A\n",
      "68it [11:00,  9.58s/it]\u001b[A\n",
      "69it [11:11,  9.81s/it]\u001b[A\n",
      "70it [11:20,  9.63s/it]\u001b[A\n",
      "71it [11:30,  9.78s/it]\u001b[A\n",
      "72it [11:40,  9.82s/it]\u001b[A\n",
      "73it [11:50,  9.93s/it]\u001b[A\n",
      "74it [11:59,  9.56s/it]\u001b[A\n",
      "75it [12:09,  9.68s/it]\u001b[A\n",
      "76it [12:19,  9.87s/it]\u001b[A\n",
      "77it [12:30, 10.12s/it]\u001b[A\n",
      "78it [12:39,  9.77s/it]\u001b[A\n",
      "79it [12:47,  9.32s/it]\u001b[A\n",
      "80it [12:57,  9.62s/it]\u001b[A\n",
      "81it [13:07,  9.50s/it]\u001b[A\n",
      "82it [13:18,  9.99s/it]\u001b[A\n",
      "83it [13:29, 10.31s/it]\u001b[A\n",
      "84it [13:40, 10.67s/it]\u001b[A\n",
      "85it [13:51, 10.62s/it]\u001b[A\n",
      "86it [14:01, 10.46s/it]\u001b[A\n",
      "87it [14:13, 10.81s/it]\u001b[A\n",
      "88it [14:24, 11.06s/it]\u001b[A\n",
      "89it [14:34, 10.65s/it]\u001b[A\n",
      "90it [14:43, 10.15s/it]\u001b[A\n",
      "91it [14:52,  9.76s/it]\u001b[A\n",
      "92it [15:02,  9.77s/it]\u001b[A\n",
      "93it [15:12,  9.94s/it]\u001b[A\n",
      "94it [15:23, 10.42s/it]\u001b[A\n",
      "95it [15:34, 10.52s/it]\u001b[A\n",
      "96it [15:43, 10.18s/it]\u001b[A\n",
      "97it [15:55, 10.43s/it]\u001b[A\n",
      "98it [16:05, 10.36s/it]\u001b[A\n",
      "99it [16:16, 10.56s/it]\u001b[A\n",
      "100it [16:25, 10.14s/it]\u001b[A\n",
      "101it [16:34,  9.87s/it]\u001b[A\n",
      "102it [16:43,  9.49s/it]\u001b[A\n",
      "103it [16:55, 10.19s/it]\u001b[A\n",
      "104it [17:05, 10.28s/it]\u001b[A\n",
      "105it [17:17, 10.64s/it]\u001b[A\n",
      "106it [17:30, 11.43s/it]\u001b[A\n",
      "107it [17:40, 11.06s/it]\u001b[A\n",
      "108it [17:52, 11.22s/it]\u001b[A\n",
      "109it [18:01, 10.64s/it]\u001b[A\n",
      "110it [18:12, 10.78s/it]\u001b[A\n",
      "111it [18:21, 10.19s/it]\u001b[A\n",
      "112it [18:32, 10.50s/it]\u001b[A\n",
      "113it [18:44, 10.87s/it]\u001b[A\n",
      "114it [18:56, 11.28s/it]\u001b[A\n",
      "115it [19:05, 10.63s/it]\u001b[A\n",
      "116it [19:14, 10.25s/it]\u001b[A\n",
      "117it [19:26, 10.65s/it]\u001b[A\n",
      "118it [19:38, 10.91s/it]\u001b[A\n",
      "119it [19:47, 10.33s/it]\u001b[A\n",
      "120it [19:57, 10.30s/it]\u001b[A\n",
      "121it [20:06,  9.98s/it]\u001b[A\n",
      "122it [20:17, 10.25s/it]\u001b[A\n",
      "123it [20:27, 10.21s/it]\u001b[A\n",
      "124it [20:38, 10.41s/it]\u001b[A\n",
      "125it [20:49, 10.67s/it]\u001b[A\n",
      "126it [21:00, 10.72s/it]\u001b[A\n",
      "127it [21:11, 10.93s/it]\u001b[A\n",
      "128it [21:22, 10.90s/it]\u001b[A\n",
      "129it [21:33, 10.85s/it]\u001b[A\n",
      "130it [21:43, 10.68s/it]\u001b[A\n",
      "131it [21:56, 11.32s/it]\u001b[A\n",
      "132it [22:05, 10.48s/it]\u001b[A\n",
      "133it [22:17, 11.10s/it]\u001b[A\n",
      "134it [22:29, 11.32s/it]\u001b[A\n",
      "135it [22:45, 12.68s/it]\u001b[A\n",
      "136it [22:55, 11.93s/it]\u001b[A\n",
      "137it [23:04, 10.94s/it]\u001b[A\n",
      "138it [23:15, 10.92s/it]\u001b[A\n",
      "139it [23:30, 12.19s/it]\u001b[A\n",
      "140it [23:38, 11.18s/it]\u001b[A\n",
      "141it [23:51, 11.46s/it]\u001b[A\n",
      "142it [24:01, 11.13s/it]\u001b[A\n",
      "143it [24:14, 11.59s/it]\u001b[A\n",
      "144it [24:27, 12.18s/it]\u001b[A\n",
      "145it [24:39, 11.99s/it]\u001b[A\n",
      "146it [24:48, 11.30s/it]\u001b[A\n",
      "147it [25:00, 11.25s/it]\u001b[A\n",
      "148it [25:10, 11.10s/it]\u001b[A\n",
      "149it [25:22, 11.14s/it]\u001b[A\n",
      "150it [25:34, 11.40s/it]\u001b[A\n",
      "151it [25:43, 10.68s/it]\u001b[A\n",
      "152it [25:54, 10.81s/it]\u001b[A\n",
      "153it [26:05, 11.11s/it]\u001b[A\n",
      "154it [26:14, 10.29s/it]\u001b[A\n",
      "155it [26:25, 10.53s/it]\u001b[A\n",
      "156it [26:33,  9.79s/it]\u001b[A\n",
      "157it [26:44, 10.27s/it]\u001b[A\n",
      "158it [27:00, 11.94s/it]\u001b[A\n",
      "159it [27:12, 11.96s/it]\u001b[A\n",
      "160it [27:24, 11.88s/it]\u001b[A\n",
      "161it [27:37, 12.23s/it]\u001b[A\n",
      "162it [27:48, 11.86s/it]\u001b[A\n",
      "163it [28:00, 11.99s/it]\u001b[A\n",
      "164it [28:11, 11.62s/it]\u001b[A\n",
      "165it [28:27, 12.80s/it]\u001b[A\n",
      "166it [28:38, 12.46s/it]\u001b[A\n",
      "167it [28:47, 11.44s/it]\u001b[A\n",
      "168it [28:59, 11.53s/it]\u001b[A\n",
      "169it [29:14, 12.67s/it]\u001b[A\n",
      "170it [29:26, 12.22s/it]\u001b[A\n",
      "171it [29:34, 11.21s/it]\u001b[A\n",
      "172it [29:43, 10.51s/it]\u001b[A\n",
      "173it [29:56, 11.21s/it]\u001b[A\n",
      "174it [30:07, 11.21s/it]\u001b[A\n",
      "175it [30:20, 11.56s/it]\u001b[A\n",
      "176it [30:33, 11.97s/it]\u001b[A\n",
      "177it [30:42, 11.06s/it]\u001b[A\n",
      "178it [30:53, 11.04s/it]\u001b[A\n",
      "179it [31:06, 11.67s/it]\u001b[A\n",
      "180it [31:19, 12.25s/it]\u001b[A\n",
      "181it [31:31, 12.19s/it]\u001b[A\n",
      "182it [31:44, 12.47s/it]\u001b[A\n",
      "183it [31:56, 12.11s/it]\u001b[A\n",
      "184it [32:11, 13.12s/it]\u001b[A\n",
      "185it [32:24, 13.10s/it]\u001b[A\n",
      "186it [32:33, 11.70s/it]\u001b[A\n",
      "187it [32:41, 10.66s/it]\u001b[A\n",
      "188it [32:54, 11.42s/it]\u001b[A\n",
      "189it [37:54, 98.05s/it]\u001b[A\n",
      "190it [38:06, 72.14s/it]\u001b[A\n",
      "191it [38:16, 53.39s/it]\u001b[A\n",
      "192it [38:30, 41.69s/it]\u001b[A\n",
      "193it [38:38, 31.68s/it]\u001b[A\n",
      "194it [38:49, 25.46s/it]\u001b[A\n",
      "195it [39:00, 20.93s/it]\u001b[A\n",
      "196it [39:11, 18.18s/it]\u001b[A\n",
      "197it [39:20, 15.31s/it]\u001b[A\n",
      "198it [39:33, 14.55s/it]\u001b[A\n",
      "199it [39:41, 12.63s/it]\u001b[A\n",
      "200it [39:51, 11.97s/it]\u001b[A\n",
      "201it [40:03, 11.95s/it]\u001b[A\n",
      "202it [40:17, 12.44s/it]\u001b[A\n",
      "203it [40:32, 13.11s/it]\u001b[A\n",
      "204it [40:45, 13.35s/it]\u001b[A\n",
      "205it [40:58, 13.05s/it]\u001b[A\n",
      "206it [41:10, 12.75s/it]\u001b[A\n",
      "207it [41:23, 12.81s/it]\u001b[A\n",
      "208it [41:32, 11.73s/it]\u001b[A\n",
      "209it [41:44, 11.83s/it]\u001b[A\n",
      "210it [41:55, 11.43s/it]\u001b[A\n",
      "211it [42:07, 11.69s/it]\u001b[A\n",
      "212it [42:18, 11.51s/it]\u001b[A\n",
      "213it [42:34, 12.79s/it]\u001b[A\n",
      "214it [42:42, 11.53s/it]\u001b[A\n",
      "215it [42:52, 10.92s/it]\u001b[A\n",
      "216it [43:01, 10.31s/it]\u001b[A\n",
      "217it [43:14, 11.17s/it]\u001b[A\n",
      "218it [43:25, 11.27s/it]\u001b[A\n",
      "219it [43:39, 12.10s/it]\u001b[A\n",
      "220it [43:53, 12.40s/it]\u001b[A\n",
      "221it [44:04, 12.26s/it]\u001b[A\n",
      "222it [44:17, 12.34s/it]\u001b[A\n",
      "223it [44:29, 12.18s/it]\u001b[A\n",
      "224it [44:42, 12.62s/it]\u001b[A\n",
      "225it [44:51, 11.44s/it]\u001b[A\n",
      "226it [45:00, 10.57s/it]\u001b[A\n",
      "227it [45:08,  9.99s/it]\u001b[A\n",
      "228it [45:19, 10.27s/it]\u001b[A\n",
      "229it [45:28,  9.73s/it]\u001b[A\n",
      "230it [45:39, 10.05s/it]\u001b[A\n",
      "231it [45:50, 10.50s/it]\u001b[A\n",
      "232it [46:04, 11.44s/it]\u001b[A\n",
      "233it [46:15, 11.42s/it]\u001b[A\n",
      "234it [46:29, 12.11s/it]\u001b[A\n",
      "235it [46:37, 11.08s/it]\u001b[A\n",
      "236it [46:50, 11.45s/it]\u001b[A\n",
      "237it [47:02, 11.57s/it]\u001b[A\n",
      "238it [47:10, 10.56s/it]\u001b[A\n",
      "239it [52:10, 97.40s/it]\u001b[A\n",
      "240it [52:20, 71.32s/it]\u001b[A\n",
      "241it [52:29, 52.57s/it]\u001b[A\n",
      "242it [52:43, 41.10s/it]\u001b[A\n",
      "243it [52:52, 31.43s/it]\u001b[A\n",
      "244it [53:04, 25.50s/it]\u001b[A\n",
      "245it [53:17, 21.85s/it]\u001b[A\n",
      "246it [53:29, 18.93s/it]\u001b[A\n",
      "247it [53:41, 16.68s/it]\u001b[A\n",
      "248it [53:53, 15.32s/it]\u001b[A\n",
      "249it [54:05, 14.37s/it]\u001b[A\n",
      "250it [54:19, 14.09s/it]\u001b[A\n",
      "251it [54:32, 13.82s/it]\u001b[A\n",
      "252it [54:44, 13.37s/it]\u001b[A\n",
      "253it [54:57, 13.23s/it]\u001b[A\n",
      "254it [55:12, 13.72s/it]\u001b[A\n",
      "255it [55:25, 13.44s/it]\u001b[A\n",
      "256it [55:36, 12.69s/it]\u001b[A\n",
      "257it [55:48, 12.67s/it]\u001b[A\n",
      "258it [56:01, 12.82s/it]\u001b[A\n",
      "259it [56:09, 11.39s/it]\u001b[A\n",
      "260it [56:23, 11.99s/it]\u001b[A\n",
      "261it [56:35, 12.08s/it]\u001b[A\n",
      "262it [56:50, 12.78s/it]\u001b[A\n",
      "263it [56:58, 11.58s/it]\u001b[A\n",
      "264it [57:10, 11.71s/it]\u001b[A\n",
      "265it [57:24, 12.15s/it]\u001b[A\n",
      "266it [57:38, 12.71s/it]\u001b[A\n",
      "267it [57:47, 11.62s/it]\u001b[A\n",
      "268it [57:59, 11.94s/it]\u001b[A\n",
      "269it [58:18, 14.11s/it]\u001b[A\n",
      "270it [58:27, 12.56s/it]\u001b[A\n",
      "271it [58:40, 12.51s/it]\u001b[A\n",
      "272it [58:52, 12.53s/it]\u001b[A\n",
      "273it [59:05, 12.50s/it]\u001b[A\n",
      "274it [59:15, 11.84s/it]\u001b[A\n",
      "275it [59:29, 12.39s/it]\u001b[A\n",
      "276it [59:44, 13.11s/it]\u001b[A\n",
      "277it [59:52, 11.78s/it]\u001b[A\n",
      "278it [1:00:06, 12.25s/it]\u001b[A\n",
      "279it [1:00:21, 13.15s/it]\u001b[A\n",
      "280it [1:00:32, 12.48s/it]\u001b[A\n",
      "281it [1:00:49, 13.97s/it]\u001b[A\n",
      "282it [1:01:02, 13.59s/it]\u001b[A\n",
      "283it [1:01:11, 12.26s/it]\u001b[A\n",
      "284it [1:01:26, 13.08s/it]\u001b[A\n",
      "285it [1:01:35, 11.71s/it]\u001b[A\n",
      "286it [1:01:43, 10.84s/it]\u001b[A\n",
      "287it [1:01:58, 12.02s/it]\u001b[A\n",
      "288it [1:02:07, 11.14s/it]\u001b[A\n",
      "289it [1:02:20, 11.68s/it]\u001b[A\n",
      "290it [1:02:39, 13.72s/it]\u001b[A\n",
      "291it [1:02:53, 13.87s/it]\u001b[A\n",
      "292it [1:03:01, 12.28s/it]\u001b[A\n",
      "293it [1:03:14, 12.41s/it]\u001b[A\n",
      "294it [1:03:31, 13.61s/it]\u001b[A\n",
      "295it [1:03:50, 15.48s/it]\u001b[A\n",
      "296it [1:04:02, 14.41s/it]\u001b[A\n",
      "297it [1:04:15, 14.02s/it]\u001b[A\n",
      "298it [1:04:29, 14.00s/it]\u001b[A\n",
      "299it [1:04:43, 13.89s/it]\u001b[A\n",
      "300it [1:04:52, 12.37s/it]\u001b[A\n",
      "301it [1:05:00, 11.06s/it]\u001b[A\n",
      "302it [1:05:16, 12.61s/it]\u001b[A\n",
      "303it [1:05:32, 13.48s/it]\u001b[A\n",
      "304it [1:21:24, 295.06s/it]\u001b[A\n",
      "305it [1:21:25, 206.81s/it]\u001b[A\n",
      "306it [1:21:25, 144.81s/it]\u001b[A\n",
      "308it [1:21:25, 101.39s/it]\u001b[A\n",
      "309it [1:21:25, 71.01s/it] \u001b[A\n",
      "311it [1:21:25, 49.73s/it]\u001b[A\n",
      "313it [1:21:25, 34.83s/it]\u001b[A\n",
      "315it [1:21:25, 24.41s/it]\u001b[A\n",
      "317it [1:21:26, 17.10s/it]\u001b[A\n",
      "319it [1:21:26, 11.99s/it]\u001b[A\n",
      "321it [1:21:26,  8.42s/it]\u001b[A\n",
      "323it [1:21:26,  5.92s/it]\u001b[A\n",
      "325it [1:21:26,  4.17s/it]\u001b[A\n",
      "327it [1:21:27,  2.96s/it]\u001b[A\n",
      "329it [1:21:27,  2.10s/it]\u001b[A\n",
      "332it [1:21:27,  1.49s/it]\u001b[A\n",
      "334it [1:21:27,  1.07s/it]\u001b[A\n",
      "337it [1:21:27,  1.30it/s]\u001b[A\n",
      "340it [1:21:27,  1.82it/s]\u001b[A\n",
      "343it [1:21:28,  2.52it/s]\u001b[A\n",
      "346it [1:21:28,  3.45it/s]\u001b[A\n",
      "349it [1:21:28,  4.67it/s]\u001b[A\n",
      "352it [1:21:28,  6.19it/s]\u001b[A\n",
      "355it [1:21:28,  8.10it/s]\u001b[A\n",
      "358it [1:21:28, 10.23it/s]\u001b[A\n",
      "361it [1:21:28, 12.63it/s]\u001b[A\n",
      "364it [1:21:28, 15.27it/s]\u001b[A\n",
      "367it [1:21:28, 17.57it/s]\u001b[A\n",
      "370it [1:21:29, 19.88it/s]\u001b[A\n",
      "373it [1:21:29, 20.97it/s]\u001b[A\n",
      "376it [1:21:29, 22.50it/s]\u001b[A\n",
      "379it [1:21:29, 23.43it/s]\u001b[A\n",
      "382it [1:21:29, 23.95it/s]\u001b[A\n",
      "385it [1:21:29, 25.00it/s]\u001b[A\n",
      "388it [1:21:29, 25.09it/s]\u001b[A\n",
      "391it [1:21:29, 25.99it/s]\u001b[A\n",
      "394it [1:21:29, 26.52it/s]\u001b[A\n",
      "397it [1:21:30, 26.69it/s]\u001b[A\n",
      "400it [1:21:30, 27.40it/s]\u001b[A\n",
      "404it [1:21:30, 28.35it/s]\u001b[A\n",
      "408it [1:21:30, 29.18it/s]\u001b[A\n",
      "411it [1:21:30, 29.36it/s]\u001b[A\n",
      "415it [1:21:30, 29.40it/s]\u001b[A\n",
      "418it [1:21:30, 28.43it/s]\u001b[A\n",
      "421it [1:21:30, 28.57it/s]\u001b[A\n",
      "425it [1:21:31, 29.41it/s]\u001b[A\n",
      "429it [1:21:31, 29.70it/s]\u001b[A\n",
      "432it [1:21:31, 29.38it/s]\u001b[A\n",
      "436it [1:21:31, 30.14it/s]\u001b[A\n",
      "440it [1:21:31, 30.98it/s]\u001b[A\n",
      "444it [1:21:31, 31.75it/s]\u001b[A\n",
      "448it [1:21:31, 31.11it/s]\u001b[A\n",
      "452it [1:21:31, 31.62it/s]\u001b[A\n",
      "456it [1:21:32, 31.17it/s]\u001b[A\n",
      "460it [1:21:32, 31.29it/s]\u001b[A\n",
      "464it [1:21:32, 30.80it/s]\u001b[A\n",
      "464it [1:21:47, 30.80it/s]\u001b[A\n",
      "468it [1:21:48,  1.25s/it]\u001b[A\n",
      "469it [1:22:03,  5.48s/it]\u001b[A\n",
      "470it [1:22:20,  8.85s/it]\u001b[A\n",
      "471it [1:22:39, 11.74s/it]\u001b[A\n",
      "472it [1:22:56, 13.39s/it]\u001b[A\n",
      "473it [1:23:10, 13.63s/it]\u001b[A\n",
      "474it [1:23:25, 13.88s/it]\u001b[A\n",
      "475it [1:23:39, 13.97s/it]\u001b[A\n",
      "476it [1:23:53, 14.15s/it]\u001b[A\n",
      "477it [1:24:07, 14.07s/it]\u001b[A\n",
      "478it [1:24:23, 14.56s/it]\u001b[A\n",
      "479it [1:24:36, 13.98s/it]\u001b[A\n",
      "480it [1:24:46, 12.88s/it]\u001b[A\n",
      "481it [1:24:55, 11.68s/it]\u001b[A\n",
      "482it [1:25:03, 10.59s/it]\u001b[A\n"
     ]
    },
    {
     "name": "stdout",
     "output_type": "stream",
     "text": [
      "new_weather shape (6756, 11)\n"
     ]
    },
    {
     "name": "stderr",
     "output_type": "stream",
     "text": [
      "100%|██████████████████████████████████████████████████████████████████████████████████████████████████████████████████| 15/15 [16:09:18<00:00, 3877.21s/it]\n"
     ]
    }
   ],
   "source": [
    "city_names = ['Khlong Hoi Khong']\n",
    "weather_station_info = find_weather_stations(city_names, weather_json_file=w_folder + 'weather_station_info.json')\n",
    "len(weather_station_info)\n",
    "city_json = weather_station_info[0]\n",
    "\n",
    "for year in np.arange(2016, 2001, -1):\n",
    "     \n",
    "    print('update weather data for ', city_json['city_name'])\n",
    "    start_date = datetime(year, 1, 1)\n",
    "    end_date = datetime(2021, 1, 6)\n",
    "    update_weather(\n",
    "                city_json,\n",
    "                data_folder=w_folder,\n",
    "                start_date=start_date,\n",
    "                end_date=end_date)"
   ]
  },
  {
   "cell_type": "code",
   "execution_count": 3,
   "metadata": {},
   "outputs": [
    {
     "name": "stdout",
     "output_type": "stream",
     "text": [
      "download more pollution data from Thailand PCD\n"
     ]
    },
    {
     "name": "stderr",
     "output_type": "stream",
     "text": [
      "\r",
      "0it [00:00, ?it/s]"
     ]
    },
    {
     "name": "stdout",
     "output_type": "stream",
     "text": [
      "['02t', '03t', '05t', '08t', '10t', '11t', '12t', '13t', '14t', '16t', '17t', '18t', '19t', '20t', '21t', '22t', '24t', '25t', '26t', '27t', '28t', '29t', '30t', '31t', '32t', '33t', '34t', '35t', '36t', '37t', '38t', '39t', '40t', '41t', '42t', '43t', '44t', '46t', '47t', '50t', '52t', '53t', '54t', '57t', '58t', '59t', '60t', '61t', '62t', '63t', '67t', '68t', '69t', '70t', '71t', '72t', '73t', '74t', '75t', '76t', '77t', '79t', '80t', '81t', '82t', '83t', '84t', 'm1', 'm3', 'm4', 'm8', 'm9', 'o20', 'o21', 'o22', 'o23', 'o24', 'o25', 'o26', 'o27', 'o28', 'o29', 'o59', 'o63']\n"
     ]
    },
    {
     "name": "stderr",
     "output_type": "stream",
     "text": [
      "\r",
      "1it [00:30, 30.03s/it]"
     ]
    },
    {
     "name": "stdout",
     "output_type": "stream",
     "text": [
      "updated data shape (8277, 12)\n"
     ]
    },
    {
     "name": "stderr",
     "output_type": "stream",
     "text": [
      "\r",
      "2it [01:00, 30.08s/it]"
     ]
    },
    {
     "name": "stdout",
     "output_type": "stream",
     "text": [
      "updated data shape (7581, 12)\n"
     ]
    },
    {
     "name": "stderr",
     "output_type": "stream",
     "text": [
      "\r",
      "3it [01:29, 29.74s/it]"
     ]
    },
    {
     "name": "stdout",
     "output_type": "stream",
     "text": [
      "updated data shape (7581, 12)\n"
     ]
    },
    {
     "name": "stderr",
     "output_type": "stream",
     "text": [
      "\r",
      "4it [01:57, 29.42s/it]"
     ]
    },
    {
     "name": "stdout",
     "output_type": "stream",
     "text": [
      "updated data shape (7581, 12)\n"
     ]
    },
    {
     "name": "stderr",
     "output_type": "stream",
     "text": [
      "\r",
      "5it [02:27, 29.40s/it]"
     ]
    },
    {
     "name": "stdout",
     "output_type": "stream",
     "text": [
      "updated data shape (7581, 12)\n"
     ]
    },
    {
     "name": "stderr",
     "output_type": "stream",
     "text": [
      "\r",
      "6it [02:56, 29.50s/it]"
     ]
    },
    {
     "name": "stdout",
     "output_type": "stream",
     "text": [
      "updated data shape (7581, 12)\n"
     ]
    },
    {
     "name": "stderr",
     "output_type": "stream",
     "text": [
      "\r",
      "7it [03:26, 29.45s/it]"
     ]
    },
    {
     "name": "stdout",
     "output_type": "stream",
     "text": [
      "updated data shape (7581, 12)\n"
     ]
    },
    {
     "name": "stderr",
     "output_type": "stream",
     "text": [
      "\r",
      "8it [03:55, 29.36s/it]"
     ]
    },
    {
     "name": "stdout",
     "output_type": "stream",
     "text": [
      "updated data shape (7581, 12)\n"
     ]
    },
    {
     "name": "stderr",
     "output_type": "stream",
     "text": [
      "\r",
      "9it [04:23, 29.12s/it]"
     ]
    },
    {
     "name": "stdout",
     "output_type": "stream",
     "text": [
      "updated data shape (7581, 12)\n"
     ]
    },
    {
     "name": "stderr",
     "output_type": "stream",
     "text": [
      "\r",
      "10it [04:52, 29.03s/it]"
     ]
    },
    {
     "name": "stdout",
     "output_type": "stream",
     "text": [
      "updated data shape (7581, 12)\n"
     ]
    },
    {
     "name": "stderr",
     "output_type": "stream",
     "text": [
      "\r",
      "11it [05:21, 29.07s/it]"
     ]
    },
    {
     "name": "stdout",
     "output_type": "stream",
     "text": [
      "updated data shape (7581, 12)\n"
     ]
    },
    {
     "name": "stderr",
     "output_type": "stream",
     "text": [
      "\r",
      "12it [05:50, 29.01s/it]"
     ]
    },
    {
     "name": "stdout",
     "output_type": "stream",
     "text": [
      "updated data shape (7581, 12)\n"
     ]
    },
    {
     "name": "stderr",
     "output_type": "stream",
     "text": [
      "\r",
      "13it [06:20, 29.11s/it]"
     ]
    },
    {
     "name": "stdout",
     "output_type": "stream",
     "text": [
      "updated data shape (7581, 12)\n"
     ]
    },
    {
     "name": "stderr",
     "output_type": "stream",
     "text": [
      "\r",
      "14it [06:49, 29.03s/it]"
     ]
    },
    {
     "name": "stdout",
     "output_type": "stream",
     "text": [
      "updated data shape (7581, 12)\n"
     ]
    },
    {
     "name": "stderr",
     "output_type": "stream",
     "text": [
      "\r",
      "15it [07:17, 28.94s/it]"
     ]
    },
    {
     "name": "stdout",
     "output_type": "stream",
     "text": [
      "updated data shape (7581, 12)\n"
     ]
    },
    {
     "name": "stderr",
     "output_type": "stream",
     "text": [
      "\r",
      "16it [07:46, 28.83s/it]"
     ]
    },
    {
     "name": "stdout",
     "output_type": "stream",
     "text": [
      "updated data shape (7581, 12)\n"
     ]
    },
    {
     "name": "stderr",
     "output_type": "stream",
     "text": [
      "\r",
      "17it [08:14, 28.75s/it]"
     ]
    },
    {
     "name": "stdout",
     "output_type": "stream",
     "text": [
      "updated data shape (7581, 12)\n"
     ]
    },
    {
     "name": "stderr",
     "output_type": "stream",
     "text": [
      "\r",
      "18it [08:43, 28.68s/it]"
     ]
    },
    {
     "name": "stdout",
     "output_type": "stream",
     "text": [
      "updated data shape (7581, 12)\n"
     ]
    },
    {
     "name": "stderr",
     "output_type": "stream",
     "text": [
      "\r",
      "19it [09:12, 28.66s/it]"
     ]
    },
    {
     "name": "stdout",
     "output_type": "stream",
     "text": [
      "updated data shape (7581, 12)\n"
     ]
    },
    {
     "name": "stderr",
     "output_type": "stream",
     "text": [
      "\r",
      "20it [09:40, 28.63s/it]"
     ]
    },
    {
     "name": "stdout",
     "output_type": "stream",
     "text": [
      "updated data shape (7581, 12)\n"
     ]
    },
    {
     "name": "stderr",
     "output_type": "stream",
     "text": [
      "\r",
      "21it [10:09, 28.62s/it]"
     ]
    },
    {
     "name": "stdout",
     "output_type": "stream",
     "text": [
      "updated data shape (7581, 12)\n"
     ]
    },
    {
     "name": "stderr",
     "output_type": "stream",
     "text": [
      "\r",
      "22it [10:37, 28.64s/it]"
     ]
    },
    {
     "name": "stdout",
     "output_type": "stream",
     "text": [
      "updated data shape (7581, 12)\n"
     ]
    },
    {
     "name": "stderr",
     "output_type": "stream",
     "text": [
      "\r",
      "23it [11:06, 28.64s/it]"
     ]
    },
    {
     "name": "stdout",
     "output_type": "stream",
     "text": [
      "updated data shape (7581, 12)\n"
     ]
    },
    {
     "name": "stderr",
     "output_type": "stream",
     "text": [
      "\r",
      "24it [11:35, 28.65s/it]"
     ]
    },
    {
     "name": "stdout",
     "output_type": "stream",
     "text": [
      "updated data shape (7581, 12)\n"
     ]
    },
    {
     "name": "stderr",
     "output_type": "stream",
     "text": [
      "\r",
      "25it [12:03, 28.63s/it]"
     ]
    },
    {
     "name": "stdout",
     "output_type": "stream",
     "text": [
      "updated data shape (7581, 12)\n"
     ]
    },
    {
     "name": "stderr",
     "output_type": "stream",
     "text": [
      "\r",
      "26it [12:32, 28.63s/it]"
     ]
    },
    {
     "name": "stdout",
     "output_type": "stream",
     "text": [
      "updated data shape (7581, 12)\n"
     ]
    },
    {
     "name": "stderr",
     "output_type": "stream",
     "text": [
      "\r",
      "27it [13:00, 28.59s/it]"
     ]
    },
    {
     "name": "stdout",
     "output_type": "stream",
     "text": [
      "updated data shape (7581, 12)\n"
     ]
    },
    {
     "name": "stderr",
     "output_type": "stream",
     "text": [
      "\r",
      "28it [13:29, 28.61s/it]"
     ]
    },
    {
     "name": "stdout",
     "output_type": "stream",
     "text": [
      "updated data shape (7581, 12)\n"
     ]
    },
    {
     "name": "stderr",
     "output_type": "stream",
     "text": [
      "\r",
      "29it [13:58, 28.64s/it]"
     ]
    },
    {
     "name": "stdout",
     "output_type": "stream",
     "text": [
      "updated data shape (7581, 12)\n"
     ]
    },
    {
     "name": "stderr",
     "output_type": "stream",
     "text": [
      "\r",
      "30it [14:27, 28.70s/it]"
     ]
    },
    {
     "name": "stdout",
     "output_type": "stream",
     "text": [
      "updated data shape (7581, 12)\n"
     ]
    },
    {
     "name": "stderr",
     "output_type": "stream",
     "text": [
      "\r",
      "31it [14:55, 28.70s/it]"
     ]
    },
    {
     "name": "stdout",
     "output_type": "stream",
     "text": [
      "updated data shape (7581, 12)\n"
     ]
    },
    {
     "name": "stderr",
     "output_type": "stream",
     "text": [
      "\r",
      "32it [15:24, 28.68s/it]"
     ]
    },
    {
     "name": "stdout",
     "output_type": "stream",
     "text": [
      "updated data shape (7581, 12)\n"
     ]
    },
    {
     "name": "stderr",
     "output_type": "stream",
     "text": [
      "\r",
      "33it [15:53, 28.71s/it]"
     ]
    },
    {
     "name": "stdout",
     "output_type": "stream",
     "text": [
      "updated data shape (7581, 12)\n"
     ]
    },
    {
     "name": "stderr",
     "output_type": "stream",
     "text": [
      "\r",
      "34it [16:21, 28.70s/it]"
     ]
    },
    {
     "name": "stdout",
     "output_type": "stream",
     "text": [
      "updated data shape (7581, 12)\n"
     ]
    },
    {
     "name": "stderr",
     "output_type": "stream",
     "text": [
      "\r",
      "35it [16:50, 28.70s/it]"
     ]
    },
    {
     "name": "stdout",
     "output_type": "stream",
     "text": [
      "updated data shape (7581, 12)\n"
     ]
    },
    {
     "name": "stderr",
     "output_type": "stream",
     "text": [
      "\r",
      "36it [17:19, 28.70s/it]"
     ]
    },
    {
     "name": "stdout",
     "output_type": "stream",
     "text": [
      "updated data shape (7581, 12)\n"
     ]
    },
    {
     "name": "stderr",
     "output_type": "stream",
     "text": [
      "\r",
      "37it [17:47, 28.66s/it]"
     ]
    },
    {
     "name": "stdout",
     "output_type": "stream",
     "text": [
      "updated data shape (7581, 12)\n"
     ]
    },
    {
     "name": "stderr",
     "output_type": "stream",
     "text": [
      "\r",
      "38it [18:16, 28.67s/it]"
     ]
    },
    {
     "name": "stdout",
     "output_type": "stream",
     "text": [
      "updated data shape (7581, 12)\n"
     ]
    },
    {
     "name": "stderr",
     "output_type": "stream",
     "text": [
      "\r",
      "39it [18:45, 28.66s/it]"
     ]
    },
    {
     "name": "stdout",
     "output_type": "stream",
     "text": [
      "updated data shape (7581, 12)\n"
     ]
    },
    {
     "name": "stderr",
     "output_type": "stream",
     "text": [
      "\r",
      "40it [19:13, 28.66s/it]"
     ]
    },
    {
     "name": "stdout",
     "output_type": "stream",
     "text": [
      "updated data shape (7581, 12)\n"
     ]
    },
    {
     "name": "stderr",
     "output_type": "stream",
     "text": [
      "\r",
      "41it [19:42, 28.67s/it]"
     ]
    },
    {
     "name": "stdout",
     "output_type": "stream",
     "text": [
      "updated data shape (7581, 12)\n"
     ]
    },
    {
     "name": "stderr",
     "output_type": "stream",
     "text": [
      "\r",
      "42it [20:11, 28.65s/it]"
     ]
    },
    {
     "name": "stdout",
     "output_type": "stream",
     "text": [
      "updated data shape (7581, 12)\n"
     ]
    },
    {
     "name": "stderr",
     "output_type": "stream",
     "text": [
      "\r",
      "43it [20:39, 28.67s/it]"
     ]
    },
    {
     "name": "stdout",
     "output_type": "stream",
     "text": [
      "updated data shape (7581, 12)\n"
     ]
    },
    {
     "name": "stderr",
     "output_type": "stream",
     "text": [
      "\r",
      "44it [21:08, 28.69s/it]"
     ]
    },
    {
     "name": "stdout",
     "output_type": "stream",
     "text": [
      "updated data shape (7581, 12)\n"
     ]
    },
    {
     "name": "stderr",
     "output_type": "stream",
     "text": [
      "\r",
      "45it [21:37, 28.69s/it]"
     ]
    },
    {
     "name": "stdout",
     "output_type": "stream",
     "text": [
      "updated data shape (7581, 12)\n"
     ]
    },
    {
     "name": "stderr",
     "output_type": "stream",
     "text": [
      "\r",
      "46it [22:05, 28.66s/it]"
     ]
    },
    {
     "name": "stdout",
     "output_type": "stream",
     "text": [
      "updated data shape (7581, 12)\n"
     ]
    },
    {
     "name": "stderr",
     "output_type": "stream",
     "text": [
      "\r",
      "47it [22:34, 28.62s/it]"
     ]
    },
    {
     "name": "stdout",
     "output_type": "stream",
     "text": [
      "updated data shape (7581, 12)\n"
     ]
    },
    {
     "name": "stderr",
     "output_type": "stream",
     "text": [
      "\r",
      "48it [23:02, 28.60s/it]"
     ]
    },
    {
     "name": "stdout",
     "output_type": "stream",
     "text": [
      "updated data shape (7581, 12)\n"
     ]
    },
    {
     "name": "stderr",
     "output_type": "stream",
     "text": [
      "\r",
      "49it [23:31, 28.56s/it]"
     ]
    },
    {
     "name": "stdout",
     "output_type": "stream",
     "text": [
      "updated data shape (7581, 12)\n"
     ]
    },
    {
     "name": "stderr",
     "output_type": "stream",
     "text": [
      "\r",
      "50it [23:59, 28.54s/it]"
     ]
    },
    {
     "name": "stdout",
     "output_type": "stream",
     "text": [
      "updated data shape (7581, 12)\n"
     ]
    },
    {
     "name": "stderr",
     "output_type": "stream",
     "text": [
      "\r",
      "51it [24:28, 28.56s/it]"
     ]
    },
    {
     "name": "stdout",
     "output_type": "stream",
     "text": [
      "updated data shape (7581, 12)\n"
     ]
    },
    {
     "name": "stderr",
     "output_type": "stream",
     "text": [
      "\r",
      "52it [24:57, 28.55s/it]"
     ]
    },
    {
     "name": "stdout",
     "output_type": "stream",
     "text": [
      "updated data shape (7581, 12)\n"
     ]
    },
    {
     "name": "stderr",
     "output_type": "stream",
     "text": [
      "\r",
      "53it [25:25, 28.55s/it]"
     ]
    },
    {
     "name": "stdout",
     "output_type": "stream",
     "text": [
      "updated data shape (7581, 12)\n"
     ]
    },
    {
     "name": "stderr",
     "output_type": "stream",
     "text": [
      "\r",
      "54it [25:54, 28.55s/it]"
     ]
    },
    {
     "name": "stdout",
     "output_type": "stream",
     "text": [
      "updated data shape (7581, 12)\n"
     ]
    },
    {
     "name": "stderr",
     "output_type": "stream",
     "text": [
      "\r",
      "55it [26:22, 28.55s/it]"
     ]
    },
    {
     "name": "stdout",
     "output_type": "stream",
     "text": [
      "updated data shape (7581, 12)\n"
     ]
    },
    {
     "name": "stderr",
     "output_type": "stream",
     "text": [
      "\r",
      "56it [26:51, 28.58s/it]"
     ]
    },
    {
     "name": "stdout",
     "output_type": "stream",
     "text": [
      "updated data shape (7581, 12)\n"
     ]
    },
    {
     "name": "stderr",
     "output_type": "stream",
     "text": [
      "\r",
      "57it [27:20, 28.68s/it]"
     ]
    },
    {
     "name": "stdout",
     "output_type": "stream",
     "text": [
      "updated data shape (7581, 12)\n"
     ]
    },
    {
     "name": "stderr",
     "output_type": "stream",
     "text": [
      "\r",
      "58it [27:48, 28.66s/it]"
     ]
    },
    {
     "name": "stdout",
     "output_type": "stream",
     "text": [
      "updated data shape (7581, 12)\n"
     ]
    },
    {
     "name": "stderr",
     "output_type": "stream",
     "text": [
      "\r",
      "59it [28:17, 28.65s/it]"
     ]
    },
    {
     "name": "stdout",
     "output_type": "stream",
     "text": [
      "updated data shape (7581, 12)\n"
     ]
    },
    {
     "name": "stderr",
     "output_type": "stream",
     "text": [
      "\r",
      "60it [28:46, 28.70s/it]"
     ]
    },
    {
     "name": "stdout",
     "output_type": "stream",
     "text": [
      "updated data shape (7581, 12)\n"
     ]
    },
    {
     "name": "stderr",
     "output_type": "stream",
     "text": [
      "\r",
      "61it [29:15, 28.72s/it]"
     ]
    },
    {
     "name": "stdout",
     "output_type": "stream",
     "text": [
      "updated data shape (7581, 12)\n"
     ]
    },
    {
     "name": "stderr",
     "output_type": "stream",
     "text": [
      "\r",
      "62it [29:43, 28.75s/it]"
     ]
    },
    {
     "name": "stdout",
     "output_type": "stream",
     "text": [
      "updated data shape (7581, 12)\n"
     ]
    },
    {
     "name": "stderr",
     "output_type": "stream",
     "text": [
      "\r",
      "63it [30:12, 28.70s/it]"
     ]
    },
    {
     "name": "stdout",
     "output_type": "stream",
     "text": [
      "updated data shape (7581, 12)\n"
     ]
    },
    {
     "name": "stderr",
     "output_type": "stream",
     "text": [
      "\r",
      "64it [30:41, 28.72s/it]"
     ]
    },
    {
     "name": "stdout",
     "output_type": "stream",
     "text": [
      "updated data shape (7581, 12)\n"
     ]
    },
    {
     "name": "stderr",
     "output_type": "stream",
     "text": [
      "\r",
      "65it [31:10, 28.79s/it]"
     ]
    },
    {
     "name": "stdout",
     "output_type": "stream",
     "text": [
      "updated data shape (7581, 12)\n"
     ]
    },
    {
     "name": "stderr",
     "output_type": "stream",
     "text": [
      "\r",
      "66it [31:38, 28.78s/it]"
     ]
    },
    {
     "name": "stdout",
     "output_type": "stream",
     "text": [
      "updated data shape (7581, 12)\n"
     ]
    },
    {
     "name": "stderr",
     "output_type": "stream",
     "text": [
      "\r",
      "67it [32:07, 28.75s/it]"
     ]
    },
    {
     "name": "stdout",
     "output_type": "stream",
     "text": [
      "updated data shape (7581, 12)\n"
     ]
    },
    {
     "name": "stderr",
     "output_type": "stream",
     "text": [
      "\r",
      "68it [32:36, 28.73s/it]"
     ]
    },
    {
     "name": "stdout",
     "output_type": "stream",
     "text": [
      "updated data shape (7581, 12)\n"
     ]
    },
    {
     "name": "stderr",
     "output_type": "stream",
     "text": [
      "\r",
      "69it [33:05, 28.73s/it]"
     ]
    },
    {
     "name": "stdout",
     "output_type": "stream",
     "text": [
      "updated data shape (6117, 12)\n"
     ]
    },
    {
     "name": "stderr",
     "output_type": "stream",
     "text": [
      "\r",
      "70it [33:33, 28.70s/it]"
     ]
    },
    {
     "name": "stdout",
     "output_type": "stream",
     "text": [
      "updated data shape (7581, 12)\n"
     ]
    },
    {
     "name": "stderr",
     "output_type": "stream",
     "text": [
      "\r",
      "71it [34:02, 28.65s/it]"
     ]
    },
    {
     "name": "stdout",
     "output_type": "stream",
     "text": [
      "updated data shape (7581, 12)\n"
     ]
    },
    {
     "name": "stderr",
     "output_type": "stream",
     "text": [
      "\r",
      "72it [34:30, 28.63s/it]"
     ]
    },
    {
     "name": "stdout",
     "output_type": "stream",
     "text": [
      "updated data shape (7581, 12)\n"
     ]
    },
    {
     "name": "stderr",
     "output_type": "stream",
     "text": [
      "\r",
      "73it [34:59, 28.62s/it]"
     ]
    },
    {
     "name": "stdout",
     "output_type": "stream",
     "text": [
      "updated data shape (7581, 12)\n"
     ]
    },
    {
     "name": "stderr",
     "output_type": "stream",
     "text": [
      "\r",
      "74it [35:27, 28.61s/it]"
     ]
    },
    {
     "name": "stdout",
     "output_type": "stream",
     "text": [
      "updated data shape (1701, 12)\n"
     ]
    },
    {
     "name": "stderr",
     "output_type": "stream",
     "text": [
      "\r",
      "75it [35:56, 28.59s/it]"
     ]
    },
    {
     "name": "stdout",
     "output_type": "stream",
     "text": [
      "updated data shape (7581, 12)\n"
     ]
    },
    {
     "name": "stderr",
     "output_type": "stream",
     "text": [
      "\r",
      "76it [36:25, 28.62s/it]"
     ]
    },
    {
     "name": "stdout",
     "output_type": "stream",
     "text": [
      "updated data shape (7581, 12)\n"
     ]
    },
    {
     "name": "stderr",
     "output_type": "stream",
     "text": [
      "\r",
      "77it [36:53, 28.60s/it]"
     ]
    },
    {
     "name": "stdout",
     "output_type": "stream",
     "text": [
      "updated data shape (7581, 12)\n"
     ]
    },
    {
     "name": "stderr",
     "output_type": "stream",
     "text": [
      "\r",
      "78it [37:22, 28.62s/it]"
     ]
    },
    {
     "name": "stdout",
     "output_type": "stream",
     "text": [
      "updated data shape (7581, 12)\n"
     ]
    },
    {
     "name": "stderr",
     "output_type": "stream",
     "text": [
      "\r",
      "79it [37:50, 28.61s/it]"
     ]
    },
    {
     "name": "stdout",
     "output_type": "stream",
     "text": [
      "updated data shape (7581, 12)\n"
     ]
    },
    {
     "name": "stderr",
     "output_type": "stream",
     "text": [
      "\r",
      "80it [38:19, 28.62s/it]"
     ]
    },
    {
     "name": "stdout",
     "output_type": "stream",
     "text": [
      "updated data shape (7581, 12)\n"
     ]
    },
    {
     "name": "stderr",
     "output_type": "stream",
     "text": [
      "\r",
      "81it [38:48, 28.61s/it]"
     ]
    },
    {
     "name": "stdout",
     "output_type": "stream",
     "text": [
      "updated data shape (7581, 12)\n"
     ]
    },
    {
     "name": "stderr",
     "output_type": "stream",
     "text": [
      "\r",
      "82it [39:16, 28.63s/it]"
     ]
    },
    {
     "name": "stdout",
     "output_type": "stream",
     "text": [
      "updated data shape (7581, 12)\n"
     ]
    },
    {
     "name": "stderr",
     "output_type": "stream",
     "text": [
      "\r",
      "83it [39:45, 28.61s/it]"
     ]
    },
    {
     "name": "stdout",
     "output_type": "stream",
     "text": [
      "create new ../data/air4thai_hourly/o59.csv\n",
      "updated data shape (981, 12)\n"
     ]
    },
    {
     "name": "stderr",
     "output_type": "stream",
     "text": [
      "84it [40:13, 28.74s/it]"
     ]
    },
    {
     "name": "stdout",
     "output_type": "stream",
     "text": [
      "create new ../data/air4thai_hourly/o63.csv\n",
      "updated data shape (981, 12)\n"
     ]
    },
    {
     "name": "stderr",
     "output_type": "stream",
     "text": [
      "\n"
     ]
    },
    {
     "name": "stdout",
     "output_type": "stream",
     "text": [
      "-1 / unknown"
     ]
    }
   ],
   "source": [
    "update_last_air4Thai()"
   ]
  },
  {
   "cell_type": "code",
   "execution_count": 6,
   "metadata": {},
   "outputs": [
    {
     "name": "stdout",
     "output_type": "stream",
     "text": [
      "\n",
      " Download us embassy data in ASEAN for 2021\n",
      "download fail http://dosairnowdata.org/dos/historical/Hanoi/2021/Hanoi_PM2.5_2021_YTD.csv\n",
      "100% [..............................................................................] 22673 / 22673download fail http://dosairnowdata.org/dos/historical/JakartaSouth/2021/JakartaSouth_PM2.5_2021_YTD.csv\n",
      "100% [..............................................................................] 23386 / 23386download fail http://dosairnowdata.org/dos/historical/JakartaCentral/2021/JakartaCentral_PM2.5_2021_YTD.csv\n",
      "100% [..............................................................................] 23412 / 23412download fail http://dosairnowdata.org/dos/historical/HoChiMinhCity/2021/HoChiMinhCity_PM2.5_2021_YTD.csv\n",
      "100% [..............................................................................] 24413 / 24413download fail http://dosairnowdata.org/dos/historical/Vientiane/2021/Vientiane_PM2.5_2021_YTD.csv\n",
      "100% [..............................................................................] 22990 / 22990download fail http://dosairnowdata.org/dos/historical/Rangoon/2021/Rangoon_PM2.5_2021_YTD.csv\n",
      "100% [..............................................................................] 23312 / 23312download fail http://dosairnowdata.org/dos/historical/Rangoon/2021/Rangoon_OZONE_2021_YTD.csv\n",
      "100% [..............................................................................] 16736 / 16736"
     ]
    }
   ],
   "source": [
    "download_us_emb_data(year=2021)"
   ]
  },
  {
   "cell_type": "markdown",
   "metadata": {},
   "source": [
    "# Historical air 4 Thai Data"
   ]
  },
  {
   "cell_type": "code",
   "execution_count": 7,
   "metadata": {},
   "outputs": [
    {
     "name": "stdout",
     "output_type": "stream",
     "text": [
      "['35t', '36t', 'm9', 'o10', 'o20', 'o22']\n"
     ]
    }
   ],
   "source": [
    "# load stations information for air4 Thai\n",
    "station_info_file = aqm_folder + 'stations_locations.json'\n",
    "with open(station_info_file, 'r',encoding=\"utf8\") as f:\n",
    "    station_info = json.load(f)\n",
    "station_info = station_info['stations']\n",
    "\n",
    "# find stations in Chiangmai and parase that files\n",
    "cm_station_ids = []\n",
    "cm_station_info = []\n",
    "for i, stations in enumerate(station_info):\n",
    "    if 'Chiang Mai' in stations['areaEN']:\n",
    "        cm_station_ids.append(stations['stationID'])\n",
    "        cm_station_info.append(stations)\n",
    "print(cm_station_ids)"
   ]
  },
  {
   "cell_type": "code",
   "execution_count": 22,
   "metadata": {
    "code_folding": []
   },
   "outputs": [
    {
     "name": "stdout",
     "output_type": "stream",
     "text": [
      "save filename ../data/aqm_hourly2/process/35t.csv\n",
      "save filename ../data/aqm_hourly2/process/36t.csv\n"
     ]
    }
   ],
   "source": [
    "# parase historical data \n",
    "for station_id in cm_station_ids:\n",
    "    # find all files that start with this stations\n",
    "    p = Path(aqm_folder)\n",
    "    filenames = []\n",
    "    for i in p.glob('**/*.xlsx'):\n",
    "        if station_id in i.name:\n",
    "            filenames.append(str(i))\n",
    "        \n",
    "    # if filename exist load that file\n",
    "    if len(filenames) >0:\n",
    "\n",
    "        save_filename = aqm_folder + 'process/' + station_id + '.csv'\n",
    "        print('save filename', save_filename)\n",
    "        station_data = read_his_xl(filenames[0])\n",
    "        #print(station_data.head())\n",
    "\n",
    "        # save the data if the dataframe is not empty\n",
    "        if len(station_data)> 0:\n",
    "            station_data.to_csv(save_filename,index=True)"
   ]
  },
  {
   "cell_type": "code",
   "execution_count": 10,
   "metadata": {},
   "outputs": [
    {
     "name": "stdout",
     "output_type": "stream",
     "text": [
      "../data/cm_proc/35t.csv\n",
      "../data/cm_proc/36t.csv\n",
      "../data/cm_proc/m9.csv\n",
      "../data/cm_proc/o10.csv\n",
      "../data/cm_proc/o20.csv\n",
      "../data/cm_proc/o22.csv\n"
     ]
    }
   ],
   "source": [
    "# combine new and old air4Thai data \n",
    "gas_cols = ['CO', 'O3', 'NO2', 'SO2', 'PM10', 'PM2.5']\n",
    "for station_id in cm_station_ids:\n",
    "    try: \n",
    "        old_data = pd.read_csv(aqm_folder + 'process/'+station_id + '.csv')\n",
    "    except:\n",
    "        old_data = pd.DataFrame()\n",
    "    else:\n",
    "        old_data['datetime'] = pd.to_datetime(old_data['datetime'])\n",
    "        old_data = old_data.set_index('datetime')\n",
    "        # keep only the gass columns\n",
    "        old_data = old_data[gas_cols]\n",
    "    \n",
    "    new_data = pd.read_csv(a4th_folder + station_id + '.csv',na_values='-').set_index('datetime')\n",
    "    new_data.columns = [s.split(' (')[0] for s in new_data.columns]\n",
    "    # keep only the gass columns\n",
    "    new_data = new_data[gas_cols]\n",
    "    # concatinate data and save\n",
    "    data = pd.concat([old_data,new_data])\n",
    "    filename = cm_folder+station_id + '.csv'\n",
    "    print(filename)\n",
    "    data.to_csv(filename)"
   ]
  },
  {
   "cell_type": "code",
   "execution_count": 45,
   "metadata": {},
   "outputs": [],
   "source": [
    "cm_data1 = pd.read_csv(aqm_folder + 'process/35t.csv')\n",
    "cm_data1['datetime'] = pd.to_datetime(cm_data1['datetime'])\n",
    "cm_data1 = cm_data1.set_index('datetime')\n",
    "# keep only gas columns\n",
    "cm_data1 = cm_data1[['CO', 'O3', 'NO2', 'SO2', 'PM10', 'PM2.5']]\n",
    "\n",
    "cm_data2 = pd.read_csv(aqm_folder + 'process/36t.csv')\n",
    "cm_data2['datetime'] = pd.to_datetime(cm_data2['datetime'])\n",
    "cm_data2 = cm_data2.set_index('datetime')\n"
   ]
  },
  {
   "cell_type": "code",
   "execution_count": 8,
   "metadata": {
    "scrolled": true
   },
   "outputs": [
    {
     "name": "stdout",
     "output_type": "stream",
     "text": [
      "     date  hour   CO  NO NO2 SO2  NOX      Pressure           Rain  \\\n",
      "0  960101   100  2.6  51  32   5   83                                \n",
      "1  960101   200  2.8  71  30   6  101                                \n",
      "2  960101   300  2.8  75  29   6  104                                \n",
      "3  960101   400  2.5  52  25   5   78                                \n",
      "4  960101   500  1.4  17  21   5   39                                \n",
      "\n",
      "        Rel hum          Temp      Wind dir     Wind speed            CO8  \n",
      "0                                                                          \n",
      "1                                                                    2.45  \n",
      "2                                                                 2.25714  \n",
      "3                                                                  2.1125  \n",
      "4                                                                   1.975  \n",
      "    date  hour        CO  NO            O3 NO2 SO2 NOX PM10 PM2.5 Pressure  \\\n",
      "0  30101   100      1.73  16                38   4  53  NaN   NaN     29.9   \n",
      "1  30101   200      1.79  16                36   3  52  NaN   NaN     29.9   \n",
      "2  30101   300      1.38  12                32   2  44  NaN   NaN     29.9   \n",
      "3  30101   400  0.639999   5                24   2  29  NaN   NaN     29.9   \n",
      "4  30101   500      0.57   4                26   3  30  NaN   NaN     29.9   \n",
      "\n",
      "  Rain  Rel hum  Temp Wind dir Wind speed       CO8  \n",
      "0    0     68.6  27.9      289       1.36      1.07  \n",
      "1    0  68.7999  27.9      341        1.5   1.04625  \n",
      "2    0       69  27.8       13       1.32      1.02  \n",
      "3    0     66.1  27.9       94       1.56  0.982499  \n",
      "4    0     70.5  27.4      115       1.59  0.993749  \n",
      "     date  hour CO SO2 NO NO2 NOX Wind speed Wind dir  Temp  ... Unnamed: 27  \\\n",
      "0  100101   100  -   0  1  13  14       1.37      213  28.4  ...         NaN   \n",
      "1  100101   200  -   0  0  14  15       1.42      218  28.1  ...         NaN   \n",
      "2  100101   300  -   0  2  19  20       1.27      213  27.9  ...         NaN   \n",
      "3  100101   400  -   0  1  18  19       1.12      225  27.8  ...         NaN   \n",
      "4  100101   500  -   1  2  20  22       0.98      247  27.7  ...         NaN   \n",
      "\n",
      "  Unnamed: 28 Unnamed: 29 Unnamed: 30 Unnamed: 31  Unnamed: 32  Unnamed: 33  \\\n",
      "0         NaN         NaN         NaN         NaN          NaN          NaN   \n",
      "1         NaN         NaN         NaN         NaN          NaN          NaN   \n",
      "2         NaN         NaN         NaN         NaN          NaN          NaN   \n",
      "3         NaN         NaN         NaN         NaN          NaN          NaN   \n",
      "4         NaN         NaN         NaN         NaN          NaN          NaN   \n",
      "\n",
      "   Unnamed: 34  Unnamed: 35  Unnamed: 36  \n",
      "0          NaN          NaN          NaN  \n",
      "1          NaN          NaN          NaN  \n",
      "2          NaN          NaN          NaN  \n",
      "3          NaN          NaN          NaN  \n",
      "4          NaN          NaN          NaN  \n",
      "\n",
      "[5 rows x 37 columns]\n",
      "     date  hour CO SO2 NO NO2 PM10 O3 PM2.5\n",
      "0  130101   100  -   -  -   -    -  -   NaN\n",
      "1  130101   200  -   -  -   -    -  -   NaN\n",
      "2  130101   300  -   -  -   -    -  -   NaN\n",
      "3  130101   400  -   -  -   -    -  -   NaN\n",
      "4  130101   500  -   -  -   -    -  -   NaN\n",
      "     date  hour CO NO2 Temp O3 PM10 PM2.5\n",
      "0  170301   100  -   -    -  -    -   NaN\n",
      "1  170301   200  -   -    -  -    -   NaN\n",
      "2  170301   300  -   -    -  -    -   NaN\n",
      "3  170301   400  -   -    -  -    -   NaN\n",
      "4  170301   500  -   -    -  -    -   NaN\n",
      "     date  hour CO O3 NO2 SO2\n",
      "0  960101   100  1  6  36   3\n",
      "1  960101   200  1  4  41   2\n",
      "2  960101   300  1  4  39   2\n",
      "3  960101   400  1  4  39   3\n",
      "4  960101   500  1  4  40   5\n",
      "    date  hour   CO  O3 NO2 SO2 PM10\n",
      "0  30101   100  1.1   5  33   5  NaN\n",
      "1  30101   200  1.1   4  36   6  NaN\n",
      "2  30101   300  0.5   6  28   4  NaN\n",
      "3  30101   400  0.3   8  21   3  NaN\n",
      "4  30101   500    0  12  14   3  NaN\n",
      "     date  hour   CO SO2 NO2  O3 PM10 PM2.5  Unnamed: 8  Unnamed: 9  ...  \\\n",
      "0  100101   100  0.5   3  12  11   34   NaN         NaN         NaN  ...   \n",
      "1  100101   200  0.4   3   9  13   27   NaN         NaN         NaN  ...   \n",
      "2  100101   300  0.4   3  11  12   25   NaN         NaN         NaN  ...   \n",
      "3  100101   400  0.5   3  12  11   24   NaN         NaN         NaN  ...   \n",
      "4  100101   500  0.6   4  13  10   31   NaN         NaN         NaN  ...   \n",
      "\n",
      "   Unnamed: 14  Unnamed: 15  Unnamed: 16  Unnamed: 17  Unnamed: 18  \\\n",
      "0          NaN          NaN          NaN          NaN          NaN   \n",
      "1          NaN          NaN          NaN          NaN          NaN   \n",
      "2          NaN          NaN          NaN          NaN          NaN   \n",
      "3          NaN          NaN          NaN          NaN          NaN   \n",
      "4          NaN          NaN          NaN          NaN          NaN   \n",
      "\n",
      "   Unnamed: 19  Unnamed: 20  Unnamed: 21  Unnamed: 22  Unnamed: 23  \n",
      "0          NaN          NaN          NaN          NaN          NaN  \n",
      "1          NaN          NaN          NaN          NaN          NaN  \n",
      "2          NaN          NaN          NaN          NaN          NaN  \n",
      "3          NaN          NaN          NaN          NaN          NaN  \n",
      "4          NaN          NaN          NaN          NaN          NaN  \n",
      "\n",
      "[5 rows x 24 columns]\n",
      "     date  hour   CO SO2 NO2  O3 PM10 PM2.5\n",
      "0  170101   100  0.4   1   2  24   45    44\n",
      "1  170101   200  0.3   1   0  26   58    48\n",
      "2  170101   300  0.3   1   0  26   37    36\n",
      "3  170101   400  0.3   1   0  29   37    35\n",
      "4  170101   500  0.3   0   0  27   39    37\n",
      "     date  hour             CO            O3           NO2            SO2  \\\n",
      "0  960101   100                                                             \n",
      "1  960101   200                                                             \n",
      "2  960101   300                                                             \n",
      "3  960101   400                                                             \n",
      "4  960101   500                                                             \n",
      "\n",
      "           PM10  \n",
      "0                \n",
      "1                \n",
      "2                \n",
      "3                \n",
      "4                \n",
      "    date  hour        CO  O3 NO2 SO2 PM10\n",
      "0  30101   100       0.7   5  31   2   54\n",
      "1  30101   200       0.7   9  26   2   47\n",
      "2  30101   300       0.5  12  15   2   52\n",
      "3  30101   400  0.599999   6  19   3   40\n",
      "4  30101   500       0.5   3  21   1   64\n",
      "     date  hour             CO            O3           NO2            SO2  \\\n",
      "0  960101   100                                                             \n",
      "1  960101   200                                                             \n",
      "2  960101   300                                                             \n",
      "3  960101   400                                                             \n",
      "4  960101   500                                                             \n",
      "\n",
      "           PM10  \n",
      "0                \n",
      "1                \n",
      "2                \n",
      "3                \n",
      "4                \n",
      "    date  hour        CO O3 NO2 SO2 PM10\n",
      "0  30101   100  0.799998  2  35   5   51\n",
      "1  30101   200  0.799998  2  33   5   45\n",
      "2  30101   300  0.499998  4  26   1   42\n",
      "3  30101   400  0.599998  3  25   0   37\n",
      "4  30101   500  0.599998  1  27   2   53\n",
      "     date  hour   CO NO2 SO2 O3 PM10  Unnamed: 7  Unnamed: 8  Unnamed: 9  ...  \\\n",
      "0  100101   100    1  28   4  6   65         NaN         NaN         NaN  ...   \n",
      "1  100101   200  0.7  27   3  5   39         NaN         NaN         NaN  ...   \n",
      "2  100101   300  0.2  28   2  6   10         NaN         NaN         NaN  ...   \n",
      "3  100101   400  0.2  29   2  5   16         NaN         NaN         NaN  ...   \n",
      "4  100101   500  0.4  27   3  5   24         NaN         NaN         NaN  ...   \n",
      "\n",
      "   Unnamed: 14  Unnamed: 15  Unnamed: 16  Unnamed: 17  Unnamed: 18  \\\n",
      "0          NaN          NaN          NaN          NaN          NaN   \n",
      "1          NaN          NaN          NaN          NaN          NaN   \n",
      "2          NaN          NaN          NaN          NaN          NaN   \n",
      "3          NaN          NaN          NaN          NaN          NaN   \n",
      "4          NaN          NaN          NaN          NaN          NaN   \n",
      "\n",
      "   Unnamed: 19  Unnamed: 20  Unnamed: 21  Unnamed: 22  Unnamed: 23  \n",
      "0          NaN          NaN          NaN          NaN          NaN  \n",
      "1          NaN          NaN          NaN          NaN          NaN  \n",
      "2          NaN          NaN          NaN          NaN          NaN  \n",
      "3          NaN          NaN          NaN          NaN          NaN  \n",
      "4          NaN          NaN          NaN          NaN          NaN  \n",
      "\n",
      "[5 rows x 24 columns]\n"
     ]
    },
    {
     "name": "stdout",
     "output_type": "stream",
     "text": [
      "     date  hour   CO NO2 SO2  O3 PM10 PM2.5\n",
      "0  170101   100    1  18   3  40   26   NaN\n",
      "1  170101   200  0.9  21   4  34   21   NaN\n",
      "2  170101   300  0.9  19   3  35   18   NaN\n",
      "3  170101   400  0.9  17   3  35   16   NaN\n",
      "4  170101   500  0.9  17   3  34   16   NaN\n",
      "     date  hour             CO            O3           NO2            SO2  \\\n",
      "0  960101   100                                                             \n",
      "1  960101   200                                                             \n",
      "2  960101   300                                                             \n",
      "3  960101   400                                                             \n",
      "4  960101   500                                                             \n",
      "\n",
      "           PM10  \n",
      "0                \n",
      "1                \n",
      "2                \n",
      "3                \n",
      "4                \n",
      "    date  hour   CO O3 NO2 SO2 PM10\n",
      "0  30101   100  1.5  5  47   6   89\n",
      "1  30101   200  1.5  5  44   2   49\n",
      "2  30101   300  1.3  5  36   1   44\n",
      "3  30101   400  1.3  4  33   2   42\n",
      "4  30101   500  1.4  4  32   4   57\n",
      "     date  hour   CO NO2 SO2  O3 PM10  Unnamed: 7  Unnamed: 8  Unnamed: 9  \\\n",
      "0  100101   100    1  15   3  16   37         NaN         NaN         NaN   \n",
      "1  100101   200  1.1  19   3  11   31         NaN         NaN         NaN   \n",
      "2  100101   300  1.1  23   3   7   35         NaN         NaN         NaN   \n",
      "3  100101   400  0.7  16   3  13   37         NaN         NaN         NaN   \n",
      "4  100101   500  0.9  15   3  13   30         NaN         NaN         NaN   \n",
      "\n",
      "   ...  Unnamed: 15  Unnamed: 16  Unnamed: 17  Unnamed: 18  Unnamed: 19  \\\n",
      "0  ...          NaN          NaN          NaN          NaN          NaN   \n",
      "1  ...          NaN          NaN          NaN          NaN          NaN   \n",
      "2  ...          NaN          NaN          NaN          NaN          NaN   \n",
      "3  ...          NaN          NaN          NaN          NaN          NaN   \n",
      "4  ...          NaN          NaN          NaN          NaN          NaN   \n",
      "\n",
      "   Unnamed: 20  Unnamed: 21  Unnamed: 22  Unnamed: 23  Unnamed: 24  \n",
      "0          NaN          NaN          NaN          NaN          NaN  \n",
      "1          NaN          NaN          NaN          NaN          NaN  \n",
      "2          NaN          NaN          NaN          NaN          NaN  \n",
      "3          NaN          NaN          NaN          NaN          NaN  \n",
      "4          NaN          NaN          NaN          NaN          NaN  \n",
      "\n",
      "[5 rows x 25 columns]\n",
      "     date  hour CO NO2 SO2 O3 PM10 PM2.5\n",
      "0  170101   100  -   -   -  -    -   NaN\n",
      "1  170101   200  -   -   -  -    -   NaN\n",
      "2  170101   300  -   -   -  -    -   NaN\n",
      "3  170101   400  -   -   -  -    -   NaN\n",
      "4  170101   500  -   -   -  -    -   NaN\n",
      "    date  hour    CO(ppm) PM10(มคก./ลบ.ม.)\n",
      "0  10101   100   0.599999               57\n",
      "1  10101   200        1.1               84\n",
      "2  10101   300          1               73\n",
      "3  10101   400  0.0999999               66\n",
      "4  10101   500        0.2               69\n",
      "    date  hour    CO(ppm) PM10(มคก./ลบ.ม.)\n",
      "0  80101   100        0.2               62\n",
      "1  80101   200  0.0999999               64\n",
      "2  80101   300          0               55\n",
      "3  80101   400          0               59\n",
      "4  80101   500          0               54\n",
      "     date  hour CO(ppm) PM10  Unnamed: 4  Unnamed: 5  Unnamed: 6  Unnamed: 7\n",
      "0  150101   100     2.2    -         NaN         NaN         NaN         NaN\n",
      "1  150101   200     1.5    -         NaN         NaN         NaN         NaN\n",
      "2  150101   300     1.2    -         NaN         NaN         NaN         NaN\n",
      "3  150101   400     1.1    -         NaN         NaN         NaN         NaN\n",
      "4  150101   500     1.1    -         NaN         NaN         NaN         NaN\n",
      "     date  hour  CO  NO2 PM10 PM2.5\n",
      "0  170601   100 NaN  NaN  NaN   NaN\n",
      "1  170601   200 NaN  NaN  NaN   NaN\n",
      "2  170601   300 NaN  NaN  NaN   NaN\n",
      "3  170601   400 NaN  NaN  NaN   NaN\n",
      "4  170601   500 NaN  NaN  NaN   NaN\n",
      "     date  hour             CO            NO            O3           NO2  \\\n",
      "0  960101   100                                                            \n",
      "1  960101   200                                                            \n",
      "2  960101   300                                                            \n",
      "3  960101   400                                                            \n",
      "4  960101   500                                                            \n",
      "\n",
      "             SO2          PM10  \n",
      "0                               \n",
      "1                               \n",
      "2                               \n",
      "3                               \n",
      "4                               \n",
      "    date  hour             CO            O3           NO2            SO2 PM10\n",
      "0  30101   100            1.7             3            50              7   79\n",
      "1  30101   200            1.6             2            42              5   86\n",
      "2  30101   300                                                             82\n",
      "3  30101   400            1.1             4            32              4   54\n",
      "4  30101   500            1.9             3            37              7   70\n",
      "     date  hour   CO NO2 SO2  O3 PM10 PM2.5  Unnamed: 8  Unnamed: 9  ...  \\\n",
      "0  100101   100  0.9  20   0  10   19   NaN         NaN         NaN  ...   \n",
      "1  100101   200  0.9  23   0   8   23   NaN         NaN         NaN  ...   \n",
      "2  100101   300  0.9  23   0   8   15   NaN         NaN         NaN  ...   \n",
      "3  100101   400    1  25   0   5   20   NaN         NaN         NaN  ...   \n",
      "4  100101   500  0.8  15   0  12   16   NaN         NaN         NaN  ...   \n",
      "\n",
      "   Unnamed: 19  Unnamed: 20  Unnamed: 21  Unnamed: 22  Unnamed: 23  \\\n",
      "0          NaN          NaN          NaN          NaN          NaN   \n",
      "1          NaN          NaN          NaN          NaN          NaN   \n",
      "2          NaN          NaN          NaN          NaN          NaN   \n",
      "3          NaN          NaN          NaN          NaN          NaN   \n",
      "4          NaN          NaN          NaN          NaN          NaN   \n",
      "\n",
      "   Unnamed: 24  Unnamed: 25  Unnamed: 26  Unnamed: 27  Unnamed: 28  \n",
      "0          NaN          NaN          NaN          NaN          NaN  \n",
      "1          NaN          NaN          NaN          NaN          NaN  \n",
      "2          NaN          NaN          NaN          NaN          NaN  \n",
      "3          NaN          NaN          NaN          NaN          NaN  \n",
      "4          NaN          NaN          NaN          NaN          NaN  \n",
      "\n",
      "[5 rows x 29 columns]\n",
      "     date  hour   CO NO2 SO2  O3 PM10 PM2.5\n",
      "0  170101   100  0.8  20   2  26   68    58\n",
      "1  170101   200  0.7  19   2  26   47    40\n",
      "2  170101   300  0.7  18   2  24   41    38\n",
      "3  170101   400  0.7  19   1  23   49    41\n",
      "4  170101   500  0.8  20   1  20   47    33\n",
      "     date  hour             CO            O3           NO2            SO2  \\\n",
      "0  960101   100                                                             \n",
      "1  960101   200                                                             \n",
      "2  960101   300                                                             \n",
      "3  960101   400                                                             \n",
      "4  960101   500                                                             \n",
      "\n",
      "           PM10  \n",
      "0                \n",
      "1                \n",
      "2                \n",
      "3                \n",
      "4                \n",
      "    date  hour        CO O3 NO2 SO2 PM10\n",
      "0  30101   100       1.3  4  36   5   33\n",
      "1  30101   200       1.3  4  34   5   30\n",
      "2  30101   300       0.7  6  24   2   23\n",
      "3  30101   400  0.599999  5  20   2   18\n",
      "4  30101   500         1  3  23   2   23\n",
      "     date  hour   CO NO2 SO2 O3 PM10  Unnamed: 7  Unnamed: 8  Unnamed: 9  ...  \\\n",
      "0  100101   100  1.3  32   4  3   35         NaN         NaN         NaN  ...   \n",
      "1  100101   200  1.5  33   7  3   30         NaN         NaN         NaN  ...   \n",
      "2  100101   300  1.3  32   7  3   22         NaN         NaN         NaN  ...   \n",
      "3  100101   400  1.3  30   7  4   15         NaN         NaN         NaN  ...   \n",
      "4  100101   500  1.3  30   5  4   18         NaN         NaN         NaN  ...   \n",
      "\n",
      "   Unnamed: 12  Unnamed: 13  Unnamed: 14  Unnamed: 15  Unnamed: 16  \\\n",
      "0          NaN          NaN          NaN          NaN          NaN   \n",
      "1          NaN          NaN          NaN          NaN          NaN   \n",
      "2          NaN          NaN          NaN          NaN          NaN   \n",
      "3          NaN          NaN          NaN          NaN          NaN   \n",
      "4          NaN          NaN          NaN          NaN          NaN   \n",
      "\n",
      "   Unnamed: 17  Unnamed: 18  Unnamed: 19  Unnamed: 20  Unnamed: 21  \n",
      "0          NaN          NaN          NaN          NaN          NaN  \n",
      "1          NaN          NaN          NaN          NaN          NaN  \n",
      "2          NaN          NaN          NaN          NaN          NaN  \n",
      "3          NaN          NaN          NaN          NaN          NaN  \n",
      "4          NaN          NaN          NaN          NaN          NaN  \n",
      "\n",
      "[5 rows x 22 columns]\n"
     ]
    },
    {
     "name": "stdout",
     "output_type": "stream",
     "text": [
      "     date  hour  CO  NO2 PM10 PM2.5\n",
      "0  170601   100 NaN  NaN  NaN   NaN\n",
      "1  170601   200 NaN  NaN  NaN   NaN\n",
      "2  170601   300 NaN  NaN  NaN   NaN\n",
      "3  170601   400 NaN  NaN  NaN   NaN\n",
      "4  170601   500 NaN  NaN  NaN   NaN\n",
      "     date  hour             CO            O3           NO2            SO2  \\\n",
      "0  960101   100                                                             \n",
      "1  960101   200                                                             \n",
      "2  960101   300                                                             \n",
      "3  960101   400                                                             \n",
      "4  960101   500                                                             \n",
      "\n",
      "           PM10  \n",
      "0                \n",
      "1                \n",
      "2                \n",
      "3                \n",
      "4                \n",
      "    date  hour   CO O3 NO2 SO2 PM10\n",
      "0  30101   100  3.9  3  47  12   51\n",
      "1  30101   200  4.7  3  46  12   50\n",
      "2  30101   300  2.1  3  34   4   58\n",
      "3  30101   400  2.7  3  33   8   69\n",
      "4  30101   500  3.5  4  37  10   70\n",
      "    date  hour             CO   O3           NO2            SO2           PM10\n",
      "0  40101   100                 NaN                                            \n",
      "1  40101   200                 NaN                                            \n",
      "2  40101   300                 NaN                                            \n",
      "3  40101   400                 NaN                                            \n",
      "4  40101   500                 NaN                                            \n",
      "     date  hour    CO NO2 SO2  O3 PM10 PM2.5  Unnamed: 8  Unnamed: 9  ...  \\\n",
      "0  100101   100  0.36  20   1  12   34   NaN         NaN         NaN  ...   \n",
      "1  100101   200  0.25  20   0  11   60   NaN         NaN         NaN  ...   \n",
      "2  100101   300  0.22  21   0   9   48   NaN         NaN         NaN  ...   \n",
      "3  100101   400  0.28  20   1   9   14   NaN         NaN         NaN  ...   \n",
      "4  100101   500  0.24  17   0  12   26   NaN         NaN         NaN  ...   \n",
      "\n",
      "   Unnamed: 17  Unnamed: 18  Unnamed: 19  Unnamed: 20  Unnamed: 21  \\\n",
      "0          NaN          NaN          NaN          NaN          NaN   \n",
      "1          NaN          NaN          NaN          NaN          NaN   \n",
      "2          NaN          NaN          NaN          NaN          NaN   \n",
      "3          NaN          NaN          NaN          NaN          NaN   \n",
      "4          NaN          NaN          NaN          NaN          NaN   \n",
      "\n",
      "   Unnamed: 22  Unnamed: 23  Unnamed: 24  Unnamed: 25  Unnamed: 26  \n",
      "0          NaN          NaN          NaN          NaN          NaN  \n",
      "1          NaN          NaN          NaN          NaN          NaN  \n",
      "2          NaN          NaN          NaN          NaN          NaN  \n",
      "3          NaN          NaN          NaN          NaN          NaN  \n",
      "4          NaN          NaN          NaN          NaN          NaN  \n",
      "\n",
      "[5 rows x 27 columns]\n",
      "     date  hour   CO NO2  O3 PM10 PM2.5\n",
      "0  170101   100    -   -   -   58    33\n",
      "1  170101   200  0.9  18  23   46    32\n",
      "2  170101   300  0.9  18  22   41    28\n",
      "3  170101   400  0.9  18  21   38    25\n",
      "4  170101   500  0.9  17  20   37    24\n",
      "    date  hour             CO            O3           NO2            SO2  \\\n",
      "0  50101   100                                                             \n",
      "1  50101   200                                                             \n",
      "2  50101   300                                                             \n",
      "3  50101   400                                                             \n",
      "4  50101   500                                                             \n",
      "\n",
      "            PM10  \n",
      "0                 \n",
      "1                 \n",
      "2                 \n",
      "3                 \n",
      "4                 \n",
      "     date  hour   CO NO2 SO2 O3 PM10 PM2.5 Unnamed: 8  Unnamed: 9  ...  \\\n",
      "0  100101   100  0.9  15   4  3   37   NaN        NaN         NaN  ...   \n",
      "1  100101   200  0.9  14   4  3   37   NaN        NaN         NaN  ...   \n",
      "2  100101   300  0.9  14   4  3   46   NaN        NaN         NaN  ...   \n",
      "3  100101   400  0.9  14   5  4   50   NaN        NaN         NaN  ...   \n",
      "4  100101   500  0.8  14   4  3   52   NaN        NaN         NaN  ...   \n",
      "\n",
      "   Unnamed: 17  Unnamed: 18  Unnamed: 19  Unnamed: 20  Unnamed: 21  \\\n",
      "0          NaN          NaN          NaN          NaN          NaN   \n",
      "1          NaN          NaN          NaN          NaN          NaN   \n",
      "2          NaN          NaN          NaN          NaN          NaN   \n",
      "3          NaN          NaN          NaN          NaN          NaN   \n",
      "4          NaN          NaN          NaN          NaN          NaN   \n",
      "\n",
      "   Unnamed: 22  Unnamed: 23  Unnamed: 24  Unnamed: 25  Unnamed: 26  \n",
      "0          NaN          NaN          NaN          NaN          NaN  \n",
      "1          NaN          NaN          NaN          NaN          NaN  \n",
      "2          NaN          NaN          NaN          NaN          NaN  \n",
      "3          NaN          NaN          NaN          NaN          NaN  \n",
      "4          NaN          NaN          NaN          NaN          NaN  \n",
      "\n",
      "[5 rows x 27 columns]\n",
      "     date  hour NO2 SO2  O3 PM10 PM2.5\n",
      "0  170101   100   7   2  31   66    52\n",
      "1  170101   200  11   2  26   44    36\n",
      "2  170101   300   9   2  27   38    37\n",
      "3  170101   400   2   1  32   38    36\n",
      "4  170101   500   1   1  33   37    34\n",
      "['02t', '03t', '05t', '11t', '12t', '50t', '52t', '53t', '59t', '61t']\n",
      "['10t', '54t']\n"
     ]
    }
   ],
   "source": [
    "# process bangkok data\n",
    "station_ids = ['02t',\n",
    " '03t',\n",
    " '05t',\n",
    " '10t',\n",
    " '11t',\n",
    " '12t',\n",
    " '50t',\n",
    " '52t',\n",
    " '53t',\n",
    " '54t',\n",
    " '59t',\n",
    " '61t']\n",
    "\n",
    "good_stations = []\n",
    "bad_stations = []\n",
    "for ids in station_ids:\n",
    "    path = Path(aqm_folder)\n",
    "    files = [*path.rglob(f'({ids})*.xlsx')]\n",
    "    try:\n",
    "        df = read_his_xl(files[0])\n",
    "    except:\n",
    "        bad_stations.append(ids)\n",
    "    else:\n",
    "        good_stations.append(ids)\n",
    "        df.to_csv('C:/Users/Benny/Documents/Fern/aqi_thailand2/data/aqm_hourly2/process/'+ids+'.csv')\n",
    "        \n",
    "print(good_stations)\n",
    "print(bad_stations)"
   ]
  },
  {
   "cell_type": "markdown",
   "metadata": {
    "heading_collapsed": true
   },
   "source": [
    "# Power Plants"
   ]
  },
  {
   "cell_type": "code",
   "execution_count": 92,
   "metadata": {
    "hidden": true
   },
   "outputs": [],
   "source": [
    "url = 'https://th.wikipedia.org/wiki/%E0%B8%A3%E0%B8%B2%E0%B8%A2%E0%B8%8A%E0%B8%B7%E0%B9%88%E0%B8%AD%E0%B9%82%E0%B8%A3%E0%B8%87%E0%B9%84%E0%B8%9F%E0%B8%9F%E0%B9%89%E0%B8%B2%E0%B9%83%E0%B8%99%E0%B9%84%E0%B8%97%E0%B8%A2'\n",
    "url = 'https://en.wikipedia.org/wiki/List_of_power_stations_in_Thailand'\n",
    "table_list = pd.read_html(url)\n",
    "len(table_list)\n",
    "p_folder = '../data/power_plants/'\n",
    "for i, table in enumerate(table_list):\n",
    "    table.to_csv(p_folder + f'table_eng{i}.csv',index=False)"
   ]
  },
  {
   "cell_type": "markdown",
   "metadata": {},
   "source": [
    "# Weather Files"
   ]
  },
  {
   "cell_type": "code",
   "execution_count": 55,
   "metadata": {},
   "outputs": [
    {
     "data": {
      "text/plain": [
       "9"
      ]
     },
     "execution_count": 55,
     "metadata": {},
     "output_type": "execute_result"
    }
   ],
   "source": [
    "folders = glob('C:/Users/Benny/Documents/Fern/aqi_thailand2/data/weather_cities/*/')\n",
    "len(folders)"
   ]
  },
  {
   "cell_type": "code",
   "execution_count": 92,
   "metadata": {},
   "outputs": [
    {
     "name": "stdout",
     "output_type": "stream",
     "text": [
      "bkk 13\n",
      "chiang-mai 36\n",
      "chiang-rai 25\n",
      "kungming 24\n",
      "luang-prabang 24\n",
      "sikhottabong 39\n",
      "tada_u 24\n",
      "tak 26\n",
      "yangong 29\n"
     ]
    }
   ],
   "source": [
    "for folder in folders:\n",
    "    city_name = Path(folder).name\n",
    "    parent_folder = Path(folder).parent\n",
    "    w_files = glob(folder + '/*.csv')\n",
    "    print(city_name, len(w_files))\n",
    "    filename = str(Path(folders[0]).parent) + '/' + city_name + '.csv'\n",
    "    \n",
    "    # concatenate all files \n",
    "    df_all = pd.DataFrame()\n",
    "    for file in w_files:\n",
    "        try:\n",
    "            df = pd.read_csv(file)\n",
    "            \n",
    "        except:\n",
    "            pass\n",
    "        else:\n",
    "            df_all = pd.concat([df_all, df], ignore_index=True)\n",
    "    \n",
    "    # drop missing value \n",
    "    df_all['datetime'] = pd.to_datetime(df_all['date'])\n",
    "    df_all.drop('date',axis=1, inplace=True)\n",
    "    df_all = df_all.sort_values('datetime')\n",
    "    df_all = df_all.drop_duplicates('datetime', ignore_index=True)\n",
    "    \n",
    "    # save file\n",
    "    df_all.to_csv(filename,index=False)"
   ]
  },
  {
   "cell_type": "code",
   "execution_count": 89,
   "metadata": {},
   "outputs": [],
   "source": [
    "# find missing date for chiang-mai data \n",
    "df_all = pd.read_csv('C:/Users/Benny/Documents/Fern/aqi_thailand2/data/weather_cities/chiang-mai.csv')\n",
    "df_all['datetime'] = pd.to_datetime(df_all['datetime'] )\n",
    "# find exisiting date \n",
    "ex_date = df_all['datetime'].dt.strftime('%Y-%m-%d').unique()\n",
    "ex_date = set(ex_date)\n",
    "# calculate the datelist \n",
    "start_date = datetime(2000, 10, 1)\n",
    "stop_date = datetime.now()\n",
    "date_range = pd.date_range(start_date, stop_date).strftime('%Y-%m-%d')\n",
    "missing_date = list(set(date_range).difference(ex_date))"
   ]
  },
  {
   "cell_type": "code",
   "execution_count": 87,
   "metadata": {},
   "outputs": [
    {
     "name": "stdout",
     "output_type": "stream",
     "text": [
      "{'city_name': 'Mueang Chiang Mai', 'province': 'Chiang Mai', 'country': 'Thailand', 'station_name': 'Chiang Mai International Airport Station', 'specific_url': 'th/mueang-chiang-mai/', 'latitude': '18.8 °N', 'longitude': '98.97 °E'}\n"
     ]
    }
   ],
   "source": [
    "with open('../data/weather_cities/weather_station_info.json','r') as f:\n",
    "    station_dict_list = json.load(f)\n",
    "   \n",
    "i = 0 \n",
    "city_json = station_dict_list[i]\n",
    "print(city_json)"
   ]
  },
  {
   "cell_type": "code",
   "execution_count": 90,
   "metadata": {},
   "outputs": [
    {
     "name": "stdout",
     "output_type": "stream",
     "text": [
      "C:/Users/Benny/Documents/Fern/aqi_thailand2/data/weather_cities/chiang-mai/mueang-chiang-mai_weather.csv 2000-10-23\n"
     ]
    },
    {
     "name": "stderr",
     "output_type": "stream",
     "text": [
      "..\\src\\data\\dl_weather.py:20: UserWarning: No parser was explicitly specified, so I'm using the best available HTML parser for this system (\"lxml\"). This usually isn't a problem, but if you run this code on another system, or in a different virtual environment, it may use a different parser and behave differently.\n",
      "\n",
      "The code that caused this warning is on line 20 of the file ..\\src\\data\\dl_weather.py. To get rid of this warning, pass the additional argument 'features=\"lxml\"' to the BeautifulSoup constructor.\n",
      "\n",
      "  soup = BeautifulSoup(innerhtml)\n"
     ]
    }
   ],
   "source": [
    " bad_date_df = scrape_weather(city_json, date_range=missing_date, data_folder='C:/Users/Benny/Documents/Fern/aqi_thailand2/data/weather_cities/chiang-mai/')"
   ]
  },
  {
   "cell_type": "code",
   "execution_count": 97,
   "metadata": {},
   "outputs": [
    {
     "name": "stdout",
     "output_type": "stream",
     "text": [
      "(333126, 11)\n"
     ]
    }
   ],
   "source": [
    "# weather data \n",
    "filename = 'C:/Users/Benny/Documents/Fern/aqi_thailand2/data/weather_cities/chiang-mai.csv'\n",
    "wea = pd.read_csv(filename)\n",
    "wea['datetime']  = pd.to_datetime(wea['datetime'])\n",
    "# roud datetiem to whole 30 mins \n",
    "wea['datetime'] = wea['datetime'].dt.round('30T')\n",
    "\n",
    "dates = wea['datetime'].dropna().dt.date.unique()\n",
    "\n",
    "# fill in the missing value\n",
    "new_datetime = pd.date_range(start=dates[0], end=dates[-1], freq='30T') \n",
    "new_weather = pd.DataFrame(new_datetime, columns=['datetime'])\n",
    "new_weather = new_weather.merge(wea, on='datetime',how='left')\n",
    "print(new_weather.shape)\n",
    "\n",
    "# remove strange T reading\n",
    "lowest_t = 5 \n",
    "idx = new_weather[new_weather['Temperature(C)']< lowest_t].index\n",
    "new_weather.loc[idx,['Temperature(C)','Dew Point(C)','Humidity(%)']] = np.nan\n",
    "\n",
    "highest_t = 60\n",
    "idx = new_weather[new_weather['Temperature(C)']> highest_t].index\n",
    "new_weather.loc[idx,['Temperature(C)','Dew Point(C)','Humidity(%)']] = np.nan\n",
    "\n",
    "new_weather = new_weather.fillna(method='ffill',limit=12)\n",
    "new_weather = new_weather.fillna(method='bfill',limit=12)\n",
    "new_weather = new_weather.set_index('datetime')\n",
    "new_weather = new_weather.dropna(how='all').reset_index()\n",
    "new_weather.to_csv(filename,index=False)"
   ]
  },
  {
   "cell_type": "markdown",
   "metadata": {},
   "source": [
    "## Assemble from raw data "
   ]
  },
  {
   "cell_type": "code",
   "execution_count": 7,
   "metadata": {},
   "outputs": [],
   "source": [
    "# weather folder\n",
    "w_folder = '../data/weather_cities/'"
   ]
  },
  {
   "cell_type": "code",
   "execution_count": 8,
   "metadata": {},
   "outputs": [
    {
     "data": {
      "text/plain": [
       "9"
      ]
     },
     "execution_count": 8,
     "metadata": {},
     "output_type": "execute_result"
    }
   ],
   "source": [
    "# extract station information\n",
    "city_names = ['Mueang Chiang Mai', 'Mueang Chiang Rai', 'Mueang Tak','Bangkok','Yangon', 'Tada-U', 'Sikhottabong', 'Luang Prabang District','Kunming']\n",
    "weather_station_info = find_weather_stations(city_names, weather_json_file=w_folder+'weather_station_info.json')\n",
    "len(weather_station_info)"
   ]
  },
  {
   "cell_type": "code",
   "execution_count": 11,
   "metadata": {
    "scrolled": false
   },
   "outputs": [
    {
     "name": "stdout",
     "output_type": "stream",
     "text": [
      "../data/weather_cities/Mueang_Chiang_Mai.csv\n",
      "36\n",
      "Index(['Time', 'Temperature(C)', 'Dew Point(C)', 'Humidity(%)', 'Wind',\n",
      "       'Wind Speed(mph)', 'Wind Gust(mph)', 'Pressure(in)', 'Precip.(in)',\n",
      "       'Condition', 'datetime'],\n",
      "      dtype='object')\n",
      "../data/weather_cities/Mueang_Chiang_Rai.csv\n",
      "25\n",
      "Index(['Time', 'Temperature(C)', 'Dew Point(C)', 'Humidity(%)', 'Wind',\n",
      "       'Wind Speed(mph)', 'Wind Gust(mph)', 'Pressure(in)', 'Precip.(in)',\n",
      "       'Condition', 'datetime'],\n",
      "      dtype='object')\n",
      "../data/weather_cities/Mueang_Tak.csv\n",
      "26\n",
      "Index(['Time', 'Temperature(C)', 'Dew Point(C)', 'Humidity(%)', 'Wind',\n",
      "       'Wind Speed(mph)', 'Wind Gust(mph)', 'Pressure(in)', 'Precip.(in)',\n",
      "       'Condition', 'datetime'],\n",
      "      dtype='object')\n",
      "../data/weather_cities/Bangkok.csv\n",
      "13\n",
      "Index(['Time', 'Temperature(C)', 'Dew Point(C)', 'Humidity(%)', 'Wind',\n",
      "       'Wind Speed(mph)', 'Wind Gust(mph)', 'Pressure(in)', 'Precip.(in)',\n",
      "       'Condition', 'datetime', 'Temperature(F)', 'Dew Point(F)',\n",
      "       'Precip Accum(in)'],\n",
      "      dtype='object')\n",
      "../data/weather_cities/Yangon.csv\n",
      "28\n",
      "Index(['Time', 'Temperature(C)', 'Dew Point(C)', 'Humidity(%)', 'Wind',\n",
      "       'Wind Speed(mph)', 'Wind Gust(mph)', 'Pressure(in)', 'Precip.(in)',\n",
      "       'Condition', 'datetime'],\n",
      "      dtype='object')\n",
      "../data/weather_cities/Tada-U.csv\n",
      "23\n",
      "Index(['Time', 'Temperature(C)', 'Dew Point(C)', 'Humidity(%)', 'Wind',\n",
      "       'Wind Speed(mph)', 'Wind Gust(mph)', 'Pressure(in)', 'Precip.(in)',\n",
      "       'Condition', 'datetime'],\n",
      "      dtype='object')\n",
      "../data/weather_cities/Sikhottabong.csv\n",
      "39\n",
      "Index(['Time', 'Temperature(C)', 'Dew Point(C)', 'Humidity(%)', 'Wind',\n",
      "       'Wind Speed(mph)', 'Wind Gust(mph)', 'Pressure(in)', 'Precip.(in)',\n",
      "       'Condition', 'datetime'],\n",
      "      dtype='object')\n",
      "../data/weather_cities/Luang_Prabang_District.csv\n",
      "24\n",
      "Index(['Time', 'Temperature(C)', 'Dew Point(C)', 'Humidity(%)', 'Wind',\n",
      "       'Wind Speed(mph)', 'Wind Gust(mph)', 'Pressure(in)', 'Precip.(in)',\n",
      "       'Condition', 'datetime'],\n",
      "      dtype='object')\n",
      "../data/weather_cities/Kunming.csv\n",
      "24\n",
      "Index(['Time', 'Temperature(C)', 'Dew Point(C)', 'Humidity(%)', 'Wind',\n",
      "       'Wind Speed(mph)', 'Wind Gust(mph)', 'Pressure(in)', 'Precip.(in)',\n",
      "       'Condition', 'datetime'],\n",
      "      dtype='object')\n"
     ]
    }
   ],
   "source": [
    "# concatenate raw data files\n",
    "for city_json in weather_station_info: \n",
    "    # read existing file \n",
    "    city_name = ('_').join(city_json['city_name'].split(' '))\n",
    "    current_filename = w_folder + city_name + '.csv'\n",
    "    print(current_filename)\n",
    "    \n",
    "    # locate file in the city folder\n",
    "    files = glob(w_folder + city_name + '/*.csv')\n",
    "    print(len(files))\n",
    "    \n",
    "    weather_all = pd.DataFrame()\n",
    "    for file in files:\n",
    "        try:\n",
    "            df = pd.read_csv(file)\n",
    "        except:\n",
    "            pass\n",
    "        else:\n",
    "            if 'date'== df.columns[-1]:\n",
    "                df.columns = df.columns.str.replace('date','datetime')\n",
    "            weather_all = pd.concat([weather_all, df],ignore_index=True)\n",
    "        \n",
    "    print(weather_all.columns)\n",
    "    weather_all.to_csv(current_filename, index=False)\n",
    "    "
   ]
  },
  {
   "cell_type": "code",
   "execution_count": 12,
   "metadata": {},
   "outputs": [
    {
     "name": "stdout",
     "output_type": "stream",
     "text": [
      "../data/weather_cities\\Bangkok.csv\n",
      "../data/weather_cities\\Kunming.csv\n",
      "../data/weather_cities\\Luang_Prabang_District.csv\n",
      "../data/weather_cities\\Mueang_Chiang_Mai.csv\n",
      "../data/weather_cities\\Mueang_Chiang_Rai.csv\n",
      "../data/weather_cities\\Mueang_Tak.csv\n",
      "../data/weather_cities\\Sikhottabong.csv\n",
      "../data/weather_cities\\Tada-U.csv\n",
      "../data/weather_cities\\Yangon.csv\n"
     ]
    }
   ],
   "source": [
    "# fix the unit of windspeed \n",
    "files = glob(w_folder + '/*.csv')\n",
    "for file in files:\n",
    "    print(file)\n",
    "    df = pd.read_csv(file)\n",
    "    df[['Wind Speed(mph)', 'Wind Gust(mph)']] = df[['Wind Speed(mph)', 'Wind Gust(mph)']]*1.60934\n",
    "    df[['Wind Speed(mph)', 'Wind Gust(mph)']] = df[['Wind Speed(mph)', 'Wind Gust(mph)']].round(0)\n",
    "    df.columns = df.columns.str.replace('mph', 'kmph')\n",
    "    df.to_csv(file,index=False)"
   ]
  },
  {
   "cell_type": "code",
   "execution_count": 188,
   "metadata": {},
   "outputs": [],
   "source": [
    "# drop duplicate datetime \n",
    "files = glob(w_folder + '/*.csv')\n",
    "for file in files:\n",
    "    df = pd.read_csv(file)\n",
    "    df['datetime'] = pd.to_datetime(df['datetime'])\n",
    "    df = df.sort_values('datetime')\n",
    "    df = df.drop_duplicates('datetime')\n",
    "    df.to_csv(file,index=False)"
   ]
  },
  {
   "cell_type": "code",
   "execution_count": 17,
   "metadata": {},
   "outputs": [],
   "source": [
    "# Fill the missing value in raw Weather Data \n",
    "for file in files:\n",
    "    df = pd.read_csv(file)\n",
    "    df = fill_missing_weather(df,limit=12)\n",
    "    df.to_csv(file, index=False)"
   ]
  },
  {
   "cell_type": "markdown",
   "metadata": {},
   "source": [
    "## Update weather all cities"
   ]
  },
  {
   "cell_type": "code",
   "execution_count": 240,
   "metadata": {},
   "outputs": [
    {
     "name": "stdout",
     "output_type": "stream",
     "text": [
      "../data/weather_cities/Mueang_Chiang_Mai.csv\n"
     ]
    },
    {
     "data": {
      "text/plain": [
       "15"
      ]
     },
     "execution_count": 240,
     "metadata": {},
     "output_type": "execute_result"
    }
   ],
   "source": [
    "i = 0\n",
    "start_date = datetime(2020, 1, 1)\n",
    "end_date = datetime.now()\n",
    "city_json = weather_station_info[i]\n",
    "# read existing file \n",
    "city_name = ('_').join(city_json['city_name'].split(' '))\n",
    "current_filename = w_folder + city_name + '.csv'\n",
    "print(current_filename)\n",
    "\n",
    "# obtain a list of existed dates\n",
    "wea = pd.read_csv(current_file)\n",
    "wea['datetime'] = pd.to_datetime(wea['datetime'])\n",
    "# find exisiting date \n",
    "ex_date = wea['datetime'].dt.strftime('%Y-%m-%d').unique()\n",
    "ex_date = set(ex_date)\n",
    "\n",
    "# calculate the missing dates \n",
    "date_range = pd.date_range(start_date, end_date).strftime('%Y-%m-%d')\n",
    "missing_date = list(set(date_range).difference(ex_date))\n",
    "missing_date.sort()\n",
    "len(missing_date)"
   ]
  },
  {
   "cell_type": "code",
   "execution_count": 12,
   "metadata": {},
   "outputs": [
    {
     "data": {
      "text/plain": [
       "9"
      ]
     },
     "execution_count": 12,
     "metadata": {},
     "output_type": "execute_result"
    }
   ],
   "source": [
    "# extract station information\n",
    "city_names = ['Mueang Chiang Mai', 'Mueang Chiang Rai', 'Mueang Tak','Bangkok','Yangon', 'Tada-U', 'Sikhottabong', 'Luang Prabang District','Kunming']\n",
    "weather_station_info = find_weather_stations(city_names, weather_json_file=w_folder+'weather_station_info.json')\n",
    "len(weather_station_info)"
   ]
  },
  {
   "cell_type": "code",
   "execution_count": 13,
   "metadata": {},
   "outputs": [
    {
     "name": "stderr",
     "output_type": "stream",
     "text": [
      "\r",
      "  0%|                                                                                                                                 | 0/2 [00:00<?, ?it/s]"
     ]
    },
    {
     "name": "stdout",
     "output_type": "stream",
     "text": [
      "updateing file: ../data/weather_cities/Mueang_Chiang_Mai.csv\n",
      "missing date 4\n"
     ]
    },
    {
     "data": {
      "application/vnd.jupyter.widget-view+json": {
       "model_id": "7439a2154d0e44718355273849c9e10c",
       "version_major": 2,
       "version_minor": 0
      },
      "text/plain": [
       "HBox(children=(FloatProgress(value=1.0, bar_style='info', max=1.0), HTML(value='')))"
      ]
     },
     "metadata": {},
     "output_type": "display_data"
    },
    {
     "name": "stdout",
     "output_type": "stream",
     "text": [
      "\n"
     ]
    },
    {
     "name": "stderr",
     "output_type": "stream",
     "text": [
      "\r",
      " 50%|████████████████████████████████████████████████████████████                                                            | 1/2 [03:09<03:09, 189.81s/it]"
     ]
    },
    {
     "name": "stdout",
     "output_type": "stream",
     "text": [
      "updateing file: ../data/weather_cities/Mueang_Chiang_Rai.csv\n",
      "missing date 4\n"
     ]
    },
    {
     "data": {
      "application/vnd.jupyter.widget-view+json": {
       "model_id": "3e596273e8554f17a8ce772d508626c4",
       "version_major": 2,
       "version_minor": 0
      },
      "text/plain": [
       "HBox(children=(FloatProgress(value=1.0, bar_style='info', max=1.0), HTML(value='')))"
      ]
     },
     "metadata": {},
     "output_type": "display_data"
    },
    {
     "name": "stdout",
     "output_type": "stream",
     "text": [
      "\n"
     ]
    },
    {
     "name": "stderr",
     "output_type": "stream",
     "text": [
      "100%|████████████████████████████████████████████████████████████████████████████████████████████████████████████████████████| 2/2 [06:14<00:00, 187.46s/it]\n"
     ]
    }
   ],
   "source": [
    "for city_json in tqdm(weather_station_info[:2]):\n",
    "    \n",
    "    start_date = datetime(2020,1,1)\n",
    "    end_date = datetime.now()\n",
    "    update_weather(city_json, data_folder=w_folder, start_date=start_date, end_date=end_date)"
   ]
  },
  {
   "cell_type": "code",
   "execution_count": 3,
   "metadata": {},
   "outputs": [
    {
     "name": "stdout",
     "output_type": "stream",
     "text": [
      "{'city_name': 'Hai Chau', 'province': 'Da Nang', 'country': 'Vietnam', 'station_name': 'Da Nang International Airport Station', 'specific_url': 'vn/hai-chau/', 'latitude': '16.04 °N', 'longitude': '108.2 °E'}\n"
     ]
    }
   ],
   "source": [
    "# extract station information\n",
    "city_names = ['Hai Chau']\n",
    "weather_station_info = find_weather_stations(city_names, weather_json_file=w_folder+'weather_station_info.json')\n",
    "len(weather_station_info)\n",
    "city_json = weather_station_info[0]\n",
    "print(city_json)"
   ]
  },
  {
   "cell_type": "code",
   "execution_count": 4,
   "metadata": {
    "scrolled": true
   },
   "outputs": [
    {
     "name": "stdout",
     "output_type": "stream",
     "text": [
      "2020-03-01 00:00:00\n",
      "updateing file: ../data/weather_cities/Hai_Chau.csv\n",
      "missing date 31\n"
     ]
    },
    {
     "data": {
      "application/vnd.jupyter.widget-view+json": {
       "model_id": "",
       "version_major": 2,
       "version_minor": 0
      },
      "text/plain": [
       "HBox(children=(FloatProgress(value=1.0, bar_style='info', max=1.0), HTML(value='')))"
      ]
     },
     "metadata": {},
     "output_type": "display_data"
    },
    {
     "name": "stdout",
     "output_type": "stream",
     "text": [
      "\n",
      "2020-02-01 00:00:00\n",
      "updateing file: ../data/weather_cities/Hai_Chau.csv\n",
      "missing date 29\n"
     ]
    },
    {
     "data": {
      "application/vnd.jupyter.widget-view+json": {
       "model_id": "",
       "version_major": 2,
       "version_minor": 0
      },
      "text/plain": [
       "HBox(children=(FloatProgress(value=1.0, bar_style='info', max=1.0), HTML(value='')))"
      ]
     },
     "metadata": {},
     "output_type": "display_data"
    },
    {
     "name": "stdout",
     "output_type": "stream",
     "text": [
      "\n",
      "2020-01-01 00:00:00\n",
      "updateing file: ../data/weather_cities/Hai_Chau.csv\n",
      "missing date 31\n"
     ]
    },
    {
     "data": {
      "application/vnd.jupyter.widget-view+json": {
       "model_id": "",
       "version_major": 2,
       "version_minor": 0
      },
      "text/plain": [
       "HBox(children=(FloatProgress(value=1.0, bar_style='info', max=1.0), HTML(value='')))"
      ]
     },
     "metadata": {},
     "output_type": "display_data"
    },
    {
     "name": "stdout",
     "output_type": "stream",
     "text": [
      "\n"
     ]
    }
   ],
   "source": [
    "year_list = [2020]\n",
    "month_list = np.arange(3, 0, -1)\n",
    "\n",
    "for year, month in product(year_list, month_list):\n",
    "    start_date = datetime(year, month, 1)\n",
    "    print(start_date)\n",
    "    end_date = datetime.now() - timedelta(days=1)\n",
    "    update_weather(city_json,data_folder=w_folder, start_date=start_date,end_date=end_date)\n"
   ]
  },
  {
   "cell_type": "code",
   "execution_count": 5,
   "metadata": {
    "scrolled": true
   },
   "outputs": [
    {
     "name": "stdout",
     "output_type": "stream",
     "text": [
      "2019-12-01 00:00:00\n",
      "updateing file: ../data/weather_cities/Hai_Chau.csv\n",
      "missing date 31\n"
     ]
    },
    {
     "data": {
      "application/vnd.jupyter.widget-view+json": {
       "model_id": "50d1973642974868af36301d444a90f2",
       "version_major": 2,
       "version_minor": 0
      },
      "text/plain": [
       "HBox(children=(FloatProgress(value=1.0, bar_style='info', max=1.0), HTML(value='')))"
      ]
     },
     "metadata": {},
     "output_type": "display_data"
    },
    {
     "name": "stdout",
     "output_type": "stream",
     "text": [
      "\n",
      "2019-11-01 00:00:00\n",
      "updateing file: ../data/weather_cities/Hai_Chau.csv\n",
      "missing date 30\n"
     ]
    },
    {
     "data": {
      "application/vnd.jupyter.widget-view+json": {
       "model_id": "e3a3c2f1bc1b40f7a5bd5e8cd9b7a24d",
       "version_major": 2,
       "version_minor": 0
      },
      "text/plain": [
       "HBox(children=(FloatProgress(value=1.0, bar_style='info', max=1.0), HTML(value='')))"
      ]
     },
     "metadata": {},
     "output_type": "display_data"
    },
    {
     "name": "stdout",
     "output_type": "stream",
     "text": [
      "\n",
      "2019-10-01 00:00:00\n",
      "updateing file: ../data/weather_cities/Hai_Chau.csv\n",
      "missing date 31\n"
     ]
    },
    {
     "data": {
      "application/vnd.jupyter.widget-view+json": {
       "model_id": "7ea0e867670a4f82a3dd3e3f810f9b95",
       "version_major": 2,
       "version_minor": 0
      },
      "text/plain": [
       "HBox(children=(FloatProgress(value=1.0, bar_style='info', max=1.0), HTML(value='')))"
      ]
     },
     "metadata": {},
     "output_type": "display_data"
    },
    {
     "name": "stdout",
     "output_type": "stream",
     "text": [
      "\n",
      "2019-09-01 00:00:00\n",
      "updateing file: ../data/weather_cities/Hai_Chau.csv\n",
      "missing date 30\n"
     ]
    },
    {
     "data": {
      "application/vnd.jupyter.widget-view+json": {
       "model_id": "dc337fc657f14e1bba5df1eb5f988d9a",
       "version_major": 2,
       "version_minor": 0
      },
      "text/plain": [
       "HBox(children=(FloatProgress(value=1.0, bar_style='info', max=1.0), HTML(value='')))"
      ]
     },
     "metadata": {},
     "output_type": "display_data"
    },
    {
     "name": "stdout",
     "output_type": "stream",
     "text": [
      "\n",
      "2019-08-01 00:00:00\n",
      "updateing file: ../data/weather_cities/Hai_Chau.csv\n",
      "missing date 31\n"
     ]
    },
    {
     "data": {
      "application/vnd.jupyter.widget-view+json": {
       "model_id": "91f014a445e4482e9f1d084ad30a4bc3",
       "version_major": 2,
       "version_minor": 0
      },
      "text/plain": [
       "HBox(children=(FloatProgress(value=1.0, bar_style='info', max=1.0), HTML(value='')))"
      ]
     },
     "metadata": {},
     "output_type": "display_data"
    },
    {
     "name": "stdout",
     "output_type": "stream",
     "text": [
      "\n",
      "2019-07-01 00:00:00\n",
      "updateing file: ../data/weather_cities/Hai_Chau.csv\n",
      "missing date 31\n"
     ]
    },
    {
     "data": {
      "application/vnd.jupyter.widget-view+json": {
       "model_id": "d30c1f3b4b7a4df590afb3e780d334d1",
       "version_major": 2,
       "version_minor": 0
      },
      "text/plain": [
       "HBox(children=(FloatProgress(value=1.0, bar_style='info', max=1.0), HTML(value='')))"
      ]
     },
     "metadata": {},
     "output_type": "display_data"
    },
    {
     "name": "stdout",
     "output_type": "stream",
     "text": [
      "\n",
      "2019-06-01 00:00:00\n",
      "updateing file: ../data/weather_cities/Hai_Chau.csv\n",
      "missing date 30\n"
     ]
    },
    {
     "data": {
      "application/vnd.jupyter.widget-view+json": {
       "model_id": "4da20545c503439da9e7608dde8b41ec",
       "version_major": 2,
       "version_minor": 0
      },
      "text/plain": [
       "HBox(children=(FloatProgress(value=1.0, bar_style='info', max=1.0), HTML(value='')))"
      ]
     },
     "metadata": {},
     "output_type": "display_data"
    },
    {
     "name": "stdout",
     "output_type": "stream",
     "text": [
      "\n",
      "2019-05-01 00:00:00\n",
      "updateing file: ../data/weather_cities/Hai_Chau.csv\n",
      "missing date 31\n"
     ]
    },
    {
     "data": {
      "application/vnd.jupyter.widget-view+json": {
       "model_id": "7acc4b86b3834a68aa64c047658fbf5d",
       "version_major": 2,
       "version_minor": 0
      },
      "text/plain": [
       "HBox(children=(FloatProgress(value=1.0, bar_style='info', max=1.0), HTML(value='')))"
      ]
     },
     "metadata": {},
     "output_type": "display_data"
    },
    {
     "name": "stdout",
     "output_type": "stream",
     "text": [
      "\n",
      "2019-04-01 00:00:00\n",
      "updateing file: ../data/weather_cities/Hai_Chau.csv\n",
      "missing date 30\n"
     ]
    },
    {
     "data": {
      "application/vnd.jupyter.widget-view+json": {
       "model_id": "b833ad5f1d934715a7b18df6666ebd16",
       "version_major": 2,
       "version_minor": 0
      },
      "text/plain": [
       "HBox(children=(FloatProgress(value=1.0, bar_style='info', max=1.0), HTML(value='')))"
      ]
     },
     "metadata": {},
     "output_type": "display_data"
    },
    {
     "name": "stdout",
     "output_type": "stream",
     "text": [
      "\n",
      "2019-03-01 00:00:00\n",
      "updateing file: ../data/weather_cities/Hai_Chau.csv\n",
      "missing date 31\n"
     ]
    },
    {
     "data": {
      "application/vnd.jupyter.widget-view+json": {
       "model_id": "7fe84a0e12034385b3c1d2ec4fffeeb6",
       "version_major": 2,
       "version_minor": 0
      },
      "text/plain": [
       "HBox(children=(FloatProgress(value=1.0, bar_style='info', max=1.0), HTML(value='')))"
      ]
     },
     "metadata": {},
     "output_type": "display_data"
    },
    {
     "name": "stdout",
     "output_type": "stream",
     "text": [
      "\n",
      "2019-02-01 00:00:00\n",
      "updateing file: ../data/weather_cities/Hai_Chau.csv\n",
      "missing date 28\n"
     ]
    },
    {
     "data": {
      "application/vnd.jupyter.widget-view+json": {
       "model_id": "af7bb1bd7c354399a82e48c720f54d8d",
       "version_major": 2,
       "version_minor": 0
      },
      "text/plain": [
       "HBox(children=(FloatProgress(value=1.0, bar_style='info', max=1.0), HTML(value='')))"
      ]
     },
     "metadata": {},
     "output_type": "display_data"
    },
    {
     "name": "stdout",
     "output_type": "stream",
     "text": [
      "\n",
      "2019-01-01 00:00:00\n",
      "updateing file: ../data/weather_cities/Hai_Chau.csv\n",
      "missing date 31\n"
     ]
    },
    {
     "data": {
      "application/vnd.jupyter.widget-view+json": {
       "model_id": "7c6ba0eaed89415981ecc6dbf95f168e",
       "version_major": 2,
       "version_minor": 0
      },
      "text/plain": [
       "HBox(children=(FloatProgress(value=1.0, bar_style='info', max=1.0), HTML(value='')))"
      ]
     },
     "metadata": {},
     "output_type": "display_data"
    },
    {
     "name": "stdout",
     "output_type": "stream",
     "text": [
      "\n",
      "2018-12-01 00:00:00\n",
      "updateing file: ../data/weather_cities/Hai_Chau.csv\n",
      "missing date 31\n"
     ]
    },
    {
     "data": {
      "application/vnd.jupyter.widget-view+json": {
       "model_id": "032852a72c744b71b6a3c115d2ad00bc",
       "version_major": 2,
       "version_minor": 0
      },
      "text/plain": [
       "HBox(children=(FloatProgress(value=1.0, bar_style='info', max=1.0), HTML(value='')))"
      ]
     },
     "metadata": {},
     "output_type": "display_data"
    },
    {
     "name": "stdout",
     "output_type": "stream",
     "text": [
      "\n",
      "2018-11-01 00:00:00\n",
      "updateing file: ../data/weather_cities/Hai_Chau.csv\n",
      "missing date 30\n"
     ]
    },
    {
     "data": {
      "application/vnd.jupyter.widget-view+json": {
       "model_id": "d364511bcbf24b1d8d2a40251a07ce6a",
       "version_major": 2,
       "version_minor": 0
      },
      "text/plain": [
       "HBox(children=(FloatProgress(value=1.0, bar_style='info', max=1.0), HTML(value='')))"
      ]
     },
     "metadata": {},
     "output_type": "display_data"
    },
    {
     "name": "stdout",
     "output_type": "stream",
     "text": [
      "\n",
      "2018-10-01 00:00:00\n",
      "updateing file: ../data/weather_cities/Hai_Chau.csv\n",
      "missing date 31\n"
     ]
    },
    {
     "data": {
      "application/vnd.jupyter.widget-view+json": {
       "model_id": "a89be41c31f34e7c9a0ffc782c2bd5fd",
       "version_major": 2,
       "version_minor": 0
      },
      "text/plain": [
       "HBox(children=(FloatProgress(value=1.0, bar_style='info', max=1.0), HTML(value='')))"
      ]
     },
     "metadata": {},
     "output_type": "display_data"
    },
    {
     "name": "stdout",
     "output_type": "stream",
     "text": [
      "\n",
      "2018-09-01 00:00:00\n",
      "updateing file: ../data/weather_cities/Hai_Chau.csv\n",
      "missing date 30\n"
     ]
    },
    {
     "data": {
      "application/vnd.jupyter.widget-view+json": {
       "model_id": "0600f106e1164b538c201990c66f9730",
       "version_major": 2,
       "version_minor": 0
      },
      "text/plain": [
       "HBox(children=(FloatProgress(value=1.0, bar_style='info', max=1.0), HTML(value='')))"
      ]
     },
     "metadata": {},
     "output_type": "display_data"
    },
    {
     "name": "stdout",
     "output_type": "stream",
     "text": [
      "\n",
      "2018-08-01 00:00:00\n",
      "updateing file: ../data/weather_cities/Hai_Chau.csv\n",
      "missing date 31\n"
     ]
    },
    {
     "data": {
      "application/vnd.jupyter.widget-view+json": {
       "model_id": "e7ddae2723f647db8a3c789158577294",
       "version_major": 2,
       "version_minor": 0
      },
      "text/plain": [
       "HBox(children=(FloatProgress(value=1.0, bar_style='info', max=1.0), HTML(value='')))"
      ]
     },
     "metadata": {},
     "output_type": "display_data"
    },
    {
     "name": "stdout",
     "output_type": "stream",
     "text": [
      "\n",
      "2018-07-01 00:00:00\n",
      "updateing file: ../data/weather_cities/Hai_Chau.csv\n",
      "missing date 31\n"
     ]
    },
    {
     "data": {
      "application/vnd.jupyter.widget-view+json": {
       "model_id": "caacae02822b4cdd98e34547526a05b6",
       "version_major": 2,
       "version_minor": 0
      },
      "text/plain": [
       "HBox(children=(FloatProgress(value=1.0, bar_style='info', max=1.0), HTML(value='')))"
      ]
     },
     "metadata": {},
     "output_type": "display_data"
    },
    {
     "name": "stdout",
     "output_type": "stream",
     "text": [
      "\n",
      "2018-06-01 00:00:00\n",
      "updateing file: ../data/weather_cities/Hai_Chau.csv\n",
      "missing date 30\n"
     ]
    },
    {
     "data": {
      "application/vnd.jupyter.widget-view+json": {
       "model_id": "f8a422774b3e47669e7a7e792ed71f96",
       "version_major": 2,
       "version_minor": 0
      },
      "text/plain": [
       "HBox(children=(FloatProgress(value=1.0, bar_style='info', max=1.0), HTML(value='')))"
      ]
     },
     "metadata": {},
     "output_type": "display_data"
    },
    {
     "name": "stdout",
     "output_type": "stream",
     "text": [
      "\n",
      "2018-05-01 00:00:00\n",
      "updateing file: ../data/weather_cities/Hai_Chau.csv\n",
      "missing date 31\n"
     ]
    },
    {
     "data": {
      "application/vnd.jupyter.widget-view+json": {
       "model_id": "a1824a7df9cf4c9cae39e0df1fb9b47e",
       "version_major": 2,
       "version_minor": 0
      },
      "text/plain": [
       "HBox(children=(FloatProgress(value=1.0, bar_style='info', max=1.0), HTML(value='')))"
      ]
     },
     "metadata": {},
     "output_type": "display_data"
    },
    {
     "name": "stdout",
     "output_type": "stream",
     "text": [
      "\n",
      "2018-04-01 00:00:00\n",
      "updateing file: ../data/weather_cities/Hai_Chau.csv\n",
      "missing date 30\n"
     ]
    },
    {
     "data": {
      "application/vnd.jupyter.widget-view+json": {
       "model_id": "332b110c257746dcbd8430d74fa3c40b",
       "version_major": 2,
       "version_minor": 0
      },
      "text/plain": [
       "HBox(children=(FloatProgress(value=1.0, bar_style='info', max=1.0), HTML(value='')))"
      ]
     },
     "metadata": {},
     "output_type": "display_data"
    },
    {
     "name": "stdout",
     "output_type": "stream",
     "text": [
      "\n",
      "2018-03-01 00:00:00\n",
      "updateing file: ../data/weather_cities/Hai_Chau.csv\n",
      "missing date 31\n"
     ]
    },
    {
     "data": {
      "application/vnd.jupyter.widget-view+json": {
       "model_id": "e37db20fd2fb44298a910d4bb43bedd6",
       "version_major": 2,
       "version_minor": 0
      },
      "text/plain": [
       "HBox(children=(FloatProgress(value=1.0, bar_style='info', max=1.0), HTML(value='')))"
      ]
     },
     "metadata": {},
     "output_type": "display_data"
    },
    {
     "name": "stdout",
     "output_type": "stream",
     "text": [
      "\n",
      "2018-02-01 00:00:00\n",
      "updateing file: ../data/weather_cities/Hai_Chau.csv\n",
      "missing date 28\n"
     ]
    },
    {
     "data": {
      "application/vnd.jupyter.widget-view+json": {
       "model_id": "c86ad2814f924037835b171a99ccb862",
       "version_major": 2,
       "version_minor": 0
      },
      "text/plain": [
       "HBox(children=(FloatProgress(value=1.0, bar_style='info', max=1.0), HTML(value='')))"
      ]
     },
     "metadata": {},
     "output_type": "display_data"
    },
    {
     "name": "stdout",
     "output_type": "stream",
     "text": [
      "\n",
      "2018-01-01 00:00:00\n",
      "updateing file: ../data/weather_cities/Hai_Chau.csv\n",
      "missing date 31\n"
     ]
    },
    {
     "data": {
      "application/vnd.jupyter.widget-view+json": {
       "model_id": "97e716c241e549eb82f8e98b3178f5ef",
       "version_major": 2,
       "version_minor": 0
      },
      "text/plain": [
       "HBox(children=(FloatProgress(value=1.0, bar_style='info', max=1.0), HTML(value='')))"
      ]
     },
     "metadata": {},
     "output_type": "display_data"
    },
    {
     "name": "stdout",
     "output_type": "stream",
     "text": [
      "\n",
      "2017-12-01 00:00:00\n",
      "updateing file: ../data/weather_cities/Hai_Chau.csv\n",
      "missing date 31\n"
     ]
    },
    {
     "data": {
      "application/vnd.jupyter.widget-view+json": {
       "model_id": "e3b9a193c6e6454d8bde5ef11d9f61af",
       "version_major": 2,
       "version_minor": 0
      },
      "text/plain": [
       "HBox(children=(FloatProgress(value=1.0, bar_style='info', max=1.0), HTML(value='')))"
      ]
     },
     "metadata": {},
     "output_type": "display_data"
    },
    {
     "name": "stdout",
     "output_type": "stream",
     "text": [
      "\n",
      "2017-11-01 00:00:00\n",
      "updateing file: ../data/weather_cities/Hai_Chau.csv\n",
      "missing date 30\n"
     ]
    },
    {
     "data": {
      "application/vnd.jupyter.widget-view+json": {
       "model_id": "25b83b2a44ad4b4c85004ba61f25adc5",
       "version_major": 2,
       "version_minor": 0
      },
      "text/plain": [
       "HBox(children=(FloatProgress(value=1.0, bar_style='info', max=1.0), HTML(value='')))"
      ]
     },
     "metadata": {},
     "output_type": "display_data"
    },
    {
     "name": "stdout",
     "output_type": "stream",
     "text": [
      "\n",
      "2017-10-01 00:00:00\n",
      "updateing file: ../data/weather_cities/Hai_Chau.csv\n",
      "missing date 31\n"
     ]
    },
    {
     "data": {
      "application/vnd.jupyter.widget-view+json": {
       "model_id": "e867a44405bb4025bc15262298f81732",
       "version_major": 2,
       "version_minor": 0
      },
      "text/plain": [
       "HBox(children=(FloatProgress(value=1.0, bar_style='info', max=1.0), HTML(value='')))"
      ]
     },
     "metadata": {},
     "output_type": "display_data"
    },
    {
     "name": "stdout",
     "output_type": "stream",
     "text": [
      "\n",
      "2017-09-01 00:00:00\n",
      "updateing file: ../data/weather_cities/Hai_Chau.csv\n",
      "missing date 30\n"
     ]
    },
    {
     "data": {
      "application/vnd.jupyter.widget-view+json": {
       "model_id": "5d53fe49d53b4bf191fc112200f65e85",
       "version_major": 2,
       "version_minor": 0
      },
      "text/plain": [
       "HBox(children=(FloatProgress(value=1.0, bar_style='info', max=1.0), HTML(value='')))"
      ]
     },
     "metadata": {},
     "output_type": "display_data"
    },
    {
     "name": "stdout",
     "output_type": "stream",
     "text": [
      "\n",
      "2017-08-01 00:00:00\n",
      "updateing file: ../data/weather_cities/Hai_Chau.csv\n",
      "missing date 31\n"
     ]
    },
    {
     "data": {
      "application/vnd.jupyter.widget-view+json": {
       "model_id": "2fe11ed09b9a4b80b0561e4cdb73bfdb",
       "version_major": 2,
       "version_minor": 0
      },
      "text/plain": [
       "HBox(children=(FloatProgress(value=1.0, bar_style='info', max=1.0), HTML(value='')))"
      ]
     },
     "metadata": {},
     "output_type": "display_data"
    },
    {
     "name": "stdout",
     "output_type": "stream",
     "text": [
      "\n",
      "2017-07-01 00:00:00\n",
      "updateing file: ../data/weather_cities/Hai_Chau.csv\n",
      "missing date 31\n"
     ]
    },
    {
     "data": {
      "application/vnd.jupyter.widget-view+json": {
       "model_id": "5fedb178c5d74ba1ae5249da36367fac",
       "version_major": 2,
       "version_minor": 0
      },
      "text/plain": [
       "HBox(children=(FloatProgress(value=1.0, bar_style='info', max=1.0), HTML(value='')))"
      ]
     },
     "metadata": {},
     "output_type": "display_data"
    },
    {
     "name": "stdout",
     "output_type": "stream",
     "text": [
      "\n",
      "2017-06-01 00:00:00\n",
      "updateing file: ../data/weather_cities/Hai_Chau.csv\n",
      "missing date 30\n"
     ]
    },
    {
     "data": {
      "application/vnd.jupyter.widget-view+json": {
       "model_id": "4ca35e30dbf54343831bf0535c224a44",
       "version_major": 2,
       "version_minor": 0
      },
      "text/plain": [
       "HBox(children=(FloatProgress(value=1.0, bar_style='info', max=1.0), HTML(value='')))"
      ]
     },
     "metadata": {},
     "output_type": "display_data"
    },
    {
     "name": "stdout",
     "output_type": "stream",
     "text": [
      "\n",
      "2017-05-01 00:00:00\n",
      "updateing file: ../data/weather_cities/Hai_Chau.csv\n",
      "missing date 31\n"
     ]
    },
    {
     "data": {
      "application/vnd.jupyter.widget-view+json": {
       "model_id": "ffa362e4fdd54f0ea991dba20109a797",
       "version_major": 2,
       "version_minor": 0
      },
      "text/plain": [
       "HBox(children=(FloatProgress(value=1.0, bar_style='info', max=1.0), HTML(value='')))"
      ]
     },
     "metadata": {},
     "output_type": "display_data"
    },
    {
     "name": "stdout",
     "output_type": "stream",
     "text": [
      "\n",
      "2017-04-01 00:00:00\n",
      "updateing file: ../data/weather_cities/Hai_Chau.csv\n",
      "missing date 30\n"
     ]
    },
    {
     "data": {
      "application/vnd.jupyter.widget-view+json": {
       "model_id": "95d6c34a2f5f41bcaf82abe7bc573335",
       "version_major": 2,
       "version_minor": 0
      },
      "text/plain": [
       "HBox(children=(FloatProgress(value=1.0, bar_style='info', max=1.0), HTML(value='')))"
      ]
     },
     "metadata": {},
     "output_type": "display_data"
    },
    {
     "name": "stdout",
     "output_type": "stream",
     "text": [
      "\n",
      "2017-03-01 00:00:00\n",
      "updateing file: ../data/weather_cities/Hai_Chau.csv\n",
      "missing date 31\n"
     ]
    },
    {
     "data": {
      "application/vnd.jupyter.widget-view+json": {
       "model_id": "bf2e2fe4f78f46809d638b1931e0412a",
       "version_major": 2,
       "version_minor": 0
      },
      "text/plain": [
       "HBox(children=(FloatProgress(value=1.0, bar_style='info', max=1.0), HTML(value='')))"
      ]
     },
     "metadata": {},
     "output_type": "display_data"
    },
    {
     "name": "stdout",
     "output_type": "stream",
     "text": [
      "\n",
      "2017-02-01 00:00:00\n",
      "updateing file: ../data/weather_cities/Hai_Chau.csv\n",
      "missing date 28\n"
     ]
    },
    {
     "data": {
      "application/vnd.jupyter.widget-view+json": {
       "model_id": "f2f0308b748742278a57c509e3cee2bc",
       "version_major": 2,
       "version_minor": 0
      },
      "text/plain": [
       "HBox(children=(FloatProgress(value=1.0, bar_style='info', max=1.0), HTML(value='')))"
      ]
     },
     "metadata": {},
     "output_type": "display_data"
    },
    {
     "name": "stdout",
     "output_type": "stream",
     "text": [
      "\n",
      "2017-01-01 00:00:00\n",
      "updateing file: ../data/weather_cities/Hai_Chau.csv\n",
      "missing date 31\n"
     ]
    },
    {
     "data": {
      "application/vnd.jupyter.widget-view+json": {
       "model_id": "1902c51b6658478787c8311e770fc70b",
       "version_major": 2,
       "version_minor": 0
      },
      "text/plain": [
       "HBox(children=(FloatProgress(value=1.0, bar_style='info', max=1.0), HTML(value='')))"
      ]
     },
     "metadata": {},
     "output_type": "display_data"
    },
    {
     "name": "stdout",
     "output_type": "stream",
     "text": [
      "\n",
      "2016-12-01 00:00:00\n",
      "updateing file: ../data/weather_cities/Hai_Chau.csv\n",
      "missing date 31\n"
     ]
    },
    {
     "data": {
      "application/vnd.jupyter.widget-view+json": {
       "model_id": "77446492334b4a4f98ff9ebaa0bf577a",
       "version_major": 2,
       "version_minor": 0
      },
      "text/plain": [
       "HBox(children=(FloatProgress(value=1.0, bar_style='info', max=1.0), HTML(value='')))"
      ]
     },
     "metadata": {},
     "output_type": "display_data"
    },
    {
     "name": "stdout",
     "output_type": "stream",
     "text": [
      "\n",
      "2016-11-01 00:00:00\n",
      "updateing file: ../data/weather_cities/Hai_Chau.csv\n",
      "missing date 30\n"
     ]
    },
    {
     "data": {
      "application/vnd.jupyter.widget-view+json": {
       "model_id": "8ced44c6135f44d493e38483f00778db",
       "version_major": 2,
       "version_minor": 0
      },
      "text/plain": [
       "HBox(children=(FloatProgress(value=1.0, bar_style='info', max=1.0), HTML(value='')))"
      ]
     },
     "metadata": {},
     "output_type": "display_data"
    },
    {
     "name": "stdout",
     "output_type": "stream",
     "text": [
      "\n",
      "2016-10-01 00:00:00\n",
      "updateing file: ../data/weather_cities/Hai_Chau.csv\n",
      "missing date 32\n"
     ]
    },
    {
     "data": {
      "application/vnd.jupyter.widget-view+json": {
       "model_id": "ed8527fd1e564d6db7e1ecda401cd60c",
       "version_major": 2,
       "version_minor": 0
      },
      "text/plain": [
       "HBox(children=(FloatProgress(value=1.0, bar_style='info', max=1.0), HTML(value='')))"
      ]
     },
     "metadata": {},
     "output_type": "display_data"
    },
    {
     "name": "stdout",
     "output_type": "stream",
     "text": [
      "\n",
      "2016-09-01 00:00:00\n",
      "updateing file: ../data/weather_cities/Hai_Chau.csv\n",
      "missing date 30\n"
     ]
    },
    {
     "data": {
      "application/vnd.jupyter.widget-view+json": {
       "model_id": "b920a75b16f740beb1ff0602d03cd4de",
       "version_major": 2,
       "version_minor": 0
      },
      "text/plain": [
       "HBox(children=(FloatProgress(value=1.0, bar_style='info', max=1.0), HTML(value='')))"
      ]
     },
     "metadata": {},
     "output_type": "display_data"
    },
    {
     "name": "stdout",
     "output_type": "stream",
     "text": [
      "\n",
      "2016-08-01 00:00:00\n",
      "updateing file: ../data/weather_cities/Hai_Chau.csv\n",
      "missing date 31\n"
     ]
    },
    {
     "data": {
      "application/vnd.jupyter.widget-view+json": {
       "model_id": "11d8c2b16ee24b37b461ea31c3abacc8",
       "version_major": 2,
       "version_minor": 0
      },
      "text/plain": [
       "HBox(children=(FloatProgress(value=1.0, bar_style='info', max=1.0), HTML(value='')))"
      ]
     },
     "metadata": {},
     "output_type": "display_data"
    },
    {
     "name": "stdout",
     "output_type": "stream",
     "text": [
      "\n",
      "2016-07-01 00:00:00\n",
      "updateing file: ../data/weather_cities/Hai_Chau.csv\n",
      "missing date 31\n"
     ]
    },
    {
     "data": {
      "application/vnd.jupyter.widget-view+json": {
       "model_id": "366fa630cff64132890e8c481b510b47",
       "version_major": 2,
       "version_minor": 0
      },
      "text/plain": [
       "HBox(children=(FloatProgress(value=1.0, bar_style='info', max=1.0), HTML(value='')))"
      ]
     },
     "metadata": {},
     "output_type": "display_data"
    },
    {
     "name": "stdout",
     "output_type": "stream",
     "text": [
      "\n",
      "2016-06-01 00:00:00\n",
      "updateing file: ../data/weather_cities/Hai_Chau.csv\n",
      "missing date 30\n"
     ]
    },
    {
     "data": {
      "application/vnd.jupyter.widget-view+json": {
       "model_id": "5ae2d2ee47ad4b91b5f86d8e65c3af5f",
       "version_major": 2,
       "version_minor": 0
      },
      "text/plain": [
       "HBox(children=(FloatProgress(value=1.0, bar_style='info', max=1.0), HTML(value='')))"
      ]
     },
     "metadata": {},
     "output_type": "display_data"
    },
    {
     "name": "stdout",
     "output_type": "stream",
     "text": [
      "\n",
      "2016-05-01 00:00:00\n",
      "updateing file: ../data/weather_cities/Hai_Chau.csv\n",
      "missing date 31\n"
     ]
    },
    {
     "data": {
      "application/vnd.jupyter.widget-view+json": {
       "model_id": "aa044edde4244217b0167623f9f19661",
       "version_major": 2,
       "version_minor": 0
      },
      "text/plain": [
       "HBox(children=(FloatProgress(value=1.0, bar_style='info', max=1.0), HTML(value='')))"
      ]
     },
     "metadata": {},
     "output_type": "display_data"
    },
    {
     "name": "stdout",
     "output_type": "stream",
     "text": [
      "\n",
      "2016-04-01 00:00:00\n",
      "updateing file: ../data/weather_cities/Hai_Chau.csv\n",
      "missing date 30\n"
     ]
    },
    {
     "data": {
      "application/vnd.jupyter.widget-view+json": {
       "model_id": "91e83ddbb34c4038a53936bc4484c2a6",
       "version_major": 2,
       "version_minor": 0
      },
      "text/plain": [
       "HBox(children=(FloatProgress(value=1.0, bar_style='info', max=1.0), HTML(value='')))"
      ]
     },
     "metadata": {},
     "output_type": "display_data"
    },
    {
     "name": "stdout",
     "output_type": "stream",
     "text": [
      "\n",
      "2016-03-01 00:00:00\n",
      "updateing file: ../data/weather_cities/Hai_Chau.csv\n",
      "missing date 31\n"
     ]
    },
    {
     "data": {
      "application/vnd.jupyter.widget-view+json": {
       "model_id": "ab617fdee4b74a759cf69cd427fc8d59",
       "version_major": 2,
       "version_minor": 0
      },
      "text/plain": [
       "HBox(children=(FloatProgress(value=1.0, bar_style='info', max=1.0), HTML(value='')))"
      ]
     },
     "metadata": {},
     "output_type": "display_data"
    },
    {
     "name": "stdout",
     "output_type": "stream",
     "text": [
      "\n",
      "2016-02-01 00:00:00\n",
      "updateing file: ../data/weather_cities/Hai_Chau.csv\n",
      "missing date 29\n"
     ]
    },
    {
     "data": {
      "application/vnd.jupyter.widget-view+json": {
       "model_id": "1b71463633f24809a13ab66d1476d41a",
       "version_major": 2,
       "version_minor": 0
      },
      "text/plain": [
       "HBox(children=(FloatProgress(value=1.0, bar_style='info', max=1.0), HTML(value='')))"
      ]
     },
     "metadata": {},
     "output_type": "display_data"
    },
    {
     "name": "stdout",
     "output_type": "stream",
     "text": [
      "\n",
      "2016-01-01 00:00:00\n",
      "updateing file: ../data/weather_cities/Hai_Chau.csv\n",
      "missing date 31\n"
     ]
    },
    {
     "data": {
      "application/vnd.jupyter.widget-view+json": {
       "model_id": "f3a97cb25df345d8b1c6d8e2ec3a1bb2",
       "version_major": 2,
       "version_minor": 0
      },
      "text/plain": [
       "HBox(children=(FloatProgress(value=1.0, bar_style='info', max=1.0), HTML(value='')))"
      ]
     },
     "metadata": {},
     "output_type": "display_data"
    },
    {
     "name": "stdout",
     "output_type": "stream",
     "text": [
      "\n",
      "2015-12-01 00:00:00\n",
      "updateing file: ../data/weather_cities/Hai_Chau.csv\n",
      "missing date 31\n"
     ]
    },
    {
     "data": {
      "application/vnd.jupyter.widget-view+json": {
       "model_id": "b647c25563944f1f950b2d7799cfaca5",
       "version_major": 2,
       "version_minor": 0
      },
      "text/plain": [
       "HBox(children=(FloatProgress(value=1.0, bar_style='info', max=1.0), HTML(value='')))"
      ]
     },
     "metadata": {},
     "output_type": "display_data"
    },
    {
     "name": "stdout",
     "output_type": "stream",
     "text": [
      "\n",
      "2015-11-01 00:00:00\n",
      "updateing file: ../data/weather_cities/Hai_Chau.csv\n",
      "missing date 30\n"
     ]
    },
    {
     "data": {
      "application/vnd.jupyter.widget-view+json": {
       "model_id": "b41b656552f54e7aac99b33b6c9516d4",
       "version_major": 2,
       "version_minor": 0
      },
      "text/plain": [
       "HBox(children=(FloatProgress(value=1.0, bar_style='info', max=1.0), HTML(value='')))"
      ]
     },
     "metadata": {},
     "output_type": "display_data"
    },
    {
     "name": "stdout",
     "output_type": "stream",
     "text": [
      "\n",
      "2015-10-01 00:00:00\n",
      "updateing file: ../data/weather_cities/Hai_Chau.csv\n",
      "missing date 33\n"
     ]
    },
    {
     "data": {
      "application/vnd.jupyter.widget-view+json": {
       "model_id": "41f05613111645099e4542fcdd966f4c",
       "version_major": 2,
       "version_minor": 0
      },
      "text/plain": [
       "HBox(children=(FloatProgress(value=1.0, bar_style='info', max=1.0), HTML(value='')))"
      ]
     },
     "metadata": {},
     "output_type": "display_data"
    },
    {
     "name": "stdout",
     "output_type": "stream",
     "text": [
      "\n",
      "2015-09-01 00:00:00\n",
      "updateing file: ../data/weather_cities/Hai_Chau.csv\n",
      "missing date 33\n"
     ]
    },
    {
     "data": {
      "application/vnd.jupyter.widget-view+json": {
       "model_id": "73ff306d8dbd47cea51532ce0d600a12",
       "version_major": 2,
       "version_minor": 0
      },
      "text/plain": [
       "HBox(children=(FloatProgress(value=1.0, bar_style='info', max=1.0), HTML(value='')))"
      ]
     },
     "metadata": {},
     "output_type": "display_data"
    },
    {
     "name": "stdout",
     "output_type": "stream",
     "text": [
      "\n",
      "2015-08-01 00:00:00\n",
      "updateing file: ../data/weather_cities/Hai_Chau.csv\n",
      "missing date 34\n"
     ]
    },
    {
     "data": {
      "application/vnd.jupyter.widget-view+json": {
       "model_id": "80f34f98855c49efa30b4e3a8711cf6e",
       "version_major": 2,
       "version_minor": 0
      },
      "text/plain": [
       "HBox(children=(FloatProgress(value=1.0, bar_style='info', max=1.0), HTML(value='')))"
      ]
     },
     "metadata": {},
     "output_type": "display_data"
    },
    {
     "name": "stdout",
     "output_type": "stream",
     "text": [
      "\n",
      "2015-07-01 00:00:00\n",
      "updateing file: ../data/weather_cities/Hai_Chau.csv\n",
      "missing date 34\n"
     ]
    },
    {
     "data": {
      "application/vnd.jupyter.widget-view+json": {
       "model_id": "460470bfa6744d15987d2a1ceb35d514",
       "version_major": 2,
       "version_minor": 0
      },
      "text/plain": [
       "HBox(children=(FloatProgress(value=1.0, bar_style='info', max=1.0), HTML(value='')))"
      ]
     },
     "metadata": {},
     "output_type": "display_data"
    },
    {
     "name": "stdout",
     "output_type": "stream",
     "text": [
      "\n",
      "2015-06-01 00:00:00\n",
      "updateing file: ../data/weather_cities/Hai_Chau.csv\n",
      "missing date 33\n"
     ]
    },
    {
     "data": {
      "application/vnd.jupyter.widget-view+json": {
       "model_id": "534de9e1e80644eba35124e2ab24a9aa",
       "version_major": 2,
       "version_minor": 0
      },
      "text/plain": [
       "HBox(children=(FloatProgress(value=1.0, bar_style='info', max=1.0), HTML(value='')))"
      ]
     },
     "metadata": {},
     "output_type": "display_data"
    },
    {
     "name": "stdout",
     "output_type": "stream",
     "text": [
      "\n",
      "2015-05-01 00:00:00\n",
      "updateing file: ../data/weather_cities/Hai_Chau.csv\n",
      "missing date 34\n"
     ]
    },
    {
     "data": {
      "application/vnd.jupyter.widget-view+json": {
       "model_id": "60578b8c61c441058da3c12078168cee",
       "version_major": 2,
       "version_minor": 0
      },
      "text/plain": [
       "HBox(children=(FloatProgress(value=1.0, bar_style='info', max=1.0), HTML(value='')))"
      ]
     },
     "metadata": {},
     "output_type": "display_data"
    },
    {
     "name": "stdout",
     "output_type": "stream",
     "text": [
      "\n",
      "2015-04-01 00:00:00\n",
      "updateing file: ../data/weather_cities/Hai_Chau.csv\n",
      "missing date 33\n"
     ]
    },
    {
     "data": {
      "application/vnd.jupyter.widget-view+json": {
       "model_id": "09ba13d7081045169fc6027aacf36009",
       "version_major": 2,
       "version_minor": 0
      },
      "text/plain": [
       "HBox(children=(FloatProgress(value=1.0, bar_style='info', max=1.0), HTML(value='')))"
      ]
     },
     "metadata": {},
     "output_type": "display_data"
    },
    {
     "name": "stdout",
     "output_type": "stream",
     "text": [
      "\n",
      "2015-03-01 00:00:00\n",
      "updateing file: ../data/weather_cities/Hai_Chau.csv\n",
      "missing date 34\n"
     ]
    },
    {
     "data": {
      "application/vnd.jupyter.widget-view+json": {
       "model_id": "0c6b20f665f34d52b0d9afd2fa72b181",
       "version_major": 2,
       "version_minor": 0
      },
      "text/plain": [
       "HBox(children=(FloatProgress(value=1.0, bar_style='info', max=1.0), HTML(value='')))"
      ]
     },
     "metadata": {},
     "output_type": "display_data"
    },
    {
     "name": "stdout",
     "output_type": "stream",
     "text": [
      "\n",
      "2015-02-01 00:00:00\n",
      "updateing file: ../data/weather_cities/Hai_Chau.csv\n",
      "missing date 31\n"
     ]
    },
    {
     "data": {
      "application/vnd.jupyter.widget-view+json": {
       "model_id": "1c27e4991cdb4791845b52fd9cf081a7",
       "version_major": 2,
       "version_minor": 0
      },
      "text/plain": [
       "HBox(children=(FloatProgress(value=1.0, bar_style='info', max=1.0), HTML(value='')))"
      ]
     },
     "metadata": {},
     "output_type": "display_data"
    },
    {
     "name": "stdout",
     "output_type": "stream",
     "text": [
      "\n",
      "2015-01-01 00:00:00\n",
      "updateing file: ../data/weather_cities/Hai_Chau.csv\n",
      "missing date 34\n"
     ]
    },
    {
     "data": {
      "application/vnd.jupyter.widget-view+json": {
       "model_id": "8769f3ad26fd41598df9294c0e47cc8b",
       "version_major": 2,
       "version_minor": 0
      },
      "text/plain": [
       "HBox(children=(FloatProgress(value=1.0, bar_style='info', max=1.0), HTML(value='')))"
      ]
     },
     "metadata": {},
     "output_type": "display_data"
    },
    {
     "name": "stdout",
     "output_type": "stream",
     "text": [
      "\n"
     ]
    }
   ],
   "source": [
    "# add weather data for Hai Chau\n",
    "year_list = [2019, 2018, 2017, 2016, 2015]\n",
    "month_list = np.arange(12, 0, -1)\n",
    "\n",
    "for year, month in product(year_list, month_list):\n",
    "    start_date = datetime(year, month, 1)\n",
    "    print(start_date)\n",
    "    end_date = datetime.now() - timedelta(days=1)\n",
    "    update_weather(city_json,data_folder=w_folder, start_date=start_date,end_date=end_date)"
   ]
  },
  {
   "cell_type": "markdown",
   "metadata": {},
   "source": [
    "## Add New Weather Stations from URL"
   ]
  },
  {
   "cell_type": "code",
   "execution_count": 77,
   "metadata": {
    "collapsed": true
   },
   "outputs": [
    {
     "data": {
      "text/plain": [
       "[{'city_name': 'Mueang Chiang Mai',\n",
       "  'province': 'Chiang Mai',\n",
       "  'country': 'Thailand',\n",
       "  'station_name': 'Chiang Mai International Airport Station',\n",
       "  'specific_url': 'th/mueang-chiang-mai/',\n",
       "  'latitude': '18.8 °N',\n",
       "  'longitude': '98.97 °E'},\n",
       " {'city_name': 'Mueang Chiang Rai',\n",
       "  'province': 'Chiang Rai',\n",
       "  'country': 'Thailand',\n",
       "  'station_name': 'Chiang Rai Station',\n",
       "  'specific_url': 'th/mueang-chiang-rai/',\n",
       "  'latitude': '19.91 °N',\n",
       "  'longitude': '99.83 °E'},\n",
       " {'city_name': 'Mueang Tak',\n",
       "  'province': 'Tak',\n",
       "  'country': 'Thailand',\n",
       "  'station_name': 'Tak Airport Station',\n",
       "  'specific_url': 'th/mueang-tak/',\n",
       "  'latitude': '16.87 °N',\n",
       "  'longitude': '99.13 °E'},\n",
       " {'city_name': 'Mueang Mae Hong Son',\n",
       "  'province': 'Mae Hong Son',\n",
       "  'country': 'Thailand',\n",
       "  'station_name': 'Mae Hong Son Airport Station',\n",
       "  'specific_url': 'th/mueang-mae-hong-son/',\n",
       "  'latitude': '19.3 °N',\n",
       "  'longitude': '97.97 °E'},\n",
       " {'city_name': 'Mueang Nan',\n",
       "  'province': 'Nan',\n",
       "  'country': 'Thailand',\n",
       "  'station_name': 'Nan Airport Station',\n",
       "  'specific_url': 'th/mueang-nan/',\n",
       "  'latitude': '18.78 °N',\n",
       "  'longitude': '100.77 °E'},\n",
       " {'city_name': 'Sawankhalok',\n",
       "  'province': 'Sukhothai',\n",
       "  'country': 'Thailand',\n",
       "  'station_name': 'Sukhothai Airport Station',\n",
       "  'specific_url': 'th/sawankhalok/',\n",
       "  'latitude': '17.31 °N',\n",
       "  'longitude': '99.83 °E'},\n",
       " {'city_name': 'Bangkok',\n",
       "  'province': 'Bangkok Metropolitan Region',\n",
       "  'country': 'Thailand',\n",
       "  'station_name': 'Don Mueang International Airport Station',\n",
       "  'specific_url': 'th/bangkok/',\n",
       "  'latitude': '13.91 °N',\n",
       "  'longitude': '100.59 °E'},\n",
       " {'city_name': 'Bang Phli',\n",
       "  'province': 'Samut Prakan',\n",
       "  'country': 'Thailand',\n",
       "  'station_name': 'Suvarnabhumi Airport Station',\n",
       "  'specific_url': 'th/bang-phli/',\n",
       "  'latitude': '13.69 °N',\n",
       "  'longitude': '100.75 °E'},\n",
       " {'city_name': 'Ban Chang',\n",
       "  'province': 'Rayong',\n",
       "  'country': 'Thailand',\n",
       "  'station_name': 'U-Tapao International Airport Station',\n",
       "  'specific_url': 'th/ban-chang/',\n",
       "  'latitude': '12.72 °N',\n",
       "  'longitude': '101.05 °E'},\n",
       " {'city_name': 'Hai Chau',\n",
       "  'province': 'Da Nang',\n",
       "  'country': 'Vietnam',\n",
       "  'station_name': 'Da Nang International Airport Station',\n",
       "  'specific_url': 'vn/hai-chau/',\n",
       "  'latitude': '16.04 °N',\n",
       "  'longitude': '108.2 °E'},\n",
       " {'city_name': 'Siem Reap District',\n",
       "  'province': 'Siem Reap Province',\n",
       "  'country': 'Cambodia',\n",
       "  'station_name': 'Siem Reap International Airport Station',\n",
       "  'specific_url': 'kh/siem-reap-district/',\n",
       "  'latitude': '13.41 °N',\n",
       "  'longitude': '103.81 °E'},\n",
       " {'city_name': 'Phnom Penh',\n",
       "  'province': '',\n",
       "  'country': 'Cambodia',\n",
       "  'station_name': 'Phnom Penh International Airport Station',\n",
       "  'specific_url': 'kh/phnom-penh/',\n",
       "  'latitude': '11.55 °N',\n",
       "  'longitude': '104.84 °E'},\n",
       " {'city_name': 'Quận Tân Bình',\n",
       "  'province': 'Ho Chi Minh City',\n",
       "  'country': 'Vietnam',\n",
       "  'station_name': 'Tan Son Nhat International Airport Station',\n",
       "  'specific_url': 'vn/qu%E1%BA%ADn-t%C3%A2n-b%C3%ACnh/',\n",
       "  'latitude': '10.82 °N',\n",
       "  'longitude': '106.65 °E'},\n",
       " {'city_name': 'Soc Son',\n",
       "  'province': 'Hanoi',\n",
       "  'country': 'Vietnam',\n",
       "  'station_name': 'Noi Bai International Airport Station',\n",
       "  'specific_url': 'vn/soc-son/',\n",
       "  'latitude': '21.25 °N',\n",
       "  'longitude': '105.82 °E'},\n",
       " {'city_name': 'Yangon',\n",
       "  'province': 'Yangon Region',\n",
       "  'country': 'Myanmar',\n",
       "  'station_name': 'Yangon International Airport Station',\n",
       "  'specific_url': 'mm/yangon/',\n",
       "  'latitude': '16.99 °N',\n",
       "  'longitude': '96.14 °E'},\n",
       " {'city_name': 'Tada-U',\n",
       "  'province': 'Mandalay Region',\n",
       "  'country': 'Myanmar',\n",
       "  'station_name': 'Mandalay International Airport Station',\n",
       "  'specific_url': 'mm/tada-u/',\n",
       "  'latitude': '21.82 °N',\n",
       "  'longitude': '95.97 °E'},\n",
       " {'city_name': 'Chittagong',\n",
       "  'province': 'Chittagong',\n",
       "  'country': 'Bangladesh',\n",
       "  'station_name': 'Shah Amanat International Airport Station',\n",
       "  'specific_url': 'bd/chittagong/',\n",
       "  'latitude': '22.32 °N',\n",
       "  'longitude': '91.82 °E'},\n",
       " {'city_name': 'Dhaka',\n",
       "  'province': 'Dhaka Division',\n",
       "  'country': 'Bangladesh',\n",
       "  'station_name': 'Shahjalal International Airport Station',\n",
       "  'specific_url': 'bd/dhaka/',\n",
       "  'latitude': '23.7 °N',\n",
       "  'longitude': '90.37 °E'},\n",
       " {'city_name': 'Kunming',\n",
       "  'province': 'Yunnan',\n",
       "  'country': \"People's Republic of China\",\n",
       "  'station_name': 'Kunming Changshui International Airport Station',\n",
       "  'specific_url': 'cn/kunming/',\n",
       "  'latitude': '25.02 °N',\n",
       "  'longitude': '102.74 °E'},\n",
       " {'city_name': 'Sikhottabong',\n",
       "  'province': 'Vientiane',\n",
       "  'country': 'Laos',\n",
       "  'station_name': 'Wattay International Airport Station',\n",
       "  'specific_url': 'la/sikhottabong/',\n",
       "  'latitude': '18.01 °N',\n",
       "  'longitude': '102.48 °E'},\n",
       " {'city_name': 'Luang Prabang District',\n",
       "  'province': 'Luang Prabang Province',\n",
       "  'country': 'Laos',\n",
       "  'station_name': 'Luang Prabang International Airport Station',\n",
       "  'specific_url': 'la/luang-prabang-district/',\n",
       "  'latitude': '19.9 °N',\n",
       "  'longitude': '102.15 °E'},\n",
       " {'city_name': 'Namtha District',\n",
       "  'province': 'Luang Namtha Province',\n",
       "  'country': 'Laos',\n",
       "  'station_name': 'Luang Namtha Station',\n",
       "  'specific_url': 'la/namtha-district/',\n",
       "  'latitude': '21 °N',\n",
       "  'longitude': '101.45 °E'},\n",
       " {'city_name': 'Soc Son',\n",
       "  'province': 'Hanoi',\n",
       "  'country': 'Vietnam',\n",
       "  'station_name': 'Noi Bai International Airport Station',\n",
       "  'specific_url': 'vn/soc-son/',\n",
       "  'latitude': '21.25 °N',\n",
       "  'longitude': '105.82 °E'}]"
      ]
     },
     "execution_count": 77,
     "metadata": {},
     "output_type": "execute_result"
    }
   ],
   "source": [
    "station_info"
   ]
  },
  {
   "cell_type": "code",
   "execution_count": 2,
   "metadata": {},
   "outputs": [
    {
     "name": "stdout",
     "output_type": "stream",
     "text": [
      "add  Khlong Hoi Khong\n"
     ]
    }
   ],
   "source": [
    "station_list = ['https://www.wunderground.com/history/daily/th/khlong-hoi-khong/VTSS/date/2006-1-7' ] \n",
    "add_weather_station(station_list)"
   ]
  },
  {
   "cell_type": "markdown",
   "metadata": {},
   "source": [
    "## Weather Debug"
   ]
  },
  {
   "cell_type": "code",
   "execution_count": 35,
   "metadata": {},
   "outputs": [],
   "source": [
    "url = 'https://www.wunderground.com/history/daily/th/bangkok/date/2020-12-27'\n",
    "waittime = 2"
   ]
  },
  {
   "cell_type": "code",
   "execution_count": 36,
   "metadata": {},
   "outputs": [],
   "source": [
    "browser = webdriver.Firefox()"
   ]
  },
  {
   "cell_type": "code",
   "execution_count": 37,
   "metadata": {},
   "outputs": [],
   "source": [
    "browser.get(url)\n",
    "time.sleep(5)\n",
    "innerhtml = browser.execute_script(\"return document.body.innerHTML\")\n",
    "soup = BeautifulSoup(innerhtml, features=\"lxml\")"
   ]
  },
  {
   "cell_type": "code",
   "execution_count": 38,
   "metadata": {},
   "outputs": [],
   "source": [
    "df_list = pd.read_html(str(soup))"
   ]
  },
  {
   "cell_type": "code",
   "execution_count": 40,
   "metadata": {},
   "outputs": [
    {
     "data": {
      "text/html": [
       "<div>\n",
       "<style scoped>\n",
       "    .dataframe tbody tr th:only-of-type {\n",
       "        vertical-align: middle;\n",
       "    }\n",
       "\n",
       "    .dataframe tbody tr th {\n",
       "        vertical-align: top;\n",
       "    }\n",
       "\n",
       "    .dataframe thead th {\n",
       "        text-align: right;\n",
       "    }\n",
       "</style>\n",
       "<table border=\"1\" class=\"dataframe\">\n",
       "  <thead>\n",
       "    <tr style=\"text-align: right;\">\n",
       "      <th></th>\n",
       "      <th>Time</th>\n",
       "      <th>Temperature</th>\n",
       "      <th>Dew Point</th>\n",
       "      <th>Humidity</th>\n",
       "      <th>Wind</th>\n",
       "      <th>Wind Speed</th>\n",
       "      <th>Wind Gust</th>\n",
       "      <th>Pressure</th>\n",
       "      <th>Precip.</th>\n",
       "      <th>Condition</th>\n",
       "    </tr>\n",
       "  </thead>\n",
       "  <tbody>\n",
       "    <tr>\n",
       "      <th>0</th>\n",
       "      <td>12:00 AM</td>\n",
       "      <td>81 F</td>\n",
       "      <td>72 F</td>\n",
       "      <td>74 %</td>\n",
       "      <td>CALM</td>\n",
       "      <td>0 mph</td>\n",
       "      <td>0 mph</td>\n",
       "      <td>29.87 in</td>\n",
       "      <td>0.0 in</td>\n",
       "      <td>Fair</td>\n",
       "    </tr>\n",
       "    <tr>\n",
       "      <th>1</th>\n",
       "      <td>12:30 AM</td>\n",
       "      <td>81 F</td>\n",
       "      <td>72 F</td>\n",
       "      <td>74 %</td>\n",
       "      <td>CALM</td>\n",
       "      <td>0 mph</td>\n",
       "      <td>0 mph</td>\n",
       "      <td>29.87 in</td>\n",
       "      <td>0.0 in</td>\n",
       "      <td>Fair</td>\n",
       "    </tr>\n",
       "    <tr>\n",
       "      <th>2</th>\n",
       "      <td>1:00 AM</td>\n",
       "      <td>81 F</td>\n",
       "      <td>73 F</td>\n",
       "      <td>79 %</td>\n",
       "      <td>CALM</td>\n",
       "      <td>0 mph</td>\n",
       "      <td>0 mph</td>\n",
       "      <td>29.87 in</td>\n",
       "      <td>0.0 in</td>\n",
       "      <td>Fair</td>\n",
       "    </tr>\n",
       "    <tr>\n",
       "      <th>3</th>\n",
       "      <td>1:30 AM</td>\n",
       "      <td>81 F</td>\n",
       "      <td>73 F</td>\n",
       "      <td>79 %</td>\n",
       "      <td>SE</td>\n",
       "      <td>2 mph</td>\n",
       "      <td>0 mph</td>\n",
       "      <td>29.87 in</td>\n",
       "      <td>0.0 in</td>\n",
       "      <td>Fair</td>\n",
       "    </tr>\n",
       "    <tr>\n",
       "      <th>4</th>\n",
       "      <td>2:00 AM</td>\n",
       "      <td>81 F</td>\n",
       "      <td>72 F</td>\n",
       "      <td>74 %</td>\n",
       "      <td>CALM</td>\n",
       "      <td>0 mph</td>\n",
       "      <td>0 mph</td>\n",
       "      <td>29.87 in</td>\n",
       "      <td>0.0 in</td>\n",
       "      <td>Fair</td>\n",
       "    </tr>\n",
       "    <tr>\n",
       "      <th>5</th>\n",
       "      <td>2:30 AM</td>\n",
       "      <td>81 F</td>\n",
       "      <td>73 F</td>\n",
       "      <td>79 %</td>\n",
       "      <td>CALM</td>\n",
       "      <td>0 mph</td>\n",
       "      <td>0 mph</td>\n",
       "      <td>29.84 in</td>\n",
       "      <td>0.0 in</td>\n",
       "      <td>Fair</td>\n",
       "    </tr>\n",
       "    <tr>\n",
       "      <th>6</th>\n",
       "      <td>3:00 AM</td>\n",
       "      <td>79 F</td>\n",
       "      <td>73 F</td>\n",
       "      <td>83 %</td>\n",
       "      <td>N</td>\n",
       "      <td>3 mph</td>\n",
       "      <td>0 mph</td>\n",
       "      <td>29.84 in</td>\n",
       "      <td>0.0 in</td>\n",
       "      <td>Fair</td>\n",
       "    </tr>\n",
       "    <tr>\n",
       "      <th>7</th>\n",
       "      <td>3:30 AM</td>\n",
       "      <td>79 F</td>\n",
       "      <td>72 F</td>\n",
       "      <td>78 %</td>\n",
       "      <td>NNE</td>\n",
       "      <td>3 mph</td>\n",
       "      <td>0 mph</td>\n",
       "      <td>29.81 in</td>\n",
       "      <td>0.0 in</td>\n",
       "      <td>Fair</td>\n",
       "    </tr>\n",
       "    <tr>\n",
       "      <th>8</th>\n",
       "      <td>4:00 AM</td>\n",
       "      <td>79 F</td>\n",
       "      <td>72 F</td>\n",
       "      <td>78 %</td>\n",
       "      <td>NE</td>\n",
       "      <td>3 mph</td>\n",
       "      <td>0 mph</td>\n",
       "      <td>29.81 in</td>\n",
       "      <td>0.0 in</td>\n",
       "      <td>Fair</td>\n",
       "    </tr>\n",
       "    <tr>\n",
       "      <th>9</th>\n",
       "      <td>4:30 AM</td>\n",
       "      <td>79 F</td>\n",
       "      <td>72 F</td>\n",
       "      <td>78 %</td>\n",
       "      <td>CALM</td>\n",
       "      <td>0 mph</td>\n",
       "      <td>0 mph</td>\n",
       "      <td>29.81 in</td>\n",
       "      <td>0.0 in</td>\n",
       "      <td>Fair</td>\n",
       "    </tr>\n",
       "    <tr>\n",
       "      <th>10</th>\n",
       "      <td>5:00 AM</td>\n",
       "      <td>79 F</td>\n",
       "      <td>73 F</td>\n",
       "      <td>83 %</td>\n",
       "      <td>CALM</td>\n",
       "      <td>0 mph</td>\n",
       "      <td>0 mph</td>\n",
       "      <td>29.81 in</td>\n",
       "      <td>0.0 in</td>\n",
       "      <td>Fair</td>\n",
       "    </tr>\n",
       "    <tr>\n",
       "      <th>11</th>\n",
       "      <td>5:30 AM</td>\n",
       "      <td>79 F</td>\n",
       "      <td>72 F</td>\n",
       "      <td>78 %</td>\n",
       "      <td>CALM</td>\n",
       "      <td>0 mph</td>\n",
       "      <td>0 mph</td>\n",
       "      <td>29.81 in</td>\n",
       "      <td>0.0 in</td>\n",
       "      <td>Fair</td>\n",
       "    </tr>\n",
       "    <tr>\n",
       "      <th>12</th>\n",
       "      <td>6:00 AM</td>\n",
       "      <td>79 F</td>\n",
       "      <td>72 F</td>\n",
       "      <td>78 %</td>\n",
       "      <td>E</td>\n",
       "      <td>1 mph</td>\n",
       "      <td>0 mph</td>\n",
       "      <td>29.84 in</td>\n",
       "      <td>0.0 in</td>\n",
       "      <td>Fair</td>\n",
       "    </tr>\n",
       "    <tr>\n",
       "      <th>13</th>\n",
       "      <td>6:30 AM</td>\n",
       "      <td>79 F</td>\n",
       "      <td>72 F</td>\n",
       "      <td>78 %</td>\n",
       "      <td>ESE</td>\n",
       "      <td>2 mph</td>\n",
       "      <td>0 mph</td>\n",
       "      <td>29.84 in</td>\n",
       "      <td>0.0 in</td>\n",
       "      <td>Fair</td>\n",
       "    </tr>\n",
       "    <tr>\n",
       "      <th>14</th>\n",
       "      <td>7:00 AM</td>\n",
       "      <td>79 F</td>\n",
       "      <td>73 F</td>\n",
       "      <td>83 %</td>\n",
       "      <td>ESE</td>\n",
       "      <td>2 mph</td>\n",
       "      <td>0 mph</td>\n",
       "      <td>29.84 in</td>\n",
       "      <td>0.0 in</td>\n",
       "      <td>Fair</td>\n",
       "    </tr>\n",
       "    <tr>\n",
       "      <th>15</th>\n",
       "      <td>7:30 AM</td>\n",
       "      <td>81 F</td>\n",
       "      <td>73 F</td>\n",
       "      <td>79 %</td>\n",
       "      <td>ESE</td>\n",
       "      <td>3 mph</td>\n",
       "      <td>0 mph</td>\n",
       "      <td>29.87 in</td>\n",
       "      <td>0.0 in</td>\n",
       "      <td>Fair</td>\n",
       "    </tr>\n",
       "    <tr>\n",
       "      <th>16</th>\n",
       "      <td>8:00 AM</td>\n",
       "      <td>81 F</td>\n",
       "      <td>72 F</td>\n",
       "      <td>74 %</td>\n",
       "      <td>ESE</td>\n",
       "      <td>3 mph</td>\n",
       "      <td>0 mph</td>\n",
       "      <td>29.87 in</td>\n",
       "      <td>0.0 in</td>\n",
       "      <td>Fair</td>\n",
       "    </tr>\n",
       "    <tr>\n",
       "      <th>17</th>\n",
       "      <td>8:30 AM</td>\n",
       "      <td>82 F</td>\n",
       "      <td>72 F</td>\n",
       "      <td>70 %</td>\n",
       "      <td>ESE</td>\n",
       "      <td>3 mph</td>\n",
       "      <td>0 mph</td>\n",
       "      <td>29.90 in</td>\n",
       "      <td>0.0 in</td>\n",
       "      <td>Fair</td>\n",
       "    </tr>\n",
       "    <tr>\n",
       "      <th>18</th>\n",
       "      <td>9:00 AM</td>\n",
       "      <td>84 F</td>\n",
       "      <td>72 F</td>\n",
       "      <td>66 %</td>\n",
       "      <td>E</td>\n",
       "      <td>5 mph</td>\n",
       "      <td>0 mph</td>\n",
       "      <td>29.90 in</td>\n",
       "      <td>0.0 in</td>\n",
       "      <td>Fair</td>\n",
       "    </tr>\n",
       "    <tr>\n",
       "      <th>19</th>\n",
       "      <td>9:30 AM</td>\n",
       "      <td>86 F</td>\n",
       "      <td>73 F</td>\n",
       "      <td>66 %</td>\n",
       "      <td>ESE</td>\n",
       "      <td>3 mph</td>\n",
       "      <td>0 mph</td>\n",
       "      <td>29.90 in</td>\n",
       "      <td>0.0 in</td>\n",
       "      <td>Fair</td>\n",
       "    </tr>\n",
       "    <tr>\n",
       "      <th>20</th>\n",
       "      <td>10:00 AM</td>\n",
       "      <td>86 F</td>\n",
       "      <td>73 F</td>\n",
       "      <td>66 %</td>\n",
       "      <td>E</td>\n",
       "      <td>3 mph</td>\n",
       "      <td>0 mph</td>\n",
       "      <td>29.90 in</td>\n",
       "      <td>0.0 in</td>\n",
       "      <td>Fair</td>\n",
       "    </tr>\n",
       "    <tr>\n",
       "      <th>21</th>\n",
       "      <td>10:30 AM</td>\n",
       "      <td>88 F</td>\n",
       "      <td>72 F</td>\n",
       "      <td>58 %</td>\n",
       "      <td>ESE</td>\n",
       "      <td>5 mph</td>\n",
       "      <td>0 mph</td>\n",
       "      <td>29.90 in</td>\n",
       "      <td>0.0 in</td>\n",
       "      <td>Fair</td>\n",
       "    </tr>\n",
       "    <tr>\n",
       "      <th>22</th>\n",
       "      <td>11:00 AM</td>\n",
       "      <td>88 F</td>\n",
       "      <td>73 F</td>\n",
       "      <td>62 %</td>\n",
       "      <td>E</td>\n",
       "      <td>7 mph</td>\n",
       "      <td>0 mph</td>\n",
       "      <td>29.87 in</td>\n",
       "      <td>0.0 in</td>\n",
       "      <td>Fair</td>\n",
       "    </tr>\n",
       "    <tr>\n",
       "      <th>23</th>\n",
       "      <td>11:30 AM</td>\n",
       "      <td>88 F</td>\n",
       "      <td>72 F</td>\n",
       "      <td>58 %</td>\n",
       "      <td>E</td>\n",
       "      <td>7 mph</td>\n",
       "      <td>0 mph</td>\n",
       "      <td>29.87 in</td>\n",
       "      <td>0.0 in</td>\n",
       "      <td>Fair</td>\n",
       "    </tr>\n",
       "    <tr>\n",
       "      <th>24</th>\n",
       "      <td>12:00 PM</td>\n",
       "      <td>90 F</td>\n",
       "      <td>72 F</td>\n",
       "      <td>55 %</td>\n",
       "      <td>ENE</td>\n",
       "      <td>3 mph</td>\n",
       "      <td>0 mph</td>\n",
       "      <td>29.84 in</td>\n",
       "      <td>0.0 in</td>\n",
       "      <td>Fair</td>\n",
       "    </tr>\n",
       "    <tr>\n",
       "      <th>25</th>\n",
       "      <td>12:30 PM</td>\n",
       "      <td>91 F</td>\n",
       "      <td>70 F</td>\n",
       "      <td>49 %</td>\n",
       "      <td>SSE</td>\n",
       "      <td>6 mph</td>\n",
       "      <td>0 mph</td>\n",
       "      <td>29.84 in</td>\n",
       "      <td>0.0 in</td>\n",
       "      <td>Fair</td>\n",
       "    </tr>\n",
       "    <tr>\n",
       "      <th>26</th>\n",
       "      <td>1:00 PM</td>\n",
       "      <td>93 F</td>\n",
       "      <td>70 F</td>\n",
       "      <td>46 %</td>\n",
       "      <td>S</td>\n",
       "      <td>5 mph</td>\n",
       "      <td>0 mph</td>\n",
       "      <td>29.81 in</td>\n",
       "      <td>0.0 in</td>\n",
       "      <td>Partly Cloudy</td>\n",
       "    </tr>\n",
       "    <tr>\n",
       "      <th>27</th>\n",
       "      <td>1:30 PM</td>\n",
       "      <td>90 F</td>\n",
       "      <td>70 F</td>\n",
       "      <td>52 %</td>\n",
       "      <td>ESE</td>\n",
       "      <td>2 mph</td>\n",
       "      <td>0 mph</td>\n",
       "      <td>29.79 in</td>\n",
       "      <td>0.0 in</td>\n",
       "      <td>Partly Cloudy</td>\n",
       "    </tr>\n",
       "    <tr>\n",
       "      <th>28</th>\n",
       "      <td>2:00 PM</td>\n",
       "      <td>91 F</td>\n",
       "      <td>70 F</td>\n",
       "      <td>49 %</td>\n",
       "      <td>ENE</td>\n",
       "      <td>5 mph</td>\n",
       "      <td>0 mph</td>\n",
       "      <td>29.79 in</td>\n",
       "      <td>0.0 in</td>\n",
       "      <td>Partly Cloudy</td>\n",
       "    </tr>\n",
       "    <tr>\n",
       "      <th>29</th>\n",
       "      <td>2:30 PM</td>\n",
       "      <td>93 F</td>\n",
       "      <td>72 F</td>\n",
       "      <td>49 %</td>\n",
       "      <td>E</td>\n",
       "      <td>5 mph</td>\n",
       "      <td>0 mph</td>\n",
       "      <td>29.76 in</td>\n",
       "      <td>0.0 in</td>\n",
       "      <td>Fair</td>\n",
       "    </tr>\n",
       "    <tr>\n",
       "      <th>30</th>\n",
       "      <td>3:00 PM</td>\n",
       "      <td>93 F</td>\n",
       "      <td>70 F</td>\n",
       "      <td>46 %</td>\n",
       "      <td>ENE</td>\n",
       "      <td>8 mph</td>\n",
       "      <td>0 mph</td>\n",
       "      <td>29.76 in</td>\n",
       "      <td>0.0 in</td>\n",
       "      <td>Fair</td>\n",
       "    </tr>\n",
       "    <tr>\n",
       "      <th>31</th>\n",
       "      <td>3:30 PM</td>\n",
       "      <td>90 F</td>\n",
       "      <td>70 F</td>\n",
       "      <td>52 %</td>\n",
       "      <td>ENE</td>\n",
       "      <td>8 mph</td>\n",
       "      <td>0 mph</td>\n",
       "      <td>29.76 in</td>\n",
       "      <td>0.0 in</td>\n",
       "      <td>Fair</td>\n",
       "    </tr>\n",
       "    <tr>\n",
       "      <th>32</th>\n",
       "      <td>4:00 PM</td>\n",
       "      <td>90 F</td>\n",
       "      <td>70 F</td>\n",
       "      <td>52 %</td>\n",
       "      <td>E</td>\n",
       "      <td>3 mph</td>\n",
       "      <td>0 mph</td>\n",
       "      <td>29.76 in</td>\n",
       "      <td>0.0 in</td>\n",
       "      <td>Fair</td>\n",
       "    </tr>\n",
       "    <tr>\n",
       "      <th>33</th>\n",
       "      <td>4:30 PM</td>\n",
       "      <td>90 F</td>\n",
       "      <td>70 F</td>\n",
       "      <td>52 %</td>\n",
       "      <td>SE</td>\n",
       "      <td>5 mph</td>\n",
       "      <td>0 mph</td>\n",
       "      <td>29.76 in</td>\n",
       "      <td>0.0 in</td>\n",
       "      <td>Fair</td>\n",
       "    </tr>\n",
       "    <tr>\n",
       "      <th>34</th>\n",
       "      <td>5:00 PM</td>\n",
       "      <td>91 F</td>\n",
       "      <td>70 F</td>\n",
       "      <td>49 %</td>\n",
       "      <td>SSW</td>\n",
       "      <td>2 mph</td>\n",
       "      <td>0 mph</td>\n",
       "      <td>29.76 in</td>\n",
       "      <td>0.0 in</td>\n",
       "      <td>Fair</td>\n",
       "    </tr>\n",
       "    <tr>\n",
       "      <th>35</th>\n",
       "      <td>5:30 PM</td>\n",
       "      <td>90 F</td>\n",
       "      <td>72 F</td>\n",
       "      <td>55 %</td>\n",
       "      <td>SW</td>\n",
       "      <td>2 mph</td>\n",
       "      <td>0 mph</td>\n",
       "      <td>29.76 in</td>\n",
       "      <td>0.0 in</td>\n",
       "      <td>Fair</td>\n",
       "    </tr>\n",
       "    <tr>\n",
       "      <th>36</th>\n",
       "      <td>6:00 PM</td>\n",
       "      <td>88 F</td>\n",
       "      <td>72 F</td>\n",
       "      <td>58 %</td>\n",
       "      <td>WSW</td>\n",
       "      <td>8 mph</td>\n",
       "      <td>0 mph</td>\n",
       "      <td>29.76 in</td>\n",
       "      <td>0.0 in</td>\n",
       "      <td>Fair</td>\n",
       "    </tr>\n",
       "    <tr>\n",
       "      <th>37</th>\n",
       "      <td>6:30 PM</td>\n",
       "      <td>86 F</td>\n",
       "      <td>72 F</td>\n",
       "      <td>62 %</td>\n",
       "      <td>SSW</td>\n",
       "      <td>6 mph</td>\n",
       "      <td>0 mph</td>\n",
       "      <td>29.79 in</td>\n",
       "      <td>0.0 in</td>\n",
       "      <td>Fair</td>\n",
       "    </tr>\n",
       "    <tr>\n",
       "      <th>38</th>\n",
       "      <td>7:00 PM</td>\n",
       "      <td>84 F</td>\n",
       "      <td>72 F</td>\n",
       "      <td>66 %</td>\n",
       "      <td>SSW</td>\n",
       "      <td>3 mph</td>\n",
       "      <td>0 mph</td>\n",
       "      <td>29.79 in</td>\n",
       "      <td>0.0 in</td>\n",
       "      <td>Fair</td>\n",
       "    </tr>\n",
       "    <tr>\n",
       "      <th>39</th>\n",
       "      <td>7:30 PM</td>\n",
       "      <td>82 F</td>\n",
       "      <td>72 F</td>\n",
       "      <td>70 %</td>\n",
       "      <td>SSW</td>\n",
       "      <td>6 mph</td>\n",
       "      <td>0 mph</td>\n",
       "      <td>29.79 in</td>\n",
       "      <td>0.0 in</td>\n",
       "      <td>Fair</td>\n",
       "    </tr>\n",
       "    <tr>\n",
       "      <th>40</th>\n",
       "      <td>8:00 PM</td>\n",
       "      <td>82 F</td>\n",
       "      <td>72 F</td>\n",
       "      <td>70 %</td>\n",
       "      <td>SSW</td>\n",
       "      <td>7 mph</td>\n",
       "      <td>0 mph</td>\n",
       "      <td>29.81 in</td>\n",
       "      <td>0.0 in</td>\n",
       "      <td>Fair</td>\n",
       "    </tr>\n",
       "    <tr>\n",
       "      <th>41</th>\n",
       "      <td>8:30 PM</td>\n",
       "      <td>82 F</td>\n",
       "      <td>72 F</td>\n",
       "      <td>70 %</td>\n",
       "      <td>SSW</td>\n",
       "      <td>6 mph</td>\n",
       "      <td>0 mph</td>\n",
       "      <td>29.81 in</td>\n",
       "      <td>0.0 in</td>\n",
       "      <td>Fair</td>\n",
       "    </tr>\n",
       "    <tr>\n",
       "      <th>42</th>\n",
       "      <td>9:00 PM</td>\n",
       "      <td>82 F</td>\n",
       "      <td>72 F</td>\n",
       "      <td>70 %</td>\n",
       "      <td>SSW</td>\n",
       "      <td>5 mph</td>\n",
       "      <td>0 mph</td>\n",
       "      <td>29.81 in</td>\n",
       "      <td>0.0 in</td>\n",
       "      <td>Fair</td>\n",
       "    </tr>\n",
       "    <tr>\n",
       "      <th>43</th>\n",
       "      <td>9:30 PM</td>\n",
       "      <td>82 F</td>\n",
       "      <td>72 F</td>\n",
       "      <td>70 %</td>\n",
       "      <td>SSW</td>\n",
       "      <td>5 mph</td>\n",
       "      <td>0 mph</td>\n",
       "      <td>29.81 in</td>\n",
       "      <td>0.0 in</td>\n",
       "      <td>Fair</td>\n",
       "    </tr>\n",
       "    <tr>\n",
       "      <th>44</th>\n",
       "      <td>10:00 PM</td>\n",
       "      <td>82 F</td>\n",
       "      <td>72 F</td>\n",
       "      <td>70 %</td>\n",
       "      <td>SSW</td>\n",
       "      <td>5 mph</td>\n",
       "      <td>0 mph</td>\n",
       "      <td>29.81 in</td>\n",
       "      <td>0.0 in</td>\n",
       "      <td>Fair</td>\n",
       "    </tr>\n",
       "    <tr>\n",
       "      <th>45</th>\n",
       "      <td>10:30 PM</td>\n",
       "      <td>82 F</td>\n",
       "      <td>72 F</td>\n",
       "      <td>70 %</td>\n",
       "      <td>SSW</td>\n",
       "      <td>5 mph</td>\n",
       "      <td>0 mph</td>\n",
       "      <td>29.81 in</td>\n",
       "      <td>0.0 in</td>\n",
       "      <td>Fair</td>\n",
       "    </tr>\n",
       "    <tr>\n",
       "      <th>46</th>\n",
       "      <td>11:00 PM</td>\n",
       "      <td>82 F</td>\n",
       "      <td>72 F</td>\n",
       "      <td>70 %</td>\n",
       "      <td>S</td>\n",
       "      <td>2 mph</td>\n",
       "      <td>0 mph</td>\n",
       "      <td>29.81 in</td>\n",
       "      <td>0.0 in</td>\n",
       "      <td>Fair</td>\n",
       "    </tr>\n",
       "    <tr>\n",
       "      <th>47</th>\n",
       "      <td>11:30 PM</td>\n",
       "      <td>81 F</td>\n",
       "      <td>73 F</td>\n",
       "      <td>79 %</td>\n",
       "      <td>CALM</td>\n",
       "      <td>0 mph</td>\n",
       "      <td>0 mph</td>\n",
       "      <td>29.81 in</td>\n",
       "      <td>0.0 in</td>\n",
       "      <td>Fair</td>\n",
       "    </tr>\n",
       "    <tr>\n",
       "      <th>48</th>\n",
       "      <td>NaN</td>\n",
       "      <td>NaN</td>\n",
       "      <td>NaN</td>\n",
       "      <td>NaN</td>\n",
       "      <td>NaN</td>\n",
       "      <td>NaN</td>\n",
       "      <td>NaN</td>\n",
       "      <td>NaN</td>\n",
       "      <td>NaN</td>\n",
       "      <td>NaN</td>\n",
       "    </tr>\n",
       "    <tr>\n",
       "      <th>49</th>\n",
       "      <td>NaN</td>\n",
       "      <td>NaN</td>\n",
       "      <td>NaN</td>\n",
       "      <td>NaN</td>\n",
       "      <td>NaN</td>\n",
       "      <td>NaN</td>\n",
       "      <td>NaN</td>\n",
       "      <td>NaN</td>\n",
       "      <td>NaN</td>\n",
       "      <td>NaN</td>\n",
       "    </tr>\n",
       "    <tr>\n",
       "      <th>50</th>\n",
       "      <td>NaN</td>\n",
       "      <td>NaN</td>\n",
       "      <td>NaN</td>\n",
       "      <td>NaN</td>\n",
       "      <td>NaN</td>\n",
       "      <td>NaN</td>\n",
       "      <td>NaN</td>\n",
       "      <td>NaN</td>\n",
       "      <td>NaN</td>\n",
       "      <td>NaN</td>\n",
       "    </tr>\n",
       "    <tr>\n",
       "      <th>51</th>\n",
       "      <td>NaN</td>\n",
       "      <td>NaN</td>\n",
       "      <td>NaN</td>\n",
       "      <td>NaN</td>\n",
       "      <td>NaN</td>\n",
       "      <td>NaN</td>\n",
       "      <td>NaN</td>\n",
       "      <td>NaN</td>\n",
       "      <td>NaN</td>\n",
       "      <td>NaN</td>\n",
       "    </tr>\n",
       "    <tr>\n",
       "      <th>52</th>\n",
       "      <td>NaN</td>\n",
       "      <td>NaN</td>\n",
       "      <td>NaN</td>\n",
       "      <td>NaN</td>\n",
       "      <td>NaN</td>\n",
       "      <td>NaN</td>\n",
       "      <td>NaN</td>\n",
       "      <td>NaN</td>\n",
       "      <td>NaN</td>\n",
       "      <td>NaN</td>\n",
       "    </tr>\n",
       "    <tr>\n",
       "      <th>53</th>\n",
       "      <td>NaN</td>\n",
       "      <td>NaN</td>\n",
       "      <td>NaN</td>\n",
       "      <td>NaN</td>\n",
       "      <td>NaN</td>\n",
       "      <td>NaN</td>\n",
       "      <td>NaN</td>\n",
       "      <td>NaN</td>\n",
       "      <td>NaN</td>\n",
       "      <td>NaN</td>\n",
       "    </tr>\n",
       "    <tr>\n",
       "      <th>54</th>\n",
       "      <td>NaN</td>\n",
       "      <td>NaN</td>\n",
       "      <td>NaN</td>\n",
       "      <td>NaN</td>\n",
       "      <td>NaN</td>\n",
       "      <td>NaN</td>\n",
       "      <td>NaN</td>\n",
       "      <td>NaN</td>\n",
       "      <td>NaN</td>\n",
       "      <td>NaN</td>\n",
       "    </tr>\n",
       "    <tr>\n",
       "      <th>55</th>\n",
       "      <td>NaN</td>\n",
       "      <td>NaN</td>\n",
       "      <td>NaN</td>\n",
       "      <td>NaN</td>\n",
       "      <td>NaN</td>\n",
       "      <td>NaN</td>\n",
       "      <td>NaN</td>\n",
       "      <td>NaN</td>\n",
       "      <td>NaN</td>\n",
       "      <td>NaN</td>\n",
       "    </tr>\n",
       "    <tr>\n",
       "      <th>56</th>\n",
       "      <td>NaN</td>\n",
       "      <td>NaN</td>\n",
       "      <td>NaN</td>\n",
       "      <td>NaN</td>\n",
       "      <td>NaN</td>\n",
       "      <td>NaN</td>\n",
       "      <td>NaN</td>\n",
       "      <td>NaN</td>\n",
       "      <td>NaN</td>\n",
       "      <td>NaN</td>\n",
       "    </tr>\n",
       "    <tr>\n",
       "      <th>57</th>\n",
       "      <td>NaN</td>\n",
       "      <td>NaN</td>\n",
       "      <td>NaN</td>\n",
       "      <td>NaN</td>\n",
       "      <td>NaN</td>\n",
       "      <td>NaN</td>\n",
       "      <td>NaN</td>\n",
       "      <td>NaN</td>\n",
       "      <td>NaN</td>\n",
       "      <td>NaN</td>\n",
       "    </tr>\n",
       "  </tbody>\n",
       "</table>\n",
       "</div>"
      ],
      "text/plain": [
       "        Time Temperature Dew Point Humidity  Wind Wind Speed Wind Gust  \\\n",
       "0   12:00 AM        81 F      72 F     74 %  CALM      0 mph     0 mph   \n",
       "1   12:30 AM        81 F      72 F     74 %  CALM      0 mph     0 mph   \n",
       "2    1:00 AM        81 F      73 F     79 %  CALM      0 mph     0 mph   \n",
       "3    1:30 AM        81 F      73 F     79 %    SE      2 mph     0 mph   \n",
       "4    2:00 AM        81 F      72 F     74 %  CALM      0 mph     0 mph   \n",
       "5    2:30 AM        81 F      73 F     79 %  CALM      0 mph     0 mph   \n",
       "6    3:00 AM        79 F      73 F     83 %     N      3 mph     0 mph   \n",
       "7    3:30 AM        79 F      72 F     78 %   NNE      3 mph     0 mph   \n",
       "8    4:00 AM        79 F      72 F     78 %    NE      3 mph     0 mph   \n",
       "9    4:30 AM        79 F      72 F     78 %  CALM      0 mph     0 mph   \n",
       "10   5:00 AM        79 F      73 F     83 %  CALM      0 mph     0 mph   \n",
       "11   5:30 AM        79 F      72 F     78 %  CALM      0 mph     0 mph   \n",
       "12   6:00 AM        79 F      72 F     78 %     E      1 mph     0 mph   \n",
       "13   6:30 AM        79 F      72 F     78 %   ESE      2 mph     0 mph   \n",
       "14   7:00 AM        79 F      73 F     83 %   ESE      2 mph     0 mph   \n",
       "15   7:30 AM        81 F      73 F     79 %   ESE      3 mph     0 mph   \n",
       "16   8:00 AM        81 F      72 F     74 %   ESE      3 mph     0 mph   \n",
       "17   8:30 AM        82 F      72 F     70 %   ESE      3 mph     0 mph   \n",
       "18   9:00 AM        84 F      72 F     66 %     E      5 mph     0 mph   \n",
       "19   9:30 AM        86 F      73 F     66 %   ESE      3 mph     0 mph   \n",
       "20  10:00 AM        86 F      73 F     66 %     E      3 mph     0 mph   \n",
       "21  10:30 AM        88 F      72 F     58 %   ESE      5 mph     0 mph   \n",
       "22  11:00 AM        88 F      73 F     62 %     E      7 mph     0 mph   \n",
       "23  11:30 AM        88 F      72 F     58 %     E      7 mph     0 mph   \n",
       "24  12:00 PM        90 F      72 F     55 %   ENE      3 mph     0 mph   \n",
       "25  12:30 PM        91 F      70 F     49 %   SSE      6 mph     0 mph   \n",
       "26   1:00 PM        93 F      70 F     46 %     S      5 mph     0 mph   \n",
       "27   1:30 PM        90 F      70 F     52 %   ESE      2 mph     0 mph   \n",
       "28   2:00 PM        91 F      70 F     49 %   ENE      5 mph     0 mph   \n",
       "29   2:30 PM        93 F      72 F     49 %     E      5 mph     0 mph   \n",
       "30   3:00 PM        93 F      70 F     46 %   ENE      8 mph     0 mph   \n",
       "31   3:30 PM        90 F      70 F     52 %   ENE      8 mph     0 mph   \n",
       "32   4:00 PM        90 F      70 F     52 %     E      3 mph     0 mph   \n",
       "33   4:30 PM        90 F      70 F     52 %    SE      5 mph     0 mph   \n",
       "34   5:00 PM        91 F      70 F     49 %   SSW      2 mph     0 mph   \n",
       "35   5:30 PM        90 F      72 F     55 %    SW      2 mph     0 mph   \n",
       "36   6:00 PM        88 F      72 F     58 %   WSW      8 mph     0 mph   \n",
       "37   6:30 PM        86 F      72 F     62 %   SSW      6 mph     0 mph   \n",
       "38   7:00 PM        84 F      72 F     66 %   SSW      3 mph     0 mph   \n",
       "39   7:30 PM        82 F      72 F     70 %   SSW      6 mph     0 mph   \n",
       "40   8:00 PM        82 F      72 F     70 %   SSW      7 mph     0 mph   \n",
       "41   8:30 PM        82 F      72 F     70 %   SSW      6 mph     0 mph   \n",
       "42   9:00 PM        82 F      72 F     70 %   SSW      5 mph     0 mph   \n",
       "43   9:30 PM        82 F      72 F     70 %   SSW      5 mph     0 mph   \n",
       "44  10:00 PM        82 F      72 F     70 %   SSW      5 mph     0 mph   \n",
       "45  10:30 PM        82 F      72 F     70 %   SSW      5 mph     0 mph   \n",
       "46  11:00 PM        82 F      72 F     70 %     S      2 mph     0 mph   \n",
       "47  11:30 PM        81 F      73 F     79 %  CALM      0 mph     0 mph   \n",
       "48       NaN         NaN       NaN      NaN   NaN        NaN       NaN   \n",
       "49       NaN         NaN       NaN      NaN   NaN        NaN       NaN   \n",
       "50       NaN         NaN       NaN      NaN   NaN        NaN       NaN   \n",
       "51       NaN         NaN       NaN      NaN   NaN        NaN       NaN   \n",
       "52       NaN         NaN       NaN      NaN   NaN        NaN       NaN   \n",
       "53       NaN         NaN       NaN      NaN   NaN        NaN       NaN   \n",
       "54       NaN         NaN       NaN      NaN   NaN        NaN       NaN   \n",
       "55       NaN         NaN       NaN      NaN   NaN        NaN       NaN   \n",
       "56       NaN         NaN       NaN      NaN   NaN        NaN       NaN   \n",
       "57       NaN         NaN       NaN      NaN   NaN        NaN       NaN   \n",
       "\n",
       "    Pressure Precip.      Condition  \n",
       "0   29.87 in  0.0 in           Fair  \n",
       "1   29.87 in  0.0 in           Fair  \n",
       "2   29.87 in  0.0 in           Fair  \n",
       "3   29.87 in  0.0 in           Fair  \n",
       "4   29.87 in  0.0 in           Fair  \n",
       "5   29.84 in  0.0 in           Fair  \n",
       "6   29.84 in  0.0 in           Fair  \n",
       "7   29.81 in  0.0 in           Fair  \n",
       "8   29.81 in  0.0 in           Fair  \n",
       "9   29.81 in  0.0 in           Fair  \n",
       "10  29.81 in  0.0 in           Fair  \n",
       "11  29.81 in  0.0 in           Fair  \n",
       "12  29.84 in  0.0 in           Fair  \n",
       "13  29.84 in  0.0 in           Fair  \n",
       "14  29.84 in  0.0 in           Fair  \n",
       "15  29.87 in  0.0 in           Fair  \n",
       "16  29.87 in  0.0 in           Fair  \n",
       "17  29.90 in  0.0 in           Fair  \n",
       "18  29.90 in  0.0 in           Fair  \n",
       "19  29.90 in  0.0 in           Fair  \n",
       "20  29.90 in  0.0 in           Fair  \n",
       "21  29.90 in  0.0 in           Fair  \n",
       "22  29.87 in  0.0 in           Fair  \n",
       "23  29.87 in  0.0 in           Fair  \n",
       "24  29.84 in  0.0 in           Fair  \n",
       "25  29.84 in  0.0 in           Fair  \n",
       "26  29.81 in  0.0 in  Partly Cloudy  \n",
       "27  29.79 in  0.0 in  Partly Cloudy  \n",
       "28  29.79 in  0.0 in  Partly Cloudy  \n",
       "29  29.76 in  0.0 in           Fair  \n",
       "30  29.76 in  0.0 in           Fair  \n",
       "31  29.76 in  0.0 in           Fair  \n",
       "32  29.76 in  0.0 in           Fair  \n",
       "33  29.76 in  0.0 in           Fair  \n",
       "34  29.76 in  0.0 in           Fair  \n",
       "35  29.76 in  0.0 in           Fair  \n",
       "36  29.76 in  0.0 in           Fair  \n",
       "37  29.79 in  0.0 in           Fair  \n",
       "38  29.79 in  0.0 in           Fair  \n",
       "39  29.79 in  0.0 in           Fair  \n",
       "40  29.81 in  0.0 in           Fair  \n",
       "41  29.81 in  0.0 in           Fair  \n",
       "42  29.81 in  0.0 in           Fair  \n",
       "43  29.81 in  0.0 in           Fair  \n",
       "44  29.81 in  0.0 in           Fair  \n",
       "45  29.81 in  0.0 in           Fair  \n",
       "46  29.81 in  0.0 in           Fair  \n",
       "47  29.81 in  0.0 in           Fair  \n",
       "48       NaN     NaN            NaN  \n",
       "49       NaN     NaN            NaN  \n",
       "50       NaN     NaN            NaN  \n",
       "51       NaN     NaN            NaN  \n",
       "52       NaN     NaN            NaN  \n",
       "53       NaN     NaN            NaN  \n",
       "54       NaN     NaN            NaN  \n",
       "55       NaN     NaN            NaN  \n",
       "56       NaN     NaN            NaN  \n",
       "57       NaN     NaN            NaN  "
      ]
     },
     "execution_count": 40,
     "metadata": {},
     "output_type": "execute_result"
    }
   ],
   "source": [
    "df_list[-1]"
   ]
  },
  {
   "cell_type": "code",
   "execution_count": 11,
   "metadata": {},
   "outputs": [
    {
     "data": {
      "text/plain": [
       "'Mueang Chiang Mai, Chiang Mai, Thailand Weather History'"
      ]
     },
     "execution_count": 11,
     "metadata": {},
     "output_type": "execute_result"
    }
   ],
   "source": [
    "city_header = soup.find_all('lib-city-header')[0]\n",
    "lat_long = city_header.find_all('span')[0].text\n",
    "city_info = city_header.find_all('span')[1].text\n",
    "city_info"
   ]
  },
  {
   "cell_type": "code",
   "execution_count": null,
   "metadata": {},
   "outputs": [],
   "source": []
  },
  {
   "cell_type": "markdown",
   "metadata": {},
   "source": [
    "# Merge Weather Data from OpenWeatherMap"
   ]
  },
  {
   "cell_type": "code",
   "execution_count": 9,
   "metadata": {},
   "outputs": [],
   "source": [
    "# weather data \n",
    "city_name = 'Chaloem_Phra_Kiat'\n",
    "final_filename = f'C:/Users/Benny/Documents/Fern/aqi_thailand2/data/weather_cities/{city_name}.csv'\n",
    "try: \n",
    "    wea = pd.read_csv(filename)\n",
    "    wea['datetime'] = pd.to_datetime(wea['datetime'])\n",
    "    \n",
    "except:\n",
    "    wea = pd.DataFrame()"
   ]
  },
  {
   "cell_type": "code",
   "execution_count": 10,
   "metadata": {},
   "outputs": [],
   "source": [
    "folder = f'C:/Users/Benny/Documents/Fern/BKK-AQI/data/weather_cities/{city_name}/'\n",
    "files = glob(folder+'*.csv')\n",
    "# process data from OpenWeatherMap.org \n",
    "wea_df = pd.read_csv(files[0])\n",
    "wea_df = proc_open_weather(wea_df)"
   ]
  },
  {
   "cell_type": "code",
   "execution_count": 11,
   "metadata": {},
   "outputs": [],
   "source": [
    "new_wea = pd.concat([wea_df,wea])\n",
    "new_wea = new_wea.sort_values(['datetime'],ignore_index=True)\n",
    "new_wea = new_wea.drop_duplicates('datetime')"
   ]
  },
  {
   "cell_type": "code",
   "execution_count": 12,
   "metadata": {},
   "outputs": [
    {
     "data": {
      "text/html": [
       "<div>\n",
       "<style scoped>\n",
       "    .dataframe tbody tr th:only-of-type {\n",
       "        vertical-align: middle;\n",
       "    }\n",
       "\n",
       "    .dataframe tbody tr th {\n",
       "        vertical-align: top;\n",
       "    }\n",
       "\n",
       "    .dataframe thead th {\n",
       "        text-align: right;\n",
       "    }\n",
       "</style>\n",
       "<table border=\"1\" class=\"dataframe\">\n",
       "  <thead>\n",
       "    <tr style=\"text-align: right;\">\n",
       "      <th></th>\n",
       "      <th>datetime</th>\n",
       "      <th>Time</th>\n",
       "      <th>Temperature(C)</th>\n",
       "      <th>Humidity(%)</th>\n",
       "      <th>Wind</th>\n",
       "      <th>Wind_Speed(kmph</th>\n",
       "      <th>Pressure(hPa)</th>\n",
       "      <th>Precip.(mm)</th>\n",
       "      <th>Condition</th>\n",
       "    </tr>\n",
       "  </thead>\n",
       "  <tbody>\n",
       "    <tr>\n",
       "      <th>271582</th>\n",
       "      <td>2020-10-21 21:00:00</td>\n",
       "      <td>09:00 PM</td>\n",
       "      <td>22.37</td>\n",
       "      <td>85</td>\n",
       "      <td>ENE</td>\n",
       "      <td>10.692</td>\n",
       "      <td>1011</td>\n",
       "      <td>0.0</td>\n",
       "      <td>Clouds</td>\n",
       "    </tr>\n",
       "    <tr>\n",
       "      <th>271583</th>\n",
       "      <td>2020-10-21 22:00:00</td>\n",
       "      <td>10:00 PM</td>\n",
       "      <td>22.34</td>\n",
       "      <td>85</td>\n",
       "      <td>ENE</td>\n",
       "      <td>10.692</td>\n",
       "      <td>1011</td>\n",
       "      <td>0.0</td>\n",
       "      <td>Clouds</td>\n",
       "    </tr>\n",
       "    <tr>\n",
       "      <th>271584</th>\n",
       "      <td>2020-10-21 23:00:00</td>\n",
       "      <td>11:00 PM</td>\n",
       "      <td>22.37</td>\n",
       "      <td>85</td>\n",
       "      <td>ENE</td>\n",
       "      <td>10.692</td>\n",
       "      <td>1011</td>\n",
       "      <td>0.0</td>\n",
       "      <td>Clouds</td>\n",
       "    </tr>\n",
       "    <tr>\n",
       "      <th>271585</th>\n",
       "      <td>2020-10-22 00:00:00</td>\n",
       "      <td>12:00 AM</td>\n",
       "      <td>20.48</td>\n",
       "      <td>83</td>\n",
       "      <td>E</td>\n",
       "      <td>11.628</td>\n",
       "      <td>1011</td>\n",
       "      <td>0.0</td>\n",
       "      <td>Clear</td>\n",
       "    </tr>\n",
       "    <tr>\n",
       "      <th>271586</th>\n",
       "      <td>2020-10-22 01:00:00</td>\n",
       "      <td>01:00 AM</td>\n",
       "      <td>20.46</td>\n",
       "      <td>83</td>\n",
       "      <td>E</td>\n",
       "      <td>11.628</td>\n",
       "      <td>1011</td>\n",
       "      <td>0.0</td>\n",
       "      <td>Clear</td>\n",
       "    </tr>\n",
       "    <tr>\n",
       "      <th>271587</th>\n",
       "      <td>2020-10-22 02:00:00</td>\n",
       "      <td>02:00 AM</td>\n",
       "      <td>20.48</td>\n",
       "      <td>83</td>\n",
       "      <td>E</td>\n",
       "      <td>11.628</td>\n",
       "      <td>1011</td>\n",
       "      <td>0.0</td>\n",
       "      <td>Clear</td>\n",
       "    </tr>\n",
       "    <tr>\n",
       "      <th>271588</th>\n",
       "      <td>2020-10-22 03:00:00</td>\n",
       "      <td>03:00 AM</td>\n",
       "      <td>19.42</td>\n",
       "      <td>87</td>\n",
       "      <td>ENE</td>\n",
       "      <td>7.884</td>\n",
       "      <td>1010</td>\n",
       "      <td>0.0</td>\n",
       "      <td>Clouds</td>\n",
       "    </tr>\n",
       "    <tr>\n",
       "      <th>271589</th>\n",
       "      <td>2020-10-22 04:00:00</td>\n",
       "      <td>04:00 AM</td>\n",
       "      <td>19.42</td>\n",
       "      <td>87</td>\n",
       "      <td>ENE</td>\n",
       "      <td>7.884</td>\n",
       "      <td>1010</td>\n",
       "      <td>0.0</td>\n",
       "      <td>Clouds</td>\n",
       "    </tr>\n",
       "    <tr>\n",
       "      <th>271590</th>\n",
       "      <td>2020-10-22 05:00:00</td>\n",
       "      <td>05:00 AM</td>\n",
       "      <td>20.29</td>\n",
       "      <td>100</td>\n",
       "      <td>N</td>\n",
       "      <td>3.600</td>\n",
       "      <td>1011</td>\n",
       "      <td>0.0</td>\n",
       "      <td>Clouds</td>\n",
       "    </tr>\n",
       "    <tr>\n",
       "      <th>271591</th>\n",
       "      <td>2020-10-22 06:00:00</td>\n",
       "      <td>06:00 AM</td>\n",
       "      <td>20.46</td>\n",
       "      <td>100</td>\n",
       "      <td>N</td>\n",
       "      <td>3.600</td>\n",
       "      <td>1012</td>\n",
       "      <td>0.0</td>\n",
       "      <td>Clouds</td>\n",
       "    </tr>\n",
       "  </tbody>\n",
       "</table>\n",
       "</div>"
      ],
      "text/plain": [
       "                  datetime      Time  Temperature(C)  Humidity(%) Wind  \\\n",
       "271582 2020-10-21 21:00:00  09:00 PM           22.37           85  ENE   \n",
       "271583 2020-10-21 22:00:00  10:00 PM           22.34           85  ENE   \n",
       "271584 2020-10-21 23:00:00  11:00 PM           22.37           85  ENE   \n",
       "271585 2020-10-22 00:00:00  12:00 AM           20.48           83    E   \n",
       "271586 2020-10-22 01:00:00  01:00 AM           20.46           83    E   \n",
       "271587 2020-10-22 02:00:00  02:00 AM           20.48           83    E   \n",
       "271588 2020-10-22 03:00:00  03:00 AM           19.42           87  ENE   \n",
       "271589 2020-10-22 04:00:00  04:00 AM           19.42           87  ENE   \n",
       "271590 2020-10-22 05:00:00  05:00 AM           20.29          100    N   \n",
       "271591 2020-10-22 06:00:00  06:00 AM           20.46          100    N   \n",
       "\n",
       "        Wind_Speed(kmph  Pressure(hPa)  Precip.(mm) Condition  \n",
       "271582            10.692           1011          0.0    Clouds  \n",
       "271583            10.692           1011          0.0    Clouds  \n",
       "271584            10.692           1011          0.0    Clouds  \n",
       "271585            11.628           1011          0.0     Clear  \n",
       "271586            11.628           1011          0.0     Clear  \n",
       "271587            11.628           1011          0.0     Clear  \n",
       "271588             7.884           1010          0.0    Clouds  \n",
       "271589             7.884           1010          0.0    Clouds  \n",
       "271590             3.600           1011          0.0    Clouds  \n",
       "271591             3.600           1012          0.0    Clouds  "
      ]
     },
     "execution_count": 12,
     "metadata": {},
     "output_type": "execute_result"
    }
   ],
   "source": [
    "new_wea[new_wea['datetime'] > '2019-01-01'].tail(10)"
   ]
  },
  {
   "cell_type": "code",
   "execution_count": 17,
   "metadata": {},
   "outputs": [],
   "source": [
    "new_wea.to_csv(final_filename, index=False)"
   ]
  },
  {
   "cell_type": "markdown",
   "metadata": {},
   "source": [
    "## Fix Weather Units"
   ]
  },
  {
   "cell_type": "code",
   "execution_count": 59,
   "metadata": {},
   "outputs": [],
   "source": [
    "weather_files = glob(f'C:/Users/Benny/Documents/Fern/BKK-AQI/data/weather_cities/*.csv')\n",
    "\n",
    "for file in weather_files:\n",
    "    wea = pd.read_csv(file)\n",
    "    \n",
    "    # change columns order \n",
    "    wea = wea[['datetime', 'Time', 'Temperature(C)', 'Dew Point(C)', 'Humidity(%)',\n",
    "       'Wind', 'Wind_Speed(kmph)', 'Wind Gust(kmph)', 'Pressure(in)',\n",
    "       'Precip.(in)', 'Condition']]\n",
    "    # change Pressure col \n",
    "    col = 'Pressure(in)'\n",
    "    wea[col] = (wea[col]* 33.8638).round(0)\n",
    "    #wea.columns = wea.columns.str.replace('in', 'hPa')\n",
    "    col = 'Precip.(in)'\n",
    "    wea[col] = (wea[col]* 25.4).round(2)\n",
    "\n",
    "    wea.columns = ['datetime', 'Time', 'Temperature(C)', 'Dew Point(C)', 'Humidity(%)',\n",
    "       'Wind', 'Wind_Speed(kmph)', 'Wind Gust(kmph)', 'Pressure(hPa)',\n",
    "       'Precip.(mm)', 'Condition'] \n",
    "    wea.to_csv(file, index=False)"
   ]
  },
  {
   "cell_type": "code",
   "execution_count": 3,
   "metadata": {},
   "outputs": [],
   "source": [
    "weather_files = glob(f'C:/Users/Benny/Documents/Fern/BKK-AQI/data/weather_cities/*.csv')"
   ]
  },
  {
   "cell_type": "code",
   "execution_count": null,
   "metadata": {},
   "outputs": [],
   "source": [
    "for file in weather_files:\n",
    "    df = pd.read_csv(weather_files[-1])\n",
    "    df.columns = df.columns.str.replace(' ', '_')\n",
    "    df.to_csv(file, index=False)\n",
    "    "
   ]
  },
  {
   "cell_type": "markdown",
   "metadata": {},
   "source": [
    "# Holiday In Thailand\n",
    "\n",
    "https://www.timeanddate.com/holidays/thailand/2001"
   ]
  },
  {
   "cell_type": "code",
   "execution_count": 13,
   "metadata": {},
   "outputs": [],
   "source": [
    "years = np.arange(2000,2021)"
   ]
  },
  {
   "cell_type": "code",
   "execution_count": 14,
   "metadata": {},
   "outputs": [],
   "source": [
    "# scrape holiday from all websites\n",
    "th_holiday = pd.DataFrame()\n",
    "for year in years:\n",
    "    url = f'https://www.timeanddate.com/holidays/thailand/{year}'\n",
    "    df = pd.read_html(url)[0]\n",
    "    df['year'] = year\n",
    "    th_holiday = pd.concat([th_holiday,df],ignore_index=True)"
   ]
  },
  {
   "cell_type": "code",
   "execution_count": 17,
   "metadata": {},
   "outputs": [],
   "source": [
    "th_holiday.columns = ['Date', 'day_of_week','name','type','year']"
   ]
  },
  {
   "cell_type": "code",
   "execution_count": 22,
   "metadata": {},
   "outputs": [],
   "source": [
    "th_holiday = th_holiday[~th_holiday['Date'].isna()]"
   ]
  },
  {
   "cell_type": "code",
   "execution_count": 28,
   "metadata": {},
   "outputs": [],
   "source": [
    "th_holiday['date'] = th_holiday['Date'] + ', ' + th_holiday['year'].astype(str)\n",
    "th_holiday['date'] = pd.to_datetime(th_holiday['date'])"
   ]
  },
  {
   "cell_type": "code",
   "execution_count": 30,
   "metadata": {},
   "outputs": [],
   "source": [
    "th_holiday.to_csv('C:/Users/Benny/Documents/Fern/aqi_thailand2/data/th_holiday.csv',index=False)"
   ]
  },
  {
   "cell_type": "markdown",
   "metadata": {},
   "source": [
    "# Hotspots Data "
   ]
  },
  {
   "cell_type": "code",
   "execution_count": 16,
   "metadata": {},
   "outputs": [
    {
     "name": "stdout",
     "output_type": "stream",
     "text": [
      "{'stationID': '36t', 'nameTH': 'โรงเรียนยุพราชวิทยาลัย ', 'nameEN': 'Yupparaj Wittayalai School', 'areaTH': 'ต.ศรีภูมิ อ.เมือง, เชียงใหม่', 'areaEN': 'Si Phum, Meuang, Chiang Mai', 'stationType': 'GROUND', 'lat': '18.7909205', 'long': '98.9881062', 'LastUpdate': {'date': '2020-03-27', 'time': '03:00', 'PM25': {'value': '87', 'unit': 'µg/m³'}, 'PM10': {'value': '110', 'unit': 'µg/m³'}, 'O3': {'value': 'N/A', 'unit': 'ppb'}, 'CO': {'value': '1.09', 'unit': 'ppm'}, 'NO2': {'value': '-', 'unit': 'ppb'}, 'SO2': {'value': '2', 'unit': 'ppb'}, 'AQI': {'Level': '4', 'aqi': '192'}}}\n"
     ]
    }
   ],
   "source": [
    "# load stations information for Chiangmai\n",
    "station_info_file = aqm_folder + 'stations_locations.json'\n",
    "with open(station_info_file, 'r',encoding=\"utf8\") as f:\n",
    "    station_info = json.load(f)\n",
    "station_info = station_info['stations']\n",
    "\n",
    "print(station_info[124])"
   ]
  },
  {
   "cell_type": "code",
   "execution_count": 17,
   "metadata": {},
   "outputs": [
    {
     "name": "stdout",
     "output_type": "stream",
     "text": [
      "2117.0 11019.0\n"
     ]
    }
   ],
   "source": [
    "# obtain the lat and long in km\n",
    "lat_km = (merc_y(station_info[124]['lat'])/1E3 ).round()\n",
    "long_km = (merc_x(station_info[124]['long'])/1E3).round()\n",
    "print(lat_km,  long_km )"
   ]
  },
  {
   "cell_type": "code",
   "execution_count": 2,
   "metadata": {},
   "outputs": [],
   "source": [
    "# file map folder \n",
    "m_files = glob('C:/Users/Benny/Documents/Fern/aqi_thailand2/data/fire_map/world_2000-2020/M6/*.csv')\n",
    "v_files = glob('C:/Users/Benny/Documents/Fern/aqi_thailand2/data/fire_map/world_2000-2020/V1/*.csv')"
   ]
  },
  {
   "cell_type": "code",
   "execution_count": 19,
   "metadata": {
    "scrolled": false
   },
   "outputs": [
    {
     "name": "stderr",
     "output_type": "stream",
     "text": [
      "100%|█████████████████████████████████████████████████████████████████████████████████████████████████████| 21/21 [13:35<00:00, 38.83s/it]\n"
     ]
    }
   ],
   "source": [
    "# keep the file spot with distance 1000 km from the station\n",
    "distance = 1000 # km\n",
    "\n",
    "filename = 'C:/Users/Benny/Documents/Fern/aqi_thailand2/data/cm_proc/file_m.csv'\n",
    "\n",
    "\n",
    "file_all = pd.DataFrame()\n",
    "\n",
    "for file in tqdm(m_files):\n",
    "    f = pd.read_csv(file)\n",
    "     \n",
    "    # convert lat \n",
    "    f['lat_km'] = (f['latitude'].apply(merc_y)/1E3).round().astype(int)\n",
    "    f['long_km'] = (merc_x(f['longitude'])/1E3).round().astype(int)\n",
    "    # remove by lat \n",
    "    f = f[f['lat_km'] <= (lat_km+1000)]\n",
    "    f = f[f['lat_km'] >= (lat_km-1000)]\n",
    "    # remove by long \n",
    "\n",
    "    f = f[f['long_km'] <= (long_km+1000)]\n",
    "    f = f[f['long_km'] >= (long_km-1000)]\n",
    "     \n",
    "    file_all = pd.concat([file_all,f],ignore_index=True)\n",
    "        \n",
    "        \n",
    "file_all.to_csv(filename, index=False)"
   ]
  },
  {
   "cell_type": "code",
   "execution_count": 20,
   "metadata": {},
   "outputs": [
    {
     "name": "stderr",
     "output_type": "stream",
     "text": [
      "c:\\users\\benny\\pyenv\\geo\\lib\\site-packages\\IPython\\core\\interactiveshell.py:3242: DtypeWarning: Columns (10) have mixed types.Specify dtype option on import or set low_memory=False.\n",
      "  if (await self.run_code(code, result,  async_=asy)):\n"
     ]
    },
    {
     "name": "stdout",
     "output_type": "stream",
     "text": [
      "before drop (3901918, 18)\n",
      "after drop (3829241, 18)\n"
     ]
    }
   ],
   "source": [
    "m_filename = 'C:/Users/Benny/Documents/Fern/aqi_thailand2/data/cm_proc/file_m.csv'\n",
    "process_fire_data(m_filename)\n"
   ]
  },
  {
   "cell_type": "code",
   "execution_count": 40,
   "metadata": {},
   "outputs": [],
   "source": [
    "# keep the file spot with distance 1000 km from the station\n",
    "distance = 1000 # km\n",
    "\n",
    "filename = 'C:/Users/Benny/Documents/Fern/aqi_thailand2/data/cm_proc/file_v.csv'\n",
    "\n",
    "fire_all = pd.DataFrame()\n",
    "\n",
    "for file in v_files:\n",
    "    f = pd.read_csv(file)\n",
    "     \n",
    "    # convert lat \n",
    "    f['lat_km'] = (f['latitude'].apply(merc_y)/1E3).round()\n",
    "    f['long_km'] = (merc_x(f['longitude'])/1E3).round()\n",
    "    # remove by lat \n",
    "    f = f[f['lat_km'] <= (lat_km+1000)]\n",
    "    f = f[f['lat_km'] >= (lat_km-1000)]\n",
    "    # remove by long \n",
    "\n",
    "    f = f[f['long_km'] <= (long_km+1000)]\n",
    "    f = f[f['long_km'] >= (long_km-1000)]\n",
    "    \n",
    "    fire_all = pd.concat([fire_all,f],ignore_index=True)  \n",
    "     \n",
    "        \n",
    "fire_all.to_csv(filename, index=False)"
   ]
  },
  {
   "cell_type": "code",
   "execution_count": 19,
   "metadata": {},
   "outputs": [
    {
     "name": "stderr",
     "output_type": "stream",
     "text": [
      "c:\\users\\benny\\pyenv\\geo\\lib\\site-packages\\IPython\\core\\interactiveshell.py:3051: DtypeWarning: Columns (10,16) have mixed types.Specify dtype option on import or set low_memory=False.\n",
      "  interactivity=interactivity, compiler=compiler, result=result)\n"
     ]
    },
    {
     "data": {
      "text/plain": [
       "Index(['latitude', 'longitude', 'bright_ti4', 'scan', 'track', 'acq_date',\n",
       "       'acq_time', 'satellite', 'instrument', 'confidence', 'version',\n",
       "       'bright_ti5', 'frp', 'type', 'lat_km', 'long_km', 'daynight'],\n",
       "      dtype='object')"
      ]
     },
     "execution_count": 19,
     "metadata": {},
     "output_type": "execute_result"
    }
   ],
   "source": [
    "df = pd.read_csv('C:/Users/Benny/Documents/Fern/aqi_thailand2/data/cm_proc/file_v.csv')\n",
    "df.columns"
   ]
  },
  {
   "cell_type": "code",
   "execution_count": 20,
   "metadata": {},
   "outputs": [
    {
     "name": "stdout",
     "output_type": "stream",
     "text": [
      "before drop (9092222, 18)\n",
      "after drop (6925015, 18)\n"
     ]
    }
   ],
   "source": [
    "process_fire_data('C:/Users/Benny/Documents/Fern/aqi_thailand2/data/cm_proc/file_v.csv')"
   ]
  },
  {
   "cell_type": "markdown",
   "metadata": {},
   "source": [
    "## Fire For Chiang Mai"
   ]
  },
  {
   "cell_type": "code",
   "execution_count": 21,
   "metadata": {},
   "outputs": [
    {
     "name": "stdout",
     "output_type": "stream",
     "text": [
      "(3779468, 10)\n"
     ]
    },
    {
     "ename": "KeyError",
     "evalue": "\"['year' 'season'] not found in axis\"",
     "output_type": "error",
     "traceback": [
      "\u001b[1;31m---------------------------------------------------------------------------\u001b[0m",
      "\u001b[1;31mKeyError\u001b[0m                                  Traceback (most recent call last)",
      "\u001b[1;32m<ipython-input-21-be2f93342166>\u001b[0m in \u001b[0;36m<module>\u001b[1;34m\u001b[0m\n\u001b[0;32m     33\u001b[0m \u001b[0mfire\u001b[0m\u001b[1;33m[\u001b[0m\u001b[1;34m'power'\u001b[0m\u001b[1;33m]\u001b[0m \u001b[1;33m=\u001b[0m \u001b[0mfire\u001b[0m\u001b[1;33m[\u001b[0m\u001b[1;34m'scan'\u001b[0m\u001b[1;33m]\u001b[0m\u001b[1;33m*\u001b[0m\u001b[0mfire\u001b[0m\u001b[1;33m[\u001b[0m\u001b[1;34m'track'\u001b[0m\u001b[1;33m]\u001b[0m\u001b[1;33m*\u001b[0m\u001b[0mfire\u001b[0m\u001b[1;33m[\u001b[0m\u001b[1;34m'frp'\u001b[0m\u001b[1;33m]\u001b[0m\u001b[1;33m\u001b[0m\u001b[1;33m\u001b[0m\u001b[0m\n\u001b[0;32m     34\u001b[0m \u001b[0mfire\u001b[0m\u001b[1;33m[\u001b[0m\u001b[1;34m'count'\u001b[0m\u001b[1;33m]\u001b[0m \u001b[1;33m=\u001b[0m \u001b[1;36m1\u001b[0m\u001b[1;33m\u001b[0m\u001b[1;33m\u001b[0m\u001b[0m\n\u001b[1;32m---> 35\u001b[1;33m \u001b[0mfire\u001b[0m \u001b[1;33m=\u001b[0m \u001b[0mfire\u001b[0m\u001b[1;33m.\u001b[0m\u001b[0mdrop\u001b[0m\u001b[1;33m(\u001b[0m\u001b[1;33m[\u001b[0m\u001b[1;34m'latitude'\u001b[0m\u001b[1;33m,\u001b[0m \u001b[1;34m'longitude'\u001b[0m\u001b[1;33m,\u001b[0m \u001b[1;34m'brightness'\u001b[0m\u001b[1;33m,\u001b[0m\u001b[1;34m'year'\u001b[0m\u001b[1;33m,\u001b[0m\u001b[1;34m'season'\u001b[0m\u001b[1;33m,\u001b[0m\u001b[1;34m'acq_time'\u001b[0m\u001b[1;33m,\u001b[0m\u001b[1;34m'track'\u001b[0m\u001b[1;33m,\u001b[0m\u001b[1;34m'scan'\u001b[0m\u001b[1;33m,\u001b[0m\u001b[1;34m'frp'\u001b[0m\u001b[1;33m]\u001b[0m\u001b[1;33m,\u001b[0m \u001b[0maxis\u001b[0m\u001b[1;33m=\u001b[0m\u001b[1;36m1\u001b[0m\u001b[1;33m)\u001b[0m\u001b[1;33m\u001b[0m\u001b[1;33m\u001b[0m\u001b[0m\n\u001b[0m\u001b[0;32m     36\u001b[0m \u001b[0mfire\u001b[0m\u001b[1;33m.\u001b[0m\u001b[0mto_csv\u001b[0m\u001b[1;33m(\u001b[0m\u001b[1;34m'C:/Users/Benny/Documents/Fern/aqi_thailand2/data/cm_proc/file_m_proc.csv'\u001b[0m\u001b[1;33m)\u001b[0m\u001b[1;33m\u001b[0m\u001b[1;33m\u001b[0m\u001b[0m\n",
      "\u001b[1;32mc:\\users\\benny\\pyenv\\geo\\lib\\site-packages\\pandas\\core\\frame.py\u001b[0m in \u001b[0;36mdrop\u001b[1;34m(self, labels, axis, index, columns, level, inplace, errors)\u001b[0m\n\u001b[0;32m   3992\u001b[0m             \u001b[0mlevel\u001b[0m\u001b[1;33m=\u001b[0m\u001b[0mlevel\u001b[0m\u001b[1;33m,\u001b[0m\u001b[1;33m\u001b[0m\u001b[1;33m\u001b[0m\u001b[0m\n\u001b[0;32m   3993\u001b[0m             \u001b[0minplace\u001b[0m\u001b[1;33m=\u001b[0m\u001b[0minplace\u001b[0m\u001b[1;33m,\u001b[0m\u001b[1;33m\u001b[0m\u001b[1;33m\u001b[0m\u001b[0m\n\u001b[1;32m-> 3994\u001b[1;33m             \u001b[0merrors\u001b[0m\u001b[1;33m=\u001b[0m\u001b[0merrors\u001b[0m\u001b[1;33m,\u001b[0m\u001b[1;33m\u001b[0m\u001b[1;33m\u001b[0m\u001b[0m\n\u001b[0m\u001b[0;32m   3995\u001b[0m         )\n\u001b[0;32m   3996\u001b[0m \u001b[1;33m\u001b[0m\u001b[0m\n",
      "\u001b[1;32mc:\\users\\benny\\pyenv\\geo\\lib\\site-packages\\pandas\\core\\generic.py\u001b[0m in \u001b[0;36mdrop\u001b[1;34m(self, labels, axis, index, columns, level, inplace, errors)\u001b[0m\n\u001b[0;32m   3933\u001b[0m         \u001b[1;32mfor\u001b[0m \u001b[0maxis\u001b[0m\u001b[1;33m,\u001b[0m \u001b[0mlabels\u001b[0m \u001b[1;32min\u001b[0m \u001b[0maxes\u001b[0m\u001b[1;33m.\u001b[0m\u001b[0mitems\u001b[0m\u001b[1;33m(\u001b[0m\u001b[1;33m)\u001b[0m\u001b[1;33m:\u001b[0m\u001b[1;33m\u001b[0m\u001b[1;33m\u001b[0m\u001b[0m\n\u001b[0;32m   3934\u001b[0m             \u001b[1;32mif\u001b[0m \u001b[0mlabels\u001b[0m \u001b[1;32mis\u001b[0m \u001b[1;32mnot\u001b[0m \u001b[1;32mNone\u001b[0m\u001b[1;33m:\u001b[0m\u001b[1;33m\u001b[0m\u001b[1;33m\u001b[0m\u001b[0m\n\u001b[1;32m-> 3935\u001b[1;33m                 \u001b[0mobj\u001b[0m \u001b[1;33m=\u001b[0m \u001b[0mobj\u001b[0m\u001b[1;33m.\u001b[0m\u001b[0m_drop_axis\u001b[0m\u001b[1;33m(\u001b[0m\u001b[0mlabels\u001b[0m\u001b[1;33m,\u001b[0m \u001b[0maxis\u001b[0m\u001b[1;33m,\u001b[0m \u001b[0mlevel\u001b[0m\u001b[1;33m=\u001b[0m\u001b[0mlevel\u001b[0m\u001b[1;33m,\u001b[0m \u001b[0merrors\u001b[0m\u001b[1;33m=\u001b[0m\u001b[0merrors\u001b[0m\u001b[1;33m)\u001b[0m\u001b[1;33m\u001b[0m\u001b[1;33m\u001b[0m\u001b[0m\n\u001b[0m\u001b[0;32m   3936\u001b[0m \u001b[1;33m\u001b[0m\u001b[0m\n\u001b[0;32m   3937\u001b[0m         \u001b[1;32mif\u001b[0m \u001b[0minplace\u001b[0m\u001b[1;33m:\u001b[0m\u001b[1;33m\u001b[0m\u001b[1;33m\u001b[0m\u001b[0m\n",
      "\u001b[1;32mc:\\users\\benny\\pyenv\\geo\\lib\\site-packages\\pandas\\core\\generic.py\u001b[0m in \u001b[0;36m_drop_axis\u001b[1;34m(self, labels, axis, level, errors)\u001b[0m\n\u001b[0;32m   3967\u001b[0m                 \u001b[0mnew_axis\u001b[0m \u001b[1;33m=\u001b[0m \u001b[0maxis\u001b[0m\u001b[1;33m.\u001b[0m\u001b[0mdrop\u001b[0m\u001b[1;33m(\u001b[0m\u001b[0mlabels\u001b[0m\u001b[1;33m,\u001b[0m \u001b[0mlevel\u001b[0m\u001b[1;33m=\u001b[0m\u001b[0mlevel\u001b[0m\u001b[1;33m,\u001b[0m \u001b[0merrors\u001b[0m\u001b[1;33m=\u001b[0m\u001b[0merrors\u001b[0m\u001b[1;33m)\u001b[0m\u001b[1;33m\u001b[0m\u001b[1;33m\u001b[0m\u001b[0m\n\u001b[0;32m   3968\u001b[0m             \u001b[1;32melse\u001b[0m\u001b[1;33m:\u001b[0m\u001b[1;33m\u001b[0m\u001b[1;33m\u001b[0m\u001b[0m\n\u001b[1;32m-> 3969\u001b[1;33m                 \u001b[0mnew_axis\u001b[0m \u001b[1;33m=\u001b[0m \u001b[0maxis\u001b[0m\u001b[1;33m.\u001b[0m\u001b[0mdrop\u001b[0m\u001b[1;33m(\u001b[0m\u001b[0mlabels\u001b[0m\u001b[1;33m,\u001b[0m \u001b[0merrors\u001b[0m\u001b[1;33m=\u001b[0m\u001b[0merrors\u001b[0m\u001b[1;33m)\u001b[0m\u001b[1;33m\u001b[0m\u001b[1;33m\u001b[0m\u001b[0m\n\u001b[0m\u001b[0;32m   3970\u001b[0m             \u001b[0mresult\u001b[0m \u001b[1;33m=\u001b[0m \u001b[0mself\u001b[0m\u001b[1;33m.\u001b[0m\u001b[0mreindex\u001b[0m\u001b[1;33m(\u001b[0m\u001b[1;33m**\u001b[0m\u001b[1;33m{\u001b[0m\u001b[0maxis_name\u001b[0m\u001b[1;33m:\u001b[0m \u001b[0mnew_axis\u001b[0m\u001b[1;33m}\u001b[0m\u001b[1;33m)\u001b[0m\u001b[1;33m\u001b[0m\u001b[1;33m\u001b[0m\u001b[0m\n\u001b[0;32m   3971\u001b[0m \u001b[1;33m\u001b[0m\u001b[0m\n",
      "\u001b[1;32mc:\\users\\benny\\pyenv\\geo\\lib\\site-packages\\pandas\\core\\indexes\\base.py\u001b[0m in \u001b[0;36mdrop\u001b[1;34m(self, labels, errors)\u001b[0m\n\u001b[0;32m   5016\u001b[0m         \u001b[1;32mif\u001b[0m \u001b[0mmask\u001b[0m\u001b[1;33m.\u001b[0m\u001b[0many\u001b[0m\u001b[1;33m(\u001b[0m\u001b[1;33m)\u001b[0m\u001b[1;33m:\u001b[0m\u001b[1;33m\u001b[0m\u001b[1;33m\u001b[0m\u001b[0m\n\u001b[0;32m   5017\u001b[0m             \u001b[1;32mif\u001b[0m \u001b[0merrors\u001b[0m \u001b[1;33m!=\u001b[0m \u001b[1;34m\"ignore\"\u001b[0m\u001b[1;33m:\u001b[0m\u001b[1;33m\u001b[0m\u001b[1;33m\u001b[0m\u001b[0m\n\u001b[1;32m-> 5018\u001b[1;33m                 \u001b[1;32mraise\u001b[0m \u001b[0mKeyError\u001b[0m\u001b[1;33m(\u001b[0m\u001b[1;34mf\"{labels[mask]} not found in axis\"\u001b[0m\u001b[1;33m)\u001b[0m\u001b[1;33m\u001b[0m\u001b[1;33m\u001b[0m\u001b[0m\n\u001b[0m\u001b[0;32m   5019\u001b[0m             \u001b[0mindexer\u001b[0m \u001b[1;33m=\u001b[0m \u001b[0mindexer\u001b[0m\u001b[1;33m[\u001b[0m\u001b[1;33m~\u001b[0m\u001b[0mmask\u001b[0m\u001b[1;33m]\u001b[0m\u001b[1;33m\u001b[0m\u001b[1;33m\u001b[0m\u001b[0m\n\u001b[0;32m   5020\u001b[0m         \u001b[1;32mreturn\u001b[0m \u001b[0mself\u001b[0m\u001b[1;33m.\u001b[0m\u001b[0mdelete\u001b[0m\u001b[1;33m(\u001b[0m\u001b[0mindexer\u001b[0m\u001b[1;33m)\u001b[0m\u001b[1;33m\u001b[0m\u001b[1;33m\u001b[0m\u001b[0m\n",
      "\u001b[1;31mKeyError\u001b[0m: \"['year' 'season'] not found in axis\""
     ]
    }
   ],
   "source": [
    "city_info = {'Country': 'Thailand',\n",
    " 'City': 'Chiang Mai',\n",
    " 'City (ASCII)': 'Chiang Mai',\n",
    " 'Region': 'Chiang Mai',\n",
    " 'Region (ASCII)': 'Chiang Mai',\n",
    " 'Population': '200952',\n",
    " 'Latitude': '18.7904',\n",
    " 'Longitude': '98.9847',\n",
    " 'Time Zone': 'Asia/Bangkok'}\n",
    "\n",
    "x = merc_x(city_info['Longitude'])\n",
    "y = merc_y(city_info['Latitude'])\n",
    "stepx = 800E3\n",
    "stepy = stepx\n",
    "\n",
    "#fire_v = pd.read_csv('C:/Users/Benny/Documents/Fern/aqi_thailand2/data/cm_proc/file_v.csv')\n",
    "m_filename = 'C:/Users/Benny/Documents/Fern/aqi_thailand2/data/cm_proc/file_m.csv'\n",
    "fire = pd.read_csv(m_filename, dtype={'version': str})\n",
    "columns_to_drop = ['acq_date','satellite','instrument','version','daynight','bright_t31','type']\n",
    "fire = fire.drop(columns_to_drop,axis=1)\n",
    "fire['datetime'] = pd.to_datetime(fire['datetime'])\n",
    "fire = fire.sort_values('datetime')\n",
    "fire = fire.set_index('datetime')\n",
    "# remove the data before '2002-07-04' because there is only one satellite\n",
    "fire = fire.loc['2002-07-04':]\n",
    "print(fire.shape)\n",
    "\n",
    "\n",
    "# add distance columns\n",
    "fire['distance'] = np.sqrt((fire['lat_km'] - y/1000) **2 + ((fire['long_km'] - x/1000)**2))\n",
    "\n",
    "# create power column and drop unncessary columns\n",
    "fire['power'] = fire['scan']*fire['track']*fire['frp']\n",
    "fire['count'] = 1\n",
    "fire = fire.drop(['latitude', 'longitude', 'brightness','year','season','acq_time','track','scan','frp'], axis=1)\n",
    "fire.to_csv('C:/Users/Benny/Documents/Fern/aqi_thailand2/data/cm_proc/file_m_proc.csv')"
   ]
  },
  {
   "cell_type": "markdown",
   "metadata": {},
   "source": [
    "## Impove Speed of Files reading"
   ]
  },
  {
   "cell_type": "code",
   "execution_count": 6,
   "metadata": {},
   "outputs": [],
   "source": [
    "lat_km = 2117.0 \n",
    "long_km = 11019.0\n",
    "m_files = glob('C:/Users/Benny/Documents/Fern/aqi_thailand2/data/fire_map/world_2000-2020/M6/*.csv')"
   ]
  },
  {
   "cell_type": "code",
   "execution_count": 4,
   "metadata": {},
   "outputs": [
    {
     "name": "stderr",
     "output_type": "stream",
     "text": [
      "100%|█████████████████████████████████████████████████████████████████████████████████████████████████████| 22/22 [16:11<00:00, 44.15s/it]"
     ]
    },
    {
     "name": "stdout",
     "output_type": "stream",
     "text": [
      "Wall time: 16min 11s\n"
     ]
    },
    {
     "name": "stderr",
     "output_type": "stream",
     "text": [
      "\n"
     ]
    }
   ],
   "source": [
    "%%time\n",
    "\n",
    "# check the time without threading  \n",
    "file_all = pd.DataFrame()\n",
    "\n",
    "for file in tqdm(m_files):\n",
    "    f = pd.read_csv(file)\n",
    "     \n",
    "    # convert lat \n",
    "    f['lat_km'] = (f['latitude'].apply(merc_y)/1E3).round().astype(int)\n",
    "    f['long_km'] = (merc_x(f['longitude'])/1E3).round().astype(int)\n",
    "    # remove by lat \n",
    "    f = f[f['lat_km'] <= (lat_km+1000)]\n",
    "    f = f[f['lat_km'] >= (lat_km-1000)]\n",
    "    # remove by long \n",
    "\n",
    "    f = f[f['long_km'] <= (long_km+1000)]\n",
    "    f = f[f['long_km'] >= (long_km-1000)]\n",
    "     \n",
    "    file_all = pd.concat([file_all,f],ignore_index=True)"
   ]
  },
  {
   "cell_type": "code",
   "execution_count": 5,
   "metadata": {},
   "outputs": [],
   "source": [
    "from concurrent.futures import ThreadPoolExecutor\n",
    "import concurrent.futures"
   ]
  },
  {
   "cell_type": "code",
   "execution_count": 22,
   "metadata": {},
   "outputs": [],
   "source": [
    "\n",
    "def read_fire(file,lat_km, long_km):\n",
    "   \n",
    "    f = pd.read_csv(file)\n",
    "     \n",
    "    # convert lat \n",
    "    f['lat_km'] = (f['latitude'].apply(merc_y)/1E3).round().astype(int)\n",
    "    f['long_km'] = (merc_x(f['longitude'])/1E3).round().astype(int)\n",
    "    # remove by lat \n",
    "    f = f[(f['lat_km'] <= (lat_km+1000)) & (f['lat_km'] >= (lat_km-1000))]\n",
    "    # remove by long \n",
    "    f = f[(f['long_km'] <= (long_km+1000)) & (f['long_km'] >= (long_km-1000))]\n",
    "    return f\n",
    " \n",
    "\n",
    "def read_fire_dd(file,lat_km, long_km):\n",
    "   \n",
    "    f = dd.read_csv(file)\n",
    "     \n",
    "    # convert lat \n",
    "    f['lat_km'] = (f['latitude'].apply(merc_y)/1E3).round().astype(int)\n",
    "    f['long_km'] = (merc_x(f['longitude'])/1E3).round().astype(int)\n",
    "    # remove by lat \n",
    "    f = f[(f['lat_km'] <= (lat_km+1000)) & (f['lat_km'] >= (lat_km-1000))]\n",
    "    # remove by long \n",
    "    f = f[(f['long_km'] <= (long_km+1000)) & (f['long_km'] >= (long_km-1000))]\n",
    "    return f\n",
    "    \n",
    "    "
   ]
  },
  {
   "cell_type": "code",
   "execution_count": 24,
   "metadata": {
    "code_folding": [
     0
    ]
   },
   "outputs": [],
   "source": [
    "def read_fires(files,lat_km, long_km):\n",
    "    \n",
    "    all_fire = pd.DataFrame()\n",
    "    for file in files:\n",
    "        if file != None:\n",
    "            f = pd.read_csv(file)\n",
    "     \n",
    "            # convert lat \n",
    "            f['lat_km'] = (f['latitude'].apply(merc_y)/1E3).round().astype(int)\n",
    "            f['long_km'] = (merc_x(f['longitude'])/1E3).round().astype(int)\n",
    "            # remove by lat \n",
    "            f = f[(f['lat_km'] <= (lat_km+1000)) & (f['lat_km'] >= (lat_km-1000))]\n",
    "            # remove by long \n",
    "            f = f[(f['long_km'] <= (long_km+1000)) & (f['long_km'] >= (long_km-1000))]\n",
    "            all_fire = pd.concat([all_fire, f], ignore_index=True)\n",
    "    return all_fire"
   ]
  },
  {
   "cell_type": "code",
   "execution_count": 15,
   "metadata": {},
   "outputs": [],
   "source": [
    "from itertools import zip_longest\n",
    "\n",
    "def grouper(iterable, n, fillvalue=None):\n",
    "    \"Collect data into fixed-length chunks or blocks\"\n",
    "    # grouper('ABCDEFG', 3, 'x') --> ABC DEF Gxx\"\n",
    "    args = [iter(iterable)] * n\n",
    "    return zip_longest(*args, fillvalue=fillvalue)"
   ]
  },
  {
   "cell_type": "code",
   "execution_count": 11,
   "metadata": {},
   "outputs": [
    {
     "name": "stdout",
     "output_type": "stream",
     "text": [
      "(229176, 17)\n",
      "(235249, 17)\n",
      "(214976, 17)\n",
      "(234913, 17)\n",
      "(165272, 17)\n",
      "(288160, 17)\n",
      "(230523, 17)\n",
      "(176189, 17)\n",
      "(276734, 17)\n",
      "(198856, 17)\n",
      "(225431, 17)\n",
      "(276406, 17)\n",
      "(7802, 17)\n",
      "(2898, 17)\n",
      "(195966, 17)\n",
      "(45055, 17)\n",
      "(210563, 17)\n",
      "(198697, 17)\n",
      "(142868, 17)\n",
      "(155097, 17)\n",
      "(49102, 16)\n",
      "(149221, 17)\n",
      "Wall time: 13min 16s\n"
     ]
    }
   ],
   "source": [
    "%%time\n",
    "# try with threadpoolExecutor\n",
    "with ThreadPoolExecutor(max_workers=3) as executor:\n",
    "    future_list = [executor.submit(read_fire, file, lat_km, long_km) for file in m_files]\n",
    "    fire_all = pd.DataFrame()\n",
    "    for future in concurrent.futures.as_completed(future_list):\n",
    "        df = future.result()\n",
    "        print(df.shape)"
   ]
  },
  {
   "cell_type": "code",
   "execution_count": 25,
   "metadata": {},
   "outputs": [
    {
     "name": "stdout",
     "output_type": "stream",
     "text": [
      "(251721, 17)\n",
      "(860144, 17)\n",
      "(914314, 17)\n",
      "(204199, 17)\n",
      "(977427, 17)\n",
      "(701349, 17)\n",
      "Wall time: 17min 39s\n"
     ]
    }
   ],
   "source": [
    "%%time\n",
    "\n",
    "with ThreadPoolExecutor(max_workers=4) as executor:\n",
    "    future_list = [executor.submit(read_fires, group, lat_km, long_km) for group in grouper(m_files, 4)]\n",
    "    fire_all = pd.DataFrame()\n",
    "    for future in concurrent.futures.as_completed(future_list):\n",
    "        df = future.result()\n",
    "        print(df.shape)"
   ]
  },
  {
   "cell_type": "code",
   "execution_count": 4,
   "metadata": {},
   "outputs": [],
   "source": [
    "import dask.dataframe as dd"
   ]
  },
  {
   "cell_type": "code",
   "execution_count": 7,
   "metadata": {},
   "outputs": [
    {
     "data": {
      "text/plain": [
       "'C:/Users/Benny/Documents/Fern/aqi_thailand2/data/fire_map/world_2000-2020/M6\\\\fire_archive_M6_100871.csv'"
      ]
     },
     "execution_count": 7,
     "metadata": {},
     "output_type": "execute_result"
    }
   ],
   "source": [
    "m_files[0]"
   ]
  },
  {
   "cell_type": "code",
   "execution_count": 10,
   "metadata": {},
   "outputs": [],
   "source": [
    "df = dd.read_csv(m_files[0])\n",
    "df['lat_km'] = (df['latitude'].apply(merc_y)/1E3).round().astype(int)\n",
    "df['long_km'] = (merc_x(df['longitude'])/1E3).round().astype(int)\n",
    "# remove by lat \n",
    "df = df[(df['lat_km'] <= (lat_km+1000)) & (df['lat_km'] >= (lat_km-1000))]\n",
    "# remove by long \n",
    "df = df[(df['long_km'] <= (long_km+1000)) & (df['long_km'] >= (long_km-1000))]"
   ]
  },
  {
   "cell_type": "code",
   "execution_count": 11,
   "metadata": {},
   "outputs": [
    {
     "data": {
      "text/html": [
       "<div>\n",
       "<style scoped>\n",
       "    .dataframe tbody tr th:only-of-type {\n",
       "        vertical-align: middle;\n",
       "    }\n",
       "\n",
       "    .dataframe tbody tr th {\n",
       "        vertical-align: top;\n",
       "    }\n",
       "\n",
       "    .dataframe thead th {\n",
       "        text-align: right;\n",
       "    }\n",
       "</style>\n",
       "<table border=\"1\" class=\"dataframe\">\n",
       "  <thead>\n",
       "    <tr style=\"text-align: right;\">\n",
       "      <th></th>\n",
       "      <th>latitude</th>\n",
       "      <th>longitude</th>\n",
       "      <th>brightness</th>\n",
       "      <th>scan</th>\n",
       "      <th>track</th>\n",
       "      <th>acq_date</th>\n",
       "      <th>acq_time</th>\n",
       "      <th>satellite</th>\n",
       "      <th>instrument</th>\n",
       "      <th>confidence</th>\n",
       "      <th>version</th>\n",
       "      <th>bright_t31</th>\n",
       "      <th>frp</th>\n",
       "      <th>daynight</th>\n",
       "      <th>type</th>\n",
       "      <th>lat_km</th>\n",
       "      <th>long_km</th>\n",
       "    </tr>\n",
       "  </thead>\n",
       "  <tbody>\n",
       "    <tr>\n",
       "      <th>259</th>\n",
       "      <td>23.4521</td>\n",
       "      <td>107.8448</td>\n",
       "      <td>307.5</td>\n",
       "      <td>3.4</td>\n",
       "      <td>1.7</td>\n",
       "      <td>2015-01-01</td>\n",
       "      <td>410</td>\n",
       "      <td>Terra</td>\n",
       "      <td>MODIS</td>\n",
       "      <td>66</td>\n",
       "      <td>6.2</td>\n",
       "      <td>286.6</td>\n",
       "      <td>49.5</td>\n",
       "      <td>D</td>\n",
       "      <td>0</td>\n",
       "      <td>2670</td>\n",
       "      <td>12005</td>\n",
       "    </tr>\n",
       "    <tr>\n",
       "      <th>260</th>\n",
       "      <td>23.4631</td>\n",
       "      <td>107.8534</td>\n",
       "      <td>304.2</td>\n",
       "      <td>3.4</td>\n",
       "      <td>1.7</td>\n",
       "      <td>2015-01-01</td>\n",
       "      <td>410</td>\n",
       "      <td>Terra</td>\n",
       "      <td>MODIS</td>\n",
       "      <td>58</td>\n",
       "      <td>6.2</td>\n",
       "      <td>286.7</td>\n",
       "      <td>37.4</td>\n",
       "      <td>D</td>\n",
       "      <td>0</td>\n",
       "      <td>2671</td>\n",
       "      <td>12006</td>\n",
       "    </tr>\n",
       "    <tr>\n",
       "      <th>261</th>\n",
       "      <td>21.6968</td>\n",
       "      <td>103.0861</td>\n",
       "      <td>318.7</td>\n",
       "      <td>1.7</td>\n",
       "      <td>1.3</td>\n",
       "      <td>2015-01-01</td>\n",
       "      <td>411</td>\n",
       "      <td>Terra</td>\n",
       "      <td>MODIS</td>\n",
       "      <td>79</td>\n",
       "      <td>6.2</td>\n",
       "      <td>291.9</td>\n",
       "      <td>35.2</td>\n",
       "      <td>D</td>\n",
       "      <td>0</td>\n",
       "      <td>2459</td>\n",
       "      <td>11475</td>\n",
       "    </tr>\n",
       "    <tr>\n",
       "      <th>262</th>\n",
       "      <td>21.6998</td>\n",
       "      <td>103.0696</td>\n",
       "      <td>309.5</td>\n",
       "      <td>1.7</td>\n",
       "      <td>1.3</td>\n",
       "      <td>2015-01-01</td>\n",
       "      <td>411</td>\n",
       "      <td>Terra</td>\n",
       "      <td>MODIS</td>\n",
       "      <td>69</td>\n",
       "      <td>6.2</td>\n",
       "      <td>292.6</td>\n",
       "      <td>19.3</td>\n",
       "      <td>D</td>\n",
       "      <td>0</td>\n",
       "      <td>2460</td>\n",
       "      <td>11474</td>\n",
       "    </tr>\n",
       "    <tr>\n",
       "      <th>263</th>\n",
       "      <td>22.1135</td>\n",
       "      <td>101.1773</td>\n",
       "      <td>305.3</td>\n",
       "      <td>1.3</td>\n",
       "      <td>1.1</td>\n",
       "      <td>2015-01-01</td>\n",
       "      <td>411</td>\n",
       "      <td>Terra</td>\n",
       "      <td>MODIS</td>\n",
       "      <td>61</td>\n",
       "      <td>6.2</td>\n",
       "      <td>289.2</td>\n",
       "      <td>9.1</td>\n",
       "      <td>D</td>\n",
       "      <td>0</td>\n",
       "      <td>2509</td>\n",
       "      <td>11263</td>\n",
       "    </tr>\n",
       "  </tbody>\n",
       "</table>\n",
       "</div>"
      ],
      "text/plain": [
       "     latitude  longitude  brightness  scan  track    acq_date  acq_time  \\\n",
       "259   23.4521   107.8448       307.5   3.4    1.7  2015-01-01       410   \n",
       "260   23.4631   107.8534       304.2   3.4    1.7  2015-01-01       410   \n",
       "261   21.6968   103.0861       318.7   1.7    1.3  2015-01-01       411   \n",
       "262   21.6998   103.0696       309.5   1.7    1.3  2015-01-01       411   \n",
       "263   22.1135   101.1773       305.3   1.3    1.1  2015-01-01       411   \n",
       "\n",
       "    satellite instrument  confidence  version  bright_t31   frp daynight  \\\n",
       "259     Terra      MODIS          66      6.2       286.6  49.5        D   \n",
       "260     Terra      MODIS          58      6.2       286.7  37.4        D   \n",
       "261     Terra      MODIS          79      6.2       291.9  35.2        D   \n",
       "262     Terra      MODIS          69      6.2       292.6  19.3        D   \n",
       "263     Terra      MODIS          61      6.2       289.2   9.1        D   \n",
       "\n",
       "     type  lat_km  long_km  \n",
       "259     0    2670    12005  \n",
       "260     0    2671    12006  \n",
       "261     0    2459    11475  \n",
       "262     0    2460    11474  \n",
       "263     0    2509    11263  "
      ]
     },
     "execution_count": 11,
     "metadata": {},
     "output_type": "execute_result"
    }
   ],
   "source": [
    "df.head()"
   ]
  },
  {
   "cell_type": "code",
   "execution_count": 18,
   "metadata": {},
   "outputs": [
    {
     "name": "stdout",
     "output_type": "stream",
     "text": [
      "Wall time: 12min 57s\n"
     ]
    }
   ],
   "source": [
    "%%time\n",
    "# try with dask\n",
    "all_fire = [read_fire_dd(file,lat_km, long_km) for file in m_files]\n",
    "all_fire = dd.concat(all_fire)\n",
    "fire_df = all_fire.compute()"
   ]
  },
  {
   "cell_type": "code",
   "execution_count": 2,
   "metadata": {},
   "outputs": [
    {
     "data": {
      "text/plain": [
       "[0.0, 1.0, 2.0, 3.0, 4.0, 5.0, 6.0, 7.0, 8.0, 9.0]"
      ]
     },
     "execution_count": 2,
     "metadata": {},
     "output_type": "execute_result"
    }
   ],
   "source": [
    "from math import sqrt\n",
    "from joblib import Parallel, delayed\n",
    "Parallel(n_jobs=2)(delayed(sqrt)(i ** 2) for i in range(10))\n",
    "[0.0, 1.0, 2.0, 3.0, 4.0, 5.0, 6.0, 7.0, 8.0, 9.0]"
   ]
  },
  {
   "cell_type": "code",
   "execution_count": 20,
   "metadata": {},
   "outputs": [
    {
     "name": "stdout",
     "output_type": "stream",
     "text": [
      "Wall time: 7min 36s\n"
     ]
    }
   ],
   "source": [
    "%%time\n",
    "all_fire_list = Parallel(n_jobs=2)(delayed(read_fire)(file, lat_km, long_km) for file in m_files)\n",
    "fire_df = pd.concat(all_fire_list, ignore_index=True)"
   ]
  },
  {
   "cell_type": "markdown",
   "metadata": {},
   "source": [
    "# Data From Hanoi US Embassy"
   ]
  },
  {
   "cell_type": "code",
   "execution_count": 114,
   "metadata": {},
   "outputs": [
    {
     "name": "stdout",
     "output_type": "stream",
     "text": [
      "100% [............................................................................] 389775 / 389775"
     ]
    },
    {
     "data": {
      "text/plain": [
       "'../data/us_emb/Hanoi_PM2.5_2020_YTD (1).csv'"
      ]
     },
     "execution_count": 114,
     "metadata": {},
     "output_type": "execute_result"
    }
   ],
   "source": [
    "wget.download('http://dosairnowdata.org/dos/historical/Hanoi/2020/Hanoi_PM2.5_2020_YTD.csv','../data/us_emb/Hanoi_PM2.5_2020_YTD.csv')"
   ]
  },
  {
   "cell_type": "markdown",
   "metadata": {},
   "source": [
    "# Vietnam EPA"
   ]
  },
  {
   "cell_type": "code",
   "execution_count": 335,
   "metadata": {},
   "outputs": [
    {
     "name": "stderr",
     "output_type": "stream",
     "text": [
      "\r",
      "  0%|                                                                                                                                | 0/33 [00:00<?, ?it/s]"
     ]
    },
    {
     "name": "stdout",
     "output_type": "stream",
     "text": [
      "number of station 33. Takes about 1 mins per station\n"
     ]
    },
    {
     "name": "stderr",
     "output_type": "stream",
     "text": [
      "100%|███████████████████████████████████████████████████████████████████████████████████████████████████████████████████████| 33/33 [25:34<00:00, 46.49s/it]\n"
     ]
    },
    {
     "name": "stdout",
     "output_type": "stream",
     "text": [
      "the total data has len 796\n",
      "save file as  C:\\Users\\Benny\\Documents\\Fern\\aqi_thailand2\\data\\vn_epa\\2020-08-31_19-20.csv\n",
      "Wall time: 27min 25s\n"
     ]
    }
   ],
   "source": [
    "%%time\n",
    "data, station_info_list  = download_vn_data()"
   ]
  },
  {
   "cell_type": "code",
   "execution_count": 11,
   "metadata": {},
   "outputs": [
    {
     "name": "stdout",
     "output_type": "stream",
     "text": [
      "old file length  133470\n",
      "new file length  34027\n"
     ]
    }
   ],
   "source": [
    "concat_vn_data()"
   ]
  },
  {
   "cell_type": "markdown",
   "metadata": {},
   "source": [
    "# BKP Data"
   ]
  },
  {
   "cell_type": "code",
   "execution_count": 6,
   "metadata": {},
   "outputs": [],
   "source": [
    "url = 'https://bangkokairquality.com/bma/report?lang=th'"
   ]
  },
  {
   "cell_type": "code",
   "execution_count": 7,
   "metadata": {},
   "outputs": [],
   "source": [
    "browser = webdriver.Firefox()"
   ]
  },
  {
   "cell_type": "code",
   "execution_count": 8,
   "metadata": {},
   "outputs": [],
   "source": [
    "browser.get(url)\n",
    "time.sleep(1)\n",
    "\n",
    "# find all station names and parameters from the webpage\n",
    "page = browser.page_source\n",
    "soup = BeautifulSoup(page, features=\"lxml\")"
   ]
  },
  {
   "cell_type": "code",
   "execution_count": 9,
   "metadata": {},
   "outputs": [],
   "source": [
    "# extract station name and selector\n",
    "sta_selector_list, station_name_list = extract_bkp_stations(soup)"
   ]
  },
  {
   "cell_type": "code",
   "execution_count": 13,
   "metadata": {},
   "outputs": [
    {
     "data": {
      "text/plain": [
       "'113'"
      ]
     },
     "execution_count": 13,
     "metadata": {},
     "output_type": "execute_result"
    }
   ],
   "source": [
    "sta_selector_list[-1]"
   ]
  },
  {
   "cell_type": "code",
   "execution_count": 11,
   "metadata": {},
   "outputs": [],
   "source": [
    "data = get_bkp_station_data_save(url, browser, sta_selector_list[-1], station_name_list[-1], bkp_folder)"
   ]
  },
  {
   "cell_type": "code",
   "execution_count": 12,
   "metadata": {},
   "outputs": [
    {
     "data": {
      "text/html": [
       "<div>\n",
       "<style scoped>\n",
       "    .dataframe tbody tr th:only-of-type {\n",
       "        vertical-align: middle;\n",
       "    }\n",
       "\n",
       "    .dataframe tbody tr th {\n",
       "        vertical-align: top;\n",
       "    }\n",
       "\n",
       "    .dataframe thead th {\n",
       "        text-align: right;\n",
       "    }\n",
       "</style>\n",
       "<table border=\"1\" class=\"dataframe\">\n",
       "  <thead>\n",
       "    <tr style=\"text-align: right;\">\n",
       "      <th></th>\n",
       "      <th>datetime</th>\n",
       "      <th>PM2.5</th>\n",
       "      <th>Temp</th>\n",
       "      <th>RH</th>\n",
       "      <th>BP</th>\n",
       "      <th>Unnamed: 5</th>\n",
       "      <th>Unnamed: 6</th>\n",
       "      <th>station_id</th>\n",
       "      <th>station_name</th>\n",
       "    </tr>\n",
       "  </thead>\n",
       "  <tbody>\n",
       "    <tr>\n",
       "      <th>0</th>\n",
       "      <td>2021-01-22 23:00:00</td>\n",
       "      <td>95.0</td>\n",
       "      <td>26.0</td>\n",
       "      <td>66.0</td>\n",
       "      <td>758.0</td>\n",
       "      <td>NaN</td>\n",
       "      <td>NaN</td>\n",
       "      <td>bkp113t</td>\n",
       "      <td>78 บริเวณศาลาว่าการกรุงเทพมหานคร(เสาชิงช้า) เข...</td>\n",
       "    </tr>\n",
       "    <tr>\n",
       "      <th>1</th>\n",
       "      <td>2021-01-23 00:00:00</td>\n",
       "      <td>109.0</td>\n",
       "      <td>26.0</td>\n",
       "      <td>67.0</td>\n",
       "      <td>758.0</td>\n",
       "      <td>NaN</td>\n",
       "      <td>NaN</td>\n",
       "      <td>bkp113t</td>\n",
       "      <td>78 บริเวณศาลาว่าการกรุงเทพมหานคร(เสาชิงช้า) เข...</td>\n",
       "    </tr>\n",
       "    <tr>\n",
       "      <th>2</th>\n",
       "      <td>2021-01-23 01:00:00</td>\n",
       "      <td>110.0</td>\n",
       "      <td>26.0</td>\n",
       "      <td>65.0</td>\n",
       "      <td>758.0</td>\n",
       "      <td>NaN</td>\n",
       "      <td>NaN</td>\n",
       "      <td>bkp113t</td>\n",
       "      <td>78 บริเวณศาลาว่าการกรุงเทพมหานคร(เสาชิงช้า) เข...</td>\n",
       "    </tr>\n",
       "    <tr>\n",
       "      <th>3</th>\n",
       "      <td>2021-01-23 02:00:00</td>\n",
       "      <td>87.0</td>\n",
       "      <td>26.0</td>\n",
       "      <td>66.0</td>\n",
       "      <td>758.0</td>\n",
       "      <td>NaN</td>\n",
       "      <td>NaN</td>\n",
       "      <td>bkp113t</td>\n",
       "      <td>78 บริเวณศาลาว่าการกรุงเทพมหานคร(เสาชิงช้า) เข...</td>\n",
       "    </tr>\n",
       "    <tr>\n",
       "      <th>4</th>\n",
       "      <td>2021-01-23 03:00:00</td>\n",
       "      <td>77.0</td>\n",
       "      <td>25.0</td>\n",
       "      <td>66.0</td>\n",
       "      <td>758.0</td>\n",
       "      <td>NaN</td>\n",
       "      <td>NaN</td>\n",
       "      <td>bkp113t</td>\n",
       "      <td>78 บริเวณศาลาว่าการกรุงเทพมหานคร(เสาชิงช้า) เข...</td>\n",
       "    </tr>\n",
       "  </tbody>\n",
       "</table>\n",
       "</div>"
      ],
      "text/plain": [
       "             datetime  PM2.5  Temp    RH     BP  Unnamed: 5  Unnamed: 6  \\\n",
       "0 2021-01-22 23:00:00   95.0  26.0  66.0  758.0         NaN         NaN   \n",
       "1 2021-01-23 00:00:00  109.0  26.0  67.0  758.0         NaN         NaN   \n",
       "2 2021-01-23 01:00:00  110.0  26.0  65.0  758.0         NaN         NaN   \n",
       "3 2021-01-23 02:00:00   87.0  26.0  66.0  758.0         NaN         NaN   \n",
       "4 2021-01-23 03:00:00   77.0  25.0  66.0  758.0         NaN         NaN   \n",
       "\n",
       "  station_id                                       station_name  \n",
       "0    bkp113t  78 บริเวณศาลาว่าการกรุงเทพมหานคร(เสาชิงช้า) เข...  \n",
       "1    bkp113t  78 บริเวณศาลาว่าการกรุงเทพมหานคร(เสาชิงช้า) เข...  \n",
       "2    bkp113t  78 บริเวณศาลาว่าการกรุงเทพมหานคร(เสาชิงช้า) เข...  \n",
       "3    bkp113t  78 บริเวณศาลาว่าการกรุงเทพมหานคร(เสาชิงช้า) เข...  \n",
       "4    bkp113t  78 บริเวณศาลาว่าการกรุงเทพมหานคร(เสาชิงช้า) เข...  "
      ]
     },
     "execution_count": 12,
     "metadata": {},
     "output_type": "execute_result"
    }
   ],
   "source": [
    "data.head()"
   ]
  },
  {
   "cell_type": "code",
   "execution_count": null,
   "metadata": {},
   "outputs": [],
   "source": []
  }
 ],
 "metadata": {
  "kernelspec": {
   "display_name": "Python 3",
   "language": "python",
   "name": "python3"
  },
  "language_info": {
   "codemirror_mode": {
    "name": "ipython",
    "version": 3
   },
   "file_extension": ".py",
   "mimetype": "text/x-python",
   "name": "python",
   "nbconvert_exporter": "python",
   "pygments_lexer": "ipython3",
   "version": "3.7.5"
  },
  "toc": {
   "base_numbering": 1,
   "nav_menu": {},
   "number_sections": true,
   "sideBar": true,
   "skip_h1_title": false,
   "title_cell": "Table of Contents",
   "title_sidebar": "Contents",
   "toc_cell": true,
   "toc_position": {
    "height": "calc(100% - 180px)",
    "left": "10px",
    "top": "150px",
    "width": "186.175px"
   },
   "toc_section_display": true,
   "toc_window_display": true
  }
 },
 "nbformat": 4,
 "nbformat_minor": 4
}
