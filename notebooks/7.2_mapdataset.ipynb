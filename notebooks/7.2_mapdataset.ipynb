{
 "cells": [
  {
   "cell_type": "code",
   "execution_count": 135,
   "metadata": {},
   "outputs": [
    {
     "name": "stdout",
     "output_type": "stream",
     "text": [
      "The autoreload extension is already loaded. To reload it, use:\n",
      "  %reload_ext autoreload\n"
     ]
    }
   ],
   "source": [
    "#  Load the \"autoreload\" extension so that code can change\n",
    "%load_ext autoreload\n",
    "%reload_ext autoreload\n",
    "\n",
    "#  always reload modules so that as you change code in src, it gets loaded\n",
    "%autoreload 2\n",
    "%matplotlib inline\n",
    "\n",
    "import sys\n",
    "sys.path.append('../')\n",
    "from src.features.map_dataset import MapDataset\n",
    "from src.visualization.mapper import *\n",
    "\n",
    "from shapely.geometry import Polygon, MultiPoint, Point, MultiPolygon"
   ]
  },
  {
   "cell_type": "code",
   "execution_count": 148,
   "metadata": {},
   "outputs": [
    {
     "name": "stdout",
     "output_type": "stream",
     "text": [
      "number of stations = (2728, 30)\n",
      "Countries ['Thailand' 'India' 'China' 'Indonesia' 'Malaysia' 'Bangladesh' 'Vietnam'\n",
      " 'Myanmar' 'Brunei Darussalam' 'Cambodia' 'Bhutan' 'Laos']\n"
     ]
    }
   ],
   "source": [
    "# Build all pollution data\n",
    "mapper = Mapper()\n",
    "# this fuction concatenate all station data into a single file and save \n",
    "mapper.build_station_info()"
   ]
  },
  {
   "cell_type": "code",
   "execution_count": 263,
   "metadata": {},
   "outputs": [
    {
     "name": "stdout",
     "output_type": "stream",
     "text": [
      "no data file for station o24 in folder C:/Users/Benny/Documents/Fern/aqi_thailand2/data/aqm_hourly2/\n",
      "no data file for station o24 in folder C:/Users/Benny/Documents/Fern/aqi_thailand2/data/aqm_hourly3/\n",
      "no data file for station o21 in folder C:/Users/Benny/Documents/Fern/aqi_thailand2/data/aqm_hourly2/\n",
      "no data file for station o21 in folder C:/Users/Benny/Documents/Fern/aqi_thailand2/data/aqm_hourly3/\n",
      "no data file for station o23 in folder C:/Users/Benny/Documents/Fern/aqi_thailand2/data/aqm_hourly2/\n",
      "no data file for station o23 in folder C:/Users/Benny/Documents/Fern/aqi_thailand2/data/aqm_hourly3/\n",
      "no data file for station 87t in folder C:/Users/Benny/Documents/Fern/aqi_thailand2/data/aqm_hourly2/\n",
      "no data file for station 87t in folder C:/Users/Benny/Documents/Fern/aqi_thailand2/data/aqm_hourly3/\n",
      "no data file for station 88t in folder C:/Users/Benny/Documents/Fern/aqi_thailand2/data/aqm_hourly2/\n",
      "no data file for station 88t in folder C:/Users/Benny/Documents/Fern/aqi_thailand2/data/aqm_hourly3/\n",
      "no data file for station 89t in folder C:/Users/Benny/Documents/Fern/aqi_thailand2/data/aqm_hourly2/\n",
      "no data file for station 89t in folder C:/Users/Benny/Documents/Fern/aqi_thailand2/data/aqm_hourly3/\n",
      "no data file for station o22 in folder C:/Users/Benny/Documents/Fern/aqi_thailand2/data/aqm_hourly2/\n",
      "no data file for station o22 in folder C:/Users/Benny/Documents/Fern/aqi_thailand2/data/aqm_hourly3/\n",
      "no data file for station o26 in folder C:/Users/Benny/Documents/Fern/aqi_thailand2/data/aqm_hourly2/\n",
      "no data file for station o26 in folder C:/Users/Benny/Documents/Fern/aqi_thailand2/data/aqm_hourly3/\n",
      "no data file for station 86t in folder C:/Users/Benny/Documents/Fern/aqi_thailand2/data/aqm_hourly2/\n",
      "no data file for station 86t in folder C:/Users/Benny/Documents/Fern/aqi_thailand2/data/aqm_hourly3/\n",
      "no data file for station m9 in folder C:/Users/Benny/Documents/Fern/aqi_thailand2/data/aqm_hourly2/\n",
      "no data file for station m9 in folder C:/Users/Benny/Documents/Fern/aqi_thailand2/data/aqm_hourly3/\n",
      "no data file for station o20 in folder C:/Users/Benny/Documents/Fern/aqi_thailand2/data/aqm_hourly2/\n",
      "no data file for station o20 in folder C:/Users/Benny/Documents/Fern/aqi_thailand2/data/aqm_hourly3/\n",
      "no data file for station o63 in folder C:/Users/Benny/Documents/Fern/aqi_thailand2/data/aqm_hourly2/\n",
      "no data file for station o63 in folder C:/Users/Benny/Documents/Fern/aqi_thailand2/data/aqm_hourly3/\n",
      "no data file for station 40t in folder C:/Users/Benny/Documents/Fern/aqi_thailand2/data/aqm_hourly2/\n",
      "no data file for station 40t in folder C:/Users/Benny/Documents/Fern/aqi_thailand2/data/aqm_hourly3/\n",
      "no data file for station m1 in folder C:/Users/Benny/Documents/Fern/aqi_thailand2/data/aqm_hourly2/\n",
      "no data file for station m1 in folder C:/Users/Benny/Documents/Fern/aqi_thailand2/data/aqm_hourly3/\n",
      "no data file for station 17t in folder C:/Users/Benny/Documents/Fern/aqi_thailand2/data/aqm_hourly2/\n",
      "no data file for station 17t in folder C:/Users/Benny/Documents/Fern/aqi_thailand2/data/aqm_hourly3/\n",
      "no data file for station 84t in folder C:/Users/Benny/Documents/Fern/aqi_thailand2/data/aqm_hourly2/\n",
      "no data file for station 85t in folder C:/Users/Benny/Documents/Fern/aqi_thailand2/data/aqm_hourly2/\n",
      "no data file for station 85t in folder C:/Users/Benny/Documents/Fern/aqi_thailand2/data/aqm_hourly3/\n",
      "no data file for station 82t in folder C:/Users/Benny/Documents/Fern/aqi_thailand2/data/aqm_hourly2/\n",
      "no data file for station o29 in folder C:/Users/Benny/Documents/Fern/aqi_thailand2/data/aqm_hourly2/\n",
      "no data file for station o29 in folder C:/Users/Benny/Documents/Fern/aqi_thailand2/data/aqm_hourly3/\n",
      "no data file for station o25 in folder C:/Users/Benny/Documents/Fern/aqi_thailand2/data/aqm_hourly2/\n",
      "no data file for station o25 in folder C:/Users/Benny/Documents/Fern/aqi_thailand2/data/aqm_hourly3/\n",
      "no data file for station 83t in folder C:/Users/Benny/Documents/Fern/aqi_thailand2/data/aqm_hourly2/\n",
      "no data file for station o30 in folder C:/Users/Benny/Documents/Fern/aqi_thailand2/data/aqm_hourly2/\n",
      "no data file for station o30 in folder C:/Users/Benny/Documents/Fern/aqi_thailand2/data/aqm_hourly3/\n",
      "no data file for station o31 in folder C:/Users/Benny/Documents/Fern/aqi_thailand2/data/aqm_hourly2/\n",
      "no data file for station o31 in folder C:/Users/Benny/Documents/Fern/aqi_thailand2/data/aqm_hourly3/\n",
      "no data file for station o59 in folder C:/Users/Benny/Documents/Fern/aqi_thailand2/data/aqm_hourly2/\n",
      "no data file for station o59 in folder C:/Users/Benny/Documents/Fern/aqi_thailand2/data/aqm_hourly3/\n"
     ]
    },
    {
     "name": "stderr",
     "output_type": "stream",
     "text": [
      "87it [00:06, 13.18it/s]\n"
     ]
    },
    {
     "name": "stdout",
     "output_type": "stream",
     "text": [
      "pcd data shape (6915813, 8)\n"
     ]
    },
    {
     "name": "stderr",
     "output_type": "stream",
     "text": [
      "9it [00:00, 79.84it/s]"
     ]
    },
    {
     "name": "stdout",
     "output_type": "stream",
     "text": [
      "data_columns Index(['datetime', 'PM2.5', 'PM10', 'O3', 'CO', 'NO2', 'SO2', 'stationid'], dtype='object')\n"
     ]
    },
    {
     "name": "stderr",
     "output_type": "stream",
     "text": [
      "404it [00:04, 85.86it/s]\n"
     ]
    },
    {
     "name": "stdout",
     "output_type": "stream",
     "text": [
      "cmu data shape (2430866, 8)\n"
     ]
    },
    {
     "name": "stderr",
     "output_type": "stream",
     "text": [
      "74it [00:02, 28.97it/s]\n"
     ]
    },
    {
     "name": "stdout",
     "output_type": "stream",
     "text": [
      "bkp data shape (1562277, 8)\n"
     ]
    },
    {
     "name": "stderr",
     "output_type": "stream",
     "text": [
      "433it [00:08, 52.86it/s]\n"
     ]
    },
    {
     "name": "stdout",
     "output_type": "stream",
     "text": [
      "Berkeley data shape (2368713, 8)\n"
     ]
    },
    {
     "name": "stderr",
     "output_type": "stream",
     "text": [
      "6it [00:31,  5.18s/it]\n"
     ]
    },
    {
     "name": "stdout",
     "output_type": "stream",
     "text": [
      "US Embassy data shape (226155, 8)\n"
     ]
    }
   ],
   "source": [
    "# Compiling all pollution data \n",
    "mapper.build_pollution_all()"
   ]
  },
  {
   "cell_type": "markdown",
   "metadata": {},
   "source": [
    "# MapDataset"
   ]
  },
  {
   "cell_type": "markdown",
   "metadata": {},
   "source": [
    "This object allows easily visualization of the data by country."
   ]
  },
  {
   "cell_type": "code",
   "execution_count": 255,
   "metadata": {},
   "outputs": [],
   "source": [
    "mdataset = MapDataset('Thailand')\n",
    "mdataset.load_()"
   ]
  },
  {
   "cell_type": "code",
   "execution_count": 277,
   "metadata": {},
   "outputs": [
    {
     "name": "stderr",
     "output_type": "stream",
     "text": [
      "100%|███████████████████████████████████████████████████████████████████████████████████████████████████████████████████████| 77/77 [22:56<00:00, 17.88s/it]\n"
     ]
    }
   ],
   "source": [
    "# build or load pollution by province and add as .poll attribute\n",
    "mdataset.load_poll_prov(pollutant='PM2.5')"
   ]
  },
  {
   "cell_type": "code",
   "execution_count": 301,
   "metadata": {},
   "outputs": [],
   "source": [
    "# calculate the yearly average only during the winter season\n",
    "#poll attributes \n",
    "poll = mdataset.poll\n",
    "poll = add_season(poll, start_month='-10-01', end_month='-04-30')\n",
    "# keep only winter season \n",
    "poll = poll[poll['season'] != 'other']\n",
    "# calculate mean by province \n",
    "mean_poll = pd.DataFrame(poll.mean(axis=0))\n",
    "mean_poll.columns = ['PM2.5']"
   ]
  },
  {
   "cell_type": "code",
   "execution_count": 302,
   "metadata": {},
   "outputs": [
    {
     "data": {
      "text/html": [
       "<div>\n",
       "<style scoped>\n",
       "    .dataframe tbody tr th:only-of-type {\n",
       "        vertical-align: middle;\n",
       "    }\n",
       "\n",
       "    .dataframe tbody tr th {\n",
       "        vertical-align: top;\n",
       "    }\n",
       "\n",
       "    .dataframe thead th {\n",
       "        text-align: right;\n",
       "    }\n",
       "</style>\n",
       "<table border=\"1\" class=\"dataframe\">\n",
       "  <thead>\n",
       "    <tr style=\"text-align: right;\">\n",
       "      <th></th>\n",
       "      <th>PM2.5</th>\n",
       "    </tr>\n",
       "  </thead>\n",
       "  <tbody>\n",
       "    <tr>\n",
       "      <th>year</th>\n",
       "      <td>2013.085775</td>\n",
       "    </tr>\n",
       "    <tr>\n",
       "      <th>Buri Ram</th>\n",
       "      <td>56.989312</td>\n",
       "    </tr>\n",
       "    <tr>\n",
       "      <th>Sukhothai</th>\n",
       "      <td>50.842950</td>\n",
       "    </tr>\n",
       "    <tr>\n",
       "      <th>Saraburi</th>\n",
       "      <td>42.873442</td>\n",
       "    </tr>\n",
       "    <tr>\n",
       "      <th>Nong Bua Lam Phu</th>\n",
       "      <td>41.021575</td>\n",
       "    </tr>\n",
       "  </tbody>\n",
       "</table>\n",
       "</div>"
      ],
      "text/plain": [
       "                        PM2.5\n",
       "year              2013.085775\n",
       "Buri Ram            56.989312\n",
       "Sukhothai           50.842950\n",
       "Saraburi            42.873442\n",
       "Nong Bua Lam Phu    41.021575"
      ]
     },
     "execution_count": 302,
     "metadata": {},
     "output_type": "execute_result"
    }
   ],
   "source": [
    "mean_poll.sort_values('PM2.5', ascending=False).head()"
   ]
  },
  {
   "cell_type": "code",
   "execution_count": 303,
   "metadata": {},
   "outputs": [],
   "source": [
    "# create a map of pollution by merging with the shape file \n",
    "plot_map = mdataset.prov_map.merge(mean_poll, left_on='province', right_index=True, how='left')"
   ]
  },
  {
   "cell_type": "code",
   "execution_count": 305,
   "metadata": {},
   "outputs": [
    {
     "data": {
      "image/png": "[encoded data removed]",
      "text/plain": [
       "<Figure size 360x720 with 2 Axes>"
      ]
     },
     "metadata": {
      "needs_background": "light"
     },
     "output_type": "display_data"
    }
   ],
   "source": [
    "_, ax = plt.subplots(1, 1, figsize=(5,10))\n",
    "plot_map.plot(column='PM2.5',\n",
    "           ax=ax,legend=True,\n",
    "           legend_kwds={'label': \"PM2.5\",\n",
    "                       'orientation': \"horizontal\"},  cmap='RdYlGn_r',\n",
    "             missing_kwds={\n",
    "         \"color\": \"lightgrey\",\n",
    "         \"edgecolor\": \"red\",\n",
    "            \"hatch\": \"///\",\n",
    "           \"label\": \"Missing values\" },)\n",
    "\n",
    " \n",
    "plot_map.boundary.plot(ax=ax, color='black')\n",
    "\n",
    "ax.set_title(\"Average PM2.5 in Winter\")\n",
    "plt.savefig(mdataset.report_folder + 'avg_pm25_map.png')"
   ]
  },
  {
   "cell_type": "code",
   "execution_count": null,
   "metadata": {},
   "outputs": [],
   "source": []
  }
 ],
 "metadata": {
  "kernelspec": {
   "display_name": "Python 3",
   "language": "python",
   "name": "python3"
  },
  "language_info": {
   "codemirror_mode": {
    "name": "ipython",
    "version": 3
   },
   "file_extension": ".py",
   "mimetype": "text/x-python",
   "name": "python",
   "nbconvert_exporter": "python",
   "pygments_lexer": "ipython3",
   "version": "3.7.5"
  },
  "toc": {
   "base_numbering": 1,
   "nav_menu": {},
   "number_sections": true,
   "sideBar": true,
   "skip_h1_title": false,
   "title_cell": "Table of Contents",
   "title_sidebar": "Contents",
   "toc_cell": false,
   "toc_position": {},
   "toc_section_display": true,
   "toc_window_display": false
  }
 },
 "nbformat": 4,
 "nbformat_minor": 4
}
